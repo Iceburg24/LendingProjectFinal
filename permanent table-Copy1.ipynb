{
 "cells": [
  {
   "cell_type": "code",
   "execution_count": 27,
   "id": "d95c1996",
   "metadata": {},
   "outputs": [],
   "source": [
    "from pyspark.sql import SparkSession\n",
    " \n",
    "spark=SparkSession.\\\n",
    "    builder.\\\n",
    "    config('spark.shuffle.useOldFetchProtocol','true').\\\n",
    "    config('spark.ui.port','0').\\\n",
    "    config(\"spark.sql.warehouse.dir\",\"/user/itv016478/warehouse\").\\\n",
    "    enableHiveSupport().\\\n",
    "    master('yarn').\\\n",
    "    getOrCreate()"
   ]
  },
  {
   "cell_type": "code",
   "execution_count": 28,
   "id": "c30d642a",
   "metadata": {},
   "outputs": [],
   "source": [
    "customers_df = spark.read \\\n",
    ".format(\"parquet\") \\\n",
    ".load(\"/user/itv016478/lendingclubproject/cleaned/customers_parquet/\")"
   ]
  },
  {
   "cell_type": "code",
   "execution_count": 29,
   "id": "a6704e47",
   "metadata": {},
   "outputs": [
    {
     "data": {
      "text/html": [
       "<table border='1'>\n",
       "<tr><th>member_id</th><th>emp_title</th><th>emp_length</th><th>home_ownership</th><th>annual_income</th><th>address_state</th><th>address_zipcode</th><th>address_country</th><th>grade</th><th>sub_grade</th><th>verification_status</th><th>total_high_credit_limit</th><th>application_type</th><th>join_annual_income</th><th>verification_status_joint</th><th>ingest_date</th></tr>\n",
       "<tr><td>42c0d86fde84607a0...</td><td>Store Manager</td><td>3</td><td>RENT</td><td>49600.0</td><td>MS</td><td>396xx</td><td>USA</td><td>B</td><td>B3</td><td>Verified</td><td>34600.0</td><td>Individual</td><td>null</td><td>null</td><td>2025-06-15 05:50:...</td></tr>\n",
       "<tr><td>64181326110c859ed...</td><td>Vet tech</td><td>10</td><td>MORTGAGE</td><td>42000.0</td><td>OH</td><td>452xx</td><td>USA</td><td>D</td><td>D4</td><td>Source Verified</td><td>50208.0</td><td>Individual</td><td>null</td><td>null</td><td>2025-06-15 05:50:...</td></tr>\n",
       "<tr><td>d39b9dd4bbfcdf3b9...</td><td>AMSA</td><td>5</td><td>RENT</td><td>46000.0</td><td>WA</td><td>984xx</td><td>USA</td><td>D</td><td>D4</td><td>Verified</td><td>117993.0</td><td>Individual</td><td>null</td><td>null</td><td>2025-06-15 05:50:...</td></tr>\n",
       "<tr><td>fdf9ad3a88dc0970f...</td><td>Admin</td><td>7</td><td>MORTGAGE</td><td>70000.0</td><td>VA</td><td>201xx</td><td>USA</td><td>C</td><td>C4</td><td>Verified</td><td>528287.0</td><td>Individual</td><td>null</td><td>null</td><td>2025-06-15 05:50:...</td></tr>\n",
       "<tr><td>a80d21bff6db10e40...</td><td>Associate V.P.</td><td>1</td><td>MORTGAGE</td><td>185000.0</td><td>MA</td><td>019xx</td><td>USA</td><td>A</td><td>A1</td><td>Not Verified</td><td>599432.0</td><td>Individual</td><td>null</td><td>null</td><td>2025-06-15 05:50:...</td></tr>\n",
       "<tr><td>e475c71f8f6859eb5...</td><td>machinist</td><td>5</td><td>MORTGAGE</td><td>60000.0</td><td>OH</td><td>441xx</td><td>USA</td><td>B</td><td>B2</td><td>Not Verified</td><td>49760.0</td><td>Individual</td><td>null</td><td>null</td><td>2025-06-15 05:50:...</td></tr>\n",
       "<tr><td>14f52f3fdc9ab7cf1...</td><td>Security Guard</td><td>1</td><td>MORTGAGE</td><td>20400.0</td><td>CA</td><td>913xx</td><td>USA</td><td>C</td><td>C5</td><td>Verified</td><td>125600.0</td><td>Individual</td><td>null</td><td>null</td><td>2025-06-15 05:50:...</td></tr>\n",
       "<tr><td>219b462ac15250b23...</td><td>Systems Analyst</td><td>10</td><td>OWN</td><td>41520.0</td><td>TX</td><td>773xx</td><td>USA</td><td>B</td><td>B4</td><td>Verified</td><td>54976.0</td><td>Individual</td><td>null</td><td>null</td><td>2025-06-15 05:50:...</td></tr>\n",
       "<tr><td>dbd9f7a2f51bf1f52...</td><td>Supervisor</td><td>8</td><td>MORTGAGE</td><td>55000.0</td><td>SC</td><td>294xx</td><td>USA</td><td>B</td><td>B3</td><td>Source Verified</td><td>145048.0</td><td>Individual</td><td>null</td><td>null</td><td>2025-06-15 05:50:...</td></tr>\n",
       "<tr><td>0f5552e3a3960848b...</td><td>RN Senior Manager</td><td>2</td><td>MORTGAGE</td><td>90000.0</td><td>AZ</td><td>852xx</td><td>USA</td><td>B</td><td>B1</td><td>Not Verified</td><td>330485.0</td><td>Individual</td><td>null</td><td>null</td><td>2025-06-15 05:50:...</td></tr>\n",
       "<tr><td>dacc44adfb75005bb...</td><td>Senior Systems Ad...</td><td>3</td><td>MORTGAGE</td><td>95000.0</td><td>MA</td><td>016xx</td><td>USA</td><td>B</td><td>B3</td><td>Source Verified</td><td>64454.0</td><td>Individual</td><td>null</td><td>null</td><td>2025-06-15 05:50:...</td></tr>\n",
       "<tr><td>f0acabc138fc6ff61...</td><td>Supply Chain Manager</td><td>1</td><td>RENT</td><td>85000.0</td><td>MD</td><td>208xx</td><td>USA</td><td>B</td><td>B4</td><td>Source Verified</td><td>121276.0</td><td>Individual</td><td>null</td><td>null</td><td>2025-06-15 05:50:...</td></tr>\n",
       "<tr><td>dc3d5eb58cc2acb9e...</td><td>Vice Provost</td><td>3</td><td>MORTGAGE</td><td>220000.0</td><td>FL</td><td>327xx</td><td>USA</td><td>A</td><td>A1</td><td>Source Verified</td><td>706965.0</td><td>Individual</td><td>null</td><td>null</td><td>2025-06-15 05:50:...</td></tr>\n",
       "<tr><td>4156065628f783a4d...</td><td>Driver</td><td>10</td><td>MORTGAGE</td><td>70000.0</td><td>TX</td><td>770xx</td><td>USA</td><td>B</td><td>B4</td><td>Not Verified</td><td>99480.0</td><td>Individual</td><td>null</td><td>null</td><td>2025-06-15 05:50:...</td></tr>\n",
       "<tr><td>283432019ce747da4...</td><td>Shift Manager</td><td>10</td><td>MORTGAGE</td><td>100000.0</td><td>SC</td><td>298xx</td><td>USA</td><td>C</td><td>C4</td><td>Source Verified</td><td>165900.0</td><td>Individual</td><td>null</td><td>null</td><td>2025-06-15 05:50:...</td></tr>\n",
       "<tr><td>350eb08c30d3d89b5...</td><td>President</td><td>10</td><td>RENT</td><td>70000.0</td><td>CA</td><td>921xx</td><td>USA</td><td>D</td><td>D3</td><td>Source Verified</td><td>68571.0</td><td>Individual</td><td>null</td><td>null</td><td>2025-06-15 05:50:...</td></tr>\n",
       "<tr><td>f3652b4f575592ddf...</td><td>Electrician</td><td>9</td><td>OWN</td><td>93500.0</td><td>MI</td><td>481xx</td><td>USA</td><td>D</td><td>D1</td><td>Source Verified</td><td>76000.0</td><td>Individual</td><td>null</td><td>null</td><td>2025-06-15 05:50:...</td></tr>\n",
       "<tr><td>3753580ef07e3b37b...</td><td>Visiting Nurse</td><td>5</td><td>MORTGAGE</td><td>62400.0</td><td>CT</td><td>063xx</td><td>USA</td><td>D</td><td>D3</td><td>Source Verified</td><td>46473.0</td><td>Individual</td><td>null</td><td>null</td><td>2025-06-15 05:50:...</td></tr>\n",
       "<tr><td>6a9f6d97fe434e513...</td><td>Dealer</td><td>10</td><td>RENT</td><td>50000.0</td><td>CA</td><td>921xx</td><td>USA</td><td>E</td><td>E1</td><td>Verified</td><td>28000.0</td><td>Individual</td><td>null</td><td>null</td><td>2025-06-15 05:50:...</td></tr>\n",
       "<tr><td>36888136415be034f...</td><td>Owner</td><td>9</td><td>MORTGAGE</td><td>140000.0</td><td>PA</td><td>182xx</td><td>USA</td><td>B</td><td>B2</td><td>Not Verified</td><td>322605.0</td><td>Individual</td><td>null</td><td>null</td><td>2025-06-15 05:50:...</td></tr>\n",
       "</table>\n",
       "only showing top 20 rows\n"
      ],
      "text/plain": [
       "+--------------------+--------------------+----------+--------------+-------------+-------------+---------------+---------------+-----+---------+-------------------+-----------------------+----------------+------------------+-------------------------+--------------------+\n",
       "|           member_id|           emp_title|emp_length|home_ownership|annual_income|address_state|address_zipcode|address_country|grade|sub_grade|verification_status|total_high_credit_limit|application_type|join_annual_income|verification_status_joint|         ingest_date|\n",
       "+--------------------+--------------------+----------+--------------+-------------+-------------+---------------+---------------+-----+---------+-------------------+-----------------------+----------------+------------------+-------------------------+--------------------+\n",
       "|42c0d86fde84607a0...|       Store Manager|         3|          RENT|      49600.0|           MS|          396xx|            USA|    B|       B3|           Verified|                34600.0|      Individual|              null|                     null|2025-06-15 05:50:...|\n",
       "|64181326110c859ed...|            Vet tech|        10|      MORTGAGE|      42000.0|           OH|          452xx|            USA|    D|       D4|    Source Verified|                50208.0|      Individual|              null|                     null|2025-06-15 05:50:...|\n",
       "|d39b9dd4bbfcdf3b9...|                AMSA|         5|          RENT|      46000.0|           WA|          984xx|            USA|    D|       D4|           Verified|               117993.0|      Individual|              null|                     null|2025-06-15 05:50:...|\n",
       "|fdf9ad3a88dc0970f...|               Admin|         7|      MORTGAGE|      70000.0|           VA|          201xx|            USA|    C|       C4|           Verified|               528287.0|      Individual|              null|                     null|2025-06-15 05:50:...|\n",
       "|a80d21bff6db10e40...|      Associate V.P.|         1|      MORTGAGE|     185000.0|           MA|          019xx|            USA|    A|       A1|       Not Verified|               599432.0|      Individual|              null|                     null|2025-06-15 05:50:...|\n",
       "|e475c71f8f6859eb5...|           machinist|         5|      MORTGAGE|      60000.0|           OH|          441xx|            USA|    B|       B2|       Not Verified|                49760.0|      Individual|              null|                     null|2025-06-15 05:50:...|\n",
       "|14f52f3fdc9ab7cf1...|      Security Guard|         1|      MORTGAGE|      20400.0|           CA|          913xx|            USA|    C|       C5|           Verified|               125600.0|      Individual|              null|                     null|2025-06-15 05:50:...|\n",
       "|219b462ac15250b23...|     Systems Analyst|        10|           OWN|      41520.0|           TX|          773xx|            USA|    B|       B4|           Verified|                54976.0|      Individual|              null|                     null|2025-06-15 05:50:...|\n",
       "|dbd9f7a2f51bf1f52...|          Supervisor|         8|      MORTGAGE|      55000.0|           SC|          294xx|            USA|    B|       B3|    Source Verified|               145048.0|      Individual|              null|                     null|2025-06-15 05:50:...|\n",
       "|0f5552e3a3960848b...|   RN Senior Manager|         2|      MORTGAGE|      90000.0|           AZ|          852xx|            USA|    B|       B1|       Not Verified|               330485.0|      Individual|              null|                     null|2025-06-15 05:50:...|\n",
       "|dacc44adfb75005bb...|Senior Systems Ad...|         3|      MORTGAGE|      95000.0|           MA|          016xx|            USA|    B|       B3|    Source Verified|                64454.0|      Individual|              null|                     null|2025-06-15 05:50:...|\n",
       "|f0acabc138fc6ff61...|Supply Chain Manager|         1|          RENT|      85000.0|           MD|          208xx|            USA|    B|       B4|    Source Verified|               121276.0|      Individual|              null|                     null|2025-06-15 05:50:...|\n",
       "|dc3d5eb58cc2acb9e...|        Vice Provost|         3|      MORTGAGE|     220000.0|           FL|          327xx|            USA|    A|       A1|    Source Verified|               706965.0|      Individual|              null|                     null|2025-06-15 05:50:...|\n",
       "|4156065628f783a4d...|              Driver|        10|      MORTGAGE|      70000.0|           TX|          770xx|            USA|    B|       B4|       Not Verified|                99480.0|      Individual|              null|                     null|2025-06-15 05:50:...|\n",
       "|283432019ce747da4...|       Shift Manager|        10|      MORTGAGE|     100000.0|           SC|          298xx|            USA|    C|       C4|    Source Verified|               165900.0|      Individual|              null|                     null|2025-06-15 05:50:...|\n",
       "|350eb08c30d3d89b5...|           President|        10|          RENT|      70000.0|           CA|          921xx|            USA|    D|       D3|    Source Verified|                68571.0|      Individual|              null|                     null|2025-06-15 05:50:...|\n",
       "|f3652b4f575592ddf...|         Electrician|         9|           OWN|      93500.0|           MI|          481xx|            USA|    D|       D1|    Source Verified|                76000.0|      Individual|              null|                     null|2025-06-15 05:50:...|\n",
       "|3753580ef07e3b37b...|      Visiting Nurse|         5|      MORTGAGE|      62400.0|           CT|          063xx|            USA|    D|       D3|    Source Verified|                46473.0|      Individual|              null|                     null|2025-06-15 05:50:...|\n",
       "|6a9f6d97fe434e513...|              Dealer|        10|          RENT|      50000.0|           CA|          921xx|            USA|    E|       E1|           Verified|                28000.0|      Individual|              null|                     null|2025-06-15 05:50:...|\n",
       "|36888136415be034f...|               Owner|         9|      MORTGAGE|     140000.0|           PA|          182xx|            USA|    B|       B2|       Not Verified|               322605.0|      Individual|              null|                     null|2025-06-15 05:50:...|\n",
       "+--------------------+--------------------+----------+--------------+-------------+-------------+---------------+---------------+-----+---------+-------------------+-----------------------+----------------+------------------+-------------------------+--------------------+\n",
       "only showing top 20 rows"
      ]
     },
     "execution_count": 29,
     "metadata": {},
     "output_type": "execute_result"
    }
   ],
   "source": [
    "customers_df"
   ]
  },
  {
   "cell_type": "code",
   "execution_count": 30,
   "id": "d88e896e",
   "metadata": {},
   "outputs": [
    {
     "name": "stdout",
     "output_type": "stream",
     "text": [
      "root\n",
      " |-- member_id: string (nullable = true)\n",
      " |-- emp_title: string (nullable = true)\n",
      " |-- emp_length: integer (nullable = true)\n",
      " |-- home_ownership: string (nullable = true)\n",
      " |-- annual_income: float (nullable = true)\n",
      " |-- address_state: string (nullable = true)\n",
      " |-- address_zipcode: string (nullable = true)\n",
      " |-- address_country: string (nullable = true)\n",
      " |-- grade: string (nullable = true)\n",
      " |-- sub_grade: string (nullable = true)\n",
      " |-- verification_status: string (nullable = true)\n",
      " |-- total_high_credit_limit: float (nullable = true)\n",
      " |-- application_type: string (nullable = true)\n",
      " |-- join_annual_income: float (nullable = true)\n",
      " |-- verification_status_joint: string (nullable = true)\n",
      " |-- ingest_date: timestamp (nullable = true)\n",
      "\n"
     ]
    }
   ],
   "source": [
    "customers_df.printSchema()"
   ]
  },
  {
   "cell_type": "code",
   "execution_count": 31,
   "id": "9a0b04f8",
   "metadata": {},
   "outputs": [
    {
     "data": {
      "text/html": [
       "<table border='1'>\n",
       "<tr><th></th></tr>\n",
       "</table>\n"
      ],
      "text/plain": [
       "++\n",
       "||\n",
       "++\n",
       "++"
      ]
     },
     "execution_count": 31,
     "metadata": {},
     "output_type": "execute_result"
    }
   ],
   "source": [
    "spark.sql(\"CREATE DATABASE IF NOT EXISTS  itv016478_lending_clubb\")"
   ]
  },
  {
   "cell_type": "code",
   "execution_count": 32,
   "id": "87c60060",
   "metadata": {
    "jupyter": {
     "source_hidden": true
    }
   },
   "outputs": [
    {
     "data": {
      "text/html": [
       "<table border='1'>\n",
       "<tr><th></th></tr>\n",
       "</table>\n"
      ],
      "text/plain": [
       "++\n",
       "||\n",
       "++\n",
       "++"
      ]
     },
     "execution_count": 32,
     "metadata": {},
     "output_type": "execute_result"
    }
   ],
   "source": [
    "spark.sql(\"\"\"CREATE TABLE IF NOT EXISTS itv016478_lending_clubb.customers(member_id string, emp_title string, emp_length int , home_ownership string,\n",
    "annual_inc float, addr_state string, zip_code string, country string, grade string, sub_grade string, verification_status string, \n",
    "tot_hi_cred_lim float, application_type string, annual_inc_joint float, verification_status_joint string, ingest_date timestamp )stored as parquet LOCATION'/user/itv016478/lendingclubproject/cleaned/customers_parquet'\"\"\")"
   ]
  },
  {
   "cell_type": "code",
   "execution_count": 33,
   "id": "8bf00278",
   "metadata": {},
   "outputs": [
    {
     "name": "stdout",
     "output_type": "stream",
     "text": [
      "root\n",
      " |-- member_id: string (nullable = true)\n",
      " |-- emp_title: string (nullable = true)\n",
      " |-- emp_length: integer (nullable = true)\n",
      " |-- home_ownership: string (nullable = true)\n",
      " |-- annual_income: float (nullable = true)\n",
      " |-- address_state: string (nullable = true)\n",
      " |-- address_zipcode: string (nullable = true)\n",
      " |-- address_country: string (nullable = true)\n",
      " |-- grade: string (nullable = true)\n",
      " |-- sub_grade: string (nullable = true)\n",
      " |-- verification_status: string (nullable = true)\n",
      " |-- total_high_credit_limit: float (nullable = true)\n",
      " |-- application_type: string (nullable = true)\n",
      " |-- join_annual_income: float (nullable = true)\n",
      " |-- verification_status_joint: string (nullable = true)\n",
      " |-- ingest_date: timestamp (nullable = true)\n",
      "\n"
     ]
    }
   ],
   "source": [
    "customers_df.printSchema()"
   ]
  },
  {
   "cell_type": "code",
   "execution_count": 34,
   "id": "d0e1e585",
   "metadata": {},
   "outputs": [
    {
     "data": {
      "text/html": [
       "<table border='1'>\n",
       "<tr><th>member_id</th><th>emp_title</th><th>emp_length</th><th>home_ownership</th><th>annual_inc</th><th>addr_state</th><th>zip_code</th><th>country</th><th>grade</th><th>sub_grade</th><th>verification_status</th><th>tot_hi_cred_lim</th><th>application_type</th><th>annual_inc_joint</th><th>verification_status_joint</th><th>ingest_date_timestamp</th></tr>\n",
       "<tr><td>42c0d86fde84607a0...</td><td>Store Manager</td><td>3</td><td>RENT</td><td>null</td><td>null</td><td>null</td><td>null</td><td>B</td><td>B3</td><td>Verified</td><td>null</td><td>Individual</td><td>null</td><td>null</td><td>null</td></tr>\n",
       "<tr><td>64181326110c859ed...</td><td>Vet tech</td><td>10</td><td>MORTGAGE</td><td>null</td><td>null</td><td>null</td><td>null</td><td>D</td><td>D4</td><td>Source Verified</td><td>null</td><td>Individual</td><td>null</td><td>null</td><td>null</td></tr>\n",
       "<tr><td>d39b9dd4bbfcdf3b9...</td><td>AMSA</td><td>5</td><td>RENT</td><td>null</td><td>null</td><td>null</td><td>null</td><td>D</td><td>D4</td><td>Verified</td><td>null</td><td>Individual</td><td>null</td><td>null</td><td>null</td></tr>\n",
       "<tr><td>fdf9ad3a88dc0970f...</td><td>Admin</td><td>7</td><td>MORTGAGE</td><td>null</td><td>null</td><td>null</td><td>null</td><td>C</td><td>C4</td><td>Verified</td><td>null</td><td>Individual</td><td>null</td><td>null</td><td>null</td></tr>\n",
       "<tr><td>a80d21bff6db10e40...</td><td>Associate V.P.</td><td>1</td><td>MORTGAGE</td><td>null</td><td>null</td><td>null</td><td>null</td><td>A</td><td>A1</td><td>Not Verified</td><td>null</td><td>Individual</td><td>null</td><td>null</td><td>null</td></tr>\n",
       "<tr><td>e475c71f8f6859eb5...</td><td>machinist</td><td>5</td><td>MORTGAGE</td><td>null</td><td>null</td><td>null</td><td>null</td><td>B</td><td>B2</td><td>Not Verified</td><td>null</td><td>Individual</td><td>null</td><td>null</td><td>null</td></tr>\n",
       "<tr><td>14f52f3fdc9ab7cf1...</td><td>Security Guard</td><td>1</td><td>MORTGAGE</td><td>null</td><td>null</td><td>null</td><td>null</td><td>C</td><td>C5</td><td>Verified</td><td>null</td><td>Individual</td><td>null</td><td>null</td><td>null</td></tr>\n",
       "<tr><td>219b462ac15250b23...</td><td>Systems Analyst</td><td>10</td><td>OWN</td><td>null</td><td>null</td><td>null</td><td>null</td><td>B</td><td>B4</td><td>Verified</td><td>null</td><td>Individual</td><td>null</td><td>null</td><td>null</td></tr>\n",
       "<tr><td>dbd9f7a2f51bf1f52...</td><td>Supervisor</td><td>8</td><td>MORTGAGE</td><td>null</td><td>null</td><td>null</td><td>null</td><td>B</td><td>B3</td><td>Source Verified</td><td>null</td><td>Individual</td><td>null</td><td>null</td><td>null</td></tr>\n",
       "<tr><td>0f5552e3a3960848b...</td><td>RN Senior Manager</td><td>2</td><td>MORTGAGE</td><td>null</td><td>null</td><td>null</td><td>null</td><td>B</td><td>B1</td><td>Not Verified</td><td>null</td><td>Individual</td><td>null</td><td>null</td><td>null</td></tr>\n",
       "<tr><td>dacc44adfb75005bb...</td><td>Senior Systems Ad...</td><td>3</td><td>MORTGAGE</td><td>null</td><td>null</td><td>null</td><td>null</td><td>B</td><td>B3</td><td>Source Verified</td><td>null</td><td>Individual</td><td>null</td><td>null</td><td>null</td></tr>\n",
       "<tr><td>f0acabc138fc6ff61...</td><td>Supply Chain Manager</td><td>1</td><td>RENT</td><td>null</td><td>null</td><td>null</td><td>null</td><td>B</td><td>B4</td><td>Source Verified</td><td>null</td><td>Individual</td><td>null</td><td>null</td><td>null</td></tr>\n",
       "<tr><td>dc3d5eb58cc2acb9e...</td><td>Vice Provost</td><td>3</td><td>MORTGAGE</td><td>null</td><td>null</td><td>null</td><td>null</td><td>A</td><td>A1</td><td>Source Verified</td><td>null</td><td>Individual</td><td>null</td><td>null</td><td>null</td></tr>\n",
       "<tr><td>4156065628f783a4d...</td><td>Driver</td><td>10</td><td>MORTGAGE</td><td>null</td><td>null</td><td>null</td><td>null</td><td>B</td><td>B4</td><td>Not Verified</td><td>null</td><td>Individual</td><td>null</td><td>null</td><td>null</td></tr>\n",
       "<tr><td>283432019ce747da4...</td><td>Shift Manager</td><td>10</td><td>MORTGAGE</td><td>null</td><td>null</td><td>null</td><td>null</td><td>C</td><td>C4</td><td>Source Verified</td><td>null</td><td>Individual</td><td>null</td><td>null</td><td>null</td></tr>\n",
       "<tr><td>350eb08c30d3d89b5...</td><td>President</td><td>10</td><td>RENT</td><td>null</td><td>null</td><td>null</td><td>null</td><td>D</td><td>D3</td><td>Source Verified</td><td>null</td><td>Individual</td><td>null</td><td>null</td><td>null</td></tr>\n",
       "<tr><td>f3652b4f575592ddf...</td><td>Electrician</td><td>9</td><td>OWN</td><td>null</td><td>null</td><td>null</td><td>null</td><td>D</td><td>D1</td><td>Source Verified</td><td>null</td><td>Individual</td><td>null</td><td>null</td><td>null</td></tr>\n",
       "<tr><td>3753580ef07e3b37b...</td><td>Visiting Nurse</td><td>5</td><td>MORTGAGE</td><td>null</td><td>null</td><td>null</td><td>null</td><td>D</td><td>D3</td><td>Source Verified</td><td>null</td><td>Individual</td><td>null</td><td>null</td><td>null</td></tr>\n",
       "<tr><td>6a9f6d97fe434e513...</td><td>Dealer</td><td>10</td><td>RENT</td><td>null</td><td>null</td><td>null</td><td>null</td><td>E</td><td>E1</td><td>Verified</td><td>null</td><td>Individual</td><td>null</td><td>null</td><td>null</td></tr>\n",
       "<tr><td>36888136415be034f...</td><td>Owner</td><td>9</td><td>MORTGAGE</td><td>null</td><td>null</td><td>null</td><td>null</td><td>B</td><td>B2</td><td>Not Verified</td><td>null</td><td>Individual</td><td>null</td><td>null</td><td>null</td></tr>\n",
       "</table>\n",
       "only showing top 20 rows\n"
      ],
      "text/plain": [
       "+--------------------+--------------------+----------+--------------+----------+----------+--------+-------+-----+---------+-------------------+---------------+----------------+----------------+-------------------------+---------------------+\n",
       "|           member_id|           emp_title|emp_length|home_ownership|annual_inc|addr_state|zip_code|country|grade|sub_grade|verification_status|tot_hi_cred_lim|application_type|annual_inc_joint|verification_status_joint|ingest_date_timestamp|\n",
       "+--------------------+--------------------+----------+--------------+----------+----------+--------+-------+-----+---------+-------------------+---------------+----------------+----------------+-------------------------+---------------------+\n",
       "|42c0d86fde84607a0...|       Store Manager|         3|          RENT|      null|      null|    null|   null|    B|       B3|           Verified|           null|      Individual|            null|                     null|                 null|\n",
       "|64181326110c859ed...|            Vet tech|        10|      MORTGAGE|      null|      null|    null|   null|    D|       D4|    Source Verified|           null|      Individual|            null|                     null|                 null|\n",
       "|d39b9dd4bbfcdf3b9...|                AMSA|         5|          RENT|      null|      null|    null|   null|    D|       D4|           Verified|           null|      Individual|            null|                     null|                 null|\n",
       "|fdf9ad3a88dc0970f...|               Admin|         7|      MORTGAGE|      null|      null|    null|   null|    C|       C4|           Verified|           null|      Individual|            null|                     null|                 null|\n",
       "|a80d21bff6db10e40...|      Associate V.P.|         1|      MORTGAGE|      null|      null|    null|   null|    A|       A1|       Not Verified|           null|      Individual|            null|                     null|                 null|\n",
       "|e475c71f8f6859eb5...|           machinist|         5|      MORTGAGE|      null|      null|    null|   null|    B|       B2|       Not Verified|           null|      Individual|            null|                     null|                 null|\n",
       "|14f52f3fdc9ab7cf1...|      Security Guard|         1|      MORTGAGE|      null|      null|    null|   null|    C|       C5|           Verified|           null|      Individual|            null|                     null|                 null|\n",
       "|219b462ac15250b23...|     Systems Analyst|        10|           OWN|      null|      null|    null|   null|    B|       B4|           Verified|           null|      Individual|            null|                     null|                 null|\n",
       "|dbd9f7a2f51bf1f52...|          Supervisor|         8|      MORTGAGE|      null|      null|    null|   null|    B|       B3|    Source Verified|           null|      Individual|            null|                     null|                 null|\n",
       "|0f5552e3a3960848b...|   RN Senior Manager|         2|      MORTGAGE|      null|      null|    null|   null|    B|       B1|       Not Verified|           null|      Individual|            null|                     null|                 null|\n",
       "|dacc44adfb75005bb...|Senior Systems Ad...|         3|      MORTGAGE|      null|      null|    null|   null|    B|       B3|    Source Verified|           null|      Individual|            null|                     null|                 null|\n",
       "|f0acabc138fc6ff61...|Supply Chain Manager|         1|          RENT|      null|      null|    null|   null|    B|       B4|    Source Verified|           null|      Individual|            null|                     null|                 null|\n",
       "|dc3d5eb58cc2acb9e...|        Vice Provost|         3|      MORTGAGE|      null|      null|    null|   null|    A|       A1|    Source Verified|           null|      Individual|            null|                     null|                 null|\n",
       "|4156065628f783a4d...|              Driver|        10|      MORTGAGE|      null|      null|    null|   null|    B|       B4|       Not Verified|           null|      Individual|            null|                     null|                 null|\n",
       "|283432019ce747da4...|       Shift Manager|        10|      MORTGAGE|      null|      null|    null|   null|    C|       C4|    Source Verified|           null|      Individual|            null|                     null|                 null|\n",
       "|350eb08c30d3d89b5...|           President|        10|          RENT|      null|      null|    null|   null|    D|       D3|    Source Verified|           null|      Individual|            null|                     null|                 null|\n",
       "|f3652b4f575592ddf...|         Electrician|         9|           OWN|      null|      null|    null|   null|    D|       D1|    Source Verified|           null|      Individual|            null|                     null|                 null|\n",
       "|3753580ef07e3b37b...|      Visiting Nurse|         5|      MORTGAGE|      null|      null|    null|   null|    D|       D3|    Source Verified|           null|      Individual|            null|                     null|                 null|\n",
       "|6a9f6d97fe434e513...|              Dealer|        10|          RENT|      null|      null|    null|   null|    E|       E1|           Verified|           null|      Individual|            null|                     null|                 null|\n",
       "|36888136415be034f...|               Owner|         9|      MORTGAGE|      null|      null|    null|   null|    B|       B2|       Not Verified|           null|      Individual|            null|                     null|                 null|\n",
       "+--------------------+--------------------+----------+--------------+----------+----------+--------+-------+-----+---------+-------------------+---------------+----------------+----------------+-------------------------+---------------------+\n",
       "only showing top 20 rows"
      ]
     },
     "execution_count": 34,
     "metadata": {},
     "output_type": "execute_result"
    }
   ],
   "source": [
    "spark.sql(\"select * from  itv016478_lending_clubb.customers\")"
   ]
  },
  {
   "cell_type": "code",
   "execution_count": 35,
   "id": "20976224",
   "metadata": {},
   "outputs": [],
   "source": [
    "#For loans\n",
    "loans_df = spark.read \\\n",
    ".format(\"parquet\") \\\n",
    ".load(\"/user/itv016478/lendingclubproject/cleaned/loans_parquet/\")"
   ]
  },
  {
   "cell_type": "code",
   "execution_count": 36,
   "id": "ab110586",
   "metadata": {},
   "outputs": [
    {
     "data": {
      "text/html": [
       "<table border='1'>\n",
       "<tr><th></th></tr>\n",
       "</table>\n"
      ],
      "text/plain": [
       "++\n",
       "||\n",
       "++\n",
       "++"
      ]
     },
     "execution_count": 36,
     "metadata": {},
     "output_type": "execute_result"
    }
   ],
   "source": [
    "spark.sql(\"\"\"CREATE TABLE IF NOT EXISTS itv016478_lending_clubb.loans(loan_id string, member_id string, loan_amount float, funded_amount float, loan_term_years integer, interest_rate float, \n",
    "monthly_installment float, issue_date string, loan_status string, loan_purpose string, loan_title string ,ingest_date timestamp) stored as parquet LOCATION'/user/itv016478/lendingclubproject/cleaned/loans_parquet/'\"\"\")"
   ]
  },
  {
   "cell_type": "code",
   "execution_count": 37,
   "id": "91f1d6f7",
   "metadata": {},
   "outputs": [
    {
     "data": {
      "text/html": [
       "<table border='1'>\n",
       "<tr><th>loan_id</th><th>member_id</th><th>loan_amount</th><th>funded_amount</th><th>loan_term_months</th><th>interest_rate</th><th>monthly_installment</th><th>issue_date</th><th>loan_status</th><th>loan_purpose</th><th>loan_title</th></tr>\n",
       "<tr><td>68407277</td><td>6d5091b3fcaaeb4ea...</td><td>3600.0</td><td>3600.0</td><td>null</td><td>13.99</td><td>123.03</td><td>Dec-2015</td><td>Fully Paid</td><td>debt_consolidation</td><td>Debt consolidation</td></tr>\n",
       "<tr><td>68355089</td><td>b5e7938b0a2da4cea...</td><td>24700.0</td><td>24700.0</td><td>null</td><td>11.99</td><td>820.28</td><td>Dec-2015</td><td>Fully Paid</td><td>small_business</td><td>Business</td></tr>\n",
       "<tr><td>68341763</td><td>91060b858433e8a61...</td><td>20000.0</td><td>20000.0</td><td>null</td><td>10.78</td><td>432.66</td><td>Dec-2015</td><td>Fully Paid</td><td>home_improvement</td><td>null</td></tr>\n",
       "<tr><td>66310712</td><td>cab1fa9f533688b0a...</td><td>35000.0</td><td>35000.0</td><td>null</td><td>14.85</td><td>829.9</td><td>Dec-2015</td><td>Current</td><td>debt_consolidation</td><td>Debt consolidation</td></tr>\n",
       "<tr><td>68476807</td><td>f74e401c1ab0adf78...</td><td>10400.0</td><td>10400.0</td><td>null</td><td>22.45</td><td>289.91</td><td>Dec-2015</td><td>Fully Paid</td><td>major_purchase</td><td>Major purchase</td></tr>\n",
       "<tr><td>68426831</td><td>8aef4bb29d609d8d6...</td><td>11950.0</td><td>11950.0</td><td>null</td><td>13.44</td><td>405.18</td><td>Dec-2015</td><td>Fully Paid</td><td>debt_consolidation</td><td>Debt consolidation</td></tr>\n",
       "<tr><td>68476668</td><td>538b4653da3b1e814...</td><td>20000.0</td><td>20000.0</td><td>null</td><td>9.17</td><td>637.58</td><td>Dec-2015</td><td>Fully Paid</td><td>debt_consolidation</td><td>Debt consolidation</td></tr>\n",
       "<tr><td>67275481</td><td>b24d55f21390533c5...</td><td>20000.0</td><td>20000.0</td><td>null</td><td>8.49</td><td>631.26</td><td>Dec-2015</td><td>Fully Paid</td><td>major_purchase</td><td>Major purchase</td></tr>\n",
       "<tr><td>68466926</td><td>1035c5401b0ca76d0...</td><td>10000.0</td><td>10000.0</td><td>null</td><td>6.49</td><td>306.45</td><td>Dec-2015</td><td>Fully Paid</td><td>credit_card</td><td>Credit card refin...</td></tr>\n",
       "<tr><td>68616873</td><td>cb0f1777593e77909...</td><td>8000.0</td><td>8000.0</td><td>null</td><td>11.48</td><td>263.74</td><td>Dec-2015</td><td>Fully Paid</td><td>credit_card</td><td>Credit card refin...</td></tr>\n",
       "<tr><td>68356421</td><td>a962f4d59caec5fa1...</td><td>22400.0</td><td>22400.0</td><td>null</td><td>12.88</td><td>508.3</td><td>Dec-2015</td><td>Current</td><td>debt_consolidation</td><td>Debt consolidation</td></tr>\n",
       "<tr><td>68426545</td><td>e7592ab57b3afd9f1...</td><td>16000.0</td><td>16000.0</td><td>null</td><td>12.88</td><td>363.07</td><td>Dec-2015</td><td>Current</td><td>debt_consolidation</td><td>Debt consolidation</td></tr>\n",
       "<tr><td>68338832</td><td>603afa9d1be879b7b...</td><td>1400.0</td><td>1400.0</td><td>null</td><td>12.88</td><td>47.1</td><td>Dec-2015</td><td>Fully Paid</td><td>other</td><td>null</td></tr>\n",
       "<tr><td>66624733</td><td>9fe2d59ddf2a4f37e...</td><td>18000.0</td><td>18000.0</td><td>null</td><td>19.48</td><td>471.7</td><td>Dec-2015</td><td>Charged Off</td><td>debt_consolidation</td><td>Debt consolidation</td></tr>\n",
       "<tr><td>68466961</td><td>23857480ccf555ce4...</td><td>28000.0</td><td>28000.0</td><td>null</td><td>6.49</td><td>858.05</td><td>Dec-2015</td><td>Fully Paid</td><td>debt_consolidation</td><td>Debt consolidation</td></tr>\n",
       "<tr><td>68354783</td><td>7c69d5f36fdabf6e1...</td><td>9600.0</td><td>9600.0</td><td>null</td><td>7.49</td><td>298.58</td><td>Dec-2015</td><td>Fully Paid</td><td>credit_card</td><td>Credit card refin...</td></tr>\n",
       "<tr><td>68466916</td><td>08bf9e080503b0113...</td><td>25000.0</td><td>25000.0</td><td>null</td><td>7.49</td><td>777.55</td><td>Dec-2015</td><td>Fully Paid</td><td>debt_consolidation</td><td>Debt consolidation</td></tr>\n",
       "<tr><td>68577849</td><td>1cafb05aa6c894c30...</td><td>18000.0</td><td>18000.0</td><td>null</td><td>11.99</td><td>400.31</td><td>Dec-2015</td><td>Fully Paid</td><td>debt_consolidation</td><td>Debt consolidation</td></tr>\n",
       "<tr><td>68506798</td><td>f2c4010f700d8c9c4...</td><td>23000.0</td><td>23000.0</td><td>null</td><td>8.49</td><td>471.77</td><td>Dec-2015</td><td>Current</td><td>credit_card</td><td>Credit card refin...</td></tr>\n",
       "<tr><td>68495092</td><td>05ad4aed7c393035e...</td><td>8650.0</td><td>8650.0</td><td>null</td><td>19.89</td><td>320.99</td><td>Dec-2015</td><td>Fully Paid</td><td>debt_consolidation</td><td>Debt consolidation</td></tr>\n",
       "</table>\n",
       "only showing top 20 rows\n"
      ],
      "text/plain": [
       "+--------+--------------------+-----------+-------------+----------------+-------------+-------------------+----------+-----------+------------------+--------------------+\n",
       "| loan_id|           member_id|loan_amount|funded_amount|loan_term_months|interest_rate|monthly_installment|issue_date|loan_status|      loan_purpose|          loan_title|\n",
       "+--------+--------------------+-----------+-------------+----------------+-------------+-------------------+----------+-----------+------------------+--------------------+\n",
       "|68407277|6d5091b3fcaaeb4ea...|     3600.0|       3600.0|            null|        13.99|             123.03|  Dec-2015| Fully Paid|debt_consolidation|  Debt consolidation|\n",
       "|68355089|b5e7938b0a2da4cea...|    24700.0|      24700.0|            null|        11.99|             820.28|  Dec-2015| Fully Paid|    small_business|            Business|\n",
       "|68341763|91060b858433e8a61...|    20000.0|      20000.0|            null|        10.78|             432.66|  Dec-2015| Fully Paid|  home_improvement|                null|\n",
       "|66310712|cab1fa9f533688b0a...|    35000.0|      35000.0|            null|        14.85|              829.9|  Dec-2015|    Current|debt_consolidation|  Debt consolidation|\n",
       "|68476807|f74e401c1ab0adf78...|    10400.0|      10400.0|            null|        22.45|             289.91|  Dec-2015| Fully Paid|    major_purchase|      Major purchase|\n",
       "|68426831|8aef4bb29d609d8d6...|    11950.0|      11950.0|            null|        13.44|             405.18|  Dec-2015| Fully Paid|debt_consolidation|  Debt consolidation|\n",
       "|68476668|538b4653da3b1e814...|    20000.0|      20000.0|            null|         9.17|             637.58|  Dec-2015| Fully Paid|debt_consolidation|  Debt consolidation|\n",
       "|67275481|b24d55f21390533c5...|    20000.0|      20000.0|            null|         8.49|             631.26|  Dec-2015| Fully Paid|    major_purchase|      Major purchase|\n",
       "|68466926|1035c5401b0ca76d0...|    10000.0|      10000.0|            null|         6.49|             306.45|  Dec-2015| Fully Paid|       credit_card|Credit card refin...|\n",
       "|68616873|cb0f1777593e77909...|     8000.0|       8000.0|            null|        11.48|             263.74|  Dec-2015| Fully Paid|       credit_card|Credit card refin...|\n",
       "|68356421|a962f4d59caec5fa1...|    22400.0|      22400.0|            null|        12.88|              508.3|  Dec-2015|    Current|debt_consolidation|  Debt consolidation|\n",
       "|68426545|e7592ab57b3afd9f1...|    16000.0|      16000.0|            null|        12.88|             363.07|  Dec-2015|    Current|debt_consolidation|  Debt consolidation|\n",
       "|68338832|603afa9d1be879b7b...|     1400.0|       1400.0|            null|        12.88|               47.1|  Dec-2015| Fully Paid|             other|                null|\n",
       "|66624733|9fe2d59ddf2a4f37e...|    18000.0|      18000.0|            null|        19.48|              471.7|  Dec-2015|Charged Off|debt_consolidation|  Debt consolidation|\n",
       "|68466961|23857480ccf555ce4...|    28000.0|      28000.0|            null|         6.49|             858.05|  Dec-2015| Fully Paid|debt_consolidation|  Debt consolidation|\n",
       "|68354783|7c69d5f36fdabf6e1...|     9600.0|       9600.0|            null|         7.49|             298.58|  Dec-2015| Fully Paid|       credit_card|Credit card refin...|\n",
       "|68466916|08bf9e080503b0113...|    25000.0|      25000.0|            null|         7.49|             777.55|  Dec-2015| Fully Paid|debt_consolidation|  Debt consolidation|\n",
       "|68577849|1cafb05aa6c894c30...|    18000.0|      18000.0|            null|        11.99|             400.31|  Dec-2015| Fully Paid|debt_consolidation|  Debt consolidation|\n",
       "|68506798|f2c4010f700d8c9c4...|    23000.0|      23000.0|            null|         8.49|             471.77|  Dec-2015|    Current|       credit_card|Credit card refin...|\n",
       "|68495092|05ad4aed7c393035e...|     8650.0|       8650.0|            null|        19.89|             320.99|  Dec-2015| Fully Paid|debt_consolidation|  Debt consolidation|\n",
       "+--------+--------------------+-----------+-------------+----------------+-------------+-------------------+----------+-----------+------------------+--------------------+\n",
       "only showing top 20 rows"
      ]
     },
     "execution_count": 37,
     "metadata": {},
     "output_type": "execute_result"
    }
   ],
   "source": [
    "spark.sql(\"select * from  itv016478_lending_clubb.loans\")"
   ]
  },
  {
   "cell_type": "code",
   "execution_count": 38,
   "id": "10b73dd5",
   "metadata": {},
   "outputs": [],
   "source": [
    "#for loans repayment\n",
    "loans_repay_df = spark.read \\\n",
    ".format(\"parquet\") \\\n",
    ".load(\"/user/itv016478/lendingclubproject/cleaned/loans_repayments_parquet/\")"
   ]
  },
  {
   "cell_type": "code",
   "execution_count": 39,
   "id": "6e617b75",
   "metadata": {},
   "outputs": [
    {
     "data": {
      "text/html": [
       "<table border='1'>\n",
       "<tr><th></th></tr>\n",
       "</table>\n"
      ],
      "text/plain": [
       "++\n",
       "||\n",
       "++\n",
       "++"
      ]
     },
     "execution_count": 39,
     "metadata": {},
     "output_type": "execute_result"
    }
   ],
   "source": [
    "spark.sql(\"\"\"CREATE TABLE IF NOT EXISTS itv016478_lending_clubb.loans_repay(loan_id string, total_principal_received float, total_interest_received float,total_late_fee_received float, total_payment_received float, last_payment_amount float, last_payment_date string, next_payment_date string,ingest_date timestamp)stored as parquet LOCATION'/user/itv016478/lendingclubproject/cleaned/loans_repayments_parquet/' \"\"\")"
   ]
  },
  {
   "cell_type": "code",
   "execution_count": 40,
   "id": "c696537a",
   "metadata": {},
   "outputs": [
    {
     "name": "stdout",
     "output_type": "stream",
     "text": [
      "+--------+------------------------+-----------------------+-----------------------+----------------------+-------------------+-----------------+-----------------+\n",
      "| loan_id|total_principal_received|total_interest_received|total_late_fee_received|total_payment_received|last_payment_amount|last_payment_date|next_payment_date|\n",
      "+--------+------------------------+-----------------------+-----------------------+----------------------+-------------------+-----------------+-----------------+\n",
      "|76003861|                  6423.8|                5607.85|                    0.0|              12031.65|             574.88|         Jan-2018|             null|\n",
      "|76263914|                  2400.0|                 323.18|                    0.0|             2723.1802|             905.18|         Dec-2017|             null|\n",
      "|75537401|                 12600.0|                1392.76|                    0.0|             13992.757|            3437.74|         Aug-2018|             null|\n",
      "|75038986|                 7805.03|                7583.71|                    0.0|              15388.74|             440.72|         Mar-2019|         Apr-2019|\n",
      "|76301424|                 2614.78|                1080.09|                    0.0|               3694.87|             153.89|         Apr-2018|             null|\n",
      "|75333198|                 8664.09|                3431.32|                   68.8|              12164.21|              343.9|         Mar-2019|         Apr-2019|\n",
      "|76391453|                 35000.0|               10266.01|                    0.0|             45266.008|           18884.35|         Feb-2019|             null|\n",
      "|76363364|                 15000.0|                2093.11|                    0.0|             17093.107|            4648.59|         Aug-2018|             null|\n",
      "|76272510|                14463.21|               11178.79|                 110.13|              25752.13|             734.18|         Mar-2019|         Apr-2019|\n",
      "|76304116|                  4800.0|                1051.65|                    0.0|             5851.6523|            1761.59|         Dec-2017|             null|\n",
      "|76422971|                 2222.99|                1457.74|                    0.0|               4357.37|             369.25|         Feb-2017|             null|\n",
      "|75369187|                17855.93|                9340.74|                    0.0|              27196.67|             778.38|         Mar-2019|         Apr-2019|\n",
      "|76212079|                 6197.74|                 935.75|                    0.0|               7133.49|              204.0|         Mar-2019|         Apr-2019|\n",
      "|75104089|                  8500.0|                1208.95|                    0.0|              9708.954|             213.62|         Feb-2019|             null|\n",
      "|75669444|                14313.44|               13782.05|                    0.0|              28095.49|             807.98|         Feb-2019|         Apr-2019|\n",
      "|76223382|                 1936.79|                 292.42|                    0.0|               2229.21|              63.75|         Mar-2019|         Apr-2019|\n",
      "|76223540|                 25000.0|                3383.18|                 134.19|             28517.375|            5107.74|         Apr-2017|             null|\n",
      "|76255093|                  7000.0|                1830.84|                    0.0|              8830.839|             435.99|         Jan-2019|             null|\n",
      "|76402196|                 7731.33|                1787.84|                    0.0|               9519.17|             272.15|         Mar-2019|         Apr-2019|\n",
      "|76223437|                 24000.0|                3186.22|                    0.0|             27186.223|            8110.44|         Jun-2018|             null|\n",
      "+--------+------------------------+-----------------------+-----------------------+----------------------+-------------------+-----------------+-----------------+\n",
      "only showing top 20 rows\n",
      "\n"
     ]
    }
   ],
   "source": [
    "spark.sql(\"select * from  itv016478_lending_clubb.loans_repay\").show()"
   ]
  },
  {
   "cell_type": "code",
   "execution_count": 41,
   "id": "e4a87368",
   "metadata": {},
   "outputs": [],
   "source": [
    "# for loans defaulters delinq\n",
    "loans_delinq_df= spark.read \\\n",
    ".format(\"parquet\") \\\n",
    ".load(\"/user/itv016478/lendingclubproject/cleaned/loans_def_delinq_parquet\")"
   ]
  },
  {
   "cell_type": "code",
   "execution_count": null,
   "id": "01544ffe",
   "metadata": {},
   "outputs": [],
   "source": []
  },
  {
   "cell_type": "code",
   "execution_count": 42,
   "id": "00034de9",
   "metadata": {},
   "outputs": [
    {
     "data": {
      "text/html": [
       "<table border='1'>\n",
       "<tr><th></th></tr>\n",
       "</table>\n"
      ],
      "text/plain": [
       "++\n",
       "||\n",
       "++\n",
       "++"
      ]
     },
     "execution_count": 42,
     "metadata": {},
     "output_type": "execute_result"
    }
   ],
   "source": [
    "spark.sql(\"\"\"CREATE TABLE IF NOT EXISTS itv016478_lending_clubb.loans_delinq(\n",
    "member_id string, delinq_2yrs integer, delinq_amnt float, mths_since_last_delinq integer)\n",
    "stored as parquet LOCATION '/user/itv016478/lendingclubproject/cleaned/loans_def_delinq_parquet'\"\"\")"
   ]
  },
  {
   "cell_type": "code",
   "execution_count": 43,
   "id": "556dd84d",
   "metadata": {},
   "outputs": [
    {
     "name": "stdout",
     "output_type": "stream",
     "text": [
      "+--------------------+-----------+-----------+----------------------+\n",
      "|           member_id|delinq_2yrs|delinq_amnt|mths_since_last_delinq|\n",
      "+--------------------+-----------+-----------+----------------------+\n",
      "|25b8cd9ff47e50eea...|          0|        0.0|                    51|\n",
      "|b22f99c198f3738a7...|          0|        0.0|                    72|\n",
      "|4b3b7068c15b0e046...|          0|        0.0|                    68|\n",
      "|9468bb9f4c7e39e72...|          1|        0.0|                     7|\n",
      "|a14a75a803373848c...|          0|        0.0|                    68|\n",
      "|c1573ce869bafcbe9...|          0|        0.0|                    30|\n",
      "|7a748acb9cb11d073...|          0|        0.0|                    40|\n",
      "|3029a35037c3d47f2...|          0|        0.0|                    59|\n",
      "|989b1622ddf441235...|          0|        0.0|                    75|\n",
      "|69d87d14c315f222d...|          0|        0.0|                    55|\n",
      "|ddfd80e7e343ac461...|          0|        0.0|                    27|\n",
      "|35fc5d3e40b795b6e...|          1|        0.0|                    16|\n",
      "|e712f2b8b7e5ae16e...|          0|        0.0|                    43|\n",
      "|b8804bb2042cc0b6a...|          2|        0.0|                     9|\n",
      "|1c82a86fd13ed0224...|          1|        0.0|                    10|\n",
      "|2a04914163408bc96...|          0|        0.0|                    33|\n",
      "|fde61de946580172a...|          0|        0.0|                    37|\n",
      "|7df102da102df8311...|          1|     4569.0|                     0|\n",
      "|aa67a9ce9197f8003...|          0|        0.0|                    28|\n",
      "|9a6c74c10110dcec0...|          2|        0.0|                     5|\n",
      "+--------------------+-----------+-----------+----------------------+\n",
      "only showing top 20 rows\n",
      "\n"
     ]
    }
   ],
   "source": [
    "spark.sql(\"select * from itv016478_lending_clubb.loans_delinq\").show()"
   ]
  },
  {
   "cell_type": "code",
   "execution_count": 44,
   "id": "8e19bd04",
   "metadata": {},
   "outputs": [
    {
     "data": {
      "text/html": [
       "<table border='1'>\n",
       "<tr><th></th></tr>\n",
       "</table>\n"
      ],
      "text/plain": [
       "++\n",
       "||\n",
       "++\n",
       "++"
      ]
     },
     "execution_count": 44,
     "metadata": {},
     "output_type": "execute_result"
    }
   ],
   "source": [
    "spark.sql(\"DROP TABLE IF EXISTS itv016478_lending_clubb.loans_enqq\")\n"
   ]
  },
  {
   "cell_type": "code",
   "execution_count": 45,
   "id": "f2dcc2bd",
   "metadata": {},
   "outputs": [
    {
     "data": {
      "text/html": [
       "<table border='1'>\n",
       "<tr><th></th></tr>\n",
       "</table>\n"
      ],
      "text/plain": [
       "++\n",
       "||\n",
       "++\n",
       "++"
      ]
     },
     "execution_count": 45,
     "metadata": {},
     "output_type": "execute_result"
    }
   ],
   "source": [
    " spark.sql(\"\"\"Create External Table if not exists itv016478_lending_clubb.loans_enqq(member_id string, pub_rec float, pub_rec_bankruptcies float, inq_last_6mths integer) stored as parquet LOCATION '/user/itv016478/lendingclubproject/cleaned/loans_def_detail_records_enq_parquet' \"\"\")"
   ]
  },
  {
   "cell_type": "code",
   "execution_count": 46,
   "id": "9b9d2150",
   "metadata": {},
   "outputs": [
    {
     "data": {
      "text/html": [
       "<table border='1'>\n",
       "<tr><th></th></tr>\n",
       "</table>\n"
      ],
      "text/plain": [
       "++\n",
       "||\n",
       "++\n",
       "++"
      ]
     },
     "execution_count": 46,
     "metadata": {},
     "output_type": "execute_result"
    }
   ],
   "source": [
    "spark.sql(\"USE itv016478_lending_clubb\")"
   ]
  },
  {
   "cell_type": "code",
   "execution_count": 47,
   "id": "49f88472",
   "metadata": {},
   "outputs": [
    {
     "name": "stdout",
     "output_type": "stream",
     "text": [
      "+--------------------+--------------------+-----------+\n",
      "|            database|           tableName|isTemporary|\n",
      "+--------------------+--------------------+-----------+\n",
      "|itv016478_lending...|           customers|      false|\n",
      "|itv016478_lending...|    customers_loan_a|      false|\n",
      "|itv016478_lending...|    customers_loan_l|      false|\n",
      "|itv016478_lending...|    customers_loan_s|      false|\n",
      "|itv016478_lending...|    customers_loan_t|      false|\n",
      "|itv016478_lending...|    customers_loan_v|      false|\n",
      "|itv016478_lending...|   customers_loan_vv|      false|\n",
      "|itv016478_lending...|       customerstest|      false|\n",
      "|itv016478_lending...|               loans|      false|\n",
      "|itv016478_lending...|        loans_delinq|      false|\n",
      "|itv016478_lending...|           loans_enq|      false|\n",
      "|itv016478_lending...|          loans_enqq|      false|\n",
      "|itv016478_lending...|      loans_enqqtest|      false|\n",
      "|itv016478_lending...|    loans_new_delinq|      false|\n",
      "|itv016478_lending...|      loans_new_enqq|      false|\n",
      "|itv016478_lending...|loans_new_enqq_final|      false|\n",
      "|itv016478_lending...|loans_new_enqq_fi...|      false|\n",
      "|itv016478_lending...|   loans_new_enqq_tt|      false|\n",
      "|itv016478_lending...|         loans_repay|      false|\n",
      "|itv016478_lending...|           loanstest|      false|\n",
      "+--------------------+--------------------+-----------+\n",
      "only showing top 20 rows\n",
      "\n"
     ]
    }
   ],
   "source": [
    "spark.sql(\"SHOW TABLES\").show()"
   ]
  },
  {
   "cell_type": "code",
   "execution_count": 48,
   "id": "46bdeffc",
   "metadata": {},
   "outputs": [
    {
     "name": "stdout",
     "output_type": "stream",
     "text": [
      "root\n",
      " |-- member_id: string (nullable = true)\n",
      " |-- pub_rec: float (nullable = true)\n",
      " |-- pub_rec_bankruptcies: float (nullable = true)\n",
      " |-- inq_last_6mths: integer (nullable = true)\n",
      "\n",
      "+--------------------+-------+--------------------+--------------+\n",
      "|           member_id|pub_rec|pub_rec_bankruptcies|inq_last_6mths|\n",
      "+--------------------+-------+--------------------+--------------+\n",
      "|d86a1c7244ace602c...|    1.0|                 1.0|             0|\n",
      "|25b8cd9ff47e50eea...|    0.0|                 0.0|             1|\n",
      "|f9773942305b2dc9c...|    1.0|                 1.0|             0|\n",
      "|b22f99c198f3738a7...|    0.0|                 0.0|             0|\n",
      "|4b3b7068c15b0e046...|    0.0|                 0.0|             4|\n",
      "+--------------------+-------+--------------------+--------------+\n",
      "only showing top 5 rows\n",
      "\n"
     ]
    }
   ],
   "source": [
    "df = spark.read.parquet(\"/user/itv016478/lendingclubproject/cleaned/loans_def_detail_records_enq_parquet\")\n",
    "df.printSchema()\n",
    "df.show(5)\n"
   ]
  },
  {
   "cell_type": "code",
   "execution_count": 49,
   "id": "18794d46",
   "metadata": {},
   "outputs": [
    {
     "data": {
      "text/html": [
       "<table border='1'>\n",
       "<tr><th>member_id</th><th>pub_rec</th><th>pub_rec_bankruptcies</th><th>inq_last_6mths</th></tr>\n",
       "<tr><td>d86a1c7244ace602c...</td><td>1.0</td><td>1.0</td><td>0</td></tr>\n",
       "<tr><td>25b8cd9ff47e50eea...</td><td>0.0</td><td>0.0</td><td>1</td></tr>\n",
       "<tr><td>f9773942305b2dc9c...</td><td>1.0</td><td>1.0</td><td>0</td></tr>\n",
       "<tr><td>b22f99c198f3738a7...</td><td>0.0</td><td>0.0</td><td>0</td></tr>\n",
       "<tr><td>4b3b7068c15b0e046...</td><td>0.0</td><td>0.0</td><td>4</td></tr>\n",
       "<tr><td>0c7a9f8a6d5b209d2...</td><td>1.0</td><td>1.0</td><td>0</td></tr>\n",
       "<tr><td>f1cc7e6ae9c735148...</td><td>0.0</td><td>0.0</td><td>0</td></tr>\n",
       "<tr><td>8f8faa7eeb2a1ee41...</td><td>0.0</td><td>0.0</td><td>0</td></tr>\n",
       "<tr><td>dad3f5ea8788186cb...</td><td>0.0</td><td>0.0</td><td>2</td></tr>\n",
       "<tr><td>a20867c0985126202...</td><td>0.0</td><td>0.0</td><td>2</td></tr>\n",
       "<tr><td>b62a92faa291b619c...</td><td>2.0</td><td>1.0</td><td>2</td></tr>\n",
       "<tr><td>9468bb9f4c7e39e72...</td><td>0.0</td><td>0.0</td><td>0</td></tr>\n",
       "<tr><td>56a52156bd14bef8b...</td><td>0.0</td><td>0.0</td><td>0</td></tr>\n",
       "<tr><td>9b2294c29096348d5...</td><td>0.0</td><td>0.0</td><td>0</td></tr>\n",
       "<tr><td>b9c65cbaf8241cbe8...</td><td>1.0</td><td>0.0</td><td>0</td></tr>\n",
       "<tr><td>a14a75a803373848c...</td><td>0.0</td><td>0.0</td><td>0</td></tr>\n",
       "<tr><td>c1573ce869bafcbe9...</td><td>0.0</td><td>0.0</td><td>0</td></tr>\n",
       "<tr><td>7a748acb9cb11d073...</td><td>0.0</td><td>0.0</td><td>0</td></tr>\n",
       "<tr><td>38edbe648d5b71710...</td><td>1.0</td><td>1.0</td><td>0</td></tr>\n",
       "<tr><td>dc68448ffbc44bb2b...</td><td>0.0</td><td>0.0</td><td>1</td></tr>\n",
       "</table>\n",
       "only showing top 20 rows\n"
      ],
      "text/plain": [
       "+--------------------+-------+--------------------+--------------+\n",
       "|           member_id|pub_rec|pub_rec_bankruptcies|inq_last_6mths|\n",
       "+--------------------+-------+--------------------+--------------+\n",
       "|d86a1c7244ace602c...|    1.0|                 1.0|             0|\n",
       "|25b8cd9ff47e50eea...|    0.0|                 0.0|             1|\n",
       "|f9773942305b2dc9c...|    1.0|                 1.0|             0|\n",
       "|b22f99c198f3738a7...|    0.0|                 0.0|             0|\n",
       "|4b3b7068c15b0e046...|    0.0|                 0.0|             4|\n",
       "|0c7a9f8a6d5b209d2...|    1.0|                 1.0|             0|\n",
       "|f1cc7e6ae9c735148...|    0.0|                 0.0|             0|\n",
       "|8f8faa7eeb2a1ee41...|    0.0|                 0.0|             0|\n",
       "|dad3f5ea8788186cb...|    0.0|                 0.0|             2|\n",
       "|a20867c0985126202...|    0.0|                 0.0|             2|\n",
       "|b62a92faa291b619c...|    2.0|                 1.0|             2|\n",
       "|9468bb9f4c7e39e72...|    0.0|                 0.0|             0|\n",
       "|56a52156bd14bef8b...|    0.0|                 0.0|             0|\n",
       "|9b2294c29096348d5...|    0.0|                 0.0|             0|\n",
       "|b9c65cbaf8241cbe8...|    1.0|                 0.0|             0|\n",
       "|a14a75a803373848c...|    0.0|                 0.0|             0|\n",
       "|c1573ce869bafcbe9...|    0.0|                 0.0|             0|\n",
       "|7a748acb9cb11d073...|    0.0|                 0.0|             0|\n",
       "|38edbe648d5b71710...|    1.0|                 1.0|             0|\n",
       "|dc68448ffbc44bb2b...|    0.0|                 0.0|             1|\n",
       "+--------------------+-------+--------------------+--------------+\n",
       "only showing top 20 rows"
      ]
     },
     "execution_count": 49,
     "metadata": {},
     "output_type": "execute_result"
    }
   ],
   "source": [
    "spark.sql(\"select * from itv016478_lending_clubb.loans_enqq\")"
   ]
  },
  {
   "cell_type": "code",
   "execution_count": 50,
   "id": "95c8aded",
   "metadata": {},
   "outputs": [
    {
     "ename": "AnalysisException",
     "evalue": "Operation not allowed: CREATE EXTERNAL TABLE ... USING",
     "output_type": "error",
     "traceback": [
      "\u001b[0;31m---------------------------------------------------------------------------\u001b[0m",
      "\u001b[0;31mAnalysisException\u001b[0m                         Traceback (most recent call last)",
      "\u001b[0;32m<ipython-input-50-3a90807c174b>\u001b[0m in \u001b[0;36m<module>\u001b[0;34m\u001b[0m\n\u001b[1;32m      8\u001b[0m \u001b[0mUSING\u001b[0m \u001b[0mPARQUET\u001b[0m\u001b[0;34m\u001b[0m\u001b[0;34m\u001b[0m\u001b[0m\n\u001b[1;32m      9\u001b[0m \u001b[0mLOCATION\u001b[0m \u001b[0;34m'/user/itv016478/lendingclubproject/cleaned/loans_def_detail_records_enq_parquet'\u001b[0m\u001b[0;34m\u001b[0m\u001b[0;34m\u001b[0m\u001b[0m\n\u001b[0;32m---> 10\u001b[0;31m \"\"\")\n\u001b[0m",
      "\u001b[0;32m/opt/spark-3.1.2-bin-hadoop3.2/python/pyspark/sql/session.py\u001b[0m in \u001b[0;36msql\u001b[0;34m(self, sqlQuery)\u001b[0m\n\u001b[1;32m    721\u001b[0m         \u001b[0;34m[\u001b[0m\u001b[0mRow\u001b[0m\u001b[0;34m(\u001b[0m\u001b[0mf1\u001b[0m\u001b[0;34m=\u001b[0m\u001b[0;36m1\u001b[0m\u001b[0;34m,\u001b[0m \u001b[0mf2\u001b[0m\u001b[0;34m=\u001b[0m\u001b[0;34m'row1'\u001b[0m\u001b[0;34m)\u001b[0m\u001b[0;34m,\u001b[0m \u001b[0mRow\u001b[0m\u001b[0;34m(\u001b[0m\u001b[0mf1\u001b[0m\u001b[0;34m=\u001b[0m\u001b[0;36m2\u001b[0m\u001b[0;34m,\u001b[0m \u001b[0mf2\u001b[0m\u001b[0;34m=\u001b[0m\u001b[0;34m'row2'\u001b[0m\u001b[0;34m)\u001b[0m\u001b[0;34m,\u001b[0m \u001b[0mRow\u001b[0m\u001b[0;34m(\u001b[0m\u001b[0mf1\u001b[0m\u001b[0;34m=\u001b[0m\u001b[0;36m3\u001b[0m\u001b[0;34m,\u001b[0m \u001b[0mf2\u001b[0m\u001b[0;34m=\u001b[0m\u001b[0;34m'row3'\u001b[0m\u001b[0;34m)\u001b[0m\u001b[0;34m]\u001b[0m\u001b[0;34m\u001b[0m\u001b[0;34m\u001b[0m\u001b[0m\n\u001b[1;32m    722\u001b[0m         \"\"\"\n\u001b[0;32m--> 723\u001b[0;31m         \u001b[0;32mreturn\u001b[0m \u001b[0mDataFrame\u001b[0m\u001b[0;34m(\u001b[0m\u001b[0mself\u001b[0m\u001b[0;34m.\u001b[0m\u001b[0m_jsparkSession\u001b[0m\u001b[0;34m.\u001b[0m\u001b[0msql\u001b[0m\u001b[0;34m(\u001b[0m\u001b[0msqlQuery\u001b[0m\u001b[0;34m)\u001b[0m\u001b[0;34m,\u001b[0m \u001b[0mself\u001b[0m\u001b[0;34m.\u001b[0m\u001b[0m_wrapped\u001b[0m\u001b[0;34m)\u001b[0m\u001b[0;34m\u001b[0m\u001b[0;34m\u001b[0m\u001b[0m\n\u001b[0m\u001b[1;32m    724\u001b[0m \u001b[0;34m\u001b[0m\u001b[0m\n\u001b[1;32m    725\u001b[0m     \u001b[0;32mdef\u001b[0m \u001b[0mtable\u001b[0m\u001b[0;34m(\u001b[0m\u001b[0mself\u001b[0m\u001b[0;34m,\u001b[0m \u001b[0mtableName\u001b[0m\u001b[0;34m)\u001b[0m\u001b[0;34m:\u001b[0m\u001b[0;34m\u001b[0m\u001b[0;34m\u001b[0m\u001b[0m\n",
      "\u001b[0;32m/opt/spark-3.1.2-bin-hadoop3.2/python/lib/py4j-0.10.9-src.zip/py4j/java_gateway.py\u001b[0m in \u001b[0;36m__call__\u001b[0;34m(self, *args)\u001b[0m\n\u001b[1;32m   1303\u001b[0m         \u001b[0manswer\u001b[0m \u001b[0;34m=\u001b[0m \u001b[0mself\u001b[0m\u001b[0;34m.\u001b[0m\u001b[0mgateway_client\u001b[0m\u001b[0;34m.\u001b[0m\u001b[0msend_command\u001b[0m\u001b[0;34m(\u001b[0m\u001b[0mcommand\u001b[0m\u001b[0;34m)\u001b[0m\u001b[0;34m\u001b[0m\u001b[0;34m\u001b[0m\u001b[0m\n\u001b[1;32m   1304\u001b[0m         return_value = get_return_value(\n\u001b[0;32m-> 1305\u001b[0;31m             answer, self.gateway_client, self.target_id, self.name)\n\u001b[0m\u001b[1;32m   1306\u001b[0m \u001b[0;34m\u001b[0m\u001b[0m\n\u001b[1;32m   1307\u001b[0m         \u001b[0;32mfor\u001b[0m \u001b[0mtemp_arg\u001b[0m \u001b[0;32min\u001b[0m \u001b[0mtemp_args\u001b[0m\u001b[0;34m:\u001b[0m\u001b[0;34m\u001b[0m\u001b[0;34m\u001b[0m\u001b[0m\n",
      "\u001b[0;32m/opt/spark-3.1.2-bin-hadoop3.2/python/pyspark/sql/utils.py\u001b[0m in \u001b[0;36mdeco\u001b[0;34m(*a, **kw)\u001b[0m\n\u001b[1;32m    115\u001b[0m                 \u001b[0;31m# Hide where the exception came from that shows a non-Pythonic\u001b[0m\u001b[0;34m\u001b[0m\u001b[0;34m\u001b[0m\u001b[0;34m\u001b[0m\u001b[0m\n\u001b[1;32m    116\u001b[0m                 \u001b[0;31m# JVM exception message.\u001b[0m\u001b[0;34m\u001b[0m\u001b[0;34m\u001b[0m\u001b[0;34m\u001b[0m\u001b[0m\n\u001b[0;32m--> 117\u001b[0;31m                 \u001b[0;32mraise\u001b[0m \u001b[0mconverted\u001b[0m \u001b[0;32mfrom\u001b[0m \u001b[0;32mNone\u001b[0m\u001b[0;34m\u001b[0m\u001b[0;34m\u001b[0m\u001b[0m\n\u001b[0m\u001b[1;32m    118\u001b[0m             \u001b[0;32melse\u001b[0m\u001b[0;34m:\u001b[0m\u001b[0;34m\u001b[0m\u001b[0;34m\u001b[0m\u001b[0m\n\u001b[1;32m    119\u001b[0m                 \u001b[0;32mraise\u001b[0m\u001b[0;34m\u001b[0m\u001b[0;34m\u001b[0m\u001b[0m\n",
      "\u001b[0;31mAnalysisException\u001b[0m: Operation not allowed: CREATE EXTERNAL TABLE ... USING"
     ]
    }
   ],
   "source": [
    "spark.sql(\"\"\"\n",
    "CREATE EXTERNAL TABLE IF NOT EXISTS itv016478_lending_clubb.loans_enqq (\n",
    "    member_id STRING,\n",
    "    pub_rec FLOAT,\n",
    "    pub_rec_bankruptcies FLOAT,\n",
    "    inq_last_6mths FLOAT\n",
    ")\n",
    "USING PARQUET\n",
    "LOCATION '/user/itv016478/lendingclubproject/cleaned/loans_def_detail_records_enq_parquet'\n",
    "\"\"\")\n"
   ]
  },
  {
   "cell_type": "code",
   "execution_count": null,
   "id": "25291882",
   "metadata": {},
   "outputs": [],
   "source": []
  },
  {
   "cell_type": "code",
   "execution_count": 51,
   "id": "a0f45166",
   "metadata": {},
   "outputs": [
    {
     "data": {
      "text/html": [
       "<table border='1'>\n",
       "<tr><th>member_id</th><th>pub_rec</th><th>pub_rec_bankruptcies</th><th>inq_last_6mths</th></tr>\n",
       "<tr><td>d86a1c7244ace602c...</td><td>1.0</td><td>1.0</td><td>0</td></tr>\n",
       "<tr><td>25b8cd9ff47e50eea...</td><td>0.0</td><td>0.0</td><td>1</td></tr>\n",
       "<tr><td>f9773942305b2dc9c...</td><td>1.0</td><td>1.0</td><td>0</td></tr>\n",
       "<tr><td>b22f99c198f3738a7...</td><td>0.0</td><td>0.0</td><td>0</td></tr>\n",
       "<tr><td>4b3b7068c15b0e046...</td><td>0.0</td><td>0.0</td><td>4</td></tr>\n",
       "<tr><td>0c7a9f8a6d5b209d2...</td><td>1.0</td><td>1.0</td><td>0</td></tr>\n",
       "<tr><td>f1cc7e6ae9c735148...</td><td>0.0</td><td>0.0</td><td>0</td></tr>\n",
       "<tr><td>8f8faa7eeb2a1ee41...</td><td>0.0</td><td>0.0</td><td>0</td></tr>\n",
       "<tr><td>dad3f5ea8788186cb...</td><td>0.0</td><td>0.0</td><td>2</td></tr>\n",
       "<tr><td>a20867c0985126202...</td><td>0.0</td><td>0.0</td><td>2</td></tr>\n",
       "<tr><td>b62a92faa291b619c...</td><td>2.0</td><td>1.0</td><td>2</td></tr>\n",
       "<tr><td>9468bb9f4c7e39e72...</td><td>0.0</td><td>0.0</td><td>0</td></tr>\n",
       "<tr><td>56a52156bd14bef8b...</td><td>0.0</td><td>0.0</td><td>0</td></tr>\n",
       "<tr><td>9b2294c29096348d5...</td><td>0.0</td><td>0.0</td><td>0</td></tr>\n",
       "<tr><td>b9c65cbaf8241cbe8...</td><td>1.0</td><td>0.0</td><td>0</td></tr>\n",
       "<tr><td>a14a75a803373848c...</td><td>0.0</td><td>0.0</td><td>0</td></tr>\n",
       "<tr><td>c1573ce869bafcbe9...</td><td>0.0</td><td>0.0</td><td>0</td></tr>\n",
       "<tr><td>7a748acb9cb11d073...</td><td>0.0</td><td>0.0</td><td>0</td></tr>\n",
       "<tr><td>38edbe648d5b71710...</td><td>1.0</td><td>1.0</td><td>0</td></tr>\n",
       "<tr><td>dc68448ffbc44bb2b...</td><td>0.0</td><td>0.0</td><td>1</td></tr>\n",
       "</table>\n",
       "only showing top 20 rows\n"
      ],
      "text/plain": [
       "+--------------------+-------+--------------------+--------------+\n",
       "|           member_id|pub_rec|pub_rec_bankruptcies|inq_last_6mths|\n",
       "+--------------------+-------+--------------------+--------------+\n",
       "|d86a1c7244ace602c...|    1.0|                 1.0|             0|\n",
       "|25b8cd9ff47e50eea...|    0.0|                 0.0|             1|\n",
       "|f9773942305b2dc9c...|    1.0|                 1.0|             0|\n",
       "|b22f99c198f3738a7...|    0.0|                 0.0|             0|\n",
       "|4b3b7068c15b0e046...|    0.0|                 0.0|             4|\n",
       "|0c7a9f8a6d5b209d2...|    1.0|                 1.0|             0|\n",
       "|f1cc7e6ae9c735148...|    0.0|                 0.0|             0|\n",
       "|8f8faa7eeb2a1ee41...|    0.0|                 0.0|             0|\n",
       "|dad3f5ea8788186cb...|    0.0|                 0.0|             2|\n",
       "|a20867c0985126202...|    0.0|                 0.0|             2|\n",
       "|b62a92faa291b619c...|    2.0|                 1.0|             2|\n",
       "|9468bb9f4c7e39e72...|    0.0|                 0.0|             0|\n",
       "|56a52156bd14bef8b...|    0.0|                 0.0|             0|\n",
       "|9b2294c29096348d5...|    0.0|                 0.0|             0|\n",
       "|b9c65cbaf8241cbe8...|    1.0|                 0.0|             0|\n",
       "|a14a75a803373848c...|    0.0|                 0.0|             0|\n",
       "|c1573ce869bafcbe9...|    0.0|                 0.0|             0|\n",
       "|7a748acb9cb11d073...|    0.0|                 0.0|             0|\n",
       "|38edbe648d5b71710...|    1.0|                 1.0|             0|\n",
       "|dc68448ffbc44bb2b...|    0.0|                 0.0|             1|\n",
       "+--------------------+-------+--------------------+--------------+\n",
       "only showing top 20 rows"
      ]
     },
     "execution_count": 51,
     "metadata": {},
     "output_type": "execute_result"
    }
   ],
   "source": [
    "spark.sql(\"select * from itv016478_lending_clubb.loans_enqq\")"
   ]
  },
  {
   "cell_type": "code",
   "execution_count": 52,
   "id": "e5ee4b12",
   "metadata": {},
   "outputs": [
    {
     "name": "stdout",
     "output_type": "stream",
     "text": [
      "Found 3 items\n",
      "-rw-r--r--   3 itv016478 supergroup          0 2025-05-20 11:39 /user/itv016478/lendingclubproject/cleaned/loans_def_detail_records_enq_parquet/_SUCCESS\n",
      "-rw-r--r--   3 itv016478 supergroup   77108077 2025-05-20 11:39 /user/itv016478/lendingclubproject/cleaned/loans_def_detail_records_enq_parquet/part-00000-21a4d4ec-5b31-4bff-b8fe-e7f23210b448-c000.snappy.parquet\n",
      "-rw-r--r--   3 itv016478 supergroup   74124369 2025-05-20 11:39 /user/itv016478/lendingclubproject/cleaned/loans_def_detail_records_enq_parquet/part-00001-21a4d4ec-5b31-4bff-b8fe-e7f23210b448-c000.snappy.parquet\n"
     ]
    }
   ],
   "source": [
    "!hadoop fs -ls /user/itv016478/lendingclubproject/cleaned/loans_def_detail_records_enq_parquet"
   ]
  },
  {
   "cell_type": "code",
   "execution_count": 53,
   "id": "4fbc7481",
   "metadata": {},
   "outputs": [
    {
     "name": "stdout",
     "output_type": "stream",
     "text": [
      "+--------------------+-------+--------------------+--------------+\n",
      "|           member_id|pub_rec|pub_rec_bankruptcies|inq_last_6mths|\n",
      "+--------------------+-------+--------------------+--------------+\n",
      "|d86a1c7244ace602c...|    1.0|                 1.0|             0|\n",
      "|25b8cd9ff47e50eea...|    0.0|                 0.0|             1|\n",
      "|f9773942305b2dc9c...|    1.0|                 1.0|             0|\n",
      "|b22f99c198f3738a7...|    0.0|                 0.0|             0|\n",
      "|4b3b7068c15b0e046...|    0.0|                 0.0|             4|\n",
      "|0c7a9f8a6d5b209d2...|    1.0|                 1.0|             0|\n",
      "|f1cc7e6ae9c735148...|    0.0|                 0.0|             0|\n",
      "|8f8faa7eeb2a1ee41...|    0.0|                 0.0|             0|\n",
      "|dad3f5ea8788186cb...|    0.0|                 0.0|             2|\n",
      "|a20867c0985126202...|    0.0|                 0.0|             2|\n",
      "|b62a92faa291b619c...|    2.0|                 1.0|             2|\n",
      "|9468bb9f4c7e39e72...|    0.0|                 0.0|             0|\n",
      "|56a52156bd14bef8b...|    0.0|                 0.0|             0|\n",
      "|9b2294c29096348d5...|    0.0|                 0.0|             0|\n",
      "|b9c65cbaf8241cbe8...|    1.0|                 0.0|             0|\n",
      "|a14a75a803373848c...|    0.0|                 0.0|             0|\n",
      "|c1573ce869bafcbe9...|    0.0|                 0.0|             0|\n",
      "|7a748acb9cb11d073...|    0.0|                 0.0|             0|\n",
      "|38edbe648d5b71710...|    1.0|                 1.0|             0|\n",
      "|dc68448ffbc44bb2b...|    0.0|                 0.0|             1|\n",
      "+--------------------+-------+--------------------+--------------+\n",
      "only showing top 20 rows\n",
      "\n"
     ]
    }
   ],
   "source": [
    "df = spark.read.format(\"parquet\").load(\"/user/itv016478/lendingclubproject/cleaned/loans_def_detail_records_enq_parquet/part-00000-21a4d4ec-5b31-4bff-b8fe-e7f23210b448-c000.snappy.parquet\")\n",
    "df.show()"
   ]
  },
  {
   "cell_type": "code",
   "execution_count": null,
   "id": "da457cd9",
   "metadata": {},
   "outputs": [],
   "source": []
  },
  {
   "cell_type": "code",
   "execution_count": null,
   "id": "64878af0",
   "metadata": {},
   "outputs": [],
   "source": []
  },
  {
   "cell_type": "code",
   "execution_count": 54,
   "id": "a2c1e478",
   "metadata": {},
   "outputs": [
    {
     "data": {
      "text/html": [
       "<table border='1'>\n",
       "<tr><th>member_id</th><th>pub_rec</th><th>pub_rec_bankruptcies</th><th>inq_last_6mths</th></tr>\n",
       "<tr><td>d86a1c7244ace602c...</td><td>1.0</td><td>1.0</td><td>0</td></tr>\n",
       "<tr><td>25b8cd9ff47e50eea...</td><td>0.0</td><td>0.0</td><td>1</td></tr>\n",
       "<tr><td>f9773942305b2dc9c...</td><td>1.0</td><td>1.0</td><td>0</td></tr>\n",
       "<tr><td>b22f99c198f3738a7...</td><td>0.0</td><td>0.0</td><td>0</td></tr>\n",
       "<tr><td>4b3b7068c15b0e046...</td><td>0.0</td><td>0.0</td><td>4</td></tr>\n",
       "<tr><td>0c7a9f8a6d5b209d2...</td><td>1.0</td><td>1.0</td><td>0</td></tr>\n",
       "<tr><td>f1cc7e6ae9c735148...</td><td>0.0</td><td>0.0</td><td>0</td></tr>\n",
       "<tr><td>8f8faa7eeb2a1ee41...</td><td>0.0</td><td>0.0</td><td>0</td></tr>\n",
       "<tr><td>dad3f5ea8788186cb...</td><td>0.0</td><td>0.0</td><td>2</td></tr>\n",
       "<tr><td>a20867c0985126202...</td><td>0.0</td><td>0.0</td><td>2</td></tr>\n",
       "<tr><td>b62a92faa291b619c...</td><td>2.0</td><td>1.0</td><td>2</td></tr>\n",
       "<tr><td>9468bb9f4c7e39e72...</td><td>0.0</td><td>0.0</td><td>0</td></tr>\n",
       "<tr><td>56a52156bd14bef8b...</td><td>0.0</td><td>0.0</td><td>0</td></tr>\n",
       "<tr><td>9b2294c29096348d5...</td><td>0.0</td><td>0.0</td><td>0</td></tr>\n",
       "<tr><td>b9c65cbaf8241cbe8...</td><td>1.0</td><td>0.0</td><td>0</td></tr>\n",
       "<tr><td>a14a75a803373848c...</td><td>0.0</td><td>0.0</td><td>0</td></tr>\n",
       "<tr><td>c1573ce869bafcbe9...</td><td>0.0</td><td>0.0</td><td>0</td></tr>\n",
       "<tr><td>7a748acb9cb11d073...</td><td>0.0</td><td>0.0</td><td>0</td></tr>\n",
       "<tr><td>38edbe648d5b71710...</td><td>1.0</td><td>1.0</td><td>0</td></tr>\n",
       "<tr><td>dc68448ffbc44bb2b...</td><td>0.0</td><td>0.0</td><td>1</td></tr>\n",
       "</table>\n",
       "only showing top 20 rows\n"
      ],
      "text/plain": [
       "+--------------------+-------+--------------------+--------------+\n",
       "|           member_id|pub_rec|pub_rec_bankruptcies|inq_last_6mths|\n",
       "+--------------------+-------+--------------------+--------------+\n",
       "|d86a1c7244ace602c...|    1.0|                 1.0|             0|\n",
       "|25b8cd9ff47e50eea...|    0.0|                 0.0|             1|\n",
       "|f9773942305b2dc9c...|    1.0|                 1.0|             0|\n",
       "|b22f99c198f3738a7...|    0.0|                 0.0|             0|\n",
       "|4b3b7068c15b0e046...|    0.0|                 0.0|             4|\n",
       "|0c7a9f8a6d5b209d2...|    1.0|                 1.0|             0|\n",
       "|f1cc7e6ae9c735148...|    0.0|                 0.0|             0|\n",
       "|8f8faa7eeb2a1ee41...|    0.0|                 0.0|             0|\n",
       "|dad3f5ea8788186cb...|    0.0|                 0.0|             2|\n",
       "|a20867c0985126202...|    0.0|                 0.0|             2|\n",
       "|b62a92faa291b619c...|    2.0|                 1.0|             2|\n",
       "|9468bb9f4c7e39e72...|    0.0|                 0.0|             0|\n",
       "|56a52156bd14bef8b...|    0.0|                 0.0|             0|\n",
       "|9b2294c29096348d5...|    0.0|                 0.0|             0|\n",
       "|b9c65cbaf8241cbe8...|    1.0|                 0.0|             0|\n",
       "|a14a75a803373848c...|    0.0|                 0.0|             0|\n",
       "|c1573ce869bafcbe9...|    0.0|                 0.0|             0|\n",
       "|7a748acb9cb11d073...|    0.0|                 0.0|             0|\n",
       "|38edbe648d5b71710...|    1.0|                 1.0|             0|\n",
       "|dc68448ffbc44bb2b...|    0.0|                 0.0|             1|\n",
       "+--------------------+-------+--------------------+--------------+\n",
       "only showing top 20 rows"
      ]
     },
     "execution_count": 54,
     "metadata": {},
     "output_type": "execute_result"
    }
   ],
   "source": [
    "spark.sql(\"Select * from  itv016478_lending_clubb.loans_enqq\")"
   ]
  },
  {
   "cell_type": "code",
   "execution_count": 55,
   "id": "5d070395",
   "metadata": {},
   "outputs": [],
   "source": [
    "spark.stop()"
   ]
  },
  {
   "cell_type": "code",
   "execution_count": null,
   "id": "cb8504e0",
   "metadata": {},
   "outputs": [],
   "source": []
  }
 ],
 "metadata": {
  "kernelspec": {
   "display_name": "Pyspark 3",
   "language": "python",
   "name": "pyspark3"
  },
  "language_info": {
   "codemirror_mode": {
    "name": "ipython",
    "version": 3
   },
   "file_extension": ".py",
   "mimetype": "text/x-python",
   "name": "python",
   "nbconvert_exporter": "python",
   "pygments_lexer": "ipython3",
   "version": "3.6.12"
  }
 },
 "nbformat": 4,
 "nbformat_minor": 5
}
