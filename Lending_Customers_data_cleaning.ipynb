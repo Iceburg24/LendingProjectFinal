{
 "cells": [
  {
   "cell_type": "code",
   "execution_count": 1,
   "id": "5c2fbd9a",
   "metadata": {},
   "outputs": [],
   "source": [
    "from pyspark.sql import SparkSession\n",
    " \n",
    "spark=SparkSession.\\\n",
    "builder.\\\n",
    "config('spark.shuffle.useOldFetchProtocol','true').\\\n",
    "config('spark.ui.port','0').\\\n",
    "config(\"spark.sql.warehouse.dir\",\"/user/itv016478/warehouse\").\\\n",
    "enableHiveSupport().\\\n",
    "master('yarn').\\\n",
    "getOrCreate()\n"
   ]
  },
  {
   "cell_type": "code",
   "execution_count": 2,
   "id": "5d4807a9",
   "metadata": {},
   "outputs": [],
   "source": [
    "# 1.create a df with proper datatypes"
   ]
  },
  {
   "cell_type": "code",
   "execution_count": 3,
   "id": "defe3ad2",
   "metadata": {},
   "outputs": [],
   "source": [
    "Customers_schema= \"\"\" member_id string, emp_title string, emp_length string , home_ownership string,\n",
    "annual_inc float, addr_state string, zip_code string, country string, grade string, sub_grade string, verification_status string, \n",
    "tot_hi_cred_lim float, application_type string, annual_inc_joint float, verification_status_joint string\"\"\""
   ]
  },
  {
   "cell_type": "code",
   "execution_count": 4,
   "id": "c009f6a4",
   "metadata": {},
   "outputs": [],
   "source": [
    "customers_df= spark.read \\\n",
    ".format(\"csv\") \\\n",
    ".schema(Customers_schema) \\\n",
    ".option(\"header\",\"true\") \\\n",
    ".load(\"/user/itv016478/lendingclubproject/raw/customers_data_csv\")"
   ]
  },
  {
   "cell_type": "code",
   "execution_count": 5,
   "id": "66d14257",
   "metadata": {},
   "outputs": [
    {
     "data": {
      "text/html": [
       "<table border='1'>\n",
       "<tr><th>member_id</th><th>emp_title</th><th>emp_length</th><th>home_ownership</th><th>annual_inc</th><th>addr_state</th><th>zip_code</th><th>country</th><th>grade</th><th>sub_grade</th><th>verification_status</th><th>tot_hi_cred_lim</th><th>application_type</th><th>annual_inc_joint</th><th>verification_status_joint</th></tr>\n",
       "<tr><td>4480925324607267c...</td><td>IT</td><td>3 years</td><td>RENT</td><td>92000.0</td><td>NJ</td><td>088xx</td><td>USA</td><td>E</td><td>E3</td><td>Verified</td><td>132523.0</td><td>Individual</td><td>null</td><td>null</td></tr>\n",
       "<tr><td>b54711d4a553ea330...</td><td>District Manager</td><td>7 years</td><td>RENT</td><td>45000.0</td><td>TX</td><td>787xx</td><td>USA</td><td>C</td><td>C4</td><td>Verified</td><td>33247.0</td><td>Individual</td><td>null</td><td>null</td></tr>\n",
       "<tr><td>db06b45a938f1a3b5...</td><td>Case Management</td><td>6 years</td><td>RENT</td><td>33000.0</td><td>NJ</td><td>070xx</td><td>USA</td><td>D</td><td>D3</td><td>Not Verified</td><td>34825.0</td><td>Individual</td><td>null</td><td>null</td></tr>\n",
       "<tr><td>ad9d9524477e85c11...</td><td>senior financial ...</td><td>&lt; 1 year</td><td>RENT</td><td>80000.0</td><td>NJ</td><td>079xx</td><td>USA</td><td>A</td><td>A4</td><td>Source Verified</td><td>81859.0</td><td>Individual</td><td>null</td><td>null</td></tr>\n",
       "<tr><td>c67f6ac3fea6ef46d...</td><td>Senior Analyst H....</td><td>6 years</td><td>RENT</td><td>30000.0</td><td>FL</td><td>328xx</td><td>USA</td><td>B</td><td>B3</td><td>Source Verified</td><td>30825.0</td><td>Individual</td><td>null</td><td>null</td></tr>\n",
       "<tr><td>bb36e2cb69517fac3...</td><td>Owner Realtor</td><td>1 year</td><td>MORTGAGE</td><td>40000.0</td><td>WI</td><td>549xx</td><td>USA</td><td>E</td><td>E3</td><td>Not Verified</td><td>186722.0</td><td>Individual</td><td>null</td><td>null</td></tr>\n",
       "<tr><td>af69a7dff814fb213...</td><td>nurse</td><td>10+ years</td><td>MORTGAGE</td><td>45000.0</td><td>TX</td><td>791xx</td><td>USA</td><td>C</td><td>C5</td><td>Not Verified</td><td>261804.0</td><td>Individual</td><td>null</td><td>null</td></tr>\n",
       "<tr><td>c9c794b5025e14a7d...</td><td>Assistant IT Dire...</td><td>2 years</td><td>MORTGAGE</td><td>76500.0</td><td>UT</td><td>840xx</td><td>USA</td><td>D</td><td>D5</td><td>Source Verified</td><td>67822.0</td><td>Individual</td><td>null</td><td>null</td></tr>\n",
       "<tr><td>61b48d763bd82369a...</td><td>Network Provision...</td><td>3 years</td><td>RENT</td><td>98000.0</td><td>CA</td><td>950xx</td><td>USA</td><td>B</td><td>B2</td><td>Source Verified</td><td>100609.0</td><td>Individual</td><td>null</td><td>null</td></tr>\n",
       "<tr><td>adc390ceaa6428ba4...</td><td>null</td><td>null</td><td>MORTGAGE</td><td>38964.0</td><td>MO</td><td>650xx</td><td>USA</td><td>C</td><td>C2</td><td>Source Verified</td><td>18400.0</td><td>Individual</td><td>null</td><td>null</td></tr>\n",
       "<tr><td>b8591b1957416d0d0...</td><td>Plumber</td><td>2 years</td><td>MORTGAGE</td><td>75000.0</td><td>WA</td><td>980xx</td><td>USA</td><td>D</td><td>D1</td><td>Verified</td><td>298969.0</td><td>Individual</td><td>null</td><td>null</td></tr>\n",
       "<tr><td>edf6bc814b2514406...</td><td>Director</td><td>2 years</td><td>RENT</td><td>52000.0</td><td>MD</td><td>206xx</td><td>USA</td><td>C</td><td>C5</td><td>Not Verified</td><td>32196.0</td><td>Individual</td><td>null</td><td>null</td></tr>\n",
       "<tr><td>cbb2027fdad44e370...</td><td>IT Specialist</td><td>8 years</td><td>MORTGAGE</td><td>65000.0</td><td>WA</td><td>992xx</td><td>USA</td><td>C</td><td>C2</td><td>Not Verified</td><td>262235.0</td><td>Individual</td><td>null</td><td>null</td></tr>\n",
       "<tr><td>2833e66fc35f729ff...</td><td>Associate Informa...</td><td>6 years</td><td>RENT</td><td>68000.0</td><td>CA</td><td>945xx</td><td>USA</td><td>C</td><td>C4</td><td>Source Verified</td><td>38972.0</td><td>Individual</td><td>null</td><td>null</td></tr>\n",
       "<tr><td>30257f9f7bb1ee5f7...</td><td>Truck Driver</td><td>1 year</td><td>RENT</td><td>60000.0</td><td>FL</td><td>335xx</td><td>USA</td><td>A</td><td>A2</td><td>Source Verified</td><td>82047.0</td><td>Individual</td><td>null</td><td>null</td></tr>\n",
       "<tr><td>1f9bcde5a863520ef...</td><td>electrical designer</td><td>&lt; 1 year</td><td>MORTGAGE</td><td>85000.0</td><td>CA</td><td>911xx</td><td>USA</td><td>D</td><td>D1</td><td>Not Verified</td><td>289434.0</td><td>Individual</td><td>null</td><td>null</td></tr>\n",
       "<tr><td>1809df0b4a0abe9b0...</td><td>Driver</td><td>1 year</td><td>RENT</td><td>50000.0</td><td>AL</td><td>351xx</td><td>USA</td><td>D</td><td>D4</td><td>Source Verified</td><td>44017.0</td><td>Individual</td><td>null</td><td>null</td></tr>\n",
       "<tr><td>6da09f2e86c405a0c...</td><td>Shift Operations ...</td><td>2 years</td><td>MORTGAGE</td><td>60500.0</td><td>CO</td><td>801xx</td><td>USA</td><td>D</td><td>D4</td><td>Source Verified</td><td>268792.0</td><td>Individual</td><td>null</td><td>null</td></tr>\n",
       "<tr><td>0229fe984f04c4817...</td><td>Payroll Accountant</td><td>7 years</td><td>RENT</td><td>65000.0</td><td>WA</td><td>982xx</td><td>USA</td><td>D</td><td>D2</td><td>Verified</td><td>161351.0</td><td>Individual</td><td>null</td><td>null</td></tr>\n",
       "<tr><td>d8868b8f86fc7c7ea...</td><td>teacher</td><td>5 years</td><td>RENT</td><td>56100.0</td><td>VA</td><td>232xx</td><td>USA</td><td>C</td><td>C5</td><td>Not Verified</td><td>41528.0</td><td>Individual</td><td>null</td><td>null</td></tr>\n",
       "</table>\n",
       "only showing top 20 rows\n"
      ],
      "text/plain": [
       "+--------------------+--------------------+----------+--------------+----------+----------+--------+-------+-----+---------+-------------------+---------------+----------------+----------------+-------------------------+\n",
       "|           member_id|           emp_title|emp_length|home_ownership|annual_inc|addr_state|zip_code|country|grade|sub_grade|verification_status|tot_hi_cred_lim|application_type|annual_inc_joint|verification_status_joint|\n",
       "+--------------------+--------------------+----------+--------------+----------+----------+--------+-------+-----+---------+-------------------+---------------+----------------+----------------+-------------------------+\n",
       "|4480925324607267c...|                  IT|   3 years|          RENT|   92000.0|        NJ|   088xx|    USA|    E|       E3|           Verified|       132523.0|      Individual|            null|                     null|\n",
       "|b54711d4a553ea330...|    District Manager|   7 years|          RENT|   45000.0|        TX|   787xx|    USA|    C|       C4|           Verified|        33247.0|      Individual|            null|                     null|\n",
       "|db06b45a938f1a3b5...|     Case Management|   6 years|          RENT|   33000.0|        NJ|   070xx|    USA|    D|       D3|       Not Verified|        34825.0|      Individual|            null|                     null|\n",
       "|ad9d9524477e85c11...|senior financial ...|  < 1 year|          RENT|   80000.0|        NJ|   079xx|    USA|    A|       A4|    Source Verified|        81859.0|      Individual|            null|                     null|\n",
       "|c67f6ac3fea6ef46d...|Senior Analyst H....|   6 years|          RENT|   30000.0|        FL|   328xx|    USA|    B|       B3|    Source Verified|        30825.0|      Individual|            null|                     null|\n",
       "|bb36e2cb69517fac3...|       Owner Realtor|    1 year|      MORTGAGE|   40000.0|        WI|   549xx|    USA|    E|       E3|       Not Verified|       186722.0|      Individual|            null|                     null|\n",
       "|af69a7dff814fb213...|               nurse| 10+ years|      MORTGAGE|   45000.0|        TX|   791xx|    USA|    C|       C5|       Not Verified|       261804.0|      Individual|            null|                     null|\n",
       "|c9c794b5025e14a7d...|Assistant IT Dire...|   2 years|      MORTGAGE|   76500.0|        UT|   840xx|    USA|    D|       D5|    Source Verified|        67822.0|      Individual|            null|                     null|\n",
       "|61b48d763bd82369a...|Network Provision...|   3 years|          RENT|   98000.0|        CA|   950xx|    USA|    B|       B2|    Source Verified|       100609.0|      Individual|            null|                     null|\n",
       "|adc390ceaa6428ba4...|                null|      null|      MORTGAGE|   38964.0|        MO|   650xx|    USA|    C|       C2|    Source Verified|        18400.0|      Individual|            null|                     null|\n",
       "|b8591b1957416d0d0...|             Plumber|   2 years|      MORTGAGE|   75000.0|        WA|   980xx|    USA|    D|       D1|           Verified|       298969.0|      Individual|            null|                     null|\n",
       "|edf6bc814b2514406...|            Director|   2 years|          RENT|   52000.0|        MD|   206xx|    USA|    C|       C5|       Not Verified|        32196.0|      Individual|            null|                     null|\n",
       "|cbb2027fdad44e370...|       IT Specialist|   8 years|      MORTGAGE|   65000.0|        WA|   992xx|    USA|    C|       C2|       Not Verified|       262235.0|      Individual|            null|                     null|\n",
       "|2833e66fc35f729ff...|Associate Informa...|   6 years|          RENT|   68000.0|        CA|   945xx|    USA|    C|       C4|    Source Verified|        38972.0|      Individual|            null|                     null|\n",
       "|30257f9f7bb1ee5f7...|        Truck Driver|    1 year|          RENT|   60000.0|        FL|   335xx|    USA|    A|       A2|    Source Verified|        82047.0|      Individual|            null|                     null|\n",
       "|1f9bcde5a863520ef...| electrical designer|  < 1 year|      MORTGAGE|   85000.0|        CA|   911xx|    USA|    D|       D1|       Not Verified|       289434.0|      Individual|            null|                     null|\n",
       "|1809df0b4a0abe9b0...|              Driver|    1 year|          RENT|   50000.0|        AL|   351xx|    USA|    D|       D4|    Source Verified|        44017.0|      Individual|            null|                     null|\n",
       "|6da09f2e86c405a0c...|Shift Operations ...|   2 years|      MORTGAGE|   60500.0|        CO|   801xx|    USA|    D|       D4|    Source Verified|       268792.0|      Individual|            null|                     null|\n",
       "|0229fe984f04c4817...|  Payroll Accountant|   7 years|          RENT|   65000.0|        WA|   982xx|    USA|    D|       D2|           Verified|       161351.0|      Individual|            null|                     null|\n",
       "|d8868b8f86fc7c7ea...|             teacher|   5 years|          RENT|   56100.0|        VA|   232xx|    USA|    C|       C5|       Not Verified|        41528.0|      Individual|            null|                     null|\n",
       "+--------------------+--------------------+----------+--------------+----------+----------+--------+-------+-----+---------+-------------------+---------------+----------------+----------------+-------------------------+\n",
       "only showing top 20 rows"
      ]
     },
     "execution_count": 5,
     "metadata": {},
     "output_type": "execute_result"
    }
   ],
   "source": [
    "customers_df\n"
   ]
  },
  {
   "cell_type": "code",
   "execution_count": 6,
   "id": "2fa192c6",
   "metadata": {},
   "outputs": [
    {
     "name": "stdout",
     "output_type": "stream",
     "text": [
      "root\n",
      " |-- member_id: string (nullable = true)\n",
      " |-- emp_title: string (nullable = true)\n",
      " |-- emp_length: string (nullable = true)\n",
      " |-- home_ownership: string (nullable = true)\n",
      " |-- annual_inc: float (nullable = true)\n",
      " |-- addr_state: string (nullable = true)\n",
      " |-- zip_code: string (nullable = true)\n",
      " |-- country: string (nullable = true)\n",
      " |-- grade: string (nullable = true)\n",
      " |-- sub_grade: string (nullable = true)\n",
      " |-- verification_status: string (nullable = true)\n",
      " |-- tot_hi_cred_lim: float (nullable = true)\n",
      " |-- application_type: string (nullable = true)\n",
      " |-- annual_inc_joint: float (nullable = true)\n",
      " |-- verification_status_joint: string (nullable = true)\n",
      "\n"
     ]
    }
   ],
   "source": [
    "customers_df.printSchema()"
   ]
  },
  {
   "cell_type": "code",
   "execution_count": 7,
   "id": "2ed17f9c",
   "metadata": {},
   "outputs": [],
   "source": [
    "#2 rename few columns: Transformation (withColumnRenamed)"
   ]
  },
  {
   "cell_type": "code",
   "execution_count": 8,
   "id": "83669a37",
   "metadata": {},
   "outputs": [],
   "source": [
    "customers_df_renamed = customers_df.withColumnRenamed (\"annual_inc\", \"annual_income\") \\\n",
    ".withColumnRenamed (\"addr_state\", \"address_state\") \\\n",
    ".withColumnRenamed (\"zip_code\", \"address_zipcode\") \\\n",
    ".withColumnRenamed (\"country\", \"address_country\") \\\n",
    ".withColumnRenamed (\"tot_hi_cred_lim\", \"total_high_credit_limit\") \\\n",
    ".withColumnRenamed (\"annual_inc_joint\", \"join_annual_income\") \\\n"
   ]
  },
  {
   "cell_type": "code",
   "execution_count": 9,
   "id": "3ab7ca14",
   "metadata": {},
   "outputs": [
    {
     "data": {
      "text/html": [
       "<table border='1'>\n",
       "<tr><th>member_id</th><th>emp_title</th><th>emp_length</th><th>home_ownership</th><th>annual_income</th><th>address_state</th><th>address_zipcode</th><th>address_country</th><th>grade</th><th>sub_grade</th><th>verification_status</th><th>total_high_credit_limit</th><th>application_type</th><th>join_annual_income</th><th>verification_status_joint</th></tr>\n",
       "<tr><td>4480925324607267c...</td><td>IT</td><td>3 years</td><td>RENT</td><td>92000.0</td><td>NJ</td><td>088xx</td><td>USA</td><td>E</td><td>E3</td><td>Verified</td><td>132523.0</td><td>Individual</td><td>null</td><td>null</td></tr>\n",
       "<tr><td>b54711d4a553ea330...</td><td>District Manager</td><td>7 years</td><td>RENT</td><td>45000.0</td><td>TX</td><td>787xx</td><td>USA</td><td>C</td><td>C4</td><td>Verified</td><td>33247.0</td><td>Individual</td><td>null</td><td>null</td></tr>\n",
       "<tr><td>db06b45a938f1a3b5...</td><td>Case Management</td><td>6 years</td><td>RENT</td><td>33000.0</td><td>NJ</td><td>070xx</td><td>USA</td><td>D</td><td>D3</td><td>Not Verified</td><td>34825.0</td><td>Individual</td><td>null</td><td>null</td></tr>\n",
       "<tr><td>ad9d9524477e85c11...</td><td>senior financial ...</td><td>&lt; 1 year</td><td>RENT</td><td>80000.0</td><td>NJ</td><td>079xx</td><td>USA</td><td>A</td><td>A4</td><td>Source Verified</td><td>81859.0</td><td>Individual</td><td>null</td><td>null</td></tr>\n",
       "<tr><td>c67f6ac3fea6ef46d...</td><td>Senior Analyst H....</td><td>6 years</td><td>RENT</td><td>30000.0</td><td>FL</td><td>328xx</td><td>USA</td><td>B</td><td>B3</td><td>Source Verified</td><td>30825.0</td><td>Individual</td><td>null</td><td>null</td></tr>\n",
       "<tr><td>bb36e2cb69517fac3...</td><td>Owner Realtor</td><td>1 year</td><td>MORTGAGE</td><td>40000.0</td><td>WI</td><td>549xx</td><td>USA</td><td>E</td><td>E3</td><td>Not Verified</td><td>186722.0</td><td>Individual</td><td>null</td><td>null</td></tr>\n",
       "<tr><td>af69a7dff814fb213...</td><td>nurse</td><td>10+ years</td><td>MORTGAGE</td><td>45000.0</td><td>TX</td><td>791xx</td><td>USA</td><td>C</td><td>C5</td><td>Not Verified</td><td>261804.0</td><td>Individual</td><td>null</td><td>null</td></tr>\n",
       "<tr><td>c9c794b5025e14a7d...</td><td>Assistant IT Dire...</td><td>2 years</td><td>MORTGAGE</td><td>76500.0</td><td>UT</td><td>840xx</td><td>USA</td><td>D</td><td>D5</td><td>Source Verified</td><td>67822.0</td><td>Individual</td><td>null</td><td>null</td></tr>\n",
       "<tr><td>61b48d763bd82369a...</td><td>Network Provision...</td><td>3 years</td><td>RENT</td><td>98000.0</td><td>CA</td><td>950xx</td><td>USA</td><td>B</td><td>B2</td><td>Source Verified</td><td>100609.0</td><td>Individual</td><td>null</td><td>null</td></tr>\n",
       "<tr><td>adc390ceaa6428ba4...</td><td>null</td><td>null</td><td>MORTGAGE</td><td>38964.0</td><td>MO</td><td>650xx</td><td>USA</td><td>C</td><td>C2</td><td>Source Verified</td><td>18400.0</td><td>Individual</td><td>null</td><td>null</td></tr>\n",
       "<tr><td>b8591b1957416d0d0...</td><td>Plumber</td><td>2 years</td><td>MORTGAGE</td><td>75000.0</td><td>WA</td><td>980xx</td><td>USA</td><td>D</td><td>D1</td><td>Verified</td><td>298969.0</td><td>Individual</td><td>null</td><td>null</td></tr>\n",
       "<tr><td>edf6bc814b2514406...</td><td>Director</td><td>2 years</td><td>RENT</td><td>52000.0</td><td>MD</td><td>206xx</td><td>USA</td><td>C</td><td>C5</td><td>Not Verified</td><td>32196.0</td><td>Individual</td><td>null</td><td>null</td></tr>\n",
       "<tr><td>cbb2027fdad44e370...</td><td>IT Specialist</td><td>8 years</td><td>MORTGAGE</td><td>65000.0</td><td>WA</td><td>992xx</td><td>USA</td><td>C</td><td>C2</td><td>Not Verified</td><td>262235.0</td><td>Individual</td><td>null</td><td>null</td></tr>\n",
       "<tr><td>2833e66fc35f729ff...</td><td>Associate Informa...</td><td>6 years</td><td>RENT</td><td>68000.0</td><td>CA</td><td>945xx</td><td>USA</td><td>C</td><td>C4</td><td>Source Verified</td><td>38972.0</td><td>Individual</td><td>null</td><td>null</td></tr>\n",
       "<tr><td>30257f9f7bb1ee5f7...</td><td>Truck Driver</td><td>1 year</td><td>RENT</td><td>60000.0</td><td>FL</td><td>335xx</td><td>USA</td><td>A</td><td>A2</td><td>Source Verified</td><td>82047.0</td><td>Individual</td><td>null</td><td>null</td></tr>\n",
       "<tr><td>1f9bcde5a863520ef...</td><td>electrical designer</td><td>&lt; 1 year</td><td>MORTGAGE</td><td>85000.0</td><td>CA</td><td>911xx</td><td>USA</td><td>D</td><td>D1</td><td>Not Verified</td><td>289434.0</td><td>Individual</td><td>null</td><td>null</td></tr>\n",
       "<tr><td>1809df0b4a0abe9b0...</td><td>Driver</td><td>1 year</td><td>RENT</td><td>50000.0</td><td>AL</td><td>351xx</td><td>USA</td><td>D</td><td>D4</td><td>Source Verified</td><td>44017.0</td><td>Individual</td><td>null</td><td>null</td></tr>\n",
       "<tr><td>6da09f2e86c405a0c...</td><td>Shift Operations ...</td><td>2 years</td><td>MORTGAGE</td><td>60500.0</td><td>CO</td><td>801xx</td><td>USA</td><td>D</td><td>D4</td><td>Source Verified</td><td>268792.0</td><td>Individual</td><td>null</td><td>null</td></tr>\n",
       "<tr><td>0229fe984f04c4817...</td><td>Payroll Accountant</td><td>7 years</td><td>RENT</td><td>65000.0</td><td>WA</td><td>982xx</td><td>USA</td><td>D</td><td>D2</td><td>Verified</td><td>161351.0</td><td>Individual</td><td>null</td><td>null</td></tr>\n",
       "<tr><td>d8868b8f86fc7c7ea...</td><td>teacher</td><td>5 years</td><td>RENT</td><td>56100.0</td><td>VA</td><td>232xx</td><td>USA</td><td>C</td><td>C5</td><td>Not Verified</td><td>41528.0</td><td>Individual</td><td>null</td><td>null</td></tr>\n",
       "</table>\n",
       "only showing top 20 rows\n"
      ],
      "text/plain": [
       "+--------------------+--------------------+----------+--------------+-------------+-------------+---------------+---------------+-----+---------+-------------------+-----------------------+----------------+------------------+-------------------------+\n",
       "|           member_id|           emp_title|emp_length|home_ownership|annual_income|address_state|address_zipcode|address_country|grade|sub_grade|verification_status|total_high_credit_limit|application_type|join_annual_income|verification_status_joint|\n",
       "+--------------------+--------------------+----------+--------------+-------------+-------------+---------------+---------------+-----+---------+-------------------+-----------------------+----------------+------------------+-------------------------+\n",
       "|4480925324607267c...|                  IT|   3 years|          RENT|      92000.0|           NJ|          088xx|            USA|    E|       E3|           Verified|               132523.0|      Individual|              null|                     null|\n",
       "|b54711d4a553ea330...|    District Manager|   7 years|          RENT|      45000.0|           TX|          787xx|            USA|    C|       C4|           Verified|                33247.0|      Individual|              null|                     null|\n",
       "|db06b45a938f1a3b5...|     Case Management|   6 years|          RENT|      33000.0|           NJ|          070xx|            USA|    D|       D3|       Not Verified|                34825.0|      Individual|              null|                     null|\n",
       "|ad9d9524477e85c11...|senior financial ...|  < 1 year|          RENT|      80000.0|           NJ|          079xx|            USA|    A|       A4|    Source Verified|                81859.0|      Individual|              null|                     null|\n",
       "|c67f6ac3fea6ef46d...|Senior Analyst H....|   6 years|          RENT|      30000.0|           FL|          328xx|            USA|    B|       B3|    Source Verified|                30825.0|      Individual|              null|                     null|\n",
       "|bb36e2cb69517fac3...|       Owner Realtor|    1 year|      MORTGAGE|      40000.0|           WI|          549xx|            USA|    E|       E3|       Not Verified|               186722.0|      Individual|              null|                     null|\n",
       "|af69a7dff814fb213...|               nurse| 10+ years|      MORTGAGE|      45000.0|           TX|          791xx|            USA|    C|       C5|       Not Verified|               261804.0|      Individual|              null|                     null|\n",
       "|c9c794b5025e14a7d...|Assistant IT Dire...|   2 years|      MORTGAGE|      76500.0|           UT|          840xx|            USA|    D|       D5|    Source Verified|                67822.0|      Individual|              null|                     null|\n",
       "|61b48d763bd82369a...|Network Provision...|   3 years|          RENT|      98000.0|           CA|          950xx|            USA|    B|       B2|    Source Verified|               100609.0|      Individual|              null|                     null|\n",
       "|adc390ceaa6428ba4...|                null|      null|      MORTGAGE|      38964.0|           MO|          650xx|            USA|    C|       C2|    Source Verified|                18400.0|      Individual|              null|                     null|\n",
       "|b8591b1957416d0d0...|             Plumber|   2 years|      MORTGAGE|      75000.0|           WA|          980xx|            USA|    D|       D1|           Verified|               298969.0|      Individual|              null|                     null|\n",
       "|edf6bc814b2514406...|            Director|   2 years|          RENT|      52000.0|           MD|          206xx|            USA|    C|       C5|       Not Verified|                32196.0|      Individual|              null|                     null|\n",
       "|cbb2027fdad44e370...|       IT Specialist|   8 years|      MORTGAGE|      65000.0|           WA|          992xx|            USA|    C|       C2|       Not Verified|               262235.0|      Individual|              null|                     null|\n",
       "|2833e66fc35f729ff...|Associate Informa...|   6 years|          RENT|      68000.0|           CA|          945xx|            USA|    C|       C4|    Source Verified|                38972.0|      Individual|              null|                     null|\n",
       "|30257f9f7bb1ee5f7...|        Truck Driver|    1 year|          RENT|      60000.0|           FL|          335xx|            USA|    A|       A2|    Source Verified|                82047.0|      Individual|              null|                     null|\n",
       "|1f9bcde5a863520ef...| electrical designer|  < 1 year|      MORTGAGE|      85000.0|           CA|          911xx|            USA|    D|       D1|       Not Verified|               289434.0|      Individual|              null|                     null|\n",
       "|1809df0b4a0abe9b0...|              Driver|    1 year|          RENT|      50000.0|           AL|          351xx|            USA|    D|       D4|    Source Verified|                44017.0|      Individual|              null|                     null|\n",
       "|6da09f2e86c405a0c...|Shift Operations ...|   2 years|      MORTGAGE|      60500.0|           CO|          801xx|            USA|    D|       D4|    Source Verified|               268792.0|      Individual|              null|                     null|\n",
       "|0229fe984f04c4817...|  Payroll Accountant|   7 years|          RENT|      65000.0|           WA|          982xx|            USA|    D|       D2|           Verified|               161351.0|      Individual|              null|                     null|\n",
       "|d8868b8f86fc7c7ea...|             teacher|   5 years|          RENT|      56100.0|           VA|          232xx|            USA|    C|       C5|       Not Verified|                41528.0|      Individual|              null|                     null|\n",
       "+--------------------+--------------------+----------+--------------+-------------+-------------+---------------+---------------+-----+---------+-------------------+-----------------------+----------------+------------------+-------------------------+\n",
       "only showing top 20 rows"
      ]
     },
     "execution_count": 9,
     "metadata": {},
     "output_type": "execute_result"
    }
   ],
   "source": [
    "customers_df_renamed\n"
   ]
  },
  {
   "cell_type": "code",
   "execution_count": 10,
   "id": "62c16969",
   "metadata": {},
   "outputs": [],
   "source": [
    "# 3. Insert a new col named as ingestion date (current time)"
   ]
  },
  {
   "cell_type": "code",
   "execution_count": 11,
   "id": "321ce111",
   "metadata": {},
   "outputs": [],
   "source": [
    "from pyspark.sql.functions import current_timestamp"
   ]
  },
  {
   "cell_type": "code",
   "execution_count": 12,
   "id": "7bd7a259",
   "metadata": {},
   "outputs": [],
   "source": [
    "customers_df_ingested= customers_df_renamed.withColumn(\"ingest_date\", current_timestamp())"
   ]
  },
  {
   "cell_type": "code",
   "execution_count": 13,
   "id": "c09dc3ea",
   "metadata": {},
   "outputs": [
    {
     "data": {
      "text/html": [
       "<table border='1'>\n",
       "<tr><th>member_id</th><th>emp_title</th><th>emp_length</th><th>home_ownership</th><th>annual_income</th><th>address_state</th><th>address_zipcode</th><th>address_country</th><th>grade</th><th>sub_grade</th><th>verification_status</th><th>total_high_credit_limit</th><th>application_type</th><th>join_annual_income</th><th>verification_status_joint</th><th>ingest_date</th></tr>\n",
       "<tr><td>4480925324607267c...</td><td>IT</td><td>3 years</td><td>RENT</td><td>92000.0</td><td>NJ</td><td>088xx</td><td>USA</td><td>E</td><td>E3</td><td>Verified</td><td>132523.0</td><td>Individual</td><td>null</td><td>null</td><td>2025-06-15 05:48:...</td></tr>\n",
       "<tr><td>b54711d4a553ea330...</td><td>District Manager</td><td>7 years</td><td>RENT</td><td>45000.0</td><td>TX</td><td>787xx</td><td>USA</td><td>C</td><td>C4</td><td>Verified</td><td>33247.0</td><td>Individual</td><td>null</td><td>null</td><td>2025-06-15 05:48:...</td></tr>\n",
       "<tr><td>db06b45a938f1a3b5...</td><td>Case Management</td><td>6 years</td><td>RENT</td><td>33000.0</td><td>NJ</td><td>070xx</td><td>USA</td><td>D</td><td>D3</td><td>Not Verified</td><td>34825.0</td><td>Individual</td><td>null</td><td>null</td><td>2025-06-15 05:48:...</td></tr>\n",
       "<tr><td>ad9d9524477e85c11...</td><td>senior financial ...</td><td>&lt; 1 year</td><td>RENT</td><td>80000.0</td><td>NJ</td><td>079xx</td><td>USA</td><td>A</td><td>A4</td><td>Source Verified</td><td>81859.0</td><td>Individual</td><td>null</td><td>null</td><td>2025-06-15 05:48:...</td></tr>\n",
       "<tr><td>c67f6ac3fea6ef46d...</td><td>Senior Analyst H....</td><td>6 years</td><td>RENT</td><td>30000.0</td><td>FL</td><td>328xx</td><td>USA</td><td>B</td><td>B3</td><td>Source Verified</td><td>30825.0</td><td>Individual</td><td>null</td><td>null</td><td>2025-06-15 05:48:...</td></tr>\n",
       "<tr><td>bb36e2cb69517fac3...</td><td>Owner Realtor</td><td>1 year</td><td>MORTGAGE</td><td>40000.0</td><td>WI</td><td>549xx</td><td>USA</td><td>E</td><td>E3</td><td>Not Verified</td><td>186722.0</td><td>Individual</td><td>null</td><td>null</td><td>2025-06-15 05:48:...</td></tr>\n",
       "<tr><td>af69a7dff814fb213...</td><td>nurse</td><td>10+ years</td><td>MORTGAGE</td><td>45000.0</td><td>TX</td><td>791xx</td><td>USA</td><td>C</td><td>C5</td><td>Not Verified</td><td>261804.0</td><td>Individual</td><td>null</td><td>null</td><td>2025-06-15 05:48:...</td></tr>\n",
       "<tr><td>c9c794b5025e14a7d...</td><td>Assistant IT Dire...</td><td>2 years</td><td>MORTGAGE</td><td>76500.0</td><td>UT</td><td>840xx</td><td>USA</td><td>D</td><td>D5</td><td>Source Verified</td><td>67822.0</td><td>Individual</td><td>null</td><td>null</td><td>2025-06-15 05:48:...</td></tr>\n",
       "<tr><td>61b48d763bd82369a...</td><td>Network Provision...</td><td>3 years</td><td>RENT</td><td>98000.0</td><td>CA</td><td>950xx</td><td>USA</td><td>B</td><td>B2</td><td>Source Verified</td><td>100609.0</td><td>Individual</td><td>null</td><td>null</td><td>2025-06-15 05:48:...</td></tr>\n",
       "<tr><td>adc390ceaa6428ba4...</td><td>null</td><td>null</td><td>MORTGAGE</td><td>38964.0</td><td>MO</td><td>650xx</td><td>USA</td><td>C</td><td>C2</td><td>Source Verified</td><td>18400.0</td><td>Individual</td><td>null</td><td>null</td><td>2025-06-15 05:48:...</td></tr>\n",
       "<tr><td>b8591b1957416d0d0...</td><td>Plumber</td><td>2 years</td><td>MORTGAGE</td><td>75000.0</td><td>WA</td><td>980xx</td><td>USA</td><td>D</td><td>D1</td><td>Verified</td><td>298969.0</td><td>Individual</td><td>null</td><td>null</td><td>2025-06-15 05:48:...</td></tr>\n",
       "<tr><td>edf6bc814b2514406...</td><td>Director</td><td>2 years</td><td>RENT</td><td>52000.0</td><td>MD</td><td>206xx</td><td>USA</td><td>C</td><td>C5</td><td>Not Verified</td><td>32196.0</td><td>Individual</td><td>null</td><td>null</td><td>2025-06-15 05:48:...</td></tr>\n",
       "<tr><td>cbb2027fdad44e370...</td><td>IT Specialist</td><td>8 years</td><td>MORTGAGE</td><td>65000.0</td><td>WA</td><td>992xx</td><td>USA</td><td>C</td><td>C2</td><td>Not Verified</td><td>262235.0</td><td>Individual</td><td>null</td><td>null</td><td>2025-06-15 05:48:...</td></tr>\n",
       "<tr><td>2833e66fc35f729ff...</td><td>Associate Informa...</td><td>6 years</td><td>RENT</td><td>68000.0</td><td>CA</td><td>945xx</td><td>USA</td><td>C</td><td>C4</td><td>Source Verified</td><td>38972.0</td><td>Individual</td><td>null</td><td>null</td><td>2025-06-15 05:48:...</td></tr>\n",
       "<tr><td>30257f9f7bb1ee5f7...</td><td>Truck Driver</td><td>1 year</td><td>RENT</td><td>60000.0</td><td>FL</td><td>335xx</td><td>USA</td><td>A</td><td>A2</td><td>Source Verified</td><td>82047.0</td><td>Individual</td><td>null</td><td>null</td><td>2025-06-15 05:48:...</td></tr>\n",
       "<tr><td>1f9bcde5a863520ef...</td><td>electrical designer</td><td>&lt; 1 year</td><td>MORTGAGE</td><td>85000.0</td><td>CA</td><td>911xx</td><td>USA</td><td>D</td><td>D1</td><td>Not Verified</td><td>289434.0</td><td>Individual</td><td>null</td><td>null</td><td>2025-06-15 05:48:...</td></tr>\n",
       "<tr><td>1809df0b4a0abe9b0...</td><td>Driver</td><td>1 year</td><td>RENT</td><td>50000.0</td><td>AL</td><td>351xx</td><td>USA</td><td>D</td><td>D4</td><td>Source Verified</td><td>44017.0</td><td>Individual</td><td>null</td><td>null</td><td>2025-06-15 05:48:...</td></tr>\n",
       "<tr><td>6da09f2e86c405a0c...</td><td>Shift Operations ...</td><td>2 years</td><td>MORTGAGE</td><td>60500.0</td><td>CO</td><td>801xx</td><td>USA</td><td>D</td><td>D4</td><td>Source Verified</td><td>268792.0</td><td>Individual</td><td>null</td><td>null</td><td>2025-06-15 05:48:...</td></tr>\n",
       "<tr><td>0229fe984f04c4817...</td><td>Payroll Accountant</td><td>7 years</td><td>RENT</td><td>65000.0</td><td>WA</td><td>982xx</td><td>USA</td><td>D</td><td>D2</td><td>Verified</td><td>161351.0</td><td>Individual</td><td>null</td><td>null</td><td>2025-06-15 05:48:...</td></tr>\n",
       "<tr><td>d8868b8f86fc7c7ea...</td><td>teacher</td><td>5 years</td><td>RENT</td><td>56100.0</td><td>VA</td><td>232xx</td><td>USA</td><td>C</td><td>C5</td><td>Not Verified</td><td>41528.0</td><td>Individual</td><td>null</td><td>null</td><td>2025-06-15 05:48:...</td></tr>\n",
       "</table>\n",
       "only showing top 20 rows\n"
      ],
      "text/plain": [
       "+--------------------+--------------------+----------+--------------+-------------+-------------+---------------+---------------+-----+---------+-------------------+-----------------------+----------------+------------------+-------------------------+--------------------+\n",
       "|           member_id|           emp_title|emp_length|home_ownership|annual_income|address_state|address_zipcode|address_country|grade|sub_grade|verification_status|total_high_credit_limit|application_type|join_annual_income|verification_status_joint|         ingest_date|\n",
       "+--------------------+--------------------+----------+--------------+-------------+-------------+---------------+---------------+-----+---------+-------------------+-----------------------+----------------+------------------+-------------------------+--------------------+\n",
       "|4480925324607267c...|                  IT|   3 years|          RENT|      92000.0|           NJ|          088xx|            USA|    E|       E3|           Verified|               132523.0|      Individual|              null|                     null|2025-06-15 05:48:...|\n",
       "|b54711d4a553ea330...|    District Manager|   7 years|          RENT|      45000.0|           TX|          787xx|            USA|    C|       C4|           Verified|                33247.0|      Individual|              null|                     null|2025-06-15 05:48:...|\n",
       "|db06b45a938f1a3b5...|     Case Management|   6 years|          RENT|      33000.0|           NJ|          070xx|            USA|    D|       D3|       Not Verified|                34825.0|      Individual|              null|                     null|2025-06-15 05:48:...|\n",
       "|ad9d9524477e85c11...|senior financial ...|  < 1 year|          RENT|      80000.0|           NJ|          079xx|            USA|    A|       A4|    Source Verified|                81859.0|      Individual|              null|                     null|2025-06-15 05:48:...|\n",
       "|c67f6ac3fea6ef46d...|Senior Analyst H....|   6 years|          RENT|      30000.0|           FL|          328xx|            USA|    B|       B3|    Source Verified|                30825.0|      Individual|              null|                     null|2025-06-15 05:48:...|\n",
       "|bb36e2cb69517fac3...|       Owner Realtor|    1 year|      MORTGAGE|      40000.0|           WI|          549xx|            USA|    E|       E3|       Not Verified|               186722.0|      Individual|              null|                     null|2025-06-15 05:48:...|\n",
       "|af69a7dff814fb213...|               nurse| 10+ years|      MORTGAGE|      45000.0|           TX|          791xx|            USA|    C|       C5|       Not Verified|               261804.0|      Individual|              null|                     null|2025-06-15 05:48:...|\n",
       "|c9c794b5025e14a7d...|Assistant IT Dire...|   2 years|      MORTGAGE|      76500.0|           UT|          840xx|            USA|    D|       D5|    Source Verified|                67822.0|      Individual|              null|                     null|2025-06-15 05:48:...|\n",
       "|61b48d763bd82369a...|Network Provision...|   3 years|          RENT|      98000.0|           CA|          950xx|            USA|    B|       B2|    Source Verified|               100609.0|      Individual|              null|                     null|2025-06-15 05:48:...|\n",
       "|adc390ceaa6428ba4...|                null|      null|      MORTGAGE|      38964.0|           MO|          650xx|            USA|    C|       C2|    Source Verified|                18400.0|      Individual|              null|                     null|2025-06-15 05:48:...|\n",
       "|b8591b1957416d0d0...|             Plumber|   2 years|      MORTGAGE|      75000.0|           WA|          980xx|            USA|    D|       D1|           Verified|               298969.0|      Individual|              null|                     null|2025-06-15 05:48:...|\n",
       "|edf6bc814b2514406...|            Director|   2 years|          RENT|      52000.0|           MD|          206xx|            USA|    C|       C5|       Not Verified|                32196.0|      Individual|              null|                     null|2025-06-15 05:48:...|\n",
       "|cbb2027fdad44e370...|       IT Specialist|   8 years|      MORTGAGE|      65000.0|           WA|          992xx|            USA|    C|       C2|       Not Verified|               262235.0|      Individual|              null|                     null|2025-06-15 05:48:...|\n",
       "|2833e66fc35f729ff...|Associate Informa...|   6 years|          RENT|      68000.0|           CA|          945xx|            USA|    C|       C4|    Source Verified|                38972.0|      Individual|              null|                     null|2025-06-15 05:48:...|\n",
       "|30257f9f7bb1ee5f7...|        Truck Driver|    1 year|          RENT|      60000.0|           FL|          335xx|            USA|    A|       A2|    Source Verified|                82047.0|      Individual|              null|                     null|2025-06-15 05:48:...|\n",
       "|1f9bcde5a863520ef...| electrical designer|  < 1 year|      MORTGAGE|      85000.0|           CA|          911xx|            USA|    D|       D1|       Not Verified|               289434.0|      Individual|              null|                     null|2025-06-15 05:48:...|\n",
       "|1809df0b4a0abe9b0...|              Driver|    1 year|          RENT|      50000.0|           AL|          351xx|            USA|    D|       D4|    Source Verified|                44017.0|      Individual|              null|                     null|2025-06-15 05:48:...|\n",
       "|6da09f2e86c405a0c...|Shift Operations ...|   2 years|      MORTGAGE|      60500.0|           CO|          801xx|            USA|    D|       D4|    Source Verified|               268792.0|      Individual|              null|                     null|2025-06-15 05:48:...|\n",
       "|0229fe984f04c4817...|  Payroll Accountant|   7 years|          RENT|      65000.0|           WA|          982xx|            USA|    D|       D2|           Verified|               161351.0|      Individual|              null|                     null|2025-06-15 05:48:...|\n",
       "|d8868b8f86fc7c7ea...|             teacher|   5 years|          RENT|      56100.0|           VA|          232xx|            USA|    C|       C5|       Not Verified|                41528.0|      Individual|              null|                     null|2025-06-15 05:48:...|\n",
       "+--------------------+--------------------+----------+--------------+-------------+-------------+---------------+---------------+-----+---------+-------------------+-----------------------+----------------+------------------+-------------------------+--------------------+\n",
       "only showing top 20 rows"
      ]
     },
     "execution_count": 13,
     "metadata": {},
     "output_type": "execute_result"
    }
   ],
   "source": [
    "customers_df_ingested"
   ]
  },
  {
   "cell_type": "code",
   "execution_count": 14,
   "id": "100681e6",
   "metadata": {},
   "outputs": [],
   "source": [
    "#4 Remove duplicate rows"
   ]
  },
  {
   "cell_type": "code",
   "execution_count": 15,
   "id": "5c5f3be6",
   "metadata": {},
   "outputs": [
    {
     "data": {
      "text/plain": [
       "2260701"
      ]
     },
     "execution_count": 15,
     "metadata": {},
     "output_type": "execute_result"
    }
   ],
   "source": [
    "customers_df_ingested.count()"
   ]
  },
  {
   "cell_type": "code",
   "execution_count": 16,
   "id": "1bc2a29e",
   "metadata": {},
   "outputs": [],
   "source": [
    "customers_distinct = customers_df_ingested.distinct()"
   ]
  },
  {
   "cell_type": "code",
   "execution_count": 17,
   "id": "089d3a0d",
   "metadata": {},
   "outputs": [
    {
     "data": {
      "text/plain": [
       "2260638"
      ]
     },
     "execution_count": 17,
     "metadata": {},
     "output_type": "execute_result"
    }
   ],
   "source": [
    "customers_distinct.count()"
   ]
  },
  {
   "cell_type": "code",
   "execution_count": 18,
   "id": "24864ce6",
   "metadata": {},
   "outputs": [
    {
     "data": {
      "text/html": [
       "<table border='1'>\n",
       "<tr><th></th></tr>\n",
       "</table>\n"
      ],
      "text/plain": [
       "++\n",
       "||\n",
       "++\n",
       "++"
      ]
     },
     "execution_count": 18,
     "metadata": {},
     "output_type": "execute_result"
    }
   ],
   "source": [
    "spark.sql(\"CREATE DATABASE IF NOT EXISTS itv016478_lending_club\")"
   ]
  },
  {
   "cell_type": "code",
   "execution_count": 19,
   "id": "2f84c66d",
   "metadata": {},
   "outputs": [],
   "source": [
    "\n",
    "customers_distinct.createOrReplaceTempView(\"customers\")\n"
   ]
  },
  {
   "cell_type": "code",
   "execution_count": 20,
   "id": "aec903b5",
   "metadata": {},
   "outputs": [
    {
     "data": {
      "text/html": [
       "<table border='1'>\n",
       "<tr><th>member_id</th><th>emp_title</th><th>emp_length</th><th>home_ownership</th><th>annual_income</th><th>address_state</th><th>address_zipcode</th><th>address_country</th><th>grade</th><th>sub_grade</th><th>verification_status</th><th>total_high_credit_limit</th><th>application_type</th><th>join_annual_income</th><th>verification_status_joint</th><th>ingest_date</th></tr>\n",
       "<tr><td>28be5324b9e68cfc6...</td><td>Mavhinist</td><td>10+ years</td><td>RENT</td><td>80000.0</td><td>IN</td><td>462xx</td><td>USA</td><td>C</td><td>C3</td><td>Not Verified</td><td>32529.0</td><td>Individual</td><td>null</td><td>null</td><td>2025-06-15 05:49:...</td></tr>\n",
       "<tr><td>4d42a4827a5e977cb...</td><td>GM</td><td>6 years</td><td>OWN</td><td>500000.0</td><td>FL</td><td>339xx</td><td>USA</td><td>E</td><td>E2</td><td>Source Verified</td><td>189333.0</td><td>Individual</td><td>null</td><td>null</td><td>2025-06-15 05:49:...</td></tr>\n",
       "<tr><td>33c8e874359e3fa47...</td><td>Project Manager</td><td>6 years</td><td>MORTGAGE</td><td>72000.0</td><td>NC</td><td>276xx</td><td>USA</td><td>E</td><td>E5</td><td>Source Verified</td><td>228305.0</td><td>Individual</td><td>null</td><td>null</td><td>2025-06-15 05:49:...</td></tr>\n",
       "<tr><td>c63a9b0abb0c46980...</td><td>Merchandise Plann...</td><td>3 years</td><td>RENT</td><td>128000.0</td><td>OH</td><td>432xx</td><td>USA</td><td>B</td><td>B2</td><td>Not Verified</td><td>94327.0</td><td>Individual</td><td>null</td><td>null</td><td>2025-06-15 05:49:...</td></tr>\n",
       "<tr><td>9368aa4ce1b413178...</td><td>Police Officer</td><td>10+ years</td><td>MORTGAGE</td><td>73000.0</td><td>WI</td><td>532xx</td><td>USA</td><td>A</td><td>A1</td><td>Not Verified</td><td>285236.0</td><td>Individual</td><td>null</td><td>null</td><td>2025-06-15 05:49:...</td></tr>\n",
       "<tr><td>4d37c66917542ca94...</td><td>IT program system...</td><td>8 years</td><td>MORTGAGE</td><td>67000.0</td><td>LA</td><td>703xx</td><td>USA</td><td>C</td><td>C4</td><td>Source Verified</td><td>159599.0</td><td>Individual</td><td>null</td><td>null</td><td>2025-06-15 05:49:...</td></tr>\n",
       "<tr><td>d85e644d1d8ce1170...</td><td>null</td><td>null</td><td>RENT</td><td>30000.0</td><td>PA</td><td>176xx</td><td>USA</td><td>C</td><td>C2</td><td>Verified</td><td>47395.0</td><td>Joint App</td><td>88000.0</td><td>Not Verified</td><td>2025-06-15 05:49:...</td></tr>\n",
       "<tr><td>d93e67e2bfffd921f...</td><td>Legal Administrat...</td><td>&lt; 1 year</td><td>RENT</td><td>70000.0</td><td>CT</td><td>066xx</td><td>USA</td><td>D</td><td>D3</td><td>Source Verified</td><td>13112.0</td><td>Individual</td><td>null</td><td>null</td><td>2025-06-15 05:49:...</td></tr>\n",
       "<tr><td>7d391e800f674ab35...</td><td>AccountinG aSSISTANT</td><td>4 years</td><td>OWN</td><td>80000.0</td><td>VA</td><td>221xx</td><td>USA</td><td>B</td><td>B1</td><td>Verified</td><td>68024.0</td><td>Individual</td><td>null</td><td>null</td><td>2025-06-15 05:49:...</td></tr>\n",
       "<tr><td>4bc776619da818f37...</td><td>Vice President</td><td>4 years</td><td>RENT</td><td>192000.0</td><td>CA</td><td>910xx</td><td>USA</td><td>C</td><td>C5</td><td>Verified</td><td>43500.0</td><td>Individual</td><td>null</td><td>null</td><td>2025-06-15 05:49:...</td></tr>\n",
       "<tr><td>a120bfc174f552f6e...</td><td>PROCUREMENT TECHN...</td><td>5 years</td><td>MORTGAGE</td><td>80000.0</td><td>MO</td><td>641xx</td><td>USA</td><td>B</td><td>B4</td><td>Source Verified</td><td>63595.0</td><td>Individual</td><td>null</td><td>null</td><td>2025-06-15 05:49:...</td></tr>\n",
       "<tr><td>64c8a2e5742090084...</td><td>Sr. Manager Compe...</td><td>5 years</td><td>RENT</td><td>140000.0</td><td>MN</td><td>553xx</td><td>USA</td><td>C</td><td>C1</td><td>Source Verified</td><td>63118.0</td><td>Individual</td><td>null</td><td>null</td><td>2025-06-15 05:49:...</td></tr>\n",
       "<tr><td>2e8c8a6798bf85b13...</td><td>Financial Analyst</td><td>4 years</td><td>MORTGAGE</td><td>80000.0</td><td>NJ</td><td>088xx</td><td>USA</td><td>A</td><td>A2</td><td>Not Verified</td><td>228869.0</td><td>Individual</td><td>null</td><td>null</td><td>2025-06-15 05:49:...</td></tr>\n",
       "<tr><td>b4d7d8e0d21e5674f...</td><td>Legal Secretary</td><td>6 years</td><td>MORTGAGE</td><td>49000.0</td><td>CA</td><td>932xx</td><td>USA</td><td>A</td><td>A1</td><td>Not Verified</td><td>217926.0</td><td>Individual</td><td>null</td><td>null</td><td>2025-06-15 05:49:...</td></tr>\n",
       "<tr><td>e55a97652faf8ef44...</td><td>Mechanical team lead</td><td>4 years</td><td>MORTGAGE</td><td>80000.0</td><td>FL</td><td>320xx</td><td>USA</td><td>C</td><td>C4</td><td>Verified</td><td>394991.0</td><td>Individual</td><td>null</td><td>null</td><td>2025-06-15 05:49:...</td></tr>\n",
       "<tr><td>ab5e315f2bb6c19ce...</td><td>LOAN ADMINISTRATION</td><td>10+ years</td><td>RENT</td><td>96000.0</td><td>NY</td><td>108xx</td><td>USA</td><td>E</td><td>E1</td><td>Not Verified</td><td>265908.0</td><td>Individual</td><td>null</td><td>null</td><td>2025-06-15 05:49:...</td></tr>\n",
       "<tr><td>f6e97fca1962068ab...</td><td>CPA</td><td>10+ years</td><td>MORTGAGE</td><td>89650.0</td><td>FL</td><td>321xx</td><td>USA</td><td>E</td><td>E1</td><td>Not Verified</td><td>328056.0</td><td>Individual</td><td>null</td><td>null</td><td>2025-06-15 05:49:...</td></tr>\n",
       "<tr><td>bdd133cd36b39bd00...</td><td>Technology Office...</td><td>2 years</td><td>MORTGAGE</td><td>169420.0</td><td>TX</td><td>787xx</td><td>USA</td><td>B</td><td>B4</td><td>Verified</td><td>476308.0</td><td>Individual</td><td>null</td><td>null</td><td>2025-06-15 05:49:...</td></tr>\n",
       "<tr><td>dce05055f383a515a...</td><td>Supervisory Chemist</td><td>10+ years</td><td>MORTGAGE</td><td>85000.0</td><td>VA</td><td>237xx</td><td>USA</td><td>D</td><td>D5</td><td>Verified</td><td>266446.0</td><td>Individual</td><td>null</td><td>null</td><td>2025-06-15 05:49:...</td></tr>\n",
       "<tr><td>98e41e77fbd401a57...</td><td>Tech</td><td>10+ years</td><td>MORTGAGE</td><td>74000.0</td><td>TX</td><td>751xx</td><td>USA</td><td>D</td><td>D2</td><td>Source Verified</td><td>166684.0</td><td>Individual</td><td>null</td><td>null</td><td>2025-06-15 05:49:...</td></tr>\n",
       "</table>\n",
       "only showing top 20 rows\n"
      ],
      "text/plain": [
       "+--------------------+--------------------+----------+--------------+-------------+-------------+---------------+---------------+-----+---------+-------------------+-----------------------+----------------+------------------+-------------------------+--------------------+\n",
       "|           member_id|           emp_title|emp_length|home_ownership|annual_income|address_state|address_zipcode|address_country|grade|sub_grade|verification_status|total_high_credit_limit|application_type|join_annual_income|verification_status_joint|         ingest_date|\n",
       "+--------------------+--------------------+----------+--------------+-------------+-------------+---------------+---------------+-----+---------+-------------------+-----------------------+----------------+------------------+-------------------------+--------------------+\n",
       "|43611190950f7177b...|             Manager| 10+ years|           OWN|     100000.0|           OK|          748xx|            USA|    A|       A4|    Source Verified|               195277.0|      Individual|              null|                     null|2025-06-15 05:48:...|\n",
       "|a75ffe9b70a612672...|    Sales Supervisor|   6 years|          RENT|      47000.0|           CA|          902xx|            USA|    C|       C1|    Source Verified|                27676.0|      Individual|              null|                     null|2025-06-15 05:48:...|\n",
       "|00fe22c12014328b8...|Occupational Ther...|  < 1 year|      MORTGAGE|      60000.0|           CT|          060xx|            USA|    A|       A2|       Not Verified|               230469.0|      Individual|              null|                     null|2025-06-15 05:48:...|\n",
       "|c069eb8708db37558...|  Physical Therapist|    1 year|      MORTGAGE|      85000.0|           FL|          328xx|            USA|    B|       B1|    Source Verified|               461481.0|      Individual|              null|                     null|2025-06-15 05:48:...|\n",
       "|1e72f73ca47ed090b...|        Underwritter|   2 years|          RENT|      60000.0|           PA|          160xx|            USA|    D|       D4|    Source Verified|                32575.0|      Individual|              null|                     null|2025-06-15 05:48:...|\n",
       "|f5f2c364de60461f6...|  seafood processing|   5 years|      MORTGAGE|      41283.0|           MA|          019xx|            USA|    A|       A1|       Not Verified|               211598.0|      Individual|              null|                     null|2025-06-15 05:48:...|\n",
       "|6301068c738f675ae...|              Pastor|   8 years|           OWN|      45000.0|           CA|          922xx|            USA|    A|       A5|    Source Verified|               163182.0|      Individual|              null|                     null|2025-06-15 05:48:...|\n",
       "|6d0cb2a62b07cf899...|        Yard Foreman|    1 year|          RENT|      55000.0|           FL|          334xx|            USA|    B|       B3|    Source Verified|                87931.0|      Individual|              null|                     null|2025-06-15 05:48:...|\n",
       "|a0cd5205ef3dfbb25...|           Paralegal| 10+ years|          RENT|      90000.0|           CA|          934xx|            USA|    D|       D4|    Source Verified|                55546.0|      Individual|              null|                     null|2025-06-15 05:48:...|\n",
       "|ce42ef3f85a40e567...|            Enlisted| 10+ years|          RENT|      56000.0|           CA|          920xx|            USA|    B|       B3|    Source Verified|                81249.0|      Individual|              null|                     null|2025-06-15 05:48:...|\n",
       "|003eb71fcdef881ac...|        Shop Foreman| 10+ years|          RENT|      46000.0|           AZ|          860xx|            USA|    C|       C4|    Source Verified|                25839.0|      Individual|              null|                     null|2025-06-15 05:48:...|\n",
       "|a325e54d0b586b85c...|    Machine Operator|   5 years|      MORTGAGE|      65000.0|           MI|          480xx|            USA|    D|       D2|    Source Verified|                99305.0|      Individual|              null|                     null|2025-06-15 05:48:...|\n",
       "|d8988893a129696ed...|Environmental Eng...|  < 1 year|          RENT|      79290.0|           CA|          900xx|            USA|    B|       B4|    Source Verified|                94161.0|      Individual|              null|                     null|2025-06-15 05:48:...|\n",
       "|56cc3febf979c6d65...|Doctor of Physica...|   2 years|          RENT|      87600.0|           FL|          328xx|            USA|    A|       A3|       Not Verified|               138849.0|      Individual|              null|                     null|2025-06-15 05:48:...|\n",
       "|6155d068a5d659621...|Business Development|   3 years|          RENT|      63000.0|           OH|          430xx|            USA|    B|       B4|    Source Verified|                78396.0|      Individual|              null|                     null|2025-06-15 05:48:...|\n",
       "|bb198bad06638f984...|                  RN| 10+ years|      MORTGAGE|      97000.0|           VA|          236xx|            USA|    D|       D4|       Not Verified|               436479.0|      Individual|              null|                     null|2025-06-15 05:48:...|\n",
       "|5d01c9f0f5fbd7719...|   Materials Manager|   2 years|      MORTGAGE|      85000.0|           WA|          980xx|            USA|    C|       C3|    Source Verified|                71828.0|      Individual|              null|                     null|2025-06-15 05:48:...|\n",
       "|d58dfd70736a5c65c...|Director, Enterpr...| 10+ years|      MORTGAGE|     175000.0|           FL|          328xx|            USA|    A|       A4|    Source Verified|              1064940.0|      Individual|              null|                     null|2025-06-15 05:48:...|\n",
       "|789ee70c0e0b49099...|Sr Credit Underwr...|  < 1 year|      MORTGAGE|      85000.0|           TX|          774xx|            USA|    D|       D1|           Verified|               272404.0|      Individual|              null|                     null|2025-06-15 05:48:...|\n",
       "|28e62013eadeb5fdc...|                null|      null|           OWN|      15000.0|           OH|          458xx|            USA|    B|       B4|           Verified|                 7676.0|      Individual|              null|                     null|2025-06-15 05:48:...|\n",
       "+--------------------+--------------------+----------+--------------+-------------+-------------+---------------+---------------+-----+---------+-------------------+-----------------------+----------------+------------------+-------------------------+--------------------+\n",
       "only showing top 20 rows"
      ]
     },
     "execution_count": 20,
     "metadata": {},
     "output_type": "execute_result"
    }
   ],
   "source": [
    "spark.sql(\"Select * from customers\")"
   ]
  },
  {
   "cell_type": "code",
   "execution_count": 21,
   "id": "37a2cb19",
   "metadata": {},
   "outputs": [],
   "source": [
    "#5 Remove rows where annual_income is null"
   ]
  },
  {
   "cell_type": "code",
   "execution_count": 22,
   "id": "5b357c50",
   "metadata": {},
   "outputs": [
    {
     "data": {
      "text/html": [
       "<table border='1'>\n",
       "<tr><th>member_id</th><th>emp_title</th><th>emp_length</th><th>home_ownership</th><th>annual_income</th><th>address_state</th><th>address_zipcode</th><th>address_country</th><th>grade</th><th>sub_grade</th><th>verification_status</th><th>total_high_credit_limit</th><th>application_type</th><th>join_annual_income</th><th>verification_status_joint</th><th>ingest_date</th></tr>\n",
       "<tr><td>0ee5cb81634c742f5...</td><td>null</td><td>&lt; 1 year</td><td>NONE</td><td>null</td><td>NY</td><td>100xx</td><td>USA</td><td>A</td><td>A3</td><td>Not Verified</td><td>null</td><td>Individual</td><td>null</td><td>null</td><td>2025-06-15 05:49:...</td></tr>\n",
       "<tr><td>f341fdcba660ec6cd...</td><td>null</td><td>&lt; 1 year</td><td>NONE</td><td>null</td><td>NY</td><td>100xx</td><td>USA</td><td>A</td><td>A2</td><td>Not Verified</td><td>null</td><td>Individual</td><td>null</td><td>null</td><td>2025-06-15 05:49:...</td></tr>\n",
       "<tr><td>4f45e479dc69d7de7...</td><td>&quot;Coil Winder &quot;&quot;B&quot;&quot;</td><td>reactors&quot;</td><td>2 years</td><td>null</td><td>531xx</td><td>Other</td><td>USA</td><td>B</td><td>B4</td><td>38000.0</td><td>0.0</td><td>1.0</td><td>null</td><td>null</td><td>2025-06-15 05:49:...</td></tr>\n",
       "<tr><td>e3b0c44298fc1c149...</td><td>null</td><td>null</td><td>null</td><td>null</td><td>null</td><td>null</td><td>USA</td><td>null</td><td>null</td><td>null</td><td>null</td><td>null</td><td>null</td><td>null</td><td>2025-06-15 05:49:...</td></tr>\n",
       "<tr><td>08035ee25713249d8...</td><td>null</td><td>&lt; 1 year</td><td>NONE</td><td>null</td><td>NY</td><td>100xx</td><td>USA</td><td>A</td><td>A5</td><td>Not Verified</td><td>null</td><td>Individual</td><td>null</td><td>null</td><td>2025-06-15 05:49:...</td></tr>\n",
       "</table>\n"
      ],
      "text/plain": [
       "+--------------------+------------------+----------+--------------+-------------+-------------+---------------+---------------+-----+---------+-------------------+-----------------------+----------------+------------------+-------------------------+--------------------+\n",
       "|           member_id|         emp_title|emp_length|home_ownership|annual_income|address_state|address_zipcode|address_country|grade|sub_grade|verification_status|total_high_credit_limit|application_type|join_annual_income|verification_status_joint|         ingest_date|\n",
       "+--------------------+------------------+----------+--------------+-------------+-------------+---------------+---------------+-----+---------+-------------------+-----------------------+----------------+------------------+-------------------------+--------------------+\n",
       "|4f45e479dc69d7de7...|\"Coil Winder \"\"B\"\"| reactors\"|       2 years|         null|        531xx|          Other|            USA|    B|       B4|            38000.0|                    0.0|             1.0|              null|                     null|2025-06-15 05:49:...|\n",
       "|e3b0c44298fc1c149...|              null|      null|          null|         null|         null|           null|            USA| null|     null|               null|                   null|            null|              null|                     null|2025-06-15 05:49:...|\n",
       "|08035ee25713249d8...|              null|  < 1 year|          NONE|         null|           NY|          100xx|            USA|    A|       A5|       Not Verified|                   null|      Individual|              null|                     null|2025-06-15 05:49:...|\n",
       "|f341fdcba660ec6cd...|              null|  < 1 year|          NONE|         null|           NY|          100xx|            USA|    A|       A2|       Not Verified|                   null|      Individual|              null|                     null|2025-06-15 05:49:...|\n",
       "|0ee5cb81634c742f5...|              null|  < 1 year|          NONE|         null|           NY|          100xx|            USA|    A|       A3|       Not Verified|                   null|      Individual|              null|                     null|2025-06-15 05:49:...|\n",
       "+--------------------+------------------+----------+--------------+-------------+-------------+---------------+---------------+-----+---------+-------------------+-----------------------+----------------+------------------+-------------------------+--------------------+"
      ]
     },
     "execution_count": 22,
     "metadata": {},
     "output_type": "execute_result"
    }
   ],
   "source": [
    "spark.sql(\"select * from customers where annual_income is null \")"
   ]
  },
  {
   "cell_type": "code",
   "execution_count": 23,
   "id": "18bd237c",
   "metadata": {},
   "outputs": [],
   "source": [
    "customers_income_filtered= spark.sql (\"select * from customers where annual_income is not null \")"
   ]
  },
  {
   "cell_type": "code",
   "execution_count": 24,
   "id": "688593d8",
   "metadata": {},
   "outputs": [],
   "source": [
    "#now in this customers table :no null annual income is there (removed)\n",
    "customers_income_filtered.createOrReplaceTempView(\"customers\")"
   ]
  },
  {
   "cell_type": "code",
   "execution_count": 25,
   "id": "e93a885b",
   "metadata": {},
   "outputs": [],
   "source": [
    "#6) convert emp_length to integer"
   ]
  },
  {
   "cell_type": "code",
   "execution_count": 26,
   "id": "4f77fc78",
   "metadata": {},
   "outputs": [
    {
     "name": "stdout",
     "output_type": "stream",
     "text": [
      "+----------+\n",
      "|emp_length|\n",
      "+----------+\n",
      "|   5 years|\n",
      "|   9 years|\n",
      "|      null|\n",
      "|    1 year|\n",
      "|   2 years|\n",
      "|   7 years|\n",
      "|   8 years|\n",
      "|   4 years|\n",
      "|   6 years|\n",
      "|   3 years|\n",
      "| 10+ years|\n",
      "|  < 1 year|\n",
      "+----------+\n",
      "\n"
     ]
    }
   ],
   "source": [
    "spark.sql(\"select distinct(emp_length)from customers\").show()"
   ]
  },
  {
   "cell_type": "code",
   "execution_count": 27,
   "id": "a1b20514",
   "metadata": {},
   "outputs": [],
   "source": [
    "from pyspark.sql.functions import regexp_replace, col"
   ]
  },
  {
   "cell_type": "code",
   "execution_count": 28,
   "id": "6d574e3f",
   "metadata": {},
   "outputs": [],
   "source": [
    "#from employment length ,the one with are non digit (yearsmeans string , + < means operator) convert this into blank .\n",
    "#Only digits with be there in emp_length column. No operator and strings (\\D) : Not digit\n",
    "customers_emplength_cleaned= customers_income_filtered.withColumn(\"emp_length\",regexp_replace(col(\"emp_length\"),\"(\\D)\",\" \"))"
   ]
  },
  {
   "cell_type": "code",
   "execution_count": 29,
   "id": "22e54136",
   "metadata": {},
   "outputs": [
    {
     "data": {
      "text/html": [
       "<table border='1'>\n",
       "<tr><th>member_id</th><th>emp_title</th><th>emp_length</th><th>home_ownership</th><th>annual_income</th><th>address_state</th><th>address_zipcode</th><th>address_country</th><th>grade</th><th>sub_grade</th><th>verification_status</th><th>total_high_credit_limit</th><th>application_type</th><th>join_annual_income</th><th>verification_status_joint</th><th>ingest_date</th></tr>\n",
       "<tr><td>ee8b186f64073ac1d...</td><td>Owner</td><td>6      </td><td>RENT</td><td>75000.0</td><td>VA</td><td>221xx</td><td>USA</td><td>E</td><td>E2</td><td>Verified</td><td>50487.0</td><td>Individual</td><td>null</td><td>null</td><td>2025-06-15 05:49:...</td></tr>\n",
       "<tr><td>d8ffb8c15cc54d5a2...</td><td>Press Operator</td><td>10       </td><td>MORTGAGE</td><td>46000.0</td><td>PA</td><td>150xx</td><td>USA</td><td>C</td><td>C4</td><td>Source Verified</td><td>85526.0</td><td>Individual</td><td>null</td><td>null</td><td>2025-06-15 05:49:...</td></tr>\n",
       "<tr><td>f99beed35272751e5...</td><td>Director Product ...</td><td>10       </td><td>RENT</td><td>185000.0</td><td>CA</td><td>948xx</td><td>USA</td><td>D</td><td>D5</td><td>Source Verified</td><td>56259.0</td><td>Individual</td><td>null</td><td>null</td><td>2025-06-15 05:49:...</td></tr>\n",
       "<tr><td>43f521e9e0fddf9a5...</td><td>General Manager</td><td>2      </td><td>MORTGAGE</td><td>110000.0</td><td>MA</td><td>027xx</td><td>USA</td><td>E</td><td>E1</td><td>Verified</td><td>281999.0</td><td>Individual</td><td>null</td><td>null</td><td>2025-06-15 05:49:...</td></tr>\n",
       "<tr><td>b5e3d6f653305d9e9...</td><td>Senior Customer A...</td><td>10       </td><td>MORTGAGE</td><td>46000.0</td><td>TN</td><td>381xx</td><td>USA</td><td>E</td><td>E3</td><td>Verified</td><td>132354.0</td><td>Individual</td><td>null</td><td>null</td><td>2025-06-15 05:49:...</td></tr>\n",
       "<tr><td>0a2879c1d431834a0...</td><td>Installation Manager</td><td>1     </td><td>RENT</td><td>36000.0</td><td>NC</td><td>275xx</td><td>USA</td><td>C</td><td>C3</td><td>Not Verified</td><td>112215.0</td><td>Individual</td><td>null</td><td>null</td><td>2025-06-15 05:49:...</td></tr>\n",
       "<tr><td>5572115fdb0f31b57...</td><td>Optical Laborator...</td><td>3      </td><td>MORTGAGE</td><td>39000.0</td><td>WV</td><td>251xx</td><td>USA</td><td>B</td><td>B3</td><td>Verified</td><td>134609.0</td><td>Individual</td><td>null</td><td>null</td><td>2025-06-15 05:49:...</td></tr>\n",
       "<tr><td>1a175f9a5d90d9f47...</td><td>Office Manager</td><td>7      </td><td>MORTGAGE</td><td>65000.0</td><td>TX</td><td>787xx</td><td>USA</td><td>A</td><td>A5</td><td>Source Verified</td><td>163000.0</td><td>Individual</td><td>null</td><td>null</td><td>2025-06-15 05:49:...</td></tr>\n",
       "<tr><td>b3e32a1b4d28528e1...</td><td>MLT</td><td>10       </td><td>MORTGAGE</td><td>60000.0</td><td>MN</td><td>551xx</td><td>USA</td><td>B</td><td>B4</td><td>Source Verified</td><td>292284.0</td><td>Individual</td><td>null</td><td>null</td><td>2025-06-15 05:49:...</td></tr>\n",
       "<tr><td>b06bb412de6752eb6...</td><td>Material Coordinator</td><td>8      </td><td>RENT</td><td>60000.0</td><td>CA</td><td>919xx</td><td>USA</td><td>B</td><td>B3</td><td>Source Verified</td><td>55400.0</td><td>Individual</td><td>null</td><td>null</td><td>2025-06-15 05:49:...</td></tr>\n",
       "<tr><td>0c2b1c00bb2947423...</td><td>Machine operator</td><td>1     </td><td>RENT</td><td>30000.0</td><td>PA</td><td>151xx</td><td>USA</td><td>C</td><td>C5</td><td>Source Verified</td><td>25761.0</td><td>Individual</td><td>null</td><td>null</td><td>2025-06-15 05:49:...</td></tr>\n",
       "<tr><td>6557269db6454a747...</td><td>Retail Sales Manager</td><td>6      </td><td>RENT</td><td>35000.0</td><td>FL</td><td>322xx</td><td>USA</td><td>C</td><td>C3</td><td>Verified</td><td>90807.0</td><td>Individual</td><td>null</td><td>null</td><td>2025-06-15 05:49:...</td></tr>\n",
       "<tr><td>7a17802ed109c0063...</td><td>Senior Manager - ...</td><td>9      </td><td>RENT</td><td>111000.0</td><td>MD</td><td>211xx</td><td>USA</td><td>E</td><td>E3</td><td>Verified</td><td>73800.0</td><td>Individual</td><td>null</td><td>null</td><td>2025-06-15 05:49:...</td></tr>\n",
       "<tr><td>24a110f6f0089e1a3...</td><td>Speech-Language P...</td><td>3      </td><td>RENT</td><td>53000.0</td><td>VA</td><td>222xx</td><td>USA</td><td>C</td><td>C5</td><td>Verified</td><td>93638.0</td><td>Individual</td><td>null</td><td>null</td><td>2025-06-15 05:49:...</td></tr>\n",
       "<tr><td>3491918172f9ba83e...</td><td>Rating Veterans s...</td><td>5      </td><td>RENT</td><td>65000.0</td><td>GA</td><td>300xx</td><td>USA</td><td>A</td><td>A3</td><td>Source Verified</td><td>345490.0</td><td>Individual</td><td>null</td><td>null</td><td>2025-06-15 05:49:...</td></tr>\n",
       "<tr><td>3e2c1415ec45e354b...</td><td>Property Manager</td><td>1     </td><td>MORTGAGE</td><td>68000.0</td><td>FL</td><td>330xx</td><td>USA</td><td>B</td><td>B1</td><td>Source Verified</td><td>318602.0</td><td>Individual</td><td>null</td><td>null</td><td>2025-06-15 05:49:...</td></tr>\n",
       "<tr><td>ce5cfc15dfb11a7f6...</td><td>Maintenance Manager</td><td>4      </td><td>MORTGAGE</td><td>100000.0</td><td>MI</td><td>495xx</td><td>USA</td><td>C</td><td>C2</td><td>Source Verified</td><td>336176.0</td><td>Individual</td><td>null</td><td>null</td><td>2025-06-15 05:49:...</td></tr>\n",
       "<tr><td>d41b977216047b020...</td><td>Senior Manager, C...</td><td>5      </td><td>RENT</td><td>117000.0</td><td>CA</td><td>950xx</td><td>USA</td><td>C</td><td>C4</td><td>Verified</td><td>54223.0</td><td>Individual</td><td>null</td><td>null</td><td>2025-06-15 05:49:...</td></tr>\n",
       "<tr><td>380e16009868fd4d8...</td><td>Communications Op...</td><td>  1     </td><td>RENT</td><td>66000.0</td><td>CA</td><td>945xx</td><td>USA</td><td>B</td><td>B4</td><td>Not Verified</td><td>63234.0</td><td>Individual</td><td>null</td><td>null</td><td>2025-06-15 05:49:...</td></tr>\n",
       "<tr><td>01c1984dcf1fdcad9...</td><td>Supervisor</td><td>10       </td><td>MORTGAGE</td><td>60000.0</td><td>MD</td><td>206xx</td><td>USA</td><td>B</td><td>B3</td><td>Not Verified</td><td>208093.0</td><td>Individual</td><td>null</td><td>null</td><td>2025-06-15 05:49:...</td></tr>\n",
       "</table>\n",
       "only showing top 20 rows\n"
      ],
      "text/plain": [
       "+--------------------+--------------------+----------+--------------+-------------+-------------+---------------+---------------+-----+---------+-------------------+-----------------------+----------------+------------------+-------------------------+--------------------+\n",
       "|           member_id|           emp_title|emp_length|home_ownership|annual_income|address_state|address_zipcode|address_country|grade|sub_grade|verification_status|total_high_credit_limit|application_type|join_annual_income|verification_status_joint|         ingest_date|\n",
       "+--------------------+--------------------+----------+--------------+-------------+-------------+---------------+---------------+-----+---------+-------------------+-----------------------+----------------+------------------+-------------------------+--------------------+\n",
       "|c30bd9e69710a1158...|             Teacher| 10       |      MORTGAGE|     112000.0|           NY|          137xx|            USA|    A|       A2|       Not Verified|               218599.0|      Individual|              null|                     null|2025-06-15 05:49:...|\n",
       "|8fdb2998c154f731c...|  quality specialist| 10       |      MORTGAGE|      61000.0|           WI|          530xx|            USA|    B|       B1|       Not Verified|               253255.0|      Individual|              null|                     null|2025-06-15 05:49:...|\n",
       "|a696fe7c2c3935c62...|                  RN|   2      |          RENT|      60000.0|           MS|          386xx|            USA|    B|       B3|           Verified|                52317.0|      Individual|              null|                     null|2025-06-15 05:49:...|\n",
       "|15d8841b75981817d...|  Land Use Specilist|   3      |      MORTGAGE|     100000.0|           AZ|          852xx|            USA|    B|       B1|       Not Verified|                71371.0|      Individual|              null|                     null|2025-06-15 05:49:...|\n",
       "|35d5b88dbd315ce12...|                 E-8| 10       |          RENT|      83000.0|           GA|          316xx|            USA|    C|       C1|           Verified|               314607.0|      Individual|              null|                     null|2025-06-15 05:49:...|\n",
       "|67b451ded37220e42...|                null|      null|      MORTGAGE|      85000.0|           UT|          840xx|            USA|    C|       C3|           Verified|               107277.0|      Individual|              null|                     null|2025-06-15 05:49:...|\n",
       "|746dd05bd74caa546...|    Program Services|   2      |      MORTGAGE|      43000.0|           UT|          841xx|            USA|    B|       B2|    Source Verified|               266746.0|      Individual|              null|                     null|2025-06-15 05:49:...|\n",
       "|49c22c2887e2a0921...|          technicion|   4      |          RENT|      40000.0|           VA|          201xx|            USA|    B|       B1|    Source Verified|                48902.0|      Individual|              null|                     null|2025-06-15 05:49:...|\n",
       "|8d07c3da10fd44d9e...|Financial Cordinator|   3      |           OWN|      67000.0|           NJ|          077xx|            USA|    C|       C3|       Not Verified|               369690.0|      Individual|              null|                     null|2025-06-15 05:49:...|\n",
       "|ecfa37e3e18fb5c43...|             Teacher|   3      |      MORTGAGE|      70000.0|           GA|          306xx|            USA|    D|       D1|    Source Verified|               316923.0|      Individual|              null|                     null|2025-06-15 05:49:...|\n",
       "|b3f01eac0b918618a...|    Network Engineer|   4      |      MORTGAGE|     150000.0|           VA|          236xx|            USA|    B|       B4|    Source Verified|               485914.0|      Individual|              null|                     null|2025-06-15 05:49:...|\n",
       "|54a7424a7d8a4173f...|    Registered Nurse|   8      |      MORTGAGE|      53000.0|           MN|          550xx|            USA|    C|       C4|    Source Verified|               280232.0|      Individual|              null|                     null|2025-06-15 05:49:...|\n",
       "|8269ac524f6b071e3...|           Logistics|   3      |      MORTGAGE|      50000.0|           PA|          195xx|            USA|    B|       B4|       Not Verified|               247900.0|      Individual|              null|                     null|2025-06-15 05:49:...|\n",
       "|d82a1e4d547a01420...|    DOD LOAD PLANNER|   6      |          RENT|      52405.0|           IL|          604xx|            USA|    C|       C1|    Source Verified|                34615.0|      Individual|              null|                     null|2025-06-15 05:49:...|\n",
       "|12fe31614341fd7b3...|    Security Officer| 10       |           OWN|      72000.0|           SC|          292xx|            USA|    B|       B5|           Verified|               219434.0|      Individual|              null|                     null|2025-06-15 05:49:...|\n",
       "|d81ee0c65b402a1c9...|    Registered Nurse|   2      |           OWN|      52416.0|           MI|          490xx|            USA|    A|       A1|    Source Verified|                47199.0|      Individual|              null|                     null|2025-06-15 05:49:...|\n",
       "|cc9a7b821e00964b7...|          SR manager|   5      |      MORTGAGE|     110000.0|           CA|          921xx|            USA|    D|       D2|       Not Verified|               405250.0|      Individual|              null|                     null|2025-06-15 05:49:...|\n",
       "|fd152cec2ee6f7c6f...|      RN-Staff Nurse| 10       |      MORTGAGE|     125000.0|           WA|          980xx|            USA|    A|       A5|           Verified|               766719.0|      Individual|              null|                     null|2025-06-15 05:49:...|\n",
       "|f17d94a4c90723f76...|Sole Proprietor /...|   3      |          RENT|      90000.0|           NY|          112xx|            USA|    C|       C5|    Source Verified|                70507.0|      Individual|              null|                     null|2025-06-15 05:49:...|\n",
       "|8d93c6a8d40aed9d7...|                 CIO| 10       |      MORTGAGE|     118600.0|           CA|          956xx|            USA|    A|       A1|       Not Verified|               115261.0|      Individual|              null|                     null|2025-06-15 05:49:...|\n",
       "+--------------------+--------------------+----------+--------------+-------------+-------------+---------------+---------------+-----+---------+-------------------+-----------------------+----------------+------------------+-------------------------+--------------------+\n",
       "only showing top 20 rows"
      ]
     },
     "execution_count": 29,
     "metadata": {},
     "output_type": "execute_result"
    }
   ],
   "source": [
    "customers_emplength_cleaned"
   ]
  },
  {
   "cell_type": "code",
   "execution_count": 30,
   "id": "377a7894",
   "metadata": {},
   "outputs": [],
   "source": [
    "#null is not blank that means the emp_length is string..convert emp_length in integer\n",
    "#that means \"emp_length\" column I want to change into this -> df.col name.cast(\"int\") --> customers_emplength_cleaned.emp_length.cast('int')\n",
    "customers_emplength_casted = customers_emplength_cleaned.withColumn(\"emp_length\",customers_emplength_cleaned.emp_length.cast('int'))"
   ]
  },
  {
   "cell_type": "code",
   "execution_count": 31,
   "id": "cdbe97c6",
   "metadata": {},
   "outputs": [
    {
     "data": {
      "text/html": [
       "<table border='1'>\n",
       "<tr><th>member_id</th><th>emp_title</th><th>emp_length</th><th>home_ownership</th><th>annual_income</th><th>address_state</th><th>address_zipcode</th><th>address_country</th><th>grade</th><th>sub_grade</th><th>verification_status</th><th>total_high_credit_limit</th><th>application_type</th><th>join_annual_income</th><th>verification_status_joint</th><th>ingest_date</th></tr>\n",
       "<tr><td>394a6587cc754a68b...</td><td>Talent Acquisitio...</td><td>1</td><td>RENT</td><td>52500.0</td><td>OR</td><td>972xx</td><td>USA</td><td>B</td><td>B3</td><td>Not Verified</td><td>26372.0</td><td>Individual</td><td>null</td><td>null</td><td>2025-06-15 05:49:...</td></tr>\n",
       "<tr><td>42e42c823dd2a8709...</td><td>null</td><td>null</td><td>RENT</td><td>13000.0</td><td>AL</td><td>363xx</td><td>USA</td><td>A</td><td>A5</td><td>Not Verified</td><td>10700.0</td><td>Individual</td><td>null</td><td>null</td><td>2025-06-15 05:49:...</td></tr>\n",
       "<tr><td>946c86b94a3fec25c...</td><td>Captain/Pilot</td><td>10</td><td>MORTGAGE</td><td>330000.0</td><td>MN</td><td>553xx</td><td>USA</td><td>C</td><td>C5</td><td>Source Verified</td><td>675903.0</td><td>Individual</td><td>null</td><td>null</td><td>2025-06-15 05:49:...</td></tr>\n",
       "<tr><td>61a7fe7c6bf52fedf...</td><td>detailer</td><td>1</td><td>RENT</td><td>35000.0</td><td>FL</td><td>334xx</td><td>USA</td><td>A</td><td>A2</td><td>Not Verified</td><td>29600.0</td><td>Individual</td><td>null</td><td>null</td><td>2025-06-15 05:49:...</td></tr>\n",
       "<tr><td>b7b4ca2a802c5d316...</td><td>political Organizer</td><td>10</td><td>OWN</td><td>140000.0</td><td>IL</td><td>606xx</td><td>USA</td><td>C</td><td>C1</td><td>Not Verified</td><td>189111.0</td><td>Individual</td><td>null</td><td>null</td><td>2025-06-15 05:49:...</td></tr>\n",
       "<tr><td>5ab72d333f7a9dd46...</td><td>Accountant</td><td>4</td><td>MORTGAGE</td><td>73000.0</td><td>CA</td><td>925xx</td><td>USA</td><td>B</td><td>B4</td><td>Source Verified</td><td>336568.0</td><td>Individual</td><td>null</td><td>null</td><td>2025-06-15 05:49:...</td></tr>\n",
       "<tr><td>1ce8ead1d7f1d0d1e...</td><td>null</td><td>null</td><td>OWN</td><td>11172.0</td><td>CA</td><td>919xx</td><td>USA</td><td>E</td><td>E3</td><td>Verified</td><td>7000.0</td><td>Individual</td><td>null</td><td>null</td><td>2025-06-15 05:49:...</td></tr>\n",
       "<tr><td>90f35f86dd9f8a994...</td><td>null</td><td>null</td><td>RENT</td><td>21000.0</td><td>NY</td><td>100xx</td><td>USA</td><td>B</td><td>B2</td><td>Verified</td><td>17500.0</td><td>Individual</td><td>null</td><td>null</td><td>2025-06-15 05:49:...</td></tr>\n",
       "<tr><td>aab66f8a900dffc00...</td><td>Courier</td><td>2</td><td>RENT</td><td>25000.0</td><td>IN</td><td>471xx</td><td>USA</td><td>A</td><td>A1</td><td>Source Verified</td><td>11000.0</td><td>Individual</td><td>null</td><td>null</td><td>2025-06-15 05:49:...</td></tr>\n",
       "<tr><td>d0b81045762feeef4...</td><td>Production</td><td>10</td><td>MORTGAGE</td><td>50000.0</td><td>MI</td><td>492xx</td><td>USA</td><td>C</td><td>C4</td><td>Verified</td><td>17968.0</td><td>Joint App</td><td>99000.0</td><td>Source Verified</td><td>2025-06-15 05:49:...</td></tr>\n",
       "<tr><td>07246d3c5a34ae66a...</td><td>Manager</td><td>3</td><td>OWN</td><td>82000.0</td><td>NJ</td><td>082xx</td><td>USA</td><td>D</td><td>D2</td><td>Verified</td><td>23600.0</td><td>Individual</td><td>null</td><td>null</td><td>2025-06-15 05:49:...</td></tr>\n",
       "<tr><td>05fbe3610c9b9cbb8...</td><td>Specialist III</td><td>10</td><td>RENT</td><td>52000.0</td><td>TX</td><td>785xx</td><td>USA</td><td>B</td><td>B2</td><td>Source Verified</td><td>106150.0</td><td>Individual</td><td>null</td><td>null</td><td>2025-06-15 05:49:...</td></tr>\n",
       "<tr><td>a9feac48da1981f2b...</td><td>RN</td><td>1</td><td>MORTGAGE</td><td>74000.0</td><td>FL</td><td>327xx</td><td>USA</td><td>B</td><td>B3</td><td>Not Verified</td><td>221780.0</td><td>Individual</td><td>null</td><td>null</td><td>2025-06-15 05:49:...</td></tr>\n",
       "<tr><td>b7f8c750c0dfb2cfa...</td><td>null</td><td>null</td><td>MORTGAGE</td><td>55000.0</td><td>GA</td><td>306xx</td><td>USA</td><td>E</td><td>E1</td><td>Not Verified</td><td>110913.0</td><td>Individual</td><td>null</td><td>null</td><td>2025-06-15 05:49:...</td></tr>\n",
       "<tr><td>831f785bf07f8bdc3...</td><td>Electromechanical...</td><td>7</td><td>MORTGAGE</td><td>66000.0</td><td>CT</td><td>060xx</td><td>USA</td><td>C</td><td>C3</td><td>Not Verified</td><td>4000.0</td><td>Individual</td><td>null</td><td>null</td><td>2025-06-15 05:49:...</td></tr>\n",
       "<tr><td>d4499d9e811779fd1...</td><td>Fabricator</td><td>4</td><td>MORTGAGE</td><td>41600.0</td><td>CO</td><td>814xx</td><td>USA</td><td>B</td><td>B1</td><td>Source Verified</td><td>108349.0</td><td>Individual</td><td>null</td><td>null</td><td>2025-06-15 05:49:...</td></tr>\n",
       "<tr><td>56d18dd0348fc08c1...</td><td>Management</td><td>1</td><td>MORTGAGE</td><td>75000.0</td><td>TX</td><td>765xx</td><td>USA</td><td>B</td><td>B1</td><td>Source Verified</td><td>299263.0</td><td>Individual</td><td>null</td><td>null</td><td>2025-06-15 05:49:...</td></tr>\n",
       "<tr><td>6e9f47637c768fcd8...</td><td>Accountant Sr.</td><td>3</td><td>RENT</td><td>63250.0</td><td>CO</td><td>802xx</td><td>USA</td><td>A</td><td>A5</td><td>Not Verified</td><td>52221.0</td><td>Individual</td><td>null</td><td>null</td><td>2025-06-15 05:49:...</td></tr>\n",
       "<tr><td>42bbcbb1d825318dd...</td><td>Environment services</td><td>3</td><td>OWN</td><td>33000.0</td><td>NY</td><td>129xx</td><td>USA</td><td>C</td><td>C4</td><td>Verified</td><td>43028.0</td><td>Individual</td><td>null</td><td>null</td><td>2025-06-15 05:49:...</td></tr>\n",
       "<tr><td>94b000bbe58aaf9dd...</td><td>Lead Training Dev...</td><td>2</td><td>MORTGAGE</td><td>99000.0</td><td>CA</td><td>933xx</td><td>USA</td><td>B</td><td>B5</td><td>Source Verified</td><td>426112.0</td><td>Individual</td><td>null</td><td>null</td><td>2025-06-15 05:49:...</td></tr>\n",
       "</table>\n",
       "only showing top 20 rows\n"
      ],
      "text/plain": [
       "+--------------------+--------------------+----------+--------------+-------------+-------------+---------------+---------------+-----+---------+-------------------+-----------------------+----------------+------------------+-------------------------+--------------------+\n",
       "|           member_id|           emp_title|emp_length|home_ownership|annual_income|address_state|address_zipcode|address_country|grade|sub_grade|verification_status|total_high_credit_limit|application_type|join_annual_income|verification_status_joint|         ingest_date|\n",
       "+--------------------+--------------------+----------+--------------+-------------+-------------+---------------+---------------+-----+---------+-------------------+-----------------------+----------------+------------------+-------------------------+--------------------+\n",
       "|d9351ed8c57c76303...|     finance manager|         9|          RENT|     110000.0|           CA|          913xx|            USA|    B|       B4|           Verified|                29234.0|      Individual|              null|                     null|2025-06-15 05:49:...|\n",
       "|903585b8126decf46...|                null|      null|           OWN|      63000.0|           FL|          347xx|            USA|    C|       C1|           Verified|                55200.0|      Individual|              null|                     null|2025-06-15 05:49:...|\n",
       "|895701426301182ea...|               Agent|        10|      MORTGAGE|     46819.54|           OH|          437xx|            USA|    C|       C5|    Source Verified|               260000.0|      Individual|              null|                     null|2025-06-15 05:49:...|\n",
       "|8ebcd77a4e966f088...|          Consultant|        10|      MORTGAGE|     160000.0|           CT|          064xx|            USA|    C|       C4|       Not Verified|               104152.0|      Individual|              null|                     null|2025-06-15 05:49:...|\n",
       "|627c6cd32e42c63db...|             Liaison|        10|      MORTGAGE|      90000.0|           MD|          207xx|            USA|    C|       C2|    Source Verified|               249388.0|      Individual|              null|                     null|2025-06-15 05:49:...|\n",
       "|a839c133ba1f7e96a...|             ED tech|         1|      MORTGAGE|     125000.0|           MA|          020xx|            USA|    C|       C2|    Source Verified|                 7400.0|      Individual|              null|                     null|2025-06-15 05:49:...|\n",
       "|ef8d8e9bce46b575d...|     Project Manager|         5|      MORTGAGE|      75000.0|           MI|          483xx|            USA|    A|       A1|       Not Verified|               177940.0|      Individual|              null|                     null|2025-06-15 05:49:...|\n",
       "|f4dfe9751d0504152...|      machinest lead|        10|      MORTGAGE|      60000.0|           NE|          680xx|            USA|    C|       C2|           Verified|               165117.0|      Individual|              null|                     null|2025-06-15 05:49:...|\n",
       "|1cf2eef187c883b40...|                null|      null|           OWN|      36300.0|           LA|          712xx|            USA|    F|       F4|    Source Verified|                38000.0|      Individual|              null|                     null|2025-06-15 05:49:...|\n",
       "|ea960ff93dd92f46f...| Associate Professor|         5|           OWN|     109000.0|           VA|          221xx|            USA|    B|       B3|           Verified|               107572.0|      Individual|              null|                     null|2025-06-15 05:49:...|\n",
       "|3eb2e6a2c63beb6f4...|      Executive Chef|         1|      MORTGAGE|      55000.0|           NJ|          078xx|            USA|    A|       A2|           Verified|               274894.0|      Individual|              null|                     null|2025-06-15 05:49:...|\n",
       "|a3d00112f5bece804...|               Sales|         4|           OWN|     175000.0|           PA|          191xx|            USA|    C|       C5|       Not Verified|               595466.0|      Individual|              null|                     null|2025-06-15 05:49:...|\n",
       "|eefbdfb18de118b40...|   7th Grade Teacher|        10|          RENT|      54111.0|           MS|          386xx|            USA|    C|       C5|    Source Verified|                71049.0|      Individual|              null|                     null|2025-06-15 05:49:...|\n",
       "|5c7be5d765a8a53bf...|       Sales Support|         6|      MORTGAGE|      33280.0|           IL|          604xx|            USA|    C|       C2|       Not Verified|               196179.0|      Individual|              null|                     null|2025-06-15 05:49:...|\n",
       "|98752ab595c132364...|                null|      null|          RENT|      46184.0|           SC|          290xx|            USA|    A|       A2|           Verified|                53813.0|      Individual|              null|                     null|2025-06-15 05:49:...|\n",
       "|c0fb87c76add4a32c...| Financial Associate|         2|      MORTGAGE|      45000.0|           TX|          760xx|            USA|    C|       C3|    Source Verified|               171245.0|       Joint App|           79000.0|             Not Verified|2025-06-15 05:49:...|\n",
       "|4fba584ef4959384a...|Medical Records T...|         8|          RENT|      32000.0|           OK|          741xx|            USA|    B|       B3|           Verified|               109368.0|      Individual|              null|                     null|2025-06-15 05:49:...|\n",
       "|cbb1c1aaafdf35a27...|                null|      null|           OWN|      67000.0|           OR|          974xx|            USA|    A|       A5|    Source Verified|                51400.0|      Individual|              null|                     null|2025-06-15 05:49:...|\n",
       "|a2594e88b5141160b...|      Attorney/Owner|        10|      MORTGAGE|     116000.0|           OR|          970xx|            USA|    A|       A3|       Not Verified|                76300.0|      Individual|              null|                     null|2025-06-15 05:49:...|\n",
       "|4768d56f232a0a9b2...|      Police Officer|         9|      MORTGAGE|      55000.0|           NC|          279xx|            USA|    A|       A3|       Not Verified|               173824.0|      Individual|              null|                     null|2025-06-15 05:49:...|\n",
       "+--------------------+--------------------+----------+--------------+-------------+-------------+---------------+---------------+-----+---------+-------------------+-----------------------+----------------+------------------+-------------------------+--------------------+\n",
       "only showing top 20 rows"
      ]
     },
     "execution_count": 31,
     "metadata": {},
     "output_type": "execute_result"
    }
   ],
   "source": [
    "customers_emplength_casted "
   ]
  },
  {
   "cell_type": "code",
   "execution_count": 32,
   "id": "11702554",
   "metadata": {},
   "outputs": [
    {
     "name": "stdout",
     "output_type": "stream",
     "text": [
      "root\n",
      " |-- member_id: string (nullable = true)\n",
      " |-- emp_title: string (nullable = true)\n",
      " |-- emp_length: integer (nullable = true)\n",
      " |-- home_ownership: string (nullable = true)\n",
      " |-- annual_income: float (nullable = true)\n",
      " |-- address_state: string (nullable = true)\n",
      " |-- address_zipcode: string (nullable = true)\n",
      " |-- address_country: string (nullable = true)\n",
      " |-- grade: string (nullable = true)\n",
      " |-- sub_grade: string (nullable = true)\n",
      " |-- verification_status: string (nullable = true)\n",
      " |-- total_high_credit_limit: float (nullable = true)\n",
      " |-- application_type: string (nullable = true)\n",
      " |-- join_annual_income: float (nullable = true)\n",
      " |-- verification_status_joint: string (nullable = true)\n",
      " |-- ingest_date: timestamp (nullable = false)\n",
      "\n"
     ]
    }
   ],
   "source": [
    "#Emp_length from string to integer now\n",
    "customers_emplength_casted.printSchema()"
   ]
  },
  {
   "cell_type": "code",
   "execution_count": 33,
   "id": "5e448765",
   "metadata": {},
   "outputs": [
    {
     "data": {
      "text/plain": [
       "146903"
      ]
     },
     "execution_count": 33,
     "metadata": {},
     "output_type": "execute_result"
    }
   ],
   "source": [
    "#7) Replace all nulls in emp_length column with average emp_length.\n",
    "customers_emplength_casted.filter(\"emp_length is null\").count()"
   ]
  },
  {
   "cell_type": "code",
   "execution_count": 34,
   "id": "6e26c885",
   "metadata": {},
   "outputs": [],
   "source": [
    "customers_emplength_casted.createOrReplaceTempView(\"customers\")"
   ]
  },
  {
   "cell_type": "code",
   "execution_count": 35,
   "id": "9347e3e8",
   "metadata": {},
   "outputs": [],
   "source": [
    "# number : 6.98735 , Floor: 6 (only integer value)\n",
    "customers_avg_empLength= spark.sql (\"select floor(avg(emp_length)) as avg_emp_length from customers\").collect"
   ]
  },
  {
   "cell_type": "code",
   "execution_count": 36,
   "id": "49aeda7e",
   "metadata": {},
   "outputs": [
    {
     "name": "stdout",
     "output_type": "stream",
     "text": [
      "<bound method DataFrame.collect of +--------------+\n",
      "|avg_emp_length|\n",
      "+--------------+\n",
      "|             6|\n",
      "+--------------+\n",
      ">\n"
     ]
    }
   ],
   "source": [
    "print(customers_avg_empLength)"
   ]
  },
  {
   "cell_type": "code",
   "execution_count": 37,
   "id": "fc3d6a33",
   "metadata": {},
   "outputs": [],
   "source": [
    "from pyspark.sql.functions import avg"
   ]
  },
  {
   "cell_type": "code",
   "execution_count": 38,
   "id": "aae6aa71",
   "metadata": {},
   "outputs": [],
   "source": [
    "#select(avg(...)).first()[0] extracts the actual float value from the Row.\n",
    "avg_emp_length = customers_emplength_casted.select(avg(\"emp_length\")).first()[0]"
   ]
  },
  {
   "cell_type": "code",
   "execution_count": 39,
   "id": "b634f6ce",
   "metadata": {},
   "outputs": [],
   "source": [
    "# Fill nulls in emp_length with the average value\n",
    "customers_filled = customers_emplength_casted.na.fill({\"emp_length\": avg_emp_length})"
   ]
  },
  {
   "cell_type": "code",
   "execution_count": 40,
   "id": "2b739774",
   "metadata": {},
   "outputs": [
    {
     "data": {
      "text/html": [
       "<table border='1'>\n",
       "<tr><th>member_id</th><th>emp_title</th><th>emp_length</th><th>home_ownership</th><th>annual_income</th><th>address_state</th><th>address_zipcode</th><th>address_country</th><th>grade</th><th>sub_grade</th><th>verification_status</th><th>total_high_credit_limit</th><th>application_type</th><th>join_annual_income</th><th>verification_status_joint</th><th>ingest_date</th></tr>\n",
       "<tr><td>2fbdc121a9c31c1f0...</td><td>Welder fab</td><td>5</td><td>MORTGAGE</td><td>60000.0</td><td>CO</td><td>800xx</td><td>USA</td><td>A</td><td>A5</td><td>Not Verified</td><td>198136.0</td><td>Individual</td><td>null</td><td>null</td><td>2025-06-15 05:49:...</td></tr>\n",
       "<tr><td>602732bf4c990553c...</td><td>Network Analyst</td><td>10</td><td>OWN</td><td>52000.0</td><td>TX</td><td>782xx</td><td>USA</td><td>E</td><td>E3</td><td>Source Verified</td><td>192217.0</td><td>Individual</td><td>null</td><td>null</td><td>2025-06-15 05:49:...</td></tr>\n",
       "<tr><td>16aceed7605917cca...</td><td>store manager</td><td>10</td><td>MORTGAGE</td><td>90000.0</td><td>MI</td><td>481xx</td><td>USA</td><td>B</td><td>B5</td><td>Source Verified</td><td>334615.0</td><td>Individual</td><td>null</td><td>null</td><td>2025-06-15 05:49:...</td></tr>\n",
       "<tr><td>dc3d8d91a565bb124...</td><td>Finance</td><td>5</td><td>MORTGAGE</td><td>91800.0</td><td>OH</td><td>441xx</td><td>USA</td><td>C</td><td>C4</td><td>Source Verified</td><td>174339.0</td><td>Individual</td><td>null</td><td>null</td><td>2025-06-15 05:49:...</td></tr>\n",
       "<tr><td>44da1d03fc8ced52b...</td><td>Bus driver</td><td>8</td><td>MORTGAGE</td><td>35000.0</td><td>CA</td><td>923xx</td><td>USA</td><td>E</td><td>E5</td><td>Source Verified</td><td>49940.0</td><td>Individual</td><td>null</td><td>null</td><td>2025-06-15 05:49:...</td></tr>\n",
       "<tr><td>f87bfd3b323950fd2...</td><td>Sales</td><td>10</td><td>MORTGAGE</td><td>55000.0</td><td>LA</td><td>711xx</td><td>USA</td><td>C</td><td>C1</td><td>Verified</td><td>34472.0</td><td>Individual</td><td>null</td><td>null</td><td>2025-06-15 05:49:...</td></tr>\n",
       "<tr><td>afc683064c69e7f93...</td><td>PIT LOADER</td><td>10</td><td>RENT</td><td>41000.0</td><td>VA</td><td>226xx</td><td>USA</td><td>C</td><td>C3</td><td>Source Verified</td><td>17600.0</td><td>Individual</td><td>null</td><td>null</td><td>2025-06-15 05:49:...</td></tr>\n",
       "<tr><td>a76e866af2b7a1968...</td><td>Technical Support...</td><td>7</td><td>RENT</td><td>60000.0</td><td>PA</td><td>191xx</td><td>USA</td><td>C</td><td>C4</td><td>Source Verified</td><td>51389.0</td><td>Individual</td><td>null</td><td>null</td><td>2025-06-15 05:49:...</td></tr>\n",
       "<tr><td>13dc37828b371e1c9...</td><td>Logistics Manager</td><td>3</td><td>RENT</td><td>50000.0</td><td>UT</td><td>841xx</td><td>USA</td><td>C</td><td>C1</td><td>Verified</td><td>46221.0</td><td>Individual</td><td>null</td><td>null</td><td>2025-06-15 05:49:...</td></tr>\n",
       "<tr><td>8fb892bccfd1f1e3f...</td><td>Operations Manager</td><td>10</td><td>RENT</td><td>65000.0</td><td>WA</td><td>980xx</td><td>USA</td><td>B</td><td>B1</td><td>Not Verified</td><td>42634.0</td><td>Individual</td><td>null</td><td>null</td><td>2025-06-15 05:49:...</td></tr>\n",
       "<tr><td>b986a954ce9668978...</td><td>Teacher</td><td>8</td><td>OWN</td><td>45000.0</td><td>VA</td><td>228xx</td><td>USA</td><td>C</td><td>C5</td><td>Verified</td><td>157700.0</td><td>Individual</td><td>null</td><td>null</td><td>2025-06-15 05:49:...</td></tr>\n",
       "<tr><td>e6928d417f705a737...</td><td>Detail Manager</td><td>10</td><td>MORTGAGE</td><td>60000.0</td><td>FL</td><td>346xx</td><td>USA</td><td>B</td><td>B1</td><td>Not Verified</td><td>215084.0</td><td>Individual</td><td>null</td><td>null</td><td>2025-06-15 05:49:...</td></tr>\n",
       "<tr><td>93b1e7491aba86ab2...</td><td>Registered Nurse</td><td>10</td><td>OWN</td><td>56000.0</td><td>IL</td><td>604xx</td><td>USA</td><td>E</td><td>E4</td><td>Source Verified</td><td>90814.0</td><td>Individual</td><td>null</td><td>null</td><td>2025-06-15 05:49:...</td></tr>\n",
       "<tr><td>44327108983a08cb7...</td><td>csr</td><td>1</td><td>RENT</td><td>55000.0</td><td>NJ</td><td>088xx</td><td>USA</td><td>B</td><td>B2</td><td>Verified</td><td>113417.0</td><td>Individual</td><td>null</td><td>null</td><td>2025-06-15 05:49:...</td></tr>\n",
       "<tr><td>4dc7d368acc7852de...</td><td>Assistant Manager</td><td>6</td><td>MORTGAGE</td><td>25500.0</td><td>FL</td><td>334xx</td><td>USA</td><td>G</td><td>G3</td><td>Source Verified</td><td>120543.0</td><td>Individual</td><td>null</td><td>null</td><td>2025-06-15 05:49:...</td></tr>\n",
       "<tr><td>67c9dacb8a2c86aaf...</td><td>Jewelry Sales</td><td>1</td><td>MORTGAGE</td><td>42000.0</td><td>NY</td><td>136xx</td><td>USA</td><td>G</td><td>G5</td><td>Source Verified</td><td>61513.0</td><td>Individual</td><td>null</td><td>null</td><td>2025-06-15 05:49:...</td></tr>\n",
       "<tr><td>0cadc5252d7a20524...</td><td>asembly</td><td>5</td><td>OWN</td><td>35000.0</td><td>MI</td><td>484xx</td><td>USA</td><td>C</td><td>C4</td><td>Verified</td><td>8200.0</td><td>Individual</td><td>null</td><td>null</td><td>2025-06-15 05:49:...</td></tr>\n",
       "<tr><td>6252ae31139fe35cc...</td><td>owner</td><td>3</td><td>RENT</td><td>90000.0</td><td>WA</td><td>980xx</td><td>USA</td><td>D</td><td>D1</td><td>Source Verified</td><td>450333.0</td><td>Individual</td><td>null</td><td>null</td><td>2025-06-15 05:49:...</td></tr>\n",
       "<tr><td>42953703db166b113...</td><td>Mobil Pro</td><td>1</td><td>OWN</td><td>39000.0</td><td>FL</td><td>338xx</td><td>USA</td><td>B</td><td>B3</td><td>Verified</td><td>46391.0</td><td>Individual</td><td>null</td><td>null</td><td>2025-06-15 05:49:...</td></tr>\n",
       "<tr><td>aebd2d8ec11016d15...</td><td>avp</td><td>7</td><td>MORTGAGE</td><td>125000.0</td><td>MO</td><td>630xx</td><td>USA</td><td>E</td><td>E4</td><td>Source Verified</td><td>188968.0</td><td>Individual</td><td>null</td><td>null</td><td>2025-06-15 05:49:...</td></tr>\n",
       "</table>\n",
       "only showing top 20 rows\n"
      ],
      "text/plain": [
       "+--------------------+--------------------+----------+--------------+-------------+-------------+---------------+---------------+-----+---------+-------------------+-----------------------+----------------+------------------+-------------------------+--------------------+\n",
       "|           member_id|           emp_title|emp_length|home_ownership|annual_income|address_state|address_zipcode|address_country|grade|sub_grade|verification_status|total_high_credit_limit|application_type|join_annual_income|verification_status_joint|         ingest_date|\n",
       "+--------------------+--------------------+----------+--------------+-------------+-------------+---------------+---------------+-----+---------+-------------------+-----------------------+----------------+------------------+-------------------------+--------------------+\n",
       "|f8ff6ff48e37c493f...|    Sales Consultant|         1|          RENT|      35000.0|           CA|          934xx|            USA|    A|       A3|    Source Verified|                16200.0|      Individual|              null|                     null|2025-06-15 05:49:...|\n",
       "|352adc424784a7265...|Sr Manager, Press...|         4|      MORTGAGE|      94000.0|           MI|          481xx|            USA|    A|       A2|       Not Verified|               110600.0|      Individual|              null|                     null|2025-06-15 05:49:...|\n",
       "|5289ab3d1d7544f17...|               Sales|         6|      MORTGAGE|      45000.0|           VA|          225xx|            USA|    A|       A1|       Not Verified|               214950.0|      Individual|              null|                     null|2025-06-15 05:49:...|\n",
       "|5e3e793a1603a1c3f...| Border Patrol Agent|         8|           OWN|     100000.0|           TX|          788xx|            USA|    E|       E4|    Source Verified|                46043.0|      Individual|              null|                     null|2025-06-15 05:49:...|\n",
       "|4c4fea7a1223c94d3...|             Cashier|         1|          RENT|      21000.0|           WA|          981xx|            USA|    C|       C1|    Source Verified|                12725.0|      Individual|              null|                     null|2025-06-15 05:49:...|\n",
       "|4ff5eeace7c0e2323...|         QA ENGINEER|         3|          RENT|      59000.0|           CA|          951xx|            USA|    B|       B2|       Not Verified|                49706.0|      Individual|              null|                     null|2025-06-15 05:49:...|\n",
       "|c54011b6546c9588f...|Senior Purchasing...|         8|           OWN|      69000.0|           TX|          781xx|            USA|    A|       A2|       Not Verified|                57229.0|      Individual|              null|                     null|2025-06-15 05:49:...|\n",
       "|14ae5a300598be17b...|          Accountant|         6|           OWN|     225000.0|           NY|          109xx|            USA|    A|       A1|    Source Verified|               648101.0|      Individual|              null|                     null|2025-06-15 05:49:...|\n",
       "|e743697293bf98381...|                null|         6|      MORTGAGE|      48000.0|           TX|          758xx|            USA|    B|       B1|       Not Verified|                63697.0|      Individual|              null|                     null|2025-06-15 05:49:...|\n",
       "|7961ccd10d0183b5d...|       Surgical Tech|         1|          RENT|      90000.0|           MA|          021xx|            USA|    B|       B1|    Source Verified|                36000.0|      Individual|              null|                     null|2025-06-15 05:49:...|\n",
       "|553f65c32f2079e3e...|financial service...|        10|          RENT|      57000.0|           PA|          150xx|            USA|    A|       A1|    Source Verified|                41644.0|      Individual|              null|                     null|2025-06-15 05:49:...|\n",
       "|313dacab84ec7368b...|    Dental hygienist|         7|      MORTGAGE|      80000.0|           MA|          019xx|            USA|    B|       B4|       Not Verified|               498394.0|      Individual|              null|                     null|2025-06-15 05:49:...|\n",
       "|7bc68ce7a672b11e6...|   Feild Service Rep|         2|           OWN|      64000.0|           CA|          952xx|            USA|    A|       A1|       Not Verified|               346929.0|      Individual|              null|                     null|2025-06-15 05:49:...|\n",
       "|d57daf4bd816e8568...|Rental Lead Navig...|         1|           OWN|      80000.0|           SC|          299xx|            USA|    A|       A2|       Not Verified|                67968.0|      Individual|              null|                     null|2025-06-15 05:49:...|\n",
       "|3ad641d2f35cda708...| Executive Assistant|         9|      MORTGAGE|      73000.0|           FL|          337xx|            USA|    A|       A1|       Not Verified|                52590.0|      Individual|              null|                     null|2025-06-15 05:49:...|\n",
       "|82770960191b9cf19...|     Global Director|         2|      MORTGAGE|     200000.0|           GA|          300xx|            USA|    A|       A1|    Source Verified|               615983.0|      Individual|              null|                     null|2025-06-15 05:49:...|\n",
       "|c1b324766a4056e67...|District Visual M...|        10|      MORTGAGE|      89000.0|           IL|          600xx|            USA|    A|       A3|    Source Verified|               120532.0|      Individual|              null|                     null|2025-06-15 05:49:...|\n",
       "|e523feac2ef809b66...|           Secretary|         9|      MORTGAGE|      38500.0|           MI|          483xx|            USA|    A|       A5|           Verified|               187428.0|      Individual|              null|                     null|2025-06-15 05:49:...|\n",
       "|c3b1c12125b4ab01b...|    registered nurse|        10|      MORTGAGE|      73000.0|           FL|          338xx|            USA|    A|       A5|       Not Verified|               196187.0|      Individual|              null|                     null|2025-06-15 05:49:...|\n",
       "|bf8141f550dc0a78e...|             Realtor|         1|           OWN|      27000.0|           LA|          713xx|            USA|    A|       A1|    Source Verified|               100600.0|      Individual|              null|                     null|2025-06-15 05:49:...|\n",
       "+--------------------+--------------------+----------+--------------+-------------+-------------+---------------+---------------+-----+---------+-------------------+-----------------------+----------------+------------------+-------------------------+--------------------+\n",
       "only showing top 20 rows"
      ]
     },
     "execution_count": 40,
     "metadata": {},
     "output_type": "execute_result"
    }
   ],
   "source": [
    "customers_filled\n"
   ]
  },
  {
   "cell_type": "code",
   "execution_count": 41,
   "id": "d84afa69",
   "metadata": {},
   "outputs": [
    {
     "data": {
      "text/plain": [
       "0"
      ]
     },
     "execution_count": 41,
     "metadata": {},
     "output_type": "execute_result"
    }
   ],
   "source": [
    "#to check nulls\n",
    "customers_filled.filter(\"emp_length is null\").count()"
   ]
  },
  {
   "cell_type": "code",
   "execution_count": 42,
   "id": "9f111910",
   "metadata": {},
   "outputs": [],
   "source": [
    "#8) Address_state should be 2 characters only and replace all others with NA\n"
   ]
  },
  {
   "cell_type": "code",
   "execution_count": 43,
   "id": "d053dda2",
   "metadata": {},
   "outputs": [
    {
     "data": {
      "text/html": [
       "<table border='1'>\n",
       "<tr><th>address_state</th></tr>\n",
       "<tr><td>Helping Kenya&#x27;s D...</td></tr>\n",
       "<tr><td>223xx</td></tr>\n",
       "<tr><td>175 (total projec...</td></tr>\n",
       "<tr><td>SC</td></tr>\n",
       "<tr><td>AZ</td></tr>\n",
       "<tr><td>so Plan &quot;&quot;C&quot;&quot; is ...</td></tr>\n",
       "<tr><td>I am 56 yrs. old ...</td></tr>\n",
       "<tr><td>financially I mad...</td></tr>\n",
       "<tr><td>but no one will l...</td></tr>\n",
       "<tr><td>LA</td></tr>\n",
       "<tr><td>etc.  First</td></tr>\n",
       "<tr><td>MN</td></tr>\n",
       "<tr><td>yet Capital One n...</td></tr>\n",
       "<tr><td>850xx</td></tr>\n",
       "<tr><td>499xx</td></tr>\n",
       "<tr><td>Eliminating Credi...</td></tr>\n",
       "<tr><td>Advocate business...</td></tr>\n",
       "<tr><td>and MBA&#x27;s are ove...</td></tr>\n",
       "<tr><td>662xx</td></tr>\n",
       "<tr><td>951xx</td></tr>\n",
       "</table>\n",
       "only showing top 20 rows\n"
      ],
      "text/plain": [
       "+--------------------+\n",
       "|       address_state|\n",
       "+--------------------+\n",
       "|Helping Kenya's D...|\n",
       "|               223xx|\n",
       "|175 (total projec...|\n",
       "|                  SC|\n",
       "|                  AZ|\n",
       "|so Plan \"\"C\"\" is ...|\n",
       "|I am 56 yrs. old ...|\n",
       "|financially I mad...|\n",
       "|but no one will l...|\n",
       "|                  LA|\n",
       "|         etc.  First|\n",
       "|                  MN|\n",
       "|yet Capital One n...|\n",
       "|               499xx|\n",
       "|               850xx|\n",
       "|and MBA's are ove...|\n",
       "|Eliminating Credi...|\n",
       "|Advocate business...|\n",
       "|I the credit card...|\n",
       "|               662xx|\n",
       "+--------------------+\n",
       "only showing top 20 rows"
      ]
     },
     "execution_count": 43,
     "metadata": {},
     "output_type": "execute_result"
    }
   ],
   "source": [
    "#Making new customers table\n",
    "spark.sql(\"CREATE DATABASE IF NOT EXISTS  itv016478_lending_club\")\n",
    "customers_filled.createOrReplaceTempView(\"customers\")\n",
    "spark.sql(\"select distinct (address_state)from customers\")"
   ]
  },
  {
   "cell_type": "code",
   "execution_count": 44,
   "id": "d9cf92a9",
   "metadata": {},
   "outputs": [
    {
     "data": {
      "text/html": [
       "<table border='1'>\n",
       "<tr><th>count(address_state)</th></tr>\n",
       "<tr><td>254</td></tr>\n",
       "</table>\n"
      ],
      "text/plain": [
       "+--------------------+\n",
       "|count(address_state)|\n",
       "+--------------------+\n",
       "|                 254|\n",
       "+--------------------+"
      ]
     },
     "execution_count": 44,
     "metadata": {},
     "output_type": "execute_result"
    }
   ],
   "source": [
    "#checking for how many rows ,data is messed up (containing too many characters)\n",
    "spark.sql(\"select count(address_state)from customers where length(address_state)>2\")"
   ]
  },
  {
   "cell_type": "code",
   "execution_count": 45,
   "id": "4ed71ae8",
   "metadata": {},
   "outputs": [],
   "source": [
    "from pyspark.sql.functions import when,col,length"
   ]
  },
  {
   "cell_type": "code",
   "execution_count": null,
   "id": "5536bc15",
   "metadata": {},
   "outputs": [],
   "source": []
  },
  {
   "cell_type": "code",
   "execution_count": 46,
   "id": "874f6946",
   "metadata": {},
   "outputs": [],
   "source": [
    "\n",
    "\n",
    "customers_state_cleaned = customers_filled.withColumn(\n",
    "    \"address_state\",\n",
    "    when(length(col(\"address_state\")) > 2, \"NA\").otherwise(col(\"address_state\"))\n",
    ")"
   ]
  },
  {
   "cell_type": "code",
   "execution_count": 47,
   "id": "8ca51571",
   "metadata": {},
   "outputs": [
    {
     "data": {
      "text/html": [
       "<table border='1'>\n",
       "<tr><th>member_id</th><th>emp_title</th><th>emp_length</th><th>home_ownership</th><th>annual_income</th><th>address_state</th><th>address_zipcode</th><th>address_country</th><th>grade</th><th>sub_grade</th><th>verification_status</th><th>total_high_credit_limit</th><th>application_type</th><th>join_annual_income</th><th>verification_status_joint</th><th>ingest_date</th></tr>\n",
       "<tr><td>5393aa6d8d795d3ca...</td><td>MTA, Inc.</td><td>3</td><td>MORTGAGE</td><td>80000.0</td><td>AL</td><td>357xx</td><td>USA</td><td>C</td><td>C1</td><td>Not Verified</td><td>73836.0</td><td>Individual</td><td>null</td><td>null</td><td>2025-06-15 05:50:...</td></tr>\n",
       "<tr><td>f22af4408f090e2db...</td><td>State of California</td><td>10</td><td>MORTGAGE</td><td>120000.0</td><td>CA</td><td>921xx</td><td>USA</td><td>E</td><td>E4</td><td>Verified</td><td>59850.0</td><td>Individual</td><td>null</td><td>null</td><td>2025-06-15 05:50:...</td></tr>\n",
       "<tr><td>a97f63e95936e8cac...</td><td>Spansion LLC</td><td>10</td><td>RENT</td><td>175000.0</td><td>TX</td><td>786xx</td><td>USA</td><td>B</td><td>B4</td><td>Verified</td><td>67002.0</td><td>Individual</td><td>null</td><td>null</td><td>2025-06-15 05:50:...</td></tr>\n",
       "<tr><td>a74b1e59d5b0ba953...</td><td>Kforce Inc</td><td>2</td><td>RENT</td><td>100000.0</td><td>NY</td><td>113xx</td><td>USA</td><td>B</td><td>B4</td><td>Verified</td><td>47878.0</td><td>Individual</td><td>null</td><td>null</td><td>2025-06-15 05:50:...</td></tr>\n",
       "<tr><td>f8f853b0905669c3f...</td><td>null</td><td>6</td><td>MORTGAGE</td><td>59530.0</td><td>IN</td><td>462xx</td><td>USA</td><td>C</td><td>C4</td><td>Verified</td><td>118136.0</td><td>Individual</td><td>null</td><td>null</td><td>2025-06-15 05:50:...</td></tr>\n",
       "<tr><td>9073b37d7cf8c2061...</td><td>DHS State of Oregon</td><td>10</td><td>MORTGAGE</td><td>65000.0</td><td>OR</td><td>973xx</td><td>USA</td><td>B</td><td>B4</td><td>Verified</td><td>187690.0</td><td>Individual</td><td>null</td><td>null</td><td>2025-06-15 05:50:...</td></tr>\n",
       "<tr><td>938c8dfc214e16b73...</td><td>Calfrac Well Serv...</td><td>1</td><td>OWN</td><td>110000.0</td><td>GA</td><td>305xx</td><td>USA</td><td>B</td><td>B4</td><td>Source Verified</td><td>36120.0</td><td>Individual</td><td>null</td><td>null</td><td>2025-06-15 05:50:...</td></tr>\n",
       "<tr><td>d5b8590d7bc963a32...</td><td>Hills Materials C...</td><td>8</td><td>OWN</td><td>34000.0</td><td>SD</td><td>577xx</td><td>USA</td><td>C</td><td>C3</td><td>Not Verified</td><td>19553.0</td><td>Individual</td><td>null</td><td>null</td><td>2025-06-15 05:50:...</td></tr>\n",
       "<tr><td>effbac92deadac6d9...</td><td>South Carolina El...</td><td>4</td><td>MORTGAGE</td><td>67000.0</td><td>SC</td><td>290xx</td><td>USA</td><td>B</td><td>B2</td><td>Verified</td><td>257450.0</td><td>Individual</td><td>null</td><td>null</td><td>2025-06-15 05:50:...</td></tr>\n",
       "<tr><td>032ee832a8e7ca37c...</td><td>JPMorgan Chase</td><td>5</td><td>RENT</td><td>107250.0</td><td>WA</td><td>980xx</td><td>USA</td><td>A</td><td>A4</td><td>Not Verified</td><td>116548.0</td><td>Individual</td><td>null</td><td>null</td><td>2025-06-15 05:50:...</td></tr>\n",
       "<tr><td>256a8336ff2fda944...</td><td>IHHI</td><td>2</td><td>RENT</td><td>75000.0</td><td>CA</td><td>906xx</td><td>USA</td><td>D</td><td>D1</td><td>Verified</td><td>49248.0</td><td>Individual</td><td>null</td><td>null</td><td>2025-06-15 05:50:...</td></tr>\n",
       "<tr><td>200a97f26f54f33f6...</td><td>Delavau LLC</td><td>1</td><td>MORTGAGE</td><td>82000.0</td><td>PA</td><td>194xx</td><td>USA</td><td>B</td><td>B4</td><td>Verified</td><td>205467.0</td><td>Individual</td><td>null</td><td>null</td><td>2025-06-15 05:50:...</td></tr>\n",
       "<tr><td>0f55b4739c81adffe...</td><td>Nature&#x27;s Academy</td><td>1</td><td>RENT</td><td>35000.0</td><td>FL</td><td>342xx</td><td>USA</td><td>D</td><td>D1</td><td>Not Verified</td><td>59352.0</td><td>Individual</td><td>null</td><td>null</td><td>2025-06-15 05:50:...</td></tr>\n",
       "<tr><td>940240bb67a43aae9...</td><td>null</td><td>6</td><td>RENT</td><td>34000.0</td><td>CA</td><td>917xx</td><td>USA</td><td>D</td><td>D1</td><td>Not Verified</td><td>69460.0</td><td>Individual</td><td>null</td><td>null</td><td>2025-06-15 05:50:...</td></tr>\n",
       "<tr><td>102b075f22163c9a2...</td><td>College of the Si...</td><td>3</td><td>OWN</td><td>35000.0</td><td>CA</td><td>960xx</td><td>USA</td><td>B</td><td>B2</td><td>Not Verified</td><td>48900.0</td><td>Individual</td><td>null</td><td>null</td><td>2025-06-15 05:50:...</td></tr>\n",
       "<tr><td>d2e078643db5bda65...</td><td>Bay Area Communit...</td><td>6</td><td>RENT</td><td>32000.0</td><td>CA</td><td>946xx</td><td>USA</td><td>C</td><td>C4</td><td>Not Verified</td><td>22426.0</td><td>Individual</td><td>null</td><td>null</td><td>2025-06-15 05:50:...</td></tr>\n",
       "<tr><td>ea46145e998d214cc...</td><td>Middleboro Recycling</td><td>3</td><td>OWN</td><td>60000.0</td><td>MA</td><td>023xx</td><td>USA</td><td>C</td><td>C3</td><td>Source Verified</td><td>55308.0</td><td>Individual</td><td>null</td><td>null</td><td>2025-06-15 05:50:...</td></tr>\n",
       "<tr><td>bd256c3f3bb821c35...</td><td>Costco Wholesale</td><td>9</td><td>RENT</td><td>66000.0</td><td>IL</td><td>604xx</td><td>USA</td><td>E</td><td>E2</td><td>Verified</td><td>18000.0</td><td>Individual</td><td>null</td><td>null</td><td>2025-06-15 05:50:...</td></tr>\n",
       "<tr><td>f12b5222cbfa4b310...</td><td>Whole Foods Market</td><td>10</td><td>RENT</td><td>41000.0</td><td>OR</td><td>972xx</td><td>USA</td><td>B</td><td>B3</td><td>Not Verified</td><td>31700.0</td><td>Individual</td><td>null</td><td>null</td><td>2025-06-15 05:50:...</td></tr>\n",
       "<tr><td>3736132905db609ee...</td><td>hull lift truck</td><td>10</td><td>MORTGAGE</td><td>75000.0</td><td>IN</td><td>467xx</td><td>USA</td><td>C</td><td>C2</td><td>Not Verified</td><td>116353.0</td><td>Individual</td><td>null</td><td>null</td><td>2025-06-15 05:50:...</td></tr>\n",
       "</table>\n",
       "only showing top 20 rows\n"
      ],
      "text/plain": [
       "+--------------------+--------------------+----------+--------------+-------------+-------------+---------------+---------------+-----+---------+-------------------+-----------------------+----------------+------------------+-------------------------+--------------------+\n",
       "|           member_id|           emp_title|emp_length|home_ownership|annual_income|address_state|address_zipcode|address_country|grade|sub_grade|verification_status|total_high_credit_limit|application_type|join_annual_income|verification_status_joint|         ingest_date|\n",
       "+--------------------+--------------------+----------+--------------+-------------+-------------+---------------+---------------+-----+---------+-------------------+-----------------------+----------------+------------------+-------------------------+--------------------+\n",
       "|4e3405e7467e97368...|         Wausau Tile|         4|      MORTGAGE|      43763.2|           WI|          544xx|            USA|    C|       C4|           Verified|               119874.0|      Individual|              null|                     null|2025-06-15 05:50:...|\n",
       "|b8041d49b367d646c...|University of Okl...|         1|          RENT|     138600.0|           OK|          730xx|            USA|    A|       A4|           Verified|               325168.0|      Individual|              null|                     null|2025-06-15 05:50:...|\n",
       "|72c5b20d3de2a397d...|Window Systems Corp.|        10|      MORTGAGE|      42000.0|           OH|          441xx|            USA|    C|       C5|       Not Verified|                40920.0|      Individual|              null|                     null|2025-06-15 05:50:...|\n",
       "|6c1772edd84e87f50...|ReliaQuote Insurance|        10|          RENT|      43000.0|           VA|          201xx|            USA|    C|       C2|           Verified|                66777.0|      Individual|              null|                     null|2025-06-15 05:50:...|\n",
       "|6c40324dc606bb3b4...|superior beverage...|         6|          RENT|      52000.0|           OH|          440xx|            USA|    B|       B3|       Not Verified|                49579.0|      Individual|              null|                     null|2025-06-15 05:50:...|\n",
       "|01cc8ef533d5d0acb...|       Iron Mountain|        10|      MORTGAGE|      95000.0|           MA|          013xx|            USA|    C|       C5|           Verified|               261046.0|      Individual|              null|                     null|2025-06-15 05:50:...|\n",
       "|40d072beed22c8732...|GS Global Service...|         2|          RENT|     240000.0|           VA|          201xx|            USA|    E|       E2|           Verified|               148455.0|      Individual|              null|                     null|2025-06-15 05:50:...|\n",
       "|2e13f669aa18969d0...|  Sysco Food Service|         1|      MORTGAGE|      78000.0|           OR|          972xx|            USA|    D|       D2|           Verified|                88321.0|      Individual|              null|                     null|2025-06-15 05:50:...|\n",
       "|26303f6b1a4825c8b...|TeleTech Holding ...|         5|          RENT|      84000.0|           AZ|          852xx|            USA|    A|       A4|           Verified|               121598.0|      Individual|              null|                     null|2025-06-15 05:50:...|\n",
       "|f418ce43afa1d9b6c...|            Jeppesen|         2|          RENT|      52000.0|           CO|          801xx|            USA|    B|       B5|       Not Verified|                 7000.0|      Individual|              null|                     null|2025-06-15 05:50:...|\n",
       "|d3f7409f94b87b51c...|Great American In...|        10|      MORTGAGE|     112000.0|           OH|          452xx|            USA|    A|       A1|       Not Verified|               287810.0|      Individual|              null|                     null|2025-06-15 05:50:...|\n",
       "|3f3275549facb28f2...|                 AIG|        10|          RENT|     150000.0|           NJ|          088xx|            USA|    C|       C2|           Verified|               126404.0|      Individual|              null|                     null|2025-06-15 05:50:...|\n",
       "|d201115ad297bf2d1...|            ibew 481|        10|          RENT|      65000.0|           IN|          462xx|            USA|    B|       B2|       Not Verified|               107976.0|      Individual|              null|                     null|2025-06-15 05:50:...|\n",
       "|5efd480a2cce58203...|Securitas Securit...|         3|          RENT|      40000.0|           AZ|          850xx|            USA|    E|       E1|       Not Verified|                36585.0|      Individual|              null|                     null|2025-06-15 05:50:...|\n",
       "|481fe17888b3a230a...|Alexander Buick G...|         1|          RENT|     130000.0|           CA|          930xx|            USA|    C|       C3|    Source Verified|               132447.0|      Individual|              null|                     null|2025-06-15 05:50:...|\n",
       "|0fbdc59a2c7b26870...|          Bedrosians|        10|          RENT|      31600.0|           CA|          937xx|            USA|    B|       B5|           Verified|                33000.0|      Individual|              null|                     null|2025-06-15 05:50:...|\n",
       "|973096429e060e68b...|Cahill Contractor...|         3|      MORTGAGE|      85000.0|           CA|          941xx|            USA|    A|       A4|       Not Verified|               210102.0|      Individual|              null|                     null|2025-06-15 05:50:...|\n",
       "|0b5bf9a2556e323b5...|Delta Solutions &...|         4|      MORTGAGE|      86600.0|           CO|          809xx|            USA|    C|       C5|           Verified|               418161.0|      Individual|              null|                     null|2025-06-15 05:50:...|\n",
       "|0710e29e09897a651...|          World Bank|         5|          RENT|     161487.0|           MD|          209xx|            USA|    C|       C5|       Not Verified|                48063.0|      Individual|              null|                     null|2025-06-15 05:50:...|\n",
       "|4eb7ec2c66eb35b0a...|           U.S. Bank|        10|      MORTGAGE|      62250.0|           PA|          160xx|            USA|    B|       B4|           Verified|               228940.0|      Individual|              null|                     null|2025-06-15 05:50:...|\n",
       "+--------------------+--------------------+----------+--------------+-------------+-------------+---------------+---------------+-----+---------+-------------------+-----------------------+----------------+------------------+-------------------------+--------------------+\n",
       "only showing top 20 rows"
      ]
     },
     "execution_count": 47,
     "metadata": {},
     "output_type": "execute_result"
    }
   ],
   "source": [
    "customers_state_cleaned"
   ]
  },
  {
   "cell_type": "code",
   "execution_count": 48,
   "id": "e6758cf3",
   "metadata": {},
   "outputs": [],
   "source": [
    "customers_state_distinct = customers_state_cleaned.select (\"address_state\").distinct()"
   ]
  },
  {
   "cell_type": "code",
   "execution_count": 49,
   "id": "1c7a79c0",
   "metadata": {},
   "outputs": [
    {
     "data": {
      "text/html": [
       "<table border='1'>\n",
       "<tr><th>address_state</th></tr>\n",
       "<tr><td>SC</td></tr>\n",
       "<tr><td>AZ</td></tr>\n",
       "<tr><td>LA</td></tr>\n",
       "<tr><td>MN</td></tr>\n",
       "<tr><td>NJ</td></tr>\n",
       "<tr><td>DC</td></tr>\n",
       "<tr><td>OR</td></tr>\n",
       "<tr><td>NA</td></tr>\n",
       "<tr><td>VA</td></tr>\n",
       "<tr><td>null</td></tr>\n",
       "<tr><td>RI</td></tr>\n",
       "<tr><td>WY</td></tr>\n",
       "<tr><td>KY</td></tr>\n",
       "<tr><td>NH</td></tr>\n",
       "<tr><td>MI</td></tr>\n",
       "<tr><td>NV</td></tr>\n",
       "<tr><td>WI</td></tr>\n",
       "<tr><td>ID</td></tr>\n",
       "<tr><td>CA</td></tr>\n",
       "<tr><td>CT</td></tr>\n",
       "</table>\n",
       "only showing top 20 rows\n"
      ],
      "text/plain": [
       "+-------------+\n",
       "|address_state|\n",
       "+-------------+\n",
       "|           AZ|\n",
       "|           SC|\n",
       "|           LA|\n",
       "|           MN|\n",
       "|           NJ|\n",
       "|           DC|\n",
       "|           OR|\n",
       "|           NA|\n",
       "|           VA|\n",
       "|         null|\n",
       "|           RI|\n",
       "|           WY|\n",
       "|           KY|\n",
       "|           NH|\n",
       "|           MI|\n",
       "|           NV|\n",
       "|           WI|\n",
       "|           ID|\n",
       "|           CA|\n",
       "|           CT|\n",
       "+-------------+\n",
       "only showing top 20 rows"
      ]
     },
     "execution_count": 49,
     "metadata": {},
     "output_type": "execute_result"
    }
   ],
   "source": [
    "customers_state_distinct"
   ]
  },
  {
   "cell_type": "code",
   "execution_count": 50,
   "id": "2912cc45",
   "metadata": {},
   "outputs": [],
   "source": [
    "# 9 ) writing the cleaned customers data into  \"cleaned\" folder in hdfs (in parquet)\n",
    "customers_state_cleaned.write \\\n",
    ".format (\"parquet\") \\\n",
    ".mode(\"overwrite\") \\\n",
    ".option(\"path\",\"/user/itv016478/lendingclubproject/cleaned/customers_parquet/\") \\\n",
    ".save()"
   ]
  },
  {
   "cell_type": "code",
   "execution_count": 51,
   "id": "e515f2f0",
   "metadata": {},
   "outputs": [],
   "source": [
    " # writing the cleaned customers data into  \"cleaned\" folder in hdfs (in csv if required)\n",
    "customers_state_cleaned.write \\\n",
    ".format (\"csv\") \\\n",
    ".option(\"header\",True) \\\n",
    ".mode(\"overwrite\") \\\n",
    ".option(\"path\",\"/user/itv016478/lendingclubproject/cleaned/customers_csv/\") \\\n",
    ".save()"
   ]
  },
  {
   "cell_type": "code",
   "execution_count": null,
   "id": "7fbd5545",
   "metadata": {},
   "outputs": [],
   "source": []
  }
 ],
 "metadata": {
  "kernelspec": {
   "display_name": "Pyspark 3",
   "language": "python",
   "name": "pyspark3"
  },
  "language_info": {
   "codemirror_mode": {
    "name": "ipython",
    "version": 3
   },
   "file_extension": ".py",
   "mimetype": "text/x-python",
   "name": "python",
   "nbconvert_exporter": "python",
   "pygments_lexer": "ipython3",
   "version": "3.6.12"
  }
 },
 "nbformat": 4,
 "nbformat_minor": 5
}
