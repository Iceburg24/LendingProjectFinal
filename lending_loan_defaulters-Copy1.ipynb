{
 "cells": [
  {
   "cell_type": "code",
   "execution_count": 1,
   "id": "f525f31d",
   "metadata": {},
   "outputs": [],
   "source": [
    "from pyspark.sql import SparkSession\n",
    " \n",
    "spark=SparkSession.\\\n",
    "builder.\\\n",
    "config('spark.shuffle.useOldFetchProtocol','true').\\\n",
    "config('spark.ui.port','0').\\\n",
    "config(\"spark.sql.warehouse.dir\",\"/user/itv016478/warehouse\").\\\n",
    "enableHiveSupport().\\\n",
    "master('yarn').\\\n",
    "getOrCreate()"
   ]
  },
  {
   "cell_type": "code",
   "execution_count": 2,
   "id": "d75bcd9c",
   "metadata": {},
   "outputs": [],
   "source": [
    "loans_def_raw_df= spark.read \\\n",
    ".format(\"csv\") \\\n",
    ".option(\"header\",True) \\\n",
    ".option(\"inferSchema\",True) \\\n",
    ".load(\"/user/itv016478/lendingclubproject/raw/loans_defaulters_csv\")"
   ]
  },
  {
   "cell_type": "code",
   "execution_count": 3,
   "id": "903512df",
   "metadata": {},
   "outputs": [
    {
     "name": "stdout",
     "output_type": "stream",
     "text": [
      "root\n",
      " |-- member_id: string (nullable = true)\n",
      " |-- delinq_2yrs: string (nullable = true)\n",
      " |-- delinq_amnt: double (nullable = true)\n",
      " |-- pub_rec: string (nullable = true)\n",
      " |-- pub_rec_bankruptcies: double (nullable = true)\n",
      " |-- inq_last_6mths: string (nullable = true)\n",
      " |-- total_rec_late_fee: string (nullable = true)\n",
      " |-- mths_since_last_delinq: string (nullable = true)\n",
      " |-- mths_since_last_record: string (nullable = true)\n",
      "\n"
     ]
    }
   ],
   "source": [
    "loans_def_raw_df.printSchema()"
   ]
  },
  {
   "cell_type": "code",
   "execution_count": 4,
   "id": "f9f54d17",
   "metadata": {},
   "outputs": [],
   "source": [
    "loans_def_raw_df.createOrReplaceTempView(\"loan_defaulters\")\n"
   ]
  },
  {
   "cell_type": "code",
   "execution_count": 5,
   "id": "6974f098",
   "metadata": {},
   "outputs": [
    {
     "data": {
      "text/html": [
       "<table border='1'>\n",
       "<tr><th>delinq_2yrs</th></tr>\n",
       "<tr><td>1.0</td></tr>\n",
       "<tr><td>271 monthly payme...</td></tr>\n",
       "<tr><td>I bike to work on...</td></tr>\n",
       "<tr><td>183xx</td></tr>\n",
       "<tr><td>VISA and AMEX cre...</td></tr>\n",
       "<tr><td>etc. and I feel t...</td></tr>\n",
       "<tr><td>AZ</td></tr>\n",
       "<tr><td>017xx</td></tr>\n",
       "<tr><td>923xx</td></tr>\n",
       "<tr><td>446xx</td></tr>\n",
       "<tr><td>who is a financia...</td></tr>\n",
       "<tr><td>and all of that c...</td></tr>\n",
       "<tr><td>LA</td></tr>\n",
       "<tr><td>24.66</td></tr>\n",
       "<tr><td>and the removal o...</td></tr>\n",
       "<tr><td>I would like to c...</td></tr>\n",
       "<tr><td>12.24</td></tr>\n",
       "<tr><td>22.0</td></tr>\n",
       "<tr><td>so most of my inc...</td></tr>\n",
       "<tr><td>I would like to p...</td></tr>\n",
       "</table>\n",
       "only showing top 20 rows\n"
      ],
      "text/plain": [
       "+--------------------+\n",
       "|         delinq_2yrs|\n",
       "+--------------------+\n",
       "|                 1.0|\n",
       "|271 monthly payme...|\n",
       "|I bike to work on...|\n",
       "|               183xx|\n",
       "|VISA and AMEX cre...|\n",
       "|etc. and I feel t...|\n",
       "|                  AZ|\n",
       "|               017xx|\n",
       "|               923xx|\n",
       "|               446xx|\n",
       "|who is a financia...|\n",
       "|and all of that c...|\n",
       "|                  LA|\n",
       "|               24.66|\n",
       "|and the removal o...|\n",
       "|I would like to c...|\n",
       "|               12.24|\n",
       "|                22.0|\n",
       "|so most of my inc...|\n",
       "|I would like to p...|\n",
       "+--------------------+\n",
       "only showing top 20 rows"
      ]
     },
     "execution_count": 5,
     "metadata": {},
     "output_type": "execute_result"
    }
   ],
   "source": [
    "spark.sql(\"select distinct (delinq_2yrs) from loan_defaulters\")"
   ]
  },
  {
   "cell_type": "code",
   "execution_count": 6,
   "id": "18aa4685",
   "metadata": {},
   "outputs": [
    {
     "name": "stdout",
     "output_type": "stream",
     "text": [
      "+------------------+-------+\n",
      "|       delinq_2yrs|  total|\n",
      "+------------------+-------+\n",
      "|               0.0|1838878|\n",
      "|               1.0| 281335|\n",
      "|               2.0|  81285|\n",
      "|               3.0|  29539|\n",
      "|               4.0|  13179|\n",
      "|               5.0|   6599|\n",
      "|               6.0|   3717|\n",
      "|               7.0|   2062|\n",
      "|               8.0|   1223|\n",
      "|               9.0|    818|\n",
      "|              10.0|    556|\n",
      "|              11.0|    363|\n",
      "|              12.0|    264|\n",
      "|              13.0|    165|\n",
      "|              14.0|    120|\n",
      "|              15.0|     87|\n",
      "|              null|     63|\n",
      "|              16.0|     55|\n",
      "|              18.0|     30|\n",
      "|              17.0|     30|\n",
      "|              19.0|     23|\n",
      "|              20.0|     17|\n",
      "|              21.0|     12|\n",
      "|                CA|      8|\n",
      "|                TX|      6|\n",
      "|    small_business|      5|\n",
      "|                IL|      5|\n",
      "|              22.0|      5|\n",
      "|debt_consolidation|      5|\n",
      "|                FL|      4|\n",
      "|              24.0|      4|\n",
      "|                NJ|      3|\n",
      "|             452xx|      3|\n",
      "|              26.0|      3|\n",
      "|                NY|      3|\n",
      "|                MD|      2|\n",
      "|              25.0|      2|\n",
      "|                VA|      2|\n",
      "|              29.0|      2|\n",
      "|             other|      2|\n",
      "|              23.0|      2|\n",
      "|             945xx|      2|\n",
      "|              30.0|      2|\n",
      "|              3.44|      2|\n",
      "|       credit_card|      2|\n",
      "|             900xx|      2|\n",
      "|    major_purchase|      2|\n",
      "|             017xx|      1|\n",
      "|             049xx|      1|\n",
      "|             923xx|      1|\n",
      "+------------------+-------+\n",
      "only showing top 50 rows\n",
      "\n"
     ]
    }
   ],
   "source": [
    "spark.sql(\"select delinq_2yrs, count(*)as total from loan_defaulters GROUP BY delinq_2yrs ORDER BY total desc \").show(50)"
   ]
  },
  {
   "cell_type": "code",
   "execution_count": 7,
   "id": "7c476bac",
   "metadata": {},
   "outputs": [],
   "source": [
    "#1) want to make all as Datatype  float except member_id  string\n",
    "#if any thing under float data type is not a number ...if its alphabets or symbol then it will come as NULL"
   ]
  },
  {
   "cell_type": "code",
   "execution_count": 8,
   "id": "65683df3",
   "metadata": {},
   "outputs": [],
   "source": [
    "loans_defaulter_schema = \"member_id string,delinq_2yrs float,delinq_amnt float, pub_rec float ,pub_rec_bankruptcies float ,inq_last_6mths float , total_rec_late_fee float , mths_since_last_delinq float ,mths_since_last_record float \""
   ]
  },
  {
   "cell_type": "code",
   "execution_count": 9,
   "id": "76be53f4",
   "metadata": {},
   "outputs": [],
   "source": [
    "loans_def_raw_df= spark.read \\\n",
    ".format(\"csv\") \\\n",
    ".option(\"header\",True) \\\n",
    ".schema(loans_defaulter_schema) \\\n",
    ".load(\"/user/itv016478/lendingclubproject/raw/loans_defaulters_csv\")"
   ]
  },
  {
   "cell_type": "code",
   "execution_count": 10,
   "id": "bc3f8d53",
   "metadata": {},
   "outputs": [
    {
     "name": "stdout",
     "output_type": "stream",
     "text": [
      "+-----------+-------+\n",
      "|delinq_2yrs|  total|\n",
      "+-----------+-------+\n",
      "|        0.0|1838878|\n",
      "|        1.0| 281335|\n",
      "|        2.0|  81285|\n",
      "|        3.0|  29539|\n",
      "|        4.0|  13179|\n",
      "|        5.0|   6599|\n",
      "|        6.0|   3717|\n",
      "|        7.0|   2062|\n",
      "|        8.0|   1223|\n",
      "|        9.0|    818|\n",
      "|       10.0|    556|\n",
      "|       11.0|    363|\n",
      "|       12.0|    264|\n",
      "|       null|    261|\n",
      "|       13.0|    165|\n",
      "|       14.0|    120|\n",
      "|       15.0|     87|\n",
      "|       16.0|     55|\n",
      "|       17.0|     30|\n",
      "|       18.0|     30|\n",
      "|       19.0|     23|\n",
      "|       20.0|     17|\n",
      "|       21.0|     12|\n",
      "|       22.0|      5|\n",
      "|       24.0|      4|\n",
      "|       26.0|      3|\n",
      "|       23.0|      2|\n",
      "|       29.0|      2|\n",
      "|       25.0|      2|\n",
      "|       3.44|      2|\n",
      "|       30.0|      2|\n",
      "|       6.52|      1|\n",
      "|       39.0|      1|\n",
      "|      26.24|      1|\n",
      "|       3.45|      1|\n",
      "|      21.72|      1|\n",
      "|       9.44|      1|\n",
      "|       8.56|      1|\n",
      "|       1.41|      1|\n",
      "|      17.18|      1|\n",
      "|      13.76|      1|\n",
      "|       5.52|      1|\n",
      "|       14.1|      1|\n",
      "|      22.62|      1|\n",
      "|      12.24|      1|\n",
      "|       8.74|      1|\n",
      "|       3.58|      1|\n",
      "|      22.95|      1|\n",
      "|      16.42|      1|\n",
      "|       27.0|      1|\n",
      "+-----------+-------+\n",
      "only showing top 50 rows\n",
      "\n"
     ]
    }
   ],
   "source": [
    "loans_def_raw_df.createOrReplaceTempView(\"loan_defaulters\")\n",
    "spark.sql(\"select delinq_2yrs, count(*)as total from loan_defaulters GROUP BY delinq_2yrs ORDER BY total desc \").show(50)"
   ]
  },
  {
   "cell_type": "code",
   "execution_count": 11,
   "id": "c7e9b2cf",
   "metadata": {},
   "outputs": [
    {
     "data": {
      "text/html": [
       "<table border='1'>\n",
       "<tr><th>count(1)</th></tr>\n",
       "<tr><td>261</td></tr>\n",
       "</table>\n"
      ],
      "text/plain": [
       "+--------+\n",
       "|count(1)|\n",
       "+--------+\n",
       "|     261|\n",
       "+--------+"
      ]
     },
     "execution_count": 11,
     "metadata": {},
     "output_type": "execute_result"
    }
   ],
   "source": [
    "#2) Check how many null counts are there now ...which was earlier not a number .\n",
    "spark.sql(\"select count(*) from  loan_defaulters where  delinq_2yrs is null\")"
   ]
  },
  {
   "cell_type": "code",
   "execution_count": 12,
   "id": "3a172d26",
   "metadata": {},
   "outputs": [],
   "source": [
    "#3) want to convert/cast it to integer from float(decimal) and fill all NA with 0\n",
    "from pyspark.sql.functions import col\n"
   ]
  },
  {
   "cell_type": "code",
   "execution_count": 13,
   "id": "486b5736",
   "metadata": {},
   "outputs": [],
   "source": [
    "#cast with integer & fill all NA with 0 in col \"delinq_2yrs\" (.fillna(0,subset= [\"delinq_2yrs\"])\n",
    "loans_def_processed_df=loans_def_raw_df.withColumn(\"delinq_2yrs\", col(\"delinq_2yrs\").cast(\"integer\")).fillna(0,subset= [\"delinq_2yrs\"])"
   ]
  },
  {
   "cell_type": "code",
   "execution_count": 14,
   "id": "2c58a156",
   "metadata": {},
   "outputs": [
    {
     "data": {
      "text/html": [
       "<table border='1'>\n",
       "<tr><th>count(1)</th></tr>\n",
       "<tr><td>0</td></tr>\n",
       "</table>\n"
      ],
      "text/plain": [
       "+--------+\n",
       "|count(1)|\n",
       "+--------+\n",
       "|       0|\n",
       "+--------+"
      ]
     },
     "execution_count": 14,
     "metadata": {},
     "output_type": "execute_result"
    }
   ],
   "source": [
    "#Now see the count where delinq_2yrs is null ie 0 now\n",
    "loans_def_processed_df.createOrReplaceTempView(\"loan_defaulters\")\n",
    "spark.sql(\"select count(*) from  loan_defaulters where  delinq_2yrs is null\")"
   ]
  },
  {
   "cell_type": "code",
   "execution_count": 15,
   "id": "11bce6dc",
   "metadata": {},
   "outputs": [
    {
     "name": "stdout",
     "output_type": "stream",
     "text": [
      "+-----------+-------+\n",
      "|delinq_2yrs|  total|\n",
      "+-----------+-------+\n",
      "|          0|1839141|\n",
      "|          1| 281337|\n",
      "|          2|  81285|\n",
      "|          3|  29545|\n",
      "|          4|  13180|\n",
      "|          5|   6601|\n",
      "|          6|   3719|\n",
      "|          7|   2063|\n",
      "|          8|   1226|\n",
      "|          9|    821|\n",
      "|         10|    558|\n",
      "|         11|    363|\n",
      "|         12|    266|\n",
      "|         13|    167|\n",
      "|         14|    123|\n",
      "|         15|     90|\n",
      "|         16|     56|\n",
      "|         17|     33|\n",
      "|         18|     32|\n",
      "|         19|     24|\n",
      "|         20|     19|\n",
      "|         21|     16|\n",
      "|         22|      7|\n",
      "|         24|      6|\n",
      "|         23|      5|\n",
      "|         26|      4|\n",
      "|         25|      2|\n",
      "|         29|      2|\n",
      "|         30|      2|\n",
      "|         27|      1|\n",
      "|         28|      1|\n",
      "|         35|      1|\n",
      "|         39|      1|\n",
      "|         32|      1|\n",
      "|         58|      1|\n",
      "|         42|      1|\n",
      "|         36|      1|\n",
      "+-----------+-------+\n",
      "\n"
     ]
    }
   ],
   "source": [
    "#Now this data is sorted for 0 \"delingq_2yrs\" ..total count is 1839141....\n",
    "spark.sql(\"select delinq_2yrs, count(*)as total from loan_defaulters GROUP BY delinq_2yrs ORDER BY total desc \").show (40)"
   ]
  },
  {
   "cell_type": "code",
   "execution_count": 16,
   "id": "7d30fd0a",
   "metadata": {},
   "outputs": [
    {
     "data": {
      "text/html": [
       "<table border='1'>\n",
       "<tr><th>member_id</th><th>delinq_2yrs</th><th>delinq_amnt</th><th>pub_rec</th><th>pub_rec_bankruptcies</th><th>inq_last_6mths</th><th>total_rec_late_fee</th><th>mths_since_last_delinq</th><th>mths_since_last_record</th></tr>\n",
       "<tr><td>d86a1c7244ace602c...</td><td>0</td><td>0.0</td><td>1.0</td><td>1.0</td><td>0.0</td><td>0.0</td><td>null</td><td>91.0</td></tr>\n",
       "<tr><td>25b8cd9ff47e50eea...</td><td>0</td><td>0.0</td><td>0.0</td><td>0.0</td><td>1.0</td><td>0.0</td><td>51.0</td><td>null</td></tr>\n",
       "<tr><td>f9773942305b2dc9c...</td><td>0</td><td>0.0</td><td>1.0</td><td>1.0</td><td>0.0</td><td>0.0</td><td>null</td><td>88.0</td></tr>\n",
       "<tr><td>b22f99c198f3738a7...</td><td>0</td><td>0.0</td><td>0.0</td><td>0.0</td><td>0.0</td><td>0.0</td><td>72.0</td><td>null</td></tr>\n",
       "<tr><td>4b3b7068c15b0e046...</td><td>0</td><td>0.0</td><td>0.0</td><td>0.0</td><td>4.0</td><td>0.0</td><td>68.0</td><td>null</td></tr>\n",
       "<tr><td>0c7a9f8a6d5b209d2...</td><td>0</td><td>0.0</td><td>1.0</td><td>1.0</td><td>0.0</td><td>0.0</td><td>null</td><td>85.0</td></tr>\n",
       "<tr><td>f1cc7e6ae9c735148...</td><td>0</td><td>0.0</td><td>0.0</td><td>0.0</td><td>0.0</td><td>0.0</td><td>null</td><td>null</td></tr>\n",
       "<tr><td>8f8faa7eeb2a1ee41...</td><td>0</td><td>0.0</td><td>0.0</td><td>0.0</td><td>0.0</td><td>0.0</td><td>null</td><td>null</td></tr>\n",
       "<tr><td>dad3f5ea8788186cb...</td><td>0</td><td>0.0</td><td>0.0</td><td>0.0</td><td>2.0</td><td>0.0</td><td>null</td><td>null</td></tr>\n",
       "<tr><td>a20867c0985126202...</td><td>0</td><td>0.0</td><td>0.0</td><td>0.0</td><td>2.0</td><td>0.0</td><td>null</td><td>null</td></tr>\n",
       "<tr><td>b62a92faa291b619c...</td><td>0</td><td>0.0</td><td>2.0</td><td>1.0</td><td>2.0</td><td>0.0</td><td>null</td><td>59.0</td></tr>\n",
       "<tr><td>56a52156bd14bef8b...</td><td>0</td><td>0.0</td><td>0.0</td><td>0.0</td><td>0.0</td><td>0.0</td><td>null</td><td>null</td></tr>\n",
       "<tr><td>9b2294c29096348d5...</td><td>0</td><td>0.0</td><td>0.0</td><td>0.0</td><td>0.0</td><td>0.0</td><td>null</td><td>null</td></tr>\n",
       "<tr><td>b9c65cbaf8241cbe8...</td><td>0</td><td>0.0</td><td>1.0</td><td>0.0</td><td>0.0</td><td>0.0</td><td>null</td><td>33.0</td></tr>\n",
       "<tr><td>a14a75a803373848c...</td><td>0</td><td>0.0</td><td>0.0</td><td>0.0</td><td>0.0</td><td>0.0</td><td>68.0</td><td>null</td></tr>\n",
       "<tr><td>c1573ce869bafcbe9...</td><td>0</td><td>0.0</td><td>0.0</td><td>0.0</td><td>0.0</td><td>0.0</td><td>30.0</td><td>null</td></tr>\n",
       "<tr><td>7a748acb9cb11d073...</td><td>0</td><td>0.0</td><td>0.0</td><td>0.0</td><td>0.0</td><td>0.0</td><td>40.0</td><td>null</td></tr>\n",
       "<tr><td>38edbe648d5b71710...</td><td>0</td><td>0.0</td><td>1.0</td><td>1.0</td><td>0.0</td><td>0.0</td><td>null</td><td>57.0</td></tr>\n",
       "<tr><td>dc68448ffbc44bb2b...</td><td>0</td><td>0.0</td><td>0.0</td><td>0.0</td><td>1.0</td><td>0.0</td><td>null</td><td>null</td></tr>\n",
       "<tr><td>bc5f478cd3b759376...</td><td>0</td><td>0.0</td><td>0.0</td><td>0.0</td><td>0.0</td><td>0.0</td><td>null</td><td>null</td></tr>\n",
       "</table>\n",
       "only showing top 20 rows\n"
      ],
      "text/plain": [
       "+--------------------+-----------+-----------+-------+--------------------+--------------+------------------+----------------------+----------------------+\n",
       "|           member_id|delinq_2yrs|delinq_amnt|pub_rec|pub_rec_bankruptcies|inq_last_6mths|total_rec_late_fee|mths_since_last_delinq|mths_since_last_record|\n",
       "+--------------------+-----------+-----------+-------+--------------------+--------------+------------------+----------------------+----------------------+\n",
       "|d86a1c7244ace602c...|          0|        0.0|    1.0|                 1.0|           0.0|               0.0|                  null|                  91.0|\n",
       "|25b8cd9ff47e50eea...|          0|        0.0|    0.0|                 0.0|           1.0|               0.0|                  51.0|                  null|\n",
       "|f9773942305b2dc9c...|          0|        0.0|    1.0|                 1.0|           0.0|               0.0|                  null|                  88.0|\n",
       "|b22f99c198f3738a7...|          0|        0.0|    0.0|                 0.0|           0.0|               0.0|                  72.0|                  null|\n",
       "|4b3b7068c15b0e046...|          0|        0.0|    0.0|                 0.0|           4.0|               0.0|                  68.0|                  null|\n",
       "|0c7a9f8a6d5b209d2...|          0|        0.0|    1.0|                 1.0|           0.0|               0.0|                  null|                  85.0|\n",
       "|f1cc7e6ae9c735148...|          0|        0.0|    0.0|                 0.0|           0.0|               0.0|                  null|                  null|\n",
       "|8f8faa7eeb2a1ee41...|          0|        0.0|    0.0|                 0.0|           0.0|               0.0|                  null|                  null|\n",
       "|dad3f5ea8788186cb...|          0|        0.0|    0.0|                 0.0|           2.0|               0.0|                  null|                  null|\n",
       "|a20867c0985126202...|          0|        0.0|    0.0|                 0.0|           2.0|               0.0|                  null|                  null|\n",
       "|b62a92faa291b619c...|          0|        0.0|    2.0|                 1.0|           2.0|               0.0|                  null|                  59.0|\n",
       "|56a52156bd14bef8b...|          0|        0.0|    0.0|                 0.0|           0.0|               0.0|                  null|                  null|\n",
       "|9b2294c29096348d5...|          0|        0.0|    0.0|                 0.0|           0.0|               0.0|                  null|                  null|\n",
       "|b9c65cbaf8241cbe8...|          0|        0.0|    1.0|                 0.0|           0.0|               0.0|                  null|                  33.0|\n",
       "|a14a75a803373848c...|          0|        0.0|    0.0|                 0.0|           0.0|               0.0|                  68.0|                  null|\n",
       "|c1573ce869bafcbe9...|          0|        0.0|    0.0|                 0.0|           0.0|               0.0|                  30.0|                  null|\n",
       "|7a748acb9cb11d073...|          0|        0.0|    0.0|                 0.0|           0.0|               0.0|                  40.0|                  null|\n",
       "|38edbe648d5b71710...|          0|        0.0|    1.0|                 1.0|           0.0|               0.0|                  null|                  57.0|\n",
       "|dc68448ffbc44bb2b...|          0|        0.0|    0.0|                 0.0|           1.0|               0.0|                  null|                  null|\n",
       "|bc5f478cd3b759376...|          0|        0.0|    0.0|                 0.0|           0.0|               0.0|                  null|                  null|\n",
       "+--------------------+-----------+-----------+-------+--------------------+--------------+------------------+----------------------+----------------------+\n",
       "only showing top 20 rows"
      ]
     },
     "execution_count": 16,
     "metadata": {},
     "output_type": "execute_result"
    }
   ],
   "source": [
    "spark.sql(\"select * from loan_defaulters where delinq_2yrs = 0\")"
   ]
  },
  {
   "cell_type": "code",
   "execution_count": 17,
   "id": "1b04efa7",
   "metadata": {},
   "outputs": [],
   "source": [
    "#4) Making 2 different dataframes"
   ]
  },
  {
   "cell_type": "code",
   "execution_count": 18,
   "id": "2251d4ee",
   "metadata": {},
   "outputs": [
    {
     "data": {
      "text/html": [
       "<table border='1'>\n",
       "<tr><th>member_id</th><th>delinq_2yrs</th><th>delinq_amnt</th><th>mths_since_last_delinq</th></tr>\n",
       "<tr><td>25b8cd9ff47e50eea...</td><td>0</td><td>0.0</td><td>51</td></tr>\n",
       "<tr><td>b22f99c198f3738a7...</td><td>0</td><td>0.0</td><td>72</td></tr>\n",
       "<tr><td>4b3b7068c15b0e046...</td><td>0</td><td>0.0</td><td>68</td></tr>\n",
       "<tr><td>9468bb9f4c7e39e72...</td><td>1</td><td>0.0</td><td>7</td></tr>\n",
       "<tr><td>a14a75a803373848c...</td><td>0</td><td>0.0</td><td>68</td></tr>\n",
       "<tr><td>c1573ce869bafcbe9...</td><td>0</td><td>0.0</td><td>30</td></tr>\n",
       "<tr><td>7a748acb9cb11d073...</td><td>0</td><td>0.0</td><td>40</td></tr>\n",
       "<tr><td>3029a35037c3d47f2...</td><td>0</td><td>0.0</td><td>59</td></tr>\n",
       "<tr><td>989b1622ddf441235...</td><td>0</td><td>0.0</td><td>75</td></tr>\n",
       "<tr><td>69d87d14c315f222d...</td><td>0</td><td>0.0</td><td>55</td></tr>\n",
       "<tr><td>ddfd80e7e343ac461...</td><td>0</td><td>0.0</td><td>27</td></tr>\n",
       "<tr><td>35fc5d3e40b795b6e...</td><td>1</td><td>0.0</td><td>16</td></tr>\n",
       "<tr><td>e712f2b8b7e5ae16e...</td><td>0</td><td>0.0</td><td>43</td></tr>\n",
       "<tr><td>b8804bb2042cc0b6a...</td><td>2</td><td>0.0</td><td>9</td></tr>\n",
       "<tr><td>1c82a86fd13ed0224...</td><td>1</td><td>0.0</td><td>10</td></tr>\n",
       "<tr><td>2a04914163408bc96...</td><td>0</td><td>0.0</td><td>33</td></tr>\n",
       "<tr><td>fde61de946580172a...</td><td>0</td><td>0.0</td><td>37</td></tr>\n",
       "<tr><td>7df102da102df8311...</td><td>1</td><td>4569.0</td><td>0</td></tr>\n",
       "<tr><td>aa67a9ce9197f8003...</td><td>0</td><td>0.0</td><td>28</td></tr>\n",
       "<tr><td>9a6c74c10110dcec0...</td><td>2</td><td>0.0</td><td>5</td></tr>\n",
       "</table>\n",
       "only showing top 20 rows\n"
      ],
      "text/plain": [
       "+--------------------+-----------+-----------+----------------------+\n",
       "|           member_id|delinq_2yrs|delinq_amnt|mths_since_last_delinq|\n",
       "+--------------------+-----------+-----------+----------------------+\n",
       "|25b8cd9ff47e50eea...|          0|        0.0|                    51|\n",
       "|b22f99c198f3738a7...|          0|        0.0|                    72|\n",
       "|4b3b7068c15b0e046...|          0|        0.0|                    68|\n",
       "|9468bb9f4c7e39e72...|          1|        0.0|                     7|\n",
       "|a14a75a803373848c...|          0|        0.0|                    68|\n",
       "|c1573ce869bafcbe9...|          0|        0.0|                    30|\n",
       "|7a748acb9cb11d073...|          0|        0.0|                    40|\n",
       "|3029a35037c3d47f2...|          0|        0.0|                    59|\n",
       "|989b1622ddf441235...|          0|        0.0|                    75|\n",
       "|69d87d14c315f222d...|          0|        0.0|                    55|\n",
       "|ddfd80e7e343ac461...|          0|        0.0|                    27|\n",
       "|35fc5d3e40b795b6e...|          1|        0.0|                    16|\n",
       "|e712f2b8b7e5ae16e...|          0|        0.0|                    43|\n",
       "|b8804bb2042cc0b6a...|          2|        0.0|                     9|\n",
       "|1c82a86fd13ed0224...|          1|        0.0|                    10|\n",
       "|2a04914163408bc96...|          0|        0.0|                    33|\n",
       "|fde61de946580172a...|          0|        0.0|                    37|\n",
       "|7df102da102df8311...|          1|     4569.0|                     0|\n",
       "|aa67a9ce9197f8003...|          0|        0.0|                    28|\n",
       "|9a6c74c10110dcec0...|          2|        0.0|                     5|\n",
       "+--------------------+-----------+-----------+----------------------+\n",
       "only showing top 20 rows"
      ]
     },
     "execution_count": 18,
     "metadata": {},
     "output_type": "execute_result"
    }
   ],
   "source": [
    "#For delingq category dataframe : Df1\n",
    "#Want to save data in dataframe who has delayed/who is in defaulter list\n",
    "loans_def_delinq_df= spark.sql(\"select member_id, delinq_2yrs, delinq_amnt, int(mths_since_last_delinq) from loan_defaulters where delinq_2yrs > 0 OR mths_since_last_delinq > 0 \")\n",
    "loans_def_delinq_df"
   ]
  },
  {
   "cell_type": "code",
   "execution_count": 19,
   "id": "d5edca02",
   "metadata": {},
   "outputs": [
    {
     "data": {
      "text/plain": [
       "1106163"
      ]
     },
     "execution_count": 19,
     "metadata": {},
     "output_type": "execute_result"
    }
   ],
   "source": [
    "loans_def_delinq_df.count()"
   ]
  },
  {
   "cell_type": "code",
   "execution_count": 20,
   "id": "871d93f4",
   "metadata": {},
   "outputs": [
    {
     "data": {
      "text/html": [
       "<table border='1'>\n",
       "<tr><th>member_id</th></tr>\n",
       "<tr><td>d86a1c7244ace602c...</td></tr>\n",
       "<tr><td>25b8cd9ff47e50eea...</td></tr>\n",
       "<tr><td>f9773942305b2dc9c...</td></tr>\n",
       "<tr><td>4b3b7068c15b0e046...</td></tr>\n",
       "<tr><td>0c7a9f8a6d5b209d2...</td></tr>\n",
       "<tr><td>dad3f5ea8788186cb...</td></tr>\n",
       "<tr><td>a20867c0985126202...</td></tr>\n",
       "<tr><td>b62a92faa291b619c...</td></tr>\n",
       "<tr><td>b9c65cbaf8241cbe8...</td></tr>\n",
       "<tr><td>38edbe648d5b71710...</td></tr>\n",
       "<tr><td>dc68448ffbc44bb2b...</td></tr>\n",
       "<tr><td>bc023356b8d29a7bc...</td></tr>\n",
       "<tr><td>3029a35037c3d47f2...</td></tr>\n",
       "<tr><td>69d87d14c315f222d...</td></tr>\n",
       "<tr><td>10fa059c645ff513a...</td></tr>\n",
       "<tr><td>35fc5d3e40b795b6e...</td></tr>\n",
       "<tr><td>d8db70150265d2c99...</td></tr>\n",
       "<tr><td>dcd323710d581a439...</td></tr>\n",
       "<tr><td>f450eaedf04ff46bb...</td></tr>\n",
       "<tr><td>b8804bb2042cc0b6a...</td></tr>\n",
       "</table>\n",
       "only showing top 20 rows\n"
      ],
      "text/plain": [
       "+--------------------+\n",
       "|           member_id|\n",
       "+--------------------+\n",
       "|d86a1c7244ace602c...|\n",
       "|25b8cd9ff47e50eea...|\n",
       "|f9773942305b2dc9c...|\n",
       "|4b3b7068c15b0e046...|\n",
       "|0c7a9f8a6d5b209d2...|\n",
       "|dad3f5ea8788186cb...|\n",
       "|a20867c0985126202...|\n",
       "|b62a92faa291b619c...|\n",
       "|b9c65cbaf8241cbe8...|\n",
       "|38edbe648d5b71710...|\n",
       "|dc68448ffbc44bb2b...|\n",
       "|bc023356b8d29a7bc...|\n",
       "|3029a35037c3d47f2...|\n",
       "|69d87d14c315f222d...|\n",
       "|10fa059c645ff513a...|\n",
       "|35fc5d3e40b795b6e...|\n",
       "|d8db70150265d2c99...|\n",
       "|dcd323710d581a439...|\n",
       "|f450eaedf04ff46bb...|\n",
       "|b8804bb2042cc0b6a...|\n",
       "+--------------------+\n",
       "only showing top 20 rows"
      ]
     },
     "execution_count": 20,
     "metadata": {},
     "output_type": "execute_result"
    }
   ],
   "source": [
    "#For inquiry category dataframe : Df2\n",
    "#Want to save data in df whose inquiry has came in last few days or has some public record\n",
    "loans_def_enq_df= spark.sql(\"select member_id from loan_defaulters where pub_rec > 0.0 or pub_rec_bankruptcies > 0.0 or inq_last_6mths > 0.0\")\n",
    "loans_def_enq_df"
   ]
  },
  {
   "cell_type": "code",
   "execution_count": 21,
   "id": "5c5a8235",
   "metadata": {},
   "outputs": [
    {
     "data": {
      "text/plain": [
       "1070125"
      ]
     },
     "execution_count": 21,
     "metadata": {},
     "output_type": "execute_result"
    }
   ],
   "source": [
    "loans_def_enq_df.count()"
   ]
  },
  {
   "cell_type": "code",
   "execution_count": 22,
   "id": "7c5cf5f3",
   "metadata": {},
   "outputs": [],
   "source": [
    "loans_def_delinq_df.write \\\n",
    ".option(\"header\",True) \\\n",
    ".format(\"csv\") \\\n",
    ".mode(\"overwrite\") \\\n",
    ".option(\"path\", \"/user/itv016478/lendingclubproject/cleaned/loans_def_delinq_csv\")\\\n",
    ".save()"
   ]
  },
  {
   "cell_type": "code",
   "execution_count": 23,
   "id": "01d3d1d8",
   "metadata": {},
   "outputs": [],
   "source": [
    "loans_def_enq_df.write \\\n",
    ".option(\"header\",True) \\\n",
    ".format(\"csv\") \\\n",
    ".mode(\"overwrite\") \\\n",
    ".option(\"path\", \"/user/itv016478/lendingclubproject/cleaned/loans_def_enq_csv\")\\\n",
    ".save()"
   ]
  },
  {
   "cell_type": "code",
   "execution_count": 24,
   "id": "4b13768f",
   "metadata": {},
   "outputs": [],
   "source": [
    "loans_def_delinq_df.write \\\n",
    ".option(\"header\",True) \\\n",
    ".format(\"parquet\") \\\n",
    ".mode(\"overwrite\") \\\n",
    ".option(\"path\", \"/user/itv016478/lendingclubproject/cleaned/loans_def_delinq_parquet\")\\\n",
    ".save()"
   ]
  },
  {
   "cell_type": "code",
   "execution_count": 25,
   "id": "9defa1f3",
   "metadata": {},
   "outputs": [],
   "source": [
    "loans_def_enq_df.write \\\n",
    ".option(\"header\",True) \\\n",
    ".format(\"parquet\") \\\n",
    ".mode(\"overwrite\") \\\n",
    ".option(\"path\", \"/user/itv016478/lendingclubproject/cleaned/loans_def_enq_parquet\")\\\n",
    ".save()"
   ]
  },
  {
   "cell_type": "code",
   "execution_count": 26,
   "id": "0f9f2934",
   "metadata": {},
   "outputs": [
    {
     "name": "stdout",
     "output_type": "stream",
     "text": [
      "+--------------------+-------+--------------------+--------------+\n",
      "|           member_id|pub_rec|pub_rec_bankruptcies|inq_last_6mths|\n",
      "+--------------------+-------+--------------------+--------------+\n",
      "|d86a1c7244ace602c...|    1.0|                 1.0|           0.0|\n",
      "|25b8cd9ff47e50eea...|    0.0|                 0.0|           1.0|\n",
      "|f9773942305b2dc9c...|    1.0|                 1.0|           0.0|\n",
      "|b22f99c198f3738a7...|    0.0|                 0.0|           0.0|\n",
      "|4b3b7068c15b0e046...|    0.0|                 0.0|           4.0|\n",
      "|0c7a9f8a6d5b209d2...|    1.0|                 1.0|           0.0|\n",
      "|f1cc7e6ae9c735148...|    0.0|                 0.0|           0.0|\n",
      "|8f8faa7eeb2a1ee41...|    0.0|                 0.0|           0.0|\n",
      "|dad3f5ea8788186cb...|    0.0|                 0.0|           2.0|\n",
      "|a20867c0985126202...|    0.0|                 0.0|           2.0|\n",
      "|b62a92faa291b619c...|    2.0|                 1.0|           2.0|\n",
      "|9468bb9f4c7e39e72...|    0.0|                 0.0|           0.0|\n",
      "|56a52156bd14bef8b...|    0.0|                 0.0|           0.0|\n",
      "|9b2294c29096348d5...|    0.0|                 0.0|           0.0|\n",
      "|b9c65cbaf8241cbe8...|    1.0|                 0.0|           0.0|\n",
      "|a14a75a803373848c...|    0.0|                 0.0|           0.0|\n",
      "|c1573ce869bafcbe9...|    0.0|                 0.0|           0.0|\n",
      "|7a748acb9cb11d073...|    0.0|                 0.0|           0.0|\n",
      "|38edbe648d5b71710...|    1.0|                 1.0|           0.0|\n",
      "|dc68448ffbc44bb2b...|    0.0|                 0.0|           1.0|\n",
      "+--------------------+-------+--------------------+--------------+\n",
      "only showing top 20 rows\n",
      "\n"
     ]
    }
   ],
   "source": [
    "loans_def_detail_records_enq_df= spark.sql(\"select member_id , pub_rec, pub_rec_bankruptcies, inq_last_6mths from loan_defaulters \").show()\n"
   ]
  },
  {
   "cell_type": "code",
   "execution_count": 27,
   "id": "e98834c9",
   "metadata": {},
   "outputs": [
    {
     "name": "stdout",
     "output_type": "stream",
     "text": [
      "+--------------------+-----------+-----------+-------+--------------------+--------------+------------------+----------------------+----------------------+\n",
      "|           member_id|delinq_2yrs|delinq_amnt|pub_rec|pub_rec_bankruptcies|inq_last_6mths|total_rec_late_fee|mths_since_last_delinq|mths_since_last_record|\n",
      "+--------------------+-----------+-----------+-------+--------------------+--------------+------------------+----------------------+----------------------+\n",
      "|d86a1c7244ace602c...|          0|        0.0|      1|                 1.0|           0.0|               0.0|                  null|                  91.0|\n",
      "|25b8cd9ff47e50eea...|          0|        0.0|      0|                 0.0|           1.0|               0.0|                  51.0|                  null|\n",
      "|f9773942305b2dc9c...|          0|        0.0|      1|                 1.0|           0.0|               0.0|                  null|                  88.0|\n",
      "|b22f99c198f3738a7...|          0|        0.0|      0|                 0.0|           0.0|               0.0|                  72.0|                  null|\n",
      "|4b3b7068c15b0e046...|          0|        0.0|      0|                 0.0|           4.0|               0.0|                  68.0|                  null|\n",
      "|0c7a9f8a6d5b209d2...|          0|        0.0|      1|                 1.0|           0.0|               0.0|                  null|                  85.0|\n",
      "|f1cc7e6ae9c735148...|          0|        0.0|      0|                 0.0|           0.0|               0.0|                  null|                  null|\n",
      "|8f8faa7eeb2a1ee41...|          0|        0.0|      0|                 0.0|           0.0|               0.0|                  null|                  null|\n",
      "|dad3f5ea8788186cb...|          0|        0.0|      0|                 0.0|           2.0|               0.0|                  null|                  null|\n",
      "|a20867c0985126202...|          0|        0.0|      0|                 0.0|           2.0|               0.0|                  null|                  null|\n",
      "|b62a92faa291b619c...|          0|        0.0|      2|                 1.0|           2.0|               0.0|                  null|                  59.0|\n",
      "|9468bb9f4c7e39e72...|          1|        0.0|      0|                 0.0|           0.0|               0.0|                   7.0|                  null|\n",
      "|56a52156bd14bef8b...|          0|        0.0|      0|                 0.0|           0.0|               0.0|                  null|                  null|\n",
      "|9b2294c29096348d5...|          0|        0.0|      0|                 0.0|           0.0|               0.0|                  null|                  null|\n",
      "|b9c65cbaf8241cbe8...|          0|        0.0|      1|                 0.0|           0.0|               0.0|                  null|                  33.0|\n",
      "|a14a75a803373848c...|          0|        0.0|      0|                 0.0|           0.0|               0.0|                  68.0|                  null|\n",
      "|c1573ce869bafcbe9...|          0|        0.0|      0|                 0.0|           0.0|               0.0|                  30.0|                  null|\n",
      "|7a748acb9cb11d073...|          0|        0.0|      0|                 0.0|           0.0|               0.0|                  40.0|                  null|\n",
      "|38edbe648d5b71710...|          0|        0.0|      1|                 1.0|           0.0|               0.0|                  null|                  57.0|\n",
      "|dc68448ffbc44bb2b...|          0|        0.0|      0|                 0.0|           1.0|               0.0|                  null|                  null|\n",
      "+--------------------+-----------+-----------+-------+--------------------+--------------+------------------+----------------------+----------------------+\n",
      "only showing top 20 rows\n",
      "\n"
     ]
    }
   ],
   "source": [
    "loans_def_pub_rec_df= loans_def_processed_df.withColumn(\"pub_rec\", col(\"pub_rec\").cast(\"integer\")).fillna(0,subset= [\"pub_rec\"]).show()\n"
   ]
  },
  {
   "cell_type": "code",
   "execution_count": 28,
   "id": "08cf07a0",
   "metadata": {},
   "outputs": [
    {
     "data": {
      "text/html": [
       "<table border='1'>\n",
       "<tr><th>member_id</th><th>delinq_2yrs</th><th>delinq_amnt</th><th>pub_rec</th><th>pub_rec_bankruptcies</th><th>inq_last_6mths</th><th>total_rec_late_fee</th><th>mths_since_last_delinq</th><th>mths_since_last_record</th></tr>\n",
       "<tr><td>d86a1c7244ace602c...</td><td>0</td><td>0.0</td><td>1.0</td><td>1</td><td>0.0</td><td>0.0</td><td>null</td><td>91.0</td></tr>\n",
       "<tr><td>25b8cd9ff47e50eea...</td><td>0</td><td>0.0</td><td>0.0</td><td>0</td><td>1.0</td><td>0.0</td><td>51.0</td><td>null</td></tr>\n",
       "<tr><td>f9773942305b2dc9c...</td><td>0</td><td>0.0</td><td>1.0</td><td>1</td><td>0.0</td><td>0.0</td><td>null</td><td>88.0</td></tr>\n",
       "<tr><td>b22f99c198f3738a7...</td><td>0</td><td>0.0</td><td>0.0</td><td>0</td><td>0.0</td><td>0.0</td><td>72.0</td><td>null</td></tr>\n",
       "<tr><td>4b3b7068c15b0e046...</td><td>0</td><td>0.0</td><td>0.0</td><td>0</td><td>4.0</td><td>0.0</td><td>68.0</td><td>null</td></tr>\n",
       "<tr><td>0c7a9f8a6d5b209d2...</td><td>0</td><td>0.0</td><td>1.0</td><td>1</td><td>0.0</td><td>0.0</td><td>null</td><td>85.0</td></tr>\n",
       "<tr><td>f1cc7e6ae9c735148...</td><td>0</td><td>0.0</td><td>0.0</td><td>0</td><td>0.0</td><td>0.0</td><td>null</td><td>null</td></tr>\n",
       "<tr><td>8f8faa7eeb2a1ee41...</td><td>0</td><td>0.0</td><td>0.0</td><td>0</td><td>0.0</td><td>0.0</td><td>null</td><td>null</td></tr>\n",
       "<tr><td>dad3f5ea8788186cb...</td><td>0</td><td>0.0</td><td>0.0</td><td>0</td><td>2.0</td><td>0.0</td><td>null</td><td>null</td></tr>\n",
       "<tr><td>a20867c0985126202...</td><td>0</td><td>0.0</td><td>0.0</td><td>0</td><td>2.0</td><td>0.0</td><td>null</td><td>null</td></tr>\n",
       "<tr><td>b62a92faa291b619c...</td><td>0</td><td>0.0</td><td>2.0</td><td>1</td><td>2.0</td><td>0.0</td><td>null</td><td>59.0</td></tr>\n",
       "<tr><td>9468bb9f4c7e39e72...</td><td>1</td><td>0.0</td><td>0.0</td><td>0</td><td>0.0</td><td>0.0</td><td>7.0</td><td>null</td></tr>\n",
       "<tr><td>56a52156bd14bef8b...</td><td>0</td><td>0.0</td><td>0.0</td><td>0</td><td>0.0</td><td>0.0</td><td>null</td><td>null</td></tr>\n",
       "<tr><td>9b2294c29096348d5...</td><td>0</td><td>0.0</td><td>0.0</td><td>0</td><td>0.0</td><td>0.0</td><td>null</td><td>null</td></tr>\n",
       "<tr><td>b9c65cbaf8241cbe8...</td><td>0</td><td>0.0</td><td>1.0</td><td>0</td><td>0.0</td><td>0.0</td><td>null</td><td>33.0</td></tr>\n",
       "<tr><td>a14a75a803373848c...</td><td>0</td><td>0.0</td><td>0.0</td><td>0</td><td>0.0</td><td>0.0</td><td>68.0</td><td>null</td></tr>\n",
       "<tr><td>c1573ce869bafcbe9...</td><td>0</td><td>0.0</td><td>0.0</td><td>0</td><td>0.0</td><td>0.0</td><td>30.0</td><td>null</td></tr>\n",
       "<tr><td>7a748acb9cb11d073...</td><td>0</td><td>0.0</td><td>0.0</td><td>0</td><td>0.0</td><td>0.0</td><td>40.0</td><td>null</td></tr>\n",
       "<tr><td>38edbe648d5b71710...</td><td>0</td><td>0.0</td><td>1.0</td><td>1</td><td>0.0</td><td>0.0</td><td>null</td><td>57.0</td></tr>\n",
       "<tr><td>dc68448ffbc44bb2b...</td><td>0</td><td>0.0</td><td>0.0</td><td>0</td><td>1.0</td><td>0.0</td><td>null</td><td>null</td></tr>\n",
       "</table>\n",
       "only showing top 20 rows\n"
      ],
      "text/plain": [
       "+--------------------+-----------+-----------+-------+--------------------+--------------+------------------+----------------------+----------------------+\n",
       "|           member_id|delinq_2yrs|delinq_amnt|pub_rec|pub_rec_bankruptcies|inq_last_6mths|total_rec_late_fee|mths_since_last_delinq|mths_since_last_record|\n",
       "+--------------------+-----------+-----------+-------+--------------------+--------------+------------------+----------------------+----------------------+\n",
       "|d86a1c7244ace602c...|          0|        0.0|    1.0|                   1|           0.0|               0.0|                  null|                  91.0|\n",
       "|25b8cd9ff47e50eea...|          0|        0.0|    0.0|                   0|           1.0|               0.0|                  51.0|                  null|\n",
       "|f9773942305b2dc9c...|          0|        0.0|    1.0|                   1|           0.0|               0.0|                  null|                  88.0|\n",
       "|b22f99c198f3738a7...|          0|        0.0|    0.0|                   0|           0.0|               0.0|                  72.0|                  null|\n",
       "|4b3b7068c15b0e046...|          0|        0.0|    0.0|                   0|           4.0|               0.0|                  68.0|                  null|\n",
       "|0c7a9f8a6d5b209d2...|          0|        0.0|    1.0|                   1|           0.0|               0.0|                  null|                  85.0|\n",
       "|f1cc7e6ae9c735148...|          0|        0.0|    0.0|                   0|           0.0|               0.0|                  null|                  null|\n",
       "|8f8faa7eeb2a1ee41...|          0|        0.0|    0.0|                   0|           0.0|               0.0|                  null|                  null|\n",
       "|dad3f5ea8788186cb...|          0|        0.0|    0.0|                   0|           2.0|               0.0|                  null|                  null|\n",
       "|a20867c0985126202...|          0|        0.0|    0.0|                   0|           2.0|               0.0|                  null|                  null|\n",
       "|b62a92faa291b619c...|          0|        0.0|    2.0|                   1|           2.0|               0.0|                  null|                  59.0|\n",
       "|9468bb9f4c7e39e72...|          1|        0.0|    0.0|                   0|           0.0|               0.0|                   7.0|                  null|\n",
       "|56a52156bd14bef8b...|          0|        0.0|    0.0|                   0|           0.0|               0.0|                  null|                  null|\n",
       "|9b2294c29096348d5...|          0|        0.0|    0.0|                   0|           0.0|               0.0|                  null|                  null|\n",
       "|b9c65cbaf8241cbe8...|          0|        0.0|    1.0|                   0|           0.0|               0.0|                  null|                  33.0|\n",
       "|a14a75a803373848c...|          0|        0.0|    0.0|                   0|           0.0|               0.0|                  68.0|                  null|\n",
       "|c1573ce869bafcbe9...|          0|        0.0|    0.0|                   0|           0.0|               0.0|                  30.0|                  null|\n",
       "|7a748acb9cb11d073...|          0|        0.0|    0.0|                   0|           0.0|               0.0|                  40.0|                  null|\n",
       "|38edbe648d5b71710...|          0|        0.0|    1.0|                   1|           0.0|               0.0|                  null|                  57.0|\n",
       "|dc68448ffbc44bb2b...|          0|        0.0|    0.0|                   0|           1.0|               0.0|                  null|                  null|\n",
       "+--------------------+-----------+-----------+-------+--------------------+--------------+------------------+----------------------+----------------------+\n",
       "only showing top 20 rows"
      ]
     },
     "execution_count": 28,
     "metadata": {},
     "output_type": "execute_result"
    }
   ],
   "source": [
    "loans_def_bankrupt_df= loans_def_processed_df.withColumn(\"pub_rec_bankruptcies\", col(\"pub_rec_bankruptcies\").cast(\"integer\")).fillna(0,subset= [\"pub_rec_bankruptcies\"])\n",
    "loans_def_bankrupt_df"
   ]
  },
  {
   "cell_type": "code",
   "execution_count": 29,
   "id": "7cf7234a",
   "metadata": {},
   "outputs": [
    {
     "data": {
      "text/html": [
       "<table border='1'>\n",
       "<tr><th>member_id</th><th>delinq_2yrs</th><th>delinq_amnt</th><th>pub_rec</th><th>pub_rec_bankruptcies</th><th>inq_last_6mths</th><th>total_rec_late_fee</th><th>mths_since_last_delinq</th><th>mths_since_last_record</th></tr>\n",
       "<tr><td>d86a1c7244ace602c...</td><td>0</td><td>0.0</td><td>1.0</td><td>1.0</td><td>0</td><td>0.0</td><td>null</td><td>91.0</td></tr>\n",
       "<tr><td>25b8cd9ff47e50eea...</td><td>0</td><td>0.0</td><td>0.0</td><td>0.0</td><td>1</td><td>0.0</td><td>51.0</td><td>null</td></tr>\n",
       "<tr><td>f9773942305b2dc9c...</td><td>0</td><td>0.0</td><td>1.0</td><td>1.0</td><td>0</td><td>0.0</td><td>null</td><td>88.0</td></tr>\n",
       "<tr><td>b22f99c198f3738a7...</td><td>0</td><td>0.0</td><td>0.0</td><td>0.0</td><td>0</td><td>0.0</td><td>72.0</td><td>null</td></tr>\n",
       "<tr><td>4b3b7068c15b0e046...</td><td>0</td><td>0.0</td><td>0.0</td><td>0.0</td><td>4</td><td>0.0</td><td>68.0</td><td>null</td></tr>\n",
       "<tr><td>0c7a9f8a6d5b209d2...</td><td>0</td><td>0.0</td><td>1.0</td><td>1.0</td><td>0</td><td>0.0</td><td>null</td><td>85.0</td></tr>\n",
       "<tr><td>f1cc7e6ae9c735148...</td><td>0</td><td>0.0</td><td>0.0</td><td>0.0</td><td>0</td><td>0.0</td><td>null</td><td>null</td></tr>\n",
       "<tr><td>8f8faa7eeb2a1ee41...</td><td>0</td><td>0.0</td><td>0.0</td><td>0.0</td><td>0</td><td>0.0</td><td>null</td><td>null</td></tr>\n",
       "<tr><td>dad3f5ea8788186cb...</td><td>0</td><td>0.0</td><td>0.0</td><td>0.0</td><td>2</td><td>0.0</td><td>null</td><td>null</td></tr>\n",
       "<tr><td>a20867c0985126202...</td><td>0</td><td>0.0</td><td>0.0</td><td>0.0</td><td>2</td><td>0.0</td><td>null</td><td>null</td></tr>\n",
       "<tr><td>b62a92faa291b619c...</td><td>0</td><td>0.0</td><td>2.0</td><td>1.0</td><td>2</td><td>0.0</td><td>null</td><td>59.0</td></tr>\n",
       "<tr><td>9468bb9f4c7e39e72...</td><td>1</td><td>0.0</td><td>0.0</td><td>0.0</td><td>0</td><td>0.0</td><td>7.0</td><td>null</td></tr>\n",
       "<tr><td>56a52156bd14bef8b...</td><td>0</td><td>0.0</td><td>0.0</td><td>0.0</td><td>0</td><td>0.0</td><td>null</td><td>null</td></tr>\n",
       "<tr><td>9b2294c29096348d5...</td><td>0</td><td>0.0</td><td>0.0</td><td>0.0</td><td>0</td><td>0.0</td><td>null</td><td>null</td></tr>\n",
       "<tr><td>b9c65cbaf8241cbe8...</td><td>0</td><td>0.0</td><td>1.0</td><td>0.0</td><td>0</td><td>0.0</td><td>null</td><td>33.0</td></tr>\n",
       "<tr><td>a14a75a803373848c...</td><td>0</td><td>0.0</td><td>0.0</td><td>0.0</td><td>0</td><td>0.0</td><td>68.0</td><td>null</td></tr>\n",
       "<tr><td>c1573ce869bafcbe9...</td><td>0</td><td>0.0</td><td>0.0</td><td>0.0</td><td>0</td><td>0.0</td><td>30.0</td><td>null</td></tr>\n",
       "<tr><td>7a748acb9cb11d073...</td><td>0</td><td>0.0</td><td>0.0</td><td>0.0</td><td>0</td><td>0.0</td><td>40.0</td><td>null</td></tr>\n",
       "<tr><td>38edbe648d5b71710...</td><td>0</td><td>0.0</td><td>1.0</td><td>1.0</td><td>0</td><td>0.0</td><td>null</td><td>57.0</td></tr>\n",
       "<tr><td>dc68448ffbc44bb2b...</td><td>0</td><td>0.0</td><td>0.0</td><td>0.0</td><td>1</td><td>0.0</td><td>null</td><td>null</td></tr>\n",
       "</table>\n",
       "only showing top 20 rows\n"
      ],
      "text/plain": [
       "+--------------------+-----------+-----------+-------+--------------------+--------------+------------------+----------------------+----------------------+\n",
       "|           member_id|delinq_2yrs|delinq_amnt|pub_rec|pub_rec_bankruptcies|inq_last_6mths|total_rec_late_fee|mths_since_last_delinq|mths_since_last_record|\n",
       "+--------------------+-----------+-----------+-------+--------------------+--------------+------------------+----------------------+----------------------+\n",
       "|d86a1c7244ace602c...|          0|        0.0|    1.0|                 1.0|             0|               0.0|                  null|                  91.0|\n",
       "|25b8cd9ff47e50eea...|          0|        0.0|    0.0|                 0.0|             1|               0.0|                  51.0|                  null|\n",
       "|f9773942305b2dc9c...|          0|        0.0|    1.0|                 1.0|             0|               0.0|                  null|                  88.0|\n",
       "|b22f99c198f3738a7...|          0|        0.0|    0.0|                 0.0|             0|               0.0|                  72.0|                  null|\n",
       "|4b3b7068c15b0e046...|          0|        0.0|    0.0|                 0.0|             4|               0.0|                  68.0|                  null|\n",
       "|0c7a9f8a6d5b209d2...|          0|        0.0|    1.0|                 1.0|             0|               0.0|                  null|                  85.0|\n",
       "|f1cc7e6ae9c735148...|          0|        0.0|    0.0|                 0.0|             0|               0.0|                  null|                  null|\n",
       "|8f8faa7eeb2a1ee41...|          0|        0.0|    0.0|                 0.0|             0|               0.0|                  null|                  null|\n",
       "|dad3f5ea8788186cb...|          0|        0.0|    0.0|                 0.0|             2|               0.0|                  null|                  null|\n",
       "|a20867c0985126202...|          0|        0.0|    0.0|                 0.0|             2|               0.0|                  null|                  null|\n",
       "|b62a92faa291b619c...|          0|        0.0|    2.0|                 1.0|             2|               0.0|                  null|                  59.0|\n",
       "|9468bb9f4c7e39e72...|          1|        0.0|    0.0|                 0.0|             0|               0.0|                   7.0|                  null|\n",
       "|56a52156bd14bef8b...|          0|        0.0|    0.0|                 0.0|             0|               0.0|                  null|                  null|\n",
       "|9b2294c29096348d5...|          0|        0.0|    0.0|                 0.0|             0|               0.0|                  null|                  null|\n",
       "|b9c65cbaf8241cbe8...|          0|        0.0|    1.0|                 0.0|             0|               0.0|                  null|                  33.0|\n",
       "|a14a75a803373848c...|          0|        0.0|    0.0|                 0.0|             0|               0.0|                  68.0|                  null|\n",
       "|c1573ce869bafcbe9...|          0|        0.0|    0.0|                 0.0|             0|               0.0|                  30.0|                  null|\n",
       "|7a748acb9cb11d073...|          0|        0.0|    0.0|                 0.0|             0|               0.0|                  40.0|                  null|\n",
       "|38edbe648d5b71710...|          0|        0.0|    1.0|                 1.0|             0|               0.0|                  null|                  57.0|\n",
       "|dc68448ffbc44bb2b...|          0|        0.0|    0.0|                 0.0|             1|               0.0|                  null|                  null|\n",
       "+--------------------+-----------+-----------+-------+--------------------+--------------+------------------+----------------------+----------------------+\n",
       "only showing top 20 rows"
      ]
     },
     "execution_count": 29,
     "metadata": {},
     "output_type": "execute_result"
    }
   ],
   "source": [
    "loans_def_inq_last_6mths_df= loans_def_processed_df.withColumn(\"inq_last_6mths\", col(\"inq_last_6mths\").cast(\"integer\")).fillna(0,subset= [\"inq_last_6mths\"])\n",
    "loans_def_inq_last_6mths_df  # Now this df is the latest and cleaned dataset"
   ]
  },
  {
   "cell_type": "code",
   "execution_count": 30,
   "id": "81b09069",
   "metadata": {},
   "outputs": [],
   "source": [
    "#Making new table based on latest and clean dataframe\n",
    "loans_def_inq_last_6mths_df.createOrReplaceTempView(\"loan_defaulters\")"
   ]
  },
  {
   "cell_type": "code",
   "execution_count": 31,
   "id": "d6fd9155",
   "metadata": {},
   "outputs": [
    {
     "name": "stdout",
     "output_type": "stream",
     "text": [
      "+--------------------+-------+--------------------+--------------+\n",
      "|           member_id|pub_rec|pub_rec_bankruptcies|inq_last_6mths|\n",
      "+--------------------+-------+--------------------+--------------+\n",
      "|d86a1c7244ace602c...|    1.0|                 1.0|             0|\n",
      "|25b8cd9ff47e50eea...|    0.0|                 0.0|             1|\n",
      "|f9773942305b2dc9c...|    1.0|                 1.0|             0|\n",
      "|b22f99c198f3738a7...|    0.0|                 0.0|             0|\n",
      "|4b3b7068c15b0e046...|    0.0|                 0.0|             4|\n",
      "|0c7a9f8a6d5b209d2...|    1.0|                 1.0|             0|\n",
      "|f1cc7e6ae9c735148...|    0.0|                 0.0|             0|\n",
      "|8f8faa7eeb2a1ee41...|    0.0|                 0.0|             0|\n",
      "|dad3f5ea8788186cb...|    0.0|                 0.0|             2|\n",
      "|a20867c0985126202...|    0.0|                 0.0|             2|\n",
      "|b62a92faa291b619c...|    2.0|                 1.0|             2|\n",
      "|9468bb9f4c7e39e72...|    0.0|                 0.0|             0|\n",
      "|56a52156bd14bef8b...|    0.0|                 0.0|             0|\n",
      "|9b2294c29096348d5...|    0.0|                 0.0|             0|\n",
      "|b9c65cbaf8241cbe8...|    1.0|                 0.0|             0|\n",
      "|a14a75a803373848c...|    0.0|                 0.0|             0|\n",
      "|c1573ce869bafcbe9...|    0.0|                 0.0|             0|\n",
      "|7a748acb9cb11d073...|    0.0|                 0.0|             0|\n",
      "|38edbe648d5b71710...|    1.0|                 1.0|             0|\n",
      "|dc68448ffbc44bb2b...|    0.0|                 0.0|             1|\n",
      "+--------------------+-------+--------------------+--------------+\n",
      "only showing top 20 rows\n",
      "\n"
     ]
    }
   ],
   "source": [
    "loans_def_detail_records_enq_df= spark.sql(\"select member_id , pub_rec, pub_rec_bankruptcies, inq_last_6mths from loan_defaulters \").show()\n"
   ]
  },
  {
   "cell_type": "code",
   "execution_count": 32,
   "id": "fbf3a98e",
   "metadata": {},
   "outputs": [],
   "source": [
    "loans_def_detail_records_enq_df = spark.sql(\"\"\"\n",
    "    SELECT member_id, pub_rec, pub_rec_bankruptcies, inq_last_6mths\n",
    "    FROM loan_defaulters\n",
    "\"\"\")"
   ]
  },
  {
   "cell_type": "code",
   "execution_count": 35,
   "id": "b7a02065",
   "metadata": {},
   "outputs": [],
   "source": [
    "loans_def_detail_records_enq_df.write \\\n",
    ".option(\"header\",True) \\\n",
    ".format(\"parquet\") \\\n",
    ".mode(\"overwrite\") \\\n",
    ".option(\"path\", \"/user/itv016478/lendingclubproject/cleaned/loans_def_detail_records_enq_parquet\")\\\n",
    ".save()"
   ]
  },
  {
   "cell_type": "code",
   "execution_count": 34,
   "id": "f224b716",
   "metadata": {},
   "outputs": [],
   "source": [
    "loans_def_detail_records_enq_df.write \\\n",
    ".option(\"header\",True) \\\n",
    ".format(\"csv\") \\\n",
    ".mode(\"overwrite\") \\\n",
    ".option(\"path\", \"/user/itv016478/lendingclubproject/cleaned/loans_def_detail_records_enq_csv\")\\\n",
    ".save()"
   ]
  },
  {
   "cell_type": "markdown",
   "id": "34add523",
   "metadata": {},
   "source": [
    " "
   ]
  }
 ],
 "metadata": {
  "kernelspec": {
   "display_name": "Pyspark 3",
   "language": "python",
   "name": "pyspark3"
  },
  "language_info": {
   "codemirror_mode": {
    "name": "ipython",
    "version": 3
   },
   "file_extension": ".py",
   "mimetype": "text/x-python",
   "name": "python",
   "nbconvert_exporter": "python",
   "pygments_lexer": "ipython3",
   "version": "3.6.12"
  }
 },
 "nbformat": 4,
 "nbformat_minor": 5
}
