{
 "cells": [
  {
   "cell_type": "code",
   "execution_count": 18,
   "id": "f9af2699",
   "metadata": {},
   "outputs": [],
   "source": [
    "from pyspark.sql import SparkSession\n",
    "import getpass \n",
    "username=getpass.getuser()\n",
    "spark=SparkSession. \\\n",
    "    builder. \\\n",
    "    config('spark.ui.port','0'). \\\n",
    "    config(\"spark.sql.warehouse.dir\",\"/user/itv016478/warehouse\"). \\\n",
    "    config('spark.shuffle.useOldFetchProtocol', 'true'). \\\n",
    "    enableHiveSupport(). \\\n",
    "    master('yarn'). \\\n",
    "    getOrCreate()"
   ]
  },
  {
   "cell_type": "code",
   "execution_count": 19,
   "id": "30b6dfd9",
   "metadata": {},
   "outputs": [],
   "source": [
    "spark.conf.set (\"spark.sql.unacceptable_rated_pts\",0)\n",
    "spark.conf.set (\"spark.sql.very_bad_rated_pts\",100)\n",
    "spark.conf.set (\"spark.sql.bad_rated_pts\",250)\n",
    "spark.conf.set (\"spark.sql.good_rated_pts\",500)\n",
    "spark.conf.set (\"spark.sql.very_good_rated_pts\",650)\n",
    "spark.conf.set (\"spark.sql.excellent_rated_pts\",800)\n"
   ]
  },
  {
   "cell_type": "code",
   "execution_count": null,
   "id": "87ef7bf1",
   "metadata": {},
   "outputs": [],
   "source": []
  },
  {
   "cell_type": "code",
   "execution_count": 20,
   "id": "f302b577",
   "metadata": {},
   "outputs": [],
   "source": [
    "bad_rated_pts = spark.conf.get(\"spark.sql.bad_rated_pts\")\n",
    "good_rated_pts = spark.conf.get(\"spark.sql.good_rated_pts\")\n",
    "very_bad_rated_pts = spark.conf.get(\"spark.sql.very_bad_rated_pts\")\n",
    "very_good_rated_pts = spark.conf.get(\"spark.sql.very_good_rated_pts\")\n",
    "excellent_rated_pts = spark.conf.get(\"spark.sql.excellent_rated_pts\")\n",
    "unacceptable_rated_pts = spark.conf.get(\"spark.sql.unacceptable_rated_pts\")"
   ]
  },
  {
   "cell_type": "code",
   "execution_count": 21,
   "id": "45322b03",
   "metadata": {},
   "outputs": [],
   "source": [
    "bad_data_final_df = spark.read \\\n",
    "    .option(\"header\", True) \\\n",
    "    .format(\"csv\") \\\n",
    "    .option(\"inferSchema\", True) \\\n",
    "    .load(\"/user/itv016478/lendingclubproject/bad/bad_data_final\")\n"
   ]
  },
  {
   "cell_type": "code",
   "execution_count": 22,
   "id": "7a07eb46",
   "metadata": {},
   "outputs": [
    {
     "data": {
      "text/html": [
       "<table border='1'>\n",
       "<tr><th></th></tr>\n",
       "</table>\n"
      ],
      "text/plain": [
       "++\n",
       "||\n",
       "++\n",
       "++"
      ]
     },
     "execution_count": 22,
     "metadata": {},
     "output_type": "execute_result"
    }
   ],
   "source": [
    "spark.sql(\"USE itv016478_lending_clubb\")"
   ]
  },
  {
   "cell_type": "code",
   "execution_count": 23,
   "id": "774ccfbb",
   "metadata": {},
   "outputs": [
    {
     "data": {
      "text/html": [
       "<table border='1'>\n",
       "<tr><th>database</th><th>tableName</th><th>isTemporary</th></tr>\n",
       "<tr><td>itv016478_lending...</td><td>customers</td><td>false</td></tr>\n",
       "<tr><td>itv016478_lending...</td><td>customers_loan_a</td><td>false</td></tr>\n",
       "<tr><td>itv016478_lending...</td><td>customers_loan_l</td><td>false</td></tr>\n",
       "<tr><td>itv016478_lending...</td><td>customers_loan_s</td><td>false</td></tr>\n",
       "<tr><td>itv016478_lending...</td><td>customers_loan_t</td><td>false</td></tr>\n",
       "<tr><td>itv016478_lending...</td><td>customers_loan_v</td><td>false</td></tr>\n",
       "<tr><td>itv016478_lending...</td><td>customers_loan_vv</td><td>false</td></tr>\n",
       "<tr><td>itv016478_lending...</td><td>customerstest</td><td>false</td></tr>\n",
       "<tr><td>itv016478_lending...</td><td>loans</td><td>false</td></tr>\n",
       "<tr><td>itv016478_lending...</td><td>loans_delinq</td><td>false</td></tr>\n",
       "<tr><td>itv016478_lending...</td><td>loans_enq</td><td>false</td></tr>\n",
       "<tr><td>itv016478_lending...</td><td>loans_enqq</td><td>false</td></tr>\n",
       "<tr><td>itv016478_lending...</td><td>loans_enqqtest</td><td>false</td></tr>\n",
       "<tr><td>itv016478_lending...</td><td>loans_new_delinq</td><td>false</td></tr>\n",
       "<tr><td>itv016478_lending...</td><td>loans_new_enqq</td><td>false</td></tr>\n",
       "<tr><td>itv016478_lending...</td><td>loans_new_enqq_final</td><td>false</td></tr>\n",
       "<tr><td>itv016478_lending...</td><td>loans_new_enqq_fi...</td><td>false</td></tr>\n",
       "<tr><td>itv016478_lending...</td><td>loans_new_enqq_tt</td><td>false</td></tr>\n",
       "<tr><td>itv016478_lending...</td><td>loans_repay</td><td>false</td></tr>\n",
       "<tr><td>itv016478_lending...</td><td>loanstest</td><td>false</td></tr>\n",
       "</table>\n",
       "only showing top 20 rows\n"
      ],
      "text/plain": [
       "+--------------------+--------------------+-----------+\n",
       "|            database|           tableName|isTemporary|\n",
       "+--------------------+--------------------+-----------+\n",
       "|itv016478_lending...|           customers|      false|\n",
       "|itv016478_lending...|    customers_loan_a|      false|\n",
       "|itv016478_lending...|    customers_loan_l|      false|\n",
       "|itv016478_lending...|    customers_loan_s|      false|\n",
       "|itv016478_lending...|    customers_loan_t|      false|\n",
       "|itv016478_lending...|    customers_loan_v|      false|\n",
       "|itv016478_lending...|   customers_loan_vv|      false|\n",
       "|itv016478_lending...|       customerstest|      false|\n",
       "|itv016478_lending...|               loans|      false|\n",
       "|itv016478_lending...|        loans_delinq|      false|\n",
       "|itv016478_lending...|           loans_enq|      false|\n",
       "|itv016478_lending...|          loans_enqq|      false|\n",
       "|itv016478_lending...|      loans_enqqtest|      false|\n",
       "|itv016478_lending...|    loans_new_delinq|      false|\n",
       "|itv016478_lending...|      loans_new_enqq|      false|\n",
       "|itv016478_lending...|loans_new_enqq_final|      false|\n",
       "|itv016478_lending...|loans_new_enqq_fi...|      false|\n",
       "|itv016478_lending...|   loans_new_enqq_tt|      false|\n",
       "|itv016478_lending...|         loans_repay|      false|\n",
       "|itv016478_lending...|           loanstest|      false|\n",
       "+--------------------+--------------------+-----------+\n",
       "only showing top 20 rows"
      ]
     },
     "execution_count": 23,
     "metadata": {},
     "output_type": "execute_result"
    }
   ],
   "source": [
    "spark.sql(\"SHOW TABLES\")"
   ]
  },
  {
   "cell_type": "code",
   "execution_count": 24,
   "id": "47fec047",
   "metadata": {},
   "outputs": [
    {
     "data": {
      "text/html": [
       "<table border='1'>\n",
       "<tr><th>member_id</th><th>emp_title</th><th>emp_length</th><th>home_ownership</th><th>annual_income</th><th>address_state</th><th>address_zipcode</th><th>address_country</th><th>grade</th><th>sub_grade</th><th>verification_status</th><th>total_high_credit_limit</th><th>application_type</th><th>join_annual_income</th><th>verification_status_joint</th><th>ingest_date</th></tr>\n",
       "<tr><td>87652e41c28bb7ad2...</td><td>Account Manager</td><td>3</td><td>OWN</td><td>105000.0</td><td>CO</td><td>802xx</td><td>USA</td><td>C</td><td>C2</td><td>Not Verified</td><td>64900.0</td><td>Individual</td><td>null</td><td>null</td><td>2025-05-12 14:38:...</td></tr>\n",
       "<tr><td>2a56b01b073ffade8...</td><td>letter carrier</td><td>10</td><td>MORTGAGE</td><td>70000.0</td><td>NV</td><td>890xx</td><td>USA</td><td>B</td><td>B3</td><td>Source Verified</td><td>38962.0</td><td>Individual</td><td>null</td><td>null</td><td>2025-05-12 14:38:...</td></tr>\n",
       "<tr><td>c1517068e054959f9...</td><td>Inside Sales</td><td>2</td><td>MORTGAGE</td><td>51000.0</td><td>CO</td><td>801xx</td><td>USA</td><td>A</td><td>A3</td><td>Not Verified</td><td>316883.0</td><td>Individual</td><td>null</td><td>null</td><td>2025-05-12 14:38:...</td></tr>\n",
       "<tr><td>4aa52ed021923756d...</td><td>Billing</td><td>4</td><td>OWN</td><td>26000.0</td><td>CT</td><td>064xx</td><td>USA</td><td>D</td><td>D4</td><td>Verified</td><td>62203.0</td><td>Individual</td><td>null</td><td>null</td><td>2025-05-12 14:38:...</td></tr>\n",
       "<tr><td>75a21005006873982...</td><td>shift supervisor</td><td>10</td><td>RENT</td><td>72000.0</td><td>CO</td><td>801xx</td><td>USA</td><td>A</td><td>A5</td><td>Verified</td><td>116361.0</td><td>Individual</td><td>null</td><td>null</td><td>2025-05-12 14:38:...</td></tr>\n",
       "<tr><td>ff16e6a8fef0655de...</td><td>Project Planner</td><td>2</td><td>RENT</td><td>55000.0</td><td>CA</td><td>926xx</td><td>USA</td><td>B</td><td>B1</td><td>Source Verified</td><td>34615.0</td><td>Individual</td><td>null</td><td>null</td><td>2025-05-12 14:38:...</td></tr>\n",
       "<tr><td>4b697403fe1e51bb6...</td><td>Attorney</td><td>1</td><td>MORTGAGE</td><td>67500.0</td><td>TX</td><td>750xx</td><td>USA</td><td>C</td><td>C4</td><td>Source Verified</td><td>255514.0</td><td>Individual</td><td>null</td><td>null</td><td>2025-05-12 14:38:...</td></tr>\n",
       "<tr><td>aac5c9a9d16799085...</td><td>Surface electrician</td><td>10</td><td>OWN</td><td>104000.0</td><td>WV</td><td>265xx</td><td>USA</td><td>C</td><td>C3</td><td>Verified</td><td>151936.0</td><td>Individual</td><td>null</td><td>null</td><td>2025-05-12 14:38:...</td></tr>\n",
       "<tr><td>867ac0f0ea5d9d82b...</td><td>Paralegal</td><td>3</td><td>OWN</td><td>38000.0</td><td>CT</td><td>067xx</td><td>USA</td><td>C</td><td>C1</td><td>Source Verified</td><td>29465.0</td><td>Individual</td><td>null</td><td>null</td><td>2025-05-12 14:38:...</td></tr>\n",
       "<tr><td>5f20b644324ae0322...</td><td>owner</td><td>2</td><td>RENT</td><td>74000.0</td><td>CA</td><td>941xx</td><td>USA</td><td>C</td><td>C1</td><td>Source Verified</td><td>46790.0</td><td>Individual</td><td>null</td><td>null</td><td>2025-05-12 14:38:...</td></tr>\n",
       "<tr><td>c94cbb8061fada062...</td><td>Supervisor</td><td>10</td><td>RENT</td><td>50000.0</td><td>AR</td><td>721xx</td><td>USA</td><td>D</td><td>D3</td><td>Verified</td><td>63600.0</td><td>Individual</td><td>null</td><td>null</td><td>2025-05-12 14:38:...</td></tr>\n",
       "<tr><td>3d255d681ef7e582d...</td><td>bookkeeper</td><td>10</td><td>RENT</td><td>28000.0</td><td>MA</td><td>026xx</td><td>USA</td><td>B</td><td>B3</td><td>Verified</td><td>23677.0</td><td>Individual</td><td>null</td><td>null</td><td>2025-05-12 14:38:...</td></tr>\n",
       "<tr><td>614b08ec1ff990a8d...</td><td>driving own car</td><td>4</td><td>RENT</td><td>140000.0</td><td>NY</td><td>112xx</td><td>USA</td><td>B</td><td>B5</td><td>Source Verified</td><td>77502.0</td><td>Individual</td><td>null</td><td>null</td><td>2025-05-12 14:38:...</td></tr>\n",
       "<tr><td>9b22a17fd1183ab3e...</td><td>irrigation foreman</td><td>5</td><td>MORTGAGE</td><td>24960.0</td><td>FL</td><td>349xx</td><td>USA</td><td>A</td><td>A4</td><td>Source Verified</td><td>135016.0</td><td>Individual</td><td>null</td><td>null</td><td>2025-05-12 14:38:...</td></tr>\n",
       "<tr><td>425edc011da721edb...</td><td>crew leader</td><td>10</td><td>MORTGAGE</td><td>31000.0</td><td>MI</td><td>490xx</td><td>USA</td><td>E</td><td>E1</td><td>Source Verified</td><td>62500.0</td><td>Individual</td><td>null</td><td>null</td><td>2025-05-12 14:38:...</td></tr>\n",
       "<tr><td>c7b0287936e2595e8...</td><td>IT Specialist</td><td>5</td><td>OWN</td><td>93805.0</td><td>DC</td><td>200xx</td><td>USA</td><td>F</td><td>F3</td><td>Verified</td><td>578477.0</td><td>Individual</td><td>null</td><td>null</td><td>2025-05-12 14:38:...</td></tr>\n",
       "<tr><td>056638762d85f9d75...</td><td>stocker</td><td>10</td><td>OWN</td><td>35000.0</td><td>WA</td><td>992xx</td><td>USA</td><td>B</td><td>B3</td><td>Not Verified</td><td>60846.0</td><td>Individual</td><td>null</td><td>null</td><td>2025-05-12 14:38:...</td></tr>\n",
       "<tr><td>f739582d3dd1516c2...</td><td>null</td><td>6</td><td>MORTGAGE</td><td>52000.0</td><td>FL</td><td>330xx</td><td>USA</td><td>D</td><td>D4</td><td>Source Verified</td><td>33100.0</td><td>Individual</td><td>null</td><td>null</td><td>2025-05-12 14:38:...</td></tr>\n",
       "<tr><td>7a8d3b4046a9b6e6a...</td><td>Manager</td><td>5</td><td>RENT</td><td>98500.0</td><td>FL</td><td>334xx</td><td>USA</td><td>B</td><td>B1</td><td>Not Verified</td><td>156913.0</td><td>Individual</td><td>null</td><td>null</td><td>2025-05-12 14:38:...</td></tr>\n",
       "<tr><td>a141a466e2e8de8ef...</td><td>CAREER PLANNER</td><td>10</td><td>MORTGAGE</td><td>92000.0</td><td>NC</td><td>285xx</td><td>USA</td><td>C</td><td>C2</td><td>Not Verified</td><td>278023.0</td><td>Individual</td><td>null</td><td>null</td><td>2025-05-12 14:38:...</td></tr>\n",
       "</table>\n",
       "only showing top 20 rows\n"
      ],
      "text/plain": [
       "+--------------------+-------------------+----------+--------------+-------------+-------------+---------------+---------------+-----+---------+-------------------+-----------------------+----------------+------------------+-------------------------+--------------------+\n",
       "|           member_id|          emp_title|emp_length|home_ownership|annual_income|address_state|address_zipcode|address_country|grade|sub_grade|verification_status|total_high_credit_limit|application_type|join_annual_income|verification_status_joint|         ingest_date|\n",
       "+--------------------+-------------------+----------+--------------+-------------+-------------+---------------+---------------+-----+---------+-------------------+-----------------------+----------------+------------------+-------------------------+--------------------+\n",
       "|87652e41c28bb7ad2...|    Account Manager|         3|           OWN|     105000.0|           CO|          802xx|            USA|    C|       C2|       Not Verified|                64900.0|      Individual|              null|                     null|2025-05-12 14:38:...|\n",
       "|2a56b01b073ffade8...|     letter carrier|        10|      MORTGAGE|      70000.0|           NV|          890xx|            USA|    B|       B3|    Source Verified|                38962.0|      Individual|              null|                     null|2025-05-12 14:38:...|\n",
       "|c1517068e054959f9...|       Inside Sales|         2|      MORTGAGE|      51000.0|           CO|          801xx|            USA|    A|       A3|       Not Verified|               316883.0|      Individual|              null|                     null|2025-05-12 14:38:...|\n",
       "|4aa52ed021923756d...|            Billing|         4|           OWN|      26000.0|           CT|          064xx|            USA|    D|       D4|           Verified|                62203.0|      Individual|              null|                     null|2025-05-12 14:38:...|\n",
       "|75a21005006873982...|   shift supervisor|        10|          RENT|      72000.0|           CO|          801xx|            USA|    A|       A5|           Verified|               116361.0|      Individual|              null|                     null|2025-05-12 14:38:...|\n",
       "|ff16e6a8fef0655de...|    Project Planner|         2|          RENT|      55000.0|           CA|          926xx|            USA|    B|       B1|    Source Verified|                34615.0|      Individual|              null|                     null|2025-05-12 14:38:...|\n",
       "|4b697403fe1e51bb6...|           Attorney|         1|      MORTGAGE|      67500.0|           TX|          750xx|            USA|    C|       C4|    Source Verified|               255514.0|      Individual|              null|                     null|2025-05-12 14:38:...|\n",
       "|aac5c9a9d16799085...|Surface electrician|        10|           OWN|     104000.0|           WV|          265xx|            USA|    C|       C3|           Verified|               151936.0|      Individual|              null|                     null|2025-05-12 14:38:...|\n",
       "|867ac0f0ea5d9d82b...|          Paralegal|         3|           OWN|      38000.0|           CT|          067xx|            USA|    C|       C1|    Source Verified|                29465.0|      Individual|              null|                     null|2025-05-12 14:38:...|\n",
       "|5f20b644324ae0322...|              owner|         2|          RENT|      74000.0|           CA|          941xx|            USA|    C|       C1|    Source Verified|                46790.0|      Individual|              null|                     null|2025-05-12 14:38:...|\n",
       "|c94cbb8061fada062...|         Supervisor|        10|          RENT|      50000.0|           AR|          721xx|            USA|    D|       D3|           Verified|                63600.0|      Individual|              null|                     null|2025-05-12 14:38:...|\n",
       "|3d255d681ef7e582d...|         bookkeeper|        10|          RENT|      28000.0|           MA|          026xx|            USA|    B|       B3|           Verified|                23677.0|      Individual|              null|                     null|2025-05-12 14:38:...|\n",
       "|614b08ec1ff990a8d...|    driving own car|         4|          RENT|     140000.0|           NY|          112xx|            USA|    B|       B5|    Source Verified|                77502.0|      Individual|              null|                     null|2025-05-12 14:38:...|\n",
       "|9b22a17fd1183ab3e...| irrigation foreman|         5|      MORTGAGE|      24960.0|           FL|          349xx|            USA|    A|       A4|    Source Verified|               135016.0|      Individual|              null|                     null|2025-05-12 14:38:...|\n",
       "|425edc011da721edb...|        crew leader|        10|      MORTGAGE|      31000.0|           MI|          490xx|            USA|    E|       E1|    Source Verified|                62500.0|      Individual|              null|                     null|2025-05-12 14:38:...|\n",
       "|c7b0287936e2595e8...|      IT Specialist|         5|           OWN|      93805.0|           DC|          200xx|            USA|    F|       F3|           Verified|               578477.0|      Individual|              null|                     null|2025-05-12 14:38:...|\n",
       "|056638762d85f9d75...|            stocker|        10|           OWN|      35000.0|           WA|          992xx|            USA|    B|       B3|       Not Verified|                60846.0|      Individual|              null|                     null|2025-05-12 14:38:...|\n",
       "|f739582d3dd1516c2...|               null|         6|      MORTGAGE|      52000.0|           FL|          330xx|            USA|    D|       D4|    Source Verified|                33100.0|      Individual|              null|                     null|2025-05-12 14:38:...|\n",
       "|7a8d3b4046a9b6e6a...|            Manager|         5|          RENT|      98500.0|           FL|          334xx|            USA|    B|       B1|       Not Verified|               156913.0|      Individual|              null|                     null|2025-05-12 14:38:...|\n",
       "|a141a466e2e8de8ef...|     CAREER PLANNER|        10|      MORTGAGE|      92000.0|           NC|          285xx|            USA|    C|       C2|       Not Verified|               278023.0|      Individual|              null|                     null|2025-05-12 14:38:...|\n",
       "+--------------------+-------------------+----------+--------------+-------------+-------------+---------------+---------------+-----+---------+-------------------+-----------------------+----------------+------------------+-------------------------+--------------------+\n",
       "only showing top 20 rows"
      ]
     },
     "execution_count": 24,
     "metadata": {},
     "output_type": "execute_result"
    }
   ],
   "source": [
    "spark.sql(\"SELECT * FROM itv016478_lending_clubb.customerstest\")"
   ]
  },
  {
   "cell_type": "code",
   "execution_count": 25,
   "id": "f3e44afd",
   "metadata": {},
   "outputs": [
    {
     "data": {
      "text/html": [
       "<table border='1'>\n",
       "<tr><th>loan_id</th><th>member_id</th><th>loan_amount</th><th>funded_amount</th><th>loan_term_years</th><th>interest_rate</th><th>monthly_installment</th><th>issue_date</th><th>loan_status</th><th>loan_purpose</th><th>loan_title</th><th>ingest_date</th></tr>\n",
       "<tr><td>68407277</td><td>6d5091b3fcaaeb4ea...</td><td>3600.0</td><td>3600.0</td><td>3</td><td>13.99</td><td>123.03</td><td>Dec-2015</td><td>Fully Paid</td><td>debt_consolidation</td><td>Debt consolidation</td><td>2025-05-28 07:31:...</td></tr>\n",
       "<tr><td>68355089</td><td>b5e7938b0a2da4cea...</td><td>24700.0</td><td>24700.0</td><td>3</td><td>11.99</td><td>820.28</td><td>Dec-2015</td><td>Fully Paid</td><td>small_business</td><td>Business</td><td>2025-05-28 07:31:...</td></tr>\n",
       "<tr><td>68341763</td><td>91060b858433e8a61...</td><td>20000.0</td><td>20000.0</td><td>5</td><td>10.78</td><td>432.66</td><td>Dec-2015</td><td>Fully Paid</td><td>home_improvement</td><td>null</td><td>2025-05-28 07:31:...</td></tr>\n",
       "<tr><td>66310712</td><td>cab1fa9f533688b0a...</td><td>35000.0</td><td>35000.0</td><td>5</td><td>14.85</td><td>829.9</td><td>Dec-2015</td><td>Current</td><td>debt_consolidation</td><td>Debt consolidation</td><td>2025-05-28 07:31:...</td></tr>\n",
       "<tr><td>68476807</td><td>f74e401c1ab0adf78...</td><td>10400.0</td><td>10400.0</td><td>5</td><td>22.45</td><td>289.91</td><td>Dec-2015</td><td>Fully Paid</td><td>major_purchase</td><td>Major purchase</td><td>2025-05-28 07:31:...</td></tr>\n",
       "<tr><td>68426831</td><td>8aef4bb29d609d8d6...</td><td>11950.0</td><td>11950.0</td><td>3</td><td>13.44</td><td>405.18</td><td>Dec-2015</td><td>Fully Paid</td><td>debt_consolidation</td><td>Debt consolidation</td><td>2025-05-28 07:31:...</td></tr>\n",
       "<tr><td>68476668</td><td>538b4653da3b1e814...</td><td>20000.0</td><td>20000.0</td><td>3</td><td>9.17</td><td>637.58</td><td>Dec-2015</td><td>Fully Paid</td><td>debt_consolidation</td><td>Debt consolidation</td><td>2025-05-28 07:31:...</td></tr>\n",
       "<tr><td>67275481</td><td>b24d55f21390533c5...</td><td>20000.0</td><td>20000.0</td><td>3</td><td>8.49</td><td>631.26</td><td>Dec-2015</td><td>Fully Paid</td><td>major_purchase</td><td>Major purchase</td><td>2025-05-28 07:31:...</td></tr>\n",
       "<tr><td>68466926</td><td>1035c5401b0ca76d0...</td><td>10000.0</td><td>10000.0</td><td>3</td><td>6.49</td><td>306.45</td><td>Dec-2015</td><td>Fully Paid</td><td>credit_card</td><td>Credit card refin...</td><td>2025-05-28 07:31:...</td></tr>\n",
       "<tr><td>68616873</td><td>cb0f1777593e77909...</td><td>8000.0</td><td>8000.0</td><td>3</td><td>11.48</td><td>263.74</td><td>Dec-2015</td><td>Fully Paid</td><td>credit_card</td><td>Credit card refin...</td><td>2025-05-28 07:31:...</td></tr>\n",
       "<tr><td>68356421</td><td>a962f4d59caec5fa1...</td><td>22400.0</td><td>22400.0</td><td>5</td><td>12.88</td><td>508.3</td><td>Dec-2015</td><td>Current</td><td>debt_consolidation</td><td>Debt consolidation</td><td>2025-05-28 07:31:...</td></tr>\n",
       "<tr><td>68426545</td><td>e7592ab57b3afd9f1...</td><td>16000.0</td><td>16000.0</td><td>5</td><td>12.88</td><td>363.07</td><td>Dec-2015</td><td>Current</td><td>debt_consolidation</td><td>Debt consolidation</td><td>2025-05-28 07:31:...</td></tr>\n",
       "<tr><td>68338832</td><td>603afa9d1be879b7b...</td><td>1400.0</td><td>1400.0</td><td>3</td><td>12.88</td><td>47.1</td><td>Dec-2015</td><td>Fully Paid</td><td>other</td><td>null</td><td>2025-05-28 07:31:...</td></tr>\n",
       "<tr><td>66624733</td><td>9fe2d59ddf2a4f37e...</td><td>18000.0</td><td>18000.0</td><td>5</td><td>19.48</td><td>471.7</td><td>Dec-2015</td><td>Charged Off</td><td>debt_consolidation</td><td>Debt consolidation</td><td>2025-05-28 07:31:...</td></tr>\n",
       "<tr><td>68466961</td><td>23857480ccf555ce4...</td><td>28000.0</td><td>28000.0</td><td>3</td><td>6.49</td><td>858.05</td><td>Dec-2015</td><td>Fully Paid</td><td>debt_consolidation</td><td>Debt consolidation</td><td>2025-05-28 07:31:...</td></tr>\n",
       "<tr><td>68354783</td><td>7c69d5f36fdabf6e1...</td><td>9600.0</td><td>9600.0</td><td>3</td><td>7.49</td><td>298.58</td><td>Dec-2015</td><td>Fully Paid</td><td>credit_card</td><td>Credit card refin...</td><td>2025-05-28 07:31:...</td></tr>\n",
       "<tr><td>68466916</td><td>08bf9e080503b0113...</td><td>25000.0</td><td>25000.0</td><td>3</td><td>7.49</td><td>777.55</td><td>Dec-2015</td><td>Fully Paid</td><td>debt_consolidation</td><td>Debt consolidation</td><td>2025-05-28 07:31:...</td></tr>\n",
       "<tr><td>68577849</td><td>1cafb05aa6c894c30...</td><td>18000.0</td><td>18000.0</td><td>5</td><td>11.99</td><td>400.31</td><td>Dec-2015</td><td>Fully Paid</td><td>debt_consolidation</td><td>Debt consolidation</td><td>2025-05-28 07:31:...</td></tr>\n",
       "<tr><td>68506798</td><td>f2c4010f700d8c9c4...</td><td>23000.0</td><td>23000.0</td><td>5</td><td>8.49</td><td>471.77</td><td>Dec-2015</td><td>Current</td><td>credit_card</td><td>Credit card refin...</td><td>2025-05-28 07:31:...</td></tr>\n",
       "<tr><td>68495092</td><td>05ad4aed7c393035e...</td><td>8650.0</td><td>8650.0</td><td>3</td><td>19.89</td><td>320.99</td><td>Dec-2015</td><td>Fully Paid</td><td>debt_consolidation</td><td>Debt consolidation</td><td>2025-05-28 07:31:...</td></tr>\n",
       "</table>\n",
       "only showing top 20 rows\n"
      ],
      "text/plain": [
       "+--------+--------------------+-----------+-------------+---------------+-------------+-------------------+----------+-----------+------------------+--------------------+--------------------+\n",
       "| loan_id|           member_id|loan_amount|funded_amount|loan_term_years|interest_rate|monthly_installment|issue_date|loan_status|      loan_purpose|          loan_title|         ingest_date|\n",
       "+--------+--------------------+-----------+-------------+---------------+-------------+-------------------+----------+-----------+------------------+--------------------+--------------------+\n",
       "|68407277|6d5091b3fcaaeb4ea...|     3600.0|       3600.0|              3|        13.99|             123.03|  Dec-2015| Fully Paid|debt_consolidation|  Debt consolidation|2025-05-28 07:31:...|\n",
       "|68355089|b5e7938b0a2da4cea...|    24700.0|      24700.0|              3|        11.99|             820.28|  Dec-2015| Fully Paid|    small_business|            Business|2025-05-28 07:31:...|\n",
       "|68341763|91060b858433e8a61...|    20000.0|      20000.0|              5|        10.78|             432.66|  Dec-2015| Fully Paid|  home_improvement|                null|2025-05-28 07:31:...|\n",
       "|66310712|cab1fa9f533688b0a...|    35000.0|      35000.0|              5|        14.85|              829.9|  Dec-2015|    Current|debt_consolidation|  Debt consolidation|2025-05-28 07:31:...|\n",
       "|68476807|f74e401c1ab0adf78...|    10400.0|      10400.0|              5|        22.45|             289.91|  Dec-2015| Fully Paid|    major_purchase|      Major purchase|2025-05-28 07:31:...|\n",
       "|68426831|8aef4bb29d609d8d6...|    11950.0|      11950.0|              3|        13.44|             405.18|  Dec-2015| Fully Paid|debt_consolidation|  Debt consolidation|2025-05-28 07:31:...|\n",
       "|68476668|538b4653da3b1e814...|    20000.0|      20000.0|              3|         9.17|             637.58|  Dec-2015| Fully Paid|debt_consolidation|  Debt consolidation|2025-05-28 07:31:...|\n",
       "|67275481|b24d55f21390533c5...|    20000.0|      20000.0|              3|         8.49|             631.26|  Dec-2015| Fully Paid|    major_purchase|      Major purchase|2025-05-28 07:31:...|\n",
       "|68466926|1035c5401b0ca76d0...|    10000.0|      10000.0|              3|         6.49|             306.45|  Dec-2015| Fully Paid|       credit_card|Credit card refin...|2025-05-28 07:31:...|\n",
       "|68616873|cb0f1777593e77909...|     8000.0|       8000.0|              3|        11.48|             263.74|  Dec-2015| Fully Paid|       credit_card|Credit card refin...|2025-05-28 07:31:...|\n",
       "|68356421|a962f4d59caec5fa1...|    22400.0|      22400.0|              5|        12.88|              508.3|  Dec-2015|    Current|debt_consolidation|  Debt consolidation|2025-05-28 07:31:...|\n",
       "|68426545|e7592ab57b3afd9f1...|    16000.0|      16000.0|              5|        12.88|             363.07|  Dec-2015|    Current|debt_consolidation|  Debt consolidation|2025-05-28 07:31:...|\n",
       "|68338832|603afa9d1be879b7b...|     1400.0|       1400.0|              3|        12.88|               47.1|  Dec-2015| Fully Paid|             other|                null|2025-05-28 07:31:...|\n",
       "|66624733|9fe2d59ddf2a4f37e...|    18000.0|      18000.0|              5|        19.48|              471.7|  Dec-2015|Charged Off|debt_consolidation|  Debt consolidation|2025-05-28 07:31:...|\n",
       "|68466961|23857480ccf555ce4...|    28000.0|      28000.0|              3|         6.49|             858.05|  Dec-2015| Fully Paid|debt_consolidation|  Debt consolidation|2025-05-28 07:31:...|\n",
       "|68354783|7c69d5f36fdabf6e1...|     9600.0|       9600.0|              3|         7.49|             298.58|  Dec-2015| Fully Paid|       credit_card|Credit card refin...|2025-05-28 07:31:...|\n",
       "|68466916|08bf9e080503b0113...|    25000.0|      25000.0|              3|         7.49|             777.55|  Dec-2015| Fully Paid|debt_consolidation|  Debt consolidation|2025-05-28 07:31:...|\n",
       "|68577849|1cafb05aa6c894c30...|    18000.0|      18000.0|              5|        11.99|             400.31|  Dec-2015| Fully Paid|debt_consolidation|  Debt consolidation|2025-05-28 07:31:...|\n",
       "|68506798|f2c4010f700d8c9c4...|    23000.0|      23000.0|              5|         8.49|             471.77|  Dec-2015|    Current|       credit_card|Credit card refin...|2025-05-28 07:31:...|\n",
       "|68495092|05ad4aed7c393035e...|     8650.0|       8650.0|              3|        19.89|             320.99|  Dec-2015| Fully Paid|debt_consolidation|  Debt consolidation|2025-05-28 07:31:...|\n",
       "+--------+--------------------+-----------+-------------+---------------+-------------+-------------------+----------+-----------+------------------+--------------------+--------------------+\n",
       "only showing top 20 rows"
      ]
     },
     "execution_count": 25,
     "metadata": {},
     "output_type": "execute_result"
    }
   ],
   "source": [
    "spark.sql(\"select * from loanstest\")"
   ]
  },
  {
   "cell_type": "code",
   "execution_count": null,
   "id": "1de4d474",
   "metadata": {},
   "outputs": [],
   "source": []
  },
  {
   "cell_type": "code",
   "execution_count": 26,
   "id": "cca28447",
   "metadata": {},
   "outputs": [
    {
     "name": "stdout",
     "output_type": "stream",
     "text": [
      "+--------+------------------------+-----------------------+-----------------------+----------------------+-------------------+-----------------+-----------------+\n",
      "| loan_id|total_principal_received|total_interest_received|total_late_fee_received|total_payment_received|last_payment_amount|last_payment_date|next_payment_date|\n",
      "+--------+------------------------+-----------------------+-----------------------+----------------------+-------------------+-----------------+-----------------+\n",
      "|76003861|                  6423.8|                5607.85|                    0.0|              12031.65|             574.88|         Jan-2018|             null|\n",
      "|76263914|                  2400.0|                 323.18|                    0.0|             2723.1802|             905.18|         Dec-2017|             null|\n",
      "|75537401|                 12600.0|                1392.76|                    0.0|             13992.757|            3437.74|         Aug-2018|             null|\n",
      "|75038986|                 7805.03|                7583.71|                    0.0|              15388.74|             440.72|         Mar-2019|         Apr-2019|\n",
      "|76301424|                 2614.78|                1080.09|                    0.0|               3694.87|             153.89|         Apr-2018|             null|\n",
      "|75333198|                 8664.09|                3431.32|                   68.8|              12164.21|              343.9|         Mar-2019|         Apr-2019|\n",
      "|76391453|                 35000.0|               10266.01|                    0.0|             45266.008|           18884.35|         Feb-2019|             null|\n",
      "|76363364|                 15000.0|                2093.11|                    0.0|             17093.107|            4648.59|         Aug-2018|             null|\n",
      "|76272510|                14463.21|               11178.79|                 110.13|              25752.13|             734.18|         Mar-2019|         Apr-2019|\n",
      "|76304116|                  4800.0|                1051.65|                    0.0|             5851.6523|            1761.59|         Dec-2017|             null|\n",
      "|76422971|                 2222.99|                1457.74|                    0.0|               4357.37|             369.25|         Feb-2017|             null|\n",
      "|75369187|                17855.93|                9340.74|                    0.0|              27196.67|             778.38|         Mar-2019|         Apr-2019|\n",
      "|76212079|                 6197.74|                 935.75|                    0.0|               7133.49|              204.0|         Mar-2019|         Apr-2019|\n",
      "|75104089|                  8500.0|                1208.95|                    0.0|              9708.954|             213.62|         Feb-2019|             null|\n",
      "|75669444|                14313.44|               13782.05|                    0.0|              28095.49|             807.98|         Feb-2019|         Apr-2019|\n",
      "|76223382|                 1936.79|                 292.42|                    0.0|               2229.21|              63.75|         Mar-2019|         Apr-2019|\n",
      "|76223540|                 25000.0|                3383.18|                 134.19|             28517.375|            5107.74|         Apr-2017|             null|\n",
      "|76255093|                  7000.0|                1830.84|                    0.0|              8830.839|             435.99|         Jan-2019|             null|\n",
      "|76402196|                 7731.33|                1787.84|                    0.0|               9519.17|             272.15|         Mar-2019|         Apr-2019|\n",
      "|76223437|                 24000.0|                3186.22|                    0.0|             27186.223|            8110.44|         Jun-2018|             null|\n",
      "+--------+------------------------+-----------------------+-----------------------+----------------------+-------------------+-----------------+-----------------+\n",
      "only showing top 20 rows\n",
      "\n"
     ]
    }
   ],
   "source": [
    "spark.sql(\"SELECT * FROM loans_repay\").show()"
   ]
  },
  {
   "cell_type": "code",
   "execution_count": 27,
   "id": "b74209cf",
   "metadata": {},
   "outputs": [],
   "source": [
    "#1) Loan score calculation - loan repayment history (ph)"
   ]
  },
  {
   "cell_type": "code",
   "execution_count": 28,
   "id": "6a59b402",
   "metadata": {},
   "outputs": [],
   "source": [
    "bad_data_final_df.createOrReplaceTempView(\"bad_data_final\")"
   ]
  },
  {
   "cell_type": "code",
   "execution_count": 29,
   "id": "821547c6",
   "metadata": {},
   "outputs": [],
   "source": [
    "ph_df = spark.sql(f\"\"\"\n",
    "    SELECT l.member_id ,\\\n",
    "        CASE\n",
    "            WHEN r.last_payment_amount < (l.monthly_installment * 0.5) THEN {very_bad_rated_pts}\n",
    "            WHEN r.last_payment_amount >= (l.monthly_installment * 0.5) AND r.last_payment_amount < l.monthly_installment THEN {bad_rated_pts}\n",
    "            WHEN r.last_payment_amount = l.monthly_installment THEN {good_rated_pts}\n",
    "            WHEN r.last_payment_amount > l.monthly_installment AND r.last_payment_amount <= (l.monthly_installment * 1.5) THEN {very_good_rated_pts}\n",
    "            WHEN r.last_payment_amount > (l.monthly_installment * 1.5) THEN {excellent_rated_pts}\n",
    "            ELSE {unacceptable_rated_pts}\n",
    "        END AS last_payment_pts,\n",
    "        \n",
    "        CASE\n",
    "            WHEN r.total_payment_received >= (l.funded_amount * 0.50) THEN {very_good_rated_pts}\n",
    "            WHEN r.total_payment_received < (l.funded_amount * 0.50) AND r.total_payment_received > 0 THEN {good_rated_pts}\n",
    "            WHEN r.total_payment_received = 0 OR r.total_payment_received IS NULL THEN {unacceptable_rated_pts}\n",
    "        END AS total_payment_pts\n",
    "\n",
    "    FROM itv016478_lending_clubb.loans_repay r\n",
    "    INNER JOIN itv016478_lending_clubb.loanstest l ON l.loan_id = r.loan_id\n",
    "    WHERE l.member_id NOT IN (SELECT member_id FROM bad_data_final)\n",
    "\"\"\")"
   ]
  },
  {
   "cell_type": "code",
   "execution_count": 30,
   "id": "a18e8aed",
   "metadata": {},
   "outputs": [],
   "source": [
    "ph_df.createOrReplaceTempView(\"ph_pts\")"
   ]
  },
  {
   "cell_type": "code",
   "execution_count": 31,
   "id": "b6afb159",
   "metadata": {},
   "outputs": [
    {
     "name": "stdout",
     "output_type": "stream",
     "text": [
      "+--------------------+----------------+-----------------+\n",
      "|           member_id|last_payment_pts|total_payment_pts|\n",
      "+--------------------+----------------+-----------------+\n",
      "|dcec9334e70f1cc95...|             800|              650|\n",
      "|fc58ca61f51f9dcac...|             500|              650|\n",
      "|2fb62a6ca51063b11...|             500|              650|\n",
      "|488268a5531951622...|             800|              650|\n",
      "|ade6026208e48f5f9...|             500|              650|\n",
      "|7c8b0ca6acddfaeb1...|             800|              650|\n",
      "|a707b7fe7c38bad65...|             800|              650|\n",
      "|1df639cddea30c288...|             800|              650|\n",
      "|22d67005e12d8726d...|             500|              650|\n",
      "|009cf312bd46551b4...|             500|              650|\n",
      "|2d995d383622fa80e...|             500|              650|\n",
      "|88b97663d2562f239...|             500|              650|\n",
      "|097d871ba6f21ee37...|             500|              650|\n",
      "|82e698108e1b8b88a...|             500|              650|\n",
      "|9e89f004a01479234...|             500|              650|\n",
      "|28ea534e78570f8d1...|             800|              650|\n",
      "|27a6888d24e06f6e2...|             500|              650|\n",
      "|c0d144ae7ab17c793...|             500|              500|\n",
      "|56d1102515f7d6a32...|             800|              650|\n",
      "|ba484052baf1e604c...|             800|              650|\n",
      "+--------------------+----------------+-----------------+\n",
      "only showing top 20 rows\n",
      "\n"
     ]
    }
   ],
   "source": [
    "spark.sql(\"select * from ph_pts\").show()"
   ]
  },
  {
   "cell_type": "code",
   "execution_count": 32,
   "id": "fcb67581",
   "metadata": {},
   "outputs": [],
   "source": [
    "#2)Loan score calculation - loan defaulter history(ldh)\n",
    "\n"
   ]
  },
  {
   "cell_type": "code",
   "execution_count": 33,
   "id": "aa37f407",
   "metadata": {},
   "outputs": [],
   "source": [
    "ldh_ph_df = spark.sql(f\"\"\"\n",
    "    select ph.*, \\\n",
    "    CASE \n",
    "    WHEN d.delinq_2yrs = 0 THEN {excellent_rated_pts} \n",
    "    WHEN d.delinq_2yrs BETWEEN 1 AND 2 THEN {bad_rated_pts} \n",
    "    WHEN d.delinq_2yrs BETWEEN 3 AND 5 THEN {very_bad_rated_pts} \n",
    "    WHEN d.delinq_2yrs > 5 OR d.delinq_2yrs IS NULL THEN {unacceptable_rated_pts} \n",
    "    END AS delinq_pts, \n",
    "    CASE \n",
    "    WHEN l.pub_rec = 0 THEN {excellent_rated_pts} \n",
    "    WHEN l.pub_rec BETWEEN 1 AND 2 THEN {bad_rated_pts} \n",
    "    WHEN l.pub_rec BETWEEN 3 AND 5 THEN {very_bad_rated_pts} \n",
    "    WHEN l.pub_rec > 5 OR l.pub_rec IS NULL THEN {very_bad_rated_pts} \n",
    "    END AS public_records_pts, \n",
    "    CASE \n",
    "    WHEN l.pub_rec_bankruptcies = 0 THEN {excellent_rated_pts} \n",
    "    WHEN l.pub_rec_bankruptcies BETWEEN 1 AND 2 THEN {bad_rated_pts} \n",
    "    WHEN l.pub_rec_bankruptcies BETWEEN 3 AND 5 THEN {very_bad_rated_pts} \n",
    "    WHEN l.pub_rec_bankruptcies > 5 OR l.pub_rec_bankruptcies IS NULL THEN {very_bad_rated_pts} \n",
    "    END as public_bankruptcies_pts, \n",
    "    CASE \n",
    "    WHEN l.inq_last_6mths = 0 THEN {excellent_rated_pts} \n",
    "    WHEN l.inq_last_6mths BETWEEN 1 AND 2 THEN {bad_rated_pts} \n",
    "    WHEN l.inq_last_6mths BETWEEN 3 AND 5 THEN {very_bad_rated_pts} \n",
    "    WHEN l.inq_last_6mths > 5 OR l.inq_last_6mths IS NULL THEN {unacceptable_rated_pts} \n",
    "    END AS enq_pts \n",
    "    FROM itv016478_lending_clubb.loans_new_enqq_tt l \n",
    "    INNER JOIN itv016478_lending_clubb.loans_new_delinq d ON d.member_id = l.member_id\n",
    "    INNER JOIN ph_pts ph ON ph.member_id = l.member_id\n",
    "    WHERE l.member_id NOT IN (SELECT member_id FROM bad_data_final)\n",
    "\"\"\")"
   ]
  },
  {
   "cell_type": "code",
   "execution_count": 34,
   "id": "bb0c0d8b",
   "metadata": {},
   "outputs": [
    {
     "ename": "AnalysisException",
     "evalue": "Table or view not found for 'DESCRIBE TABLE': ldh_ph_pts; line 1 pos 0;\n'DescribeRelation true, [col_name#972, data_type#973, comment#974]\n+- 'UnresolvedTableOrView [ldh_ph_pts], DESCRIBE TABLE, true\n",
     "output_type": "error",
     "traceback": [
      "\u001b[0;31m---------------------------------------------------------------------------\u001b[0m",
      "\u001b[0;31mAnalysisException\u001b[0m                         Traceback (most recent call last)",
      "\u001b[0;32m<ipython-input-34-1eeb20b8de98>\u001b[0m in \u001b[0;36m<module>\u001b[0;34m\u001b[0m\n\u001b[0;32m----> 1\u001b[0;31m \u001b[0mspark\u001b[0m\u001b[0;34m.\u001b[0m\u001b[0msql\u001b[0m\u001b[0;34m(\u001b[0m\u001b[0;34m\"DESCRIBE FORMATTED ldh_ph_pts\"\u001b[0m\u001b[0;34m)\u001b[0m\u001b[0;34m.\u001b[0m\u001b[0mshow\u001b[0m\u001b[0;34m(\u001b[0m\u001b[0mtruncate\u001b[0m\u001b[0;34m=\u001b[0m\u001b[0;32mFalse\u001b[0m\u001b[0;34m)\u001b[0m\u001b[0;34m\u001b[0m\u001b[0;34m\u001b[0m\u001b[0m\n\u001b[0m",
      "\u001b[0;32m/opt/spark-3.1.2-bin-hadoop3.2/python/pyspark/sql/session.py\u001b[0m in \u001b[0;36msql\u001b[0;34m(self, sqlQuery)\u001b[0m\n\u001b[1;32m    721\u001b[0m         \u001b[0;34m[\u001b[0m\u001b[0mRow\u001b[0m\u001b[0;34m(\u001b[0m\u001b[0mf1\u001b[0m\u001b[0;34m=\u001b[0m\u001b[0;36m1\u001b[0m\u001b[0;34m,\u001b[0m \u001b[0mf2\u001b[0m\u001b[0;34m=\u001b[0m\u001b[0;34m'row1'\u001b[0m\u001b[0;34m)\u001b[0m\u001b[0;34m,\u001b[0m \u001b[0mRow\u001b[0m\u001b[0;34m(\u001b[0m\u001b[0mf1\u001b[0m\u001b[0;34m=\u001b[0m\u001b[0;36m2\u001b[0m\u001b[0;34m,\u001b[0m \u001b[0mf2\u001b[0m\u001b[0;34m=\u001b[0m\u001b[0;34m'row2'\u001b[0m\u001b[0;34m)\u001b[0m\u001b[0;34m,\u001b[0m \u001b[0mRow\u001b[0m\u001b[0;34m(\u001b[0m\u001b[0mf1\u001b[0m\u001b[0;34m=\u001b[0m\u001b[0;36m3\u001b[0m\u001b[0;34m,\u001b[0m \u001b[0mf2\u001b[0m\u001b[0;34m=\u001b[0m\u001b[0;34m'row3'\u001b[0m\u001b[0;34m)\u001b[0m\u001b[0;34m]\u001b[0m\u001b[0;34m\u001b[0m\u001b[0;34m\u001b[0m\u001b[0m\n\u001b[1;32m    722\u001b[0m         \"\"\"\n\u001b[0;32m--> 723\u001b[0;31m         \u001b[0;32mreturn\u001b[0m \u001b[0mDataFrame\u001b[0m\u001b[0;34m(\u001b[0m\u001b[0mself\u001b[0m\u001b[0;34m.\u001b[0m\u001b[0m_jsparkSession\u001b[0m\u001b[0;34m.\u001b[0m\u001b[0msql\u001b[0m\u001b[0;34m(\u001b[0m\u001b[0msqlQuery\u001b[0m\u001b[0;34m)\u001b[0m\u001b[0;34m,\u001b[0m \u001b[0mself\u001b[0m\u001b[0;34m.\u001b[0m\u001b[0m_wrapped\u001b[0m\u001b[0;34m)\u001b[0m\u001b[0;34m\u001b[0m\u001b[0;34m\u001b[0m\u001b[0m\n\u001b[0m\u001b[1;32m    724\u001b[0m \u001b[0;34m\u001b[0m\u001b[0m\n\u001b[1;32m    725\u001b[0m     \u001b[0;32mdef\u001b[0m \u001b[0mtable\u001b[0m\u001b[0;34m(\u001b[0m\u001b[0mself\u001b[0m\u001b[0;34m,\u001b[0m \u001b[0mtableName\u001b[0m\u001b[0;34m)\u001b[0m\u001b[0;34m:\u001b[0m\u001b[0;34m\u001b[0m\u001b[0;34m\u001b[0m\u001b[0m\n",
      "\u001b[0;32m/opt/spark-3.1.2-bin-hadoop3.2/python/lib/py4j-0.10.9-src.zip/py4j/java_gateway.py\u001b[0m in \u001b[0;36m__call__\u001b[0;34m(self, *args)\u001b[0m\n\u001b[1;32m   1303\u001b[0m         \u001b[0manswer\u001b[0m \u001b[0;34m=\u001b[0m \u001b[0mself\u001b[0m\u001b[0;34m.\u001b[0m\u001b[0mgateway_client\u001b[0m\u001b[0;34m.\u001b[0m\u001b[0msend_command\u001b[0m\u001b[0;34m(\u001b[0m\u001b[0mcommand\u001b[0m\u001b[0;34m)\u001b[0m\u001b[0;34m\u001b[0m\u001b[0;34m\u001b[0m\u001b[0m\n\u001b[1;32m   1304\u001b[0m         return_value = get_return_value(\n\u001b[0;32m-> 1305\u001b[0;31m             answer, self.gateway_client, self.target_id, self.name)\n\u001b[0m\u001b[1;32m   1306\u001b[0m \u001b[0;34m\u001b[0m\u001b[0m\n\u001b[1;32m   1307\u001b[0m         \u001b[0;32mfor\u001b[0m \u001b[0mtemp_arg\u001b[0m \u001b[0;32min\u001b[0m \u001b[0mtemp_args\u001b[0m\u001b[0;34m:\u001b[0m\u001b[0;34m\u001b[0m\u001b[0;34m\u001b[0m\u001b[0m\n",
      "\u001b[0;32m/opt/spark-3.1.2-bin-hadoop3.2/python/pyspark/sql/utils.py\u001b[0m in \u001b[0;36mdeco\u001b[0;34m(*a, **kw)\u001b[0m\n\u001b[1;32m    115\u001b[0m                 \u001b[0;31m# Hide where the exception came from that shows a non-Pythonic\u001b[0m\u001b[0;34m\u001b[0m\u001b[0;34m\u001b[0m\u001b[0;34m\u001b[0m\u001b[0m\n\u001b[1;32m    116\u001b[0m                 \u001b[0;31m# JVM exception message.\u001b[0m\u001b[0;34m\u001b[0m\u001b[0;34m\u001b[0m\u001b[0;34m\u001b[0m\u001b[0m\n\u001b[0;32m--> 117\u001b[0;31m                 \u001b[0;32mraise\u001b[0m \u001b[0mconverted\u001b[0m \u001b[0;32mfrom\u001b[0m \u001b[0;32mNone\u001b[0m\u001b[0;34m\u001b[0m\u001b[0;34m\u001b[0m\u001b[0m\n\u001b[0m\u001b[1;32m    118\u001b[0m             \u001b[0;32melse\u001b[0m\u001b[0;34m:\u001b[0m\u001b[0;34m\u001b[0m\u001b[0;34m\u001b[0m\u001b[0m\n\u001b[1;32m    119\u001b[0m                 \u001b[0;32mraise\u001b[0m\u001b[0;34m\u001b[0m\u001b[0;34m\u001b[0m\u001b[0m\n",
      "\u001b[0;31mAnalysisException\u001b[0m: Table or view not found for 'DESCRIBE TABLE': ldh_ph_pts; line 1 pos 0;\n'DescribeRelation true, [col_name#972, data_type#973, comment#974]\n+- 'UnresolvedTableOrView [ldh_ph_pts], DESCRIBE TABLE, true\n"
     ]
    }
   ],
   "source": [
    "spark.sql(\"DESCRIBE FORMATTED ldh_ph_pts\").show(truncate=False)"
   ]
  },
  {
   "cell_type": "code",
   "execution_count": 35,
   "id": "c0a396ac",
   "metadata": {},
   "outputs": [],
   "source": [
    "ldh_ph_df.createOrReplaceTempView(\"ldh_ph_pts\")"
   ]
  },
  {
   "cell_type": "code",
   "execution_count": 36,
   "id": "604290ec",
   "metadata": {},
   "outputs": [
    {
     "name": "stdout",
     "output_type": "stream",
     "text": [
      "+--------------------+----------------+-----------------+----------+------------------+-----------------------+-------+\n",
      "|           member_id|last_payment_pts|total_payment_pts|delinq_pts|public_records_pts|public_bankruptcies_pts|enq_pts|\n",
      "+--------------------+----------------+-----------------+----------+------------------+-----------------------+-------+\n",
      "|000c8875b71a6b47c...|             800|              650|       250|               800|                    800|    800|\n",
      "|0012728d9f616bdf2...|             500|              500|       800|               800|                    800|    800|\n",
      "|00151ece27c7ca280...|             800|              650|       800|               800|                    800|    250|\n",
      "|003769d7f54c7859e...|             500|              500|       250|               800|                    800|    800|\n",
      "|0037bb910c0a758f5...|             500|              500|       800|               800|                    800|    800|\n",
      "|003e1e6cbd2920bbb...|             500|              650|       250|               250|                    250|    800|\n",
      "|004017b21bd4d6271...|             100|              650|         0|               800|                    800|    800|\n",
      "|005b4c3db3fce07dc...|             500|              650|       250|               250|                    800|    250|\n",
      "|00710707c563c2119...|             800|              650|       250|               800|                    800|    800|\n",
      "|007da79904f69970d...|             800|              650|       250|               800|                    800|    800|\n",
      "|008515010997a80e1...|             500|              650|       800|               800|                    800|    250|\n",
      "|009ccbe6fb66324d1...|             500|              650|       800|               800|                    800|    800|\n",
      "|00d10706191726593...|             800|              650|       800|               800|                    800|    250|\n",
      "|00da692a960ef39f1...|             800|              650|       800|               800|                    800|    250|\n",
      "|00eb4bf9db783d8c2...|             250|              650|       800|               800|                    800|    800|\n",
      "|00ec12e214988d8b3...|             650|              650|       800|               800|                    800|    250|\n",
      "|00f435a80d0440ece...|             500|              500|       100|               800|                    800|    800|\n",
      "|00fc2ae3ffb1213e4...|             650|              650|       250|               800|                    800|    800|\n",
      "|00fc8144cb210ba8c...|             500|              650|       250|               250|                    250|    800|\n",
      "|0110b7f5f4010cbaf...|             800|              650|       800|               800|                    800|    250|\n",
      "+--------------------+----------------+-----------------+----------+------------------+-----------------------+-------+\n",
      "only showing top 20 rows\n",
      "\n"
     ]
    }
   ],
   "source": [
    "spark.sql(\"select * from ldh_ph_pts\").show()"
   ]
  },
  {
   "cell_type": "code",
   "execution_count": 37,
   "id": "b58ff00e",
   "metadata": {},
   "outputs": [
    {
     "name": "stdout",
     "output_type": "stream",
     "text": [
      "+--------------------+----------------+-----------------+----------+------------------+-----------------------+-------+\n",
      "|           member_id|last_payment_pts|total_payment_pts|delinq_pts|public_records_pts|public_bankruptcies_pts|enq_pts|\n",
      "+--------------------+----------------+-----------------+----------+------------------+-----------------------+-------+\n",
      "|000c8875b71a6b47c...|             800|              650|       250|               800|                    800|    800|\n",
      "|0012728d9f616bdf2...|             500|              500|       800|               800|                    800|    800|\n",
      "|00151ece27c7ca280...|             800|              650|       800|               800|                    800|    250|\n",
      "|003769d7f54c7859e...|             500|              500|       250|               800|                    800|    800|\n",
      "|0037bb910c0a758f5...|             500|              500|       800|               800|                    800|    800|\n",
      "|003e1e6cbd2920bbb...|             500|              650|       250|               250|                    250|    800|\n",
      "|004017b21bd4d6271...|             100|              650|         0|               800|                    800|    800|\n",
      "|005b4c3db3fce07dc...|             500|              650|       250|               250|                    800|    250|\n",
      "|00710707c563c2119...|             800|              650|       250|               800|                    800|    800|\n",
      "|007da79904f69970d...|             800|              650|       250|               800|                    800|    800|\n",
      "|008515010997a80e1...|             500|              650|       800|               800|                    800|    250|\n",
      "|009ccbe6fb66324d1...|             500|              650|       800|               800|                    800|    800|\n",
      "|00d10706191726593...|             800|              650|       800|               800|                    800|    250|\n",
      "|00da692a960ef39f1...|             800|              650|       800|               800|                    800|    250|\n",
      "|00eb4bf9db783d8c2...|             250|              650|       800|               800|                    800|    800|\n",
      "|00ec12e214988d8b3...|             650|              650|       800|               800|                    800|    250|\n",
      "|00f435a80d0440ece...|             500|              500|       100|               800|                    800|    800|\n",
      "|00fc2ae3ffb1213e4...|             650|              650|       250|               800|                    800|    800|\n",
      "|00fc8144cb210ba8c...|             500|              650|       250|               250|                    250|    800|\n",
      "|0110b7f5f4010cbaf...|             800|              650|       800|               800|                    800|    250|\n",
      "+--------------------+----------------+-----------------+----------+------------------+-----------------------+-------+\n",
      "only showing top 20 rows\n",
      "\n"
     ]
    }
   ],
   "source": [
    "spark.sql(\"select * from ldh_ph_pts\").show()"
   ]
  },
  {
   "cell_type": "code",
   "execution_count": 38,
   "id": "2fc99923",
   "metadata": {},
   "outputs": [
    {
     "data": {
      "text/html": [
       "<table border='1'>\n",
       "<tr><th>loan_id</th><th>member_id</th><th>loan_amount</th><th>funded_amount</th><th>loan_term_months</th><th>interest_rate</th><th>monthly_installment</th><th>issue_date</th><th>loan_status</th><th>loan_purpose</th><th>loan_title</th></tr>\n",
       "<tr><td>68407277</td><td>6d5091b3fcaaeb4ea...</td><td>3600.0</td><td>3600.0</td><td>null</td><td>13.99</td><td>123.03</td><td>Dec-2015</td><td>Fully Paid</td><td>debt_consolidation</td><td>Debt consolidation</td></tr>\n",
       "<tr><td>68355089</td><td>b5e7938b0a2da4cea...</td><td>24700.0</td><td>24700.0</td><td>null</td><td>11.99</td><td>820.28</td><td>Dec-2015</td><td>Fully Paid</td><td>small_business</td><td>Business</td></tr>\n",
       "<tr><td>68341763</td><td>91060b858433e8a61...</td><td>20000.0</td><td>20000.0</td><td>null</td><td>10.78</td><td>432.66</td><td>Dec-2015</td><td>Fully Paid</td><td>home_improvement</td><td>null</td></tr>\n",
       "<tr><td>66310712</td><td>cab1fa9f533688b0a...</td><td>35000.0</td><td>35000.0</td><td>null</td><td>14.85</td><td>829.9</td><td>Dec-2015</td><td>Current</td><td>debt_consolidation</td><td>Debt consolidation</td></tr>\n",
       "<tr><td>68476807</td><td>f74e401c1ab0adf78...</td><td>10400.0</td><td>10400.0</td><td>null</td><td>22.45</td><td>289.91</td><td>Dec-2015</td><td>Fully Paid</td><td>major_purchase</td><td>Major purchase</td></tr>\n",
       "<tr><td>68426831</td><td>8aef4bb29d609d8d6...</td><td>11950.0</td><td>11950.0</td><td>null</td><td>13.44</td><td>405.18</td><td>Dec-2015</td><td>Fully Paid</td><td>debt_consolidation</td><td>Debt consolidation</td></tr>\n",
       "<tr><td>68476668</td><td>538b4653da3b1e814...</td><td>20000.0</td><td>20000.0</td><td>null</td><td>9.17</td><td>637.58</td><td>Dec-2015</td><td>Fully Paid</td><td>debt_consolidation</td><td>Debt consolidation</td></tr>\n",
       "<tr><td>67275481</td><td>b24d55f21390533c5...</td><td>20000.0</td><td>20000.0</td><td>null</td><td>8.49</td><td>631.26</td><td>Dec-2015</td><td>Fully Paid</td><td>major_purchase</td><td>Major purchase</td></tr>\n",
       "<tr><td>68466926</td><td>1035c5401b0ca76d0...</td><td>10000.0</td><td>10000.0</td><td>null</td><td>6.49</td><td>306.45</td><td>Dec-2015</td><td>Fully Paid</td><td>credit_card</td><td>Credit card refin...</td></tr>\n",
       "<tr><td>68616873</td><td>cb0f1777593e77909...</td><td>8000.0</td><td>8000.0</td><td>null</td><td>11.48</td><td>263.74</td><td>Dec-2015</td><td>Fully Paid</td><td>credit_card</td><td>Credit card refin...</td></tr>\n",
       "<tr><td>68356421</td><td>a962f4d59caec5fa1...</td><td>22400.0</td><td>22400.0</td><td>null</td><td>12.88</td><td>508.3</td><td>Dec-2015</td><td>Current</td><td>debt_consolidation</td><td>Debt consolidation</td></tr>\n",
       "<tr><td>68426545</td><td>e7592ab57b3afd9f1...</td><td>16000.0</td><td>16000.0</td><td>null</td><td>12.88</td><td>363.07</td><td>Dec-2015</td><td>Current</td><td>debt_consolidation</td><td>Debt consolidation</td></tr>\n",
       "<tr><td>68338832</td><td>603afa9d1be879b7b...</td><td>1400.0</td><td>1400.0</td><td>null</td><td>12.88</td><td>47.1</td><td>Dec-2015</td><td>Fully Paid</td><td>other</td><td>null</td></tr>\n",
       "<tr><td>66624733</td><td>9fe2d59ddf2a4f37e...</td><td>18000.0</td><td>18000.0</td><td>null</td><td>19.48</td><td>471.7</td><td>Dec-2015</td><td>Charged Off</td><td>debt_consolidation</td><td>Debt consolidation</td></tr>\n",
       "<tr><td>68466961</td><td>23857480ccf555ce4...</td><td>28000.0</td><td>28000.0</td><td>null</td><td>6.49</td><td>858.05</td><td>Dec-2015</td><td>Fully Paid</td><td>debt_consolidation</td><td>Debt consolidation</td></tr>\n",
       "<tr><td>68354783</td><td>7c69d5f36fdabf6e1...</td><td>9600.0</td><td>9600.0</td><td>null</td><td>7.49</td><td>298.58</td><td>Dec-2015</td><td>Fully Paid</td><td>credit_card</td><td>Credit card refin...</td></tr>\n",
       "<tr><td>68466916</td><td>08bf9e080503b0113...</td><td>25000.0</td><td>25000.0</td><td>null</td><td>7.49</td><td>777.55</td><td>Dec-2015</td><td>Fully Paid</td><td>debt_consolidation</td><td>Debt consolidation</td></tr>\n",
       "<tr><td>68577849</td><td>1cafb05aa6c894c30...</td><td>18000.0</td><td>18000.0</td><td>null</td><td>11.99</td><td>400.31</td><td>Dec-2015</td><td>Fully Paid</td><td>debt_consolidation</td><td>Debt consolidation</td></tr>\n",
       "<tr><td>68506798</td><td>f2c4010f700d8c9c4...</td><td>23000.0</td><td>23000.0</td><td>null</td><td>8.49</td><td>471.77</td><td>Dec-2015</td><td>Current</td><td>credit_card</td><td>Credit card refin...</td></tr>\n",
       "<tr><td>68495092</td><td>05ad4aed7c393035e...</td><td>8650.0</td><td>8650.0</td><td>null</td><td>19.89</td><td>320.99</td><td>Dec-2015</td><td>Fully Paid</td><td>debt_consolidation</td><td>Debt consolidation</td></tr>\n",
       "</table>\n",
       "only showing top 20 rows\n"
      ],
      "text/plain": [
       "+--------+--------------------+-----------+-------------+----------------+-------------+-------------------+----------+-----------+------------------+--------------------+\n",
       "| loan_id|           member_id|loan_amount|funded_amount|loan_term_months|interest_rate|monthly_installment|issue_date|loan_status|      loan_purpose|          loan_title|\n",
       "+--------+--------------------+-----------+-------------+----------------+-------------+-------------------+----------+-----------+------------------+--------------------+\n",
       "|68407277|6d5091b3fcaaeb4ea...|     3600.0|       3600.0|            null|        13.99|             123.03|  Dec-2015| Fully Paid|debt_consolidation|  Debt consolidation|\n",
       "|68355089|b5e7938b0a2da4cea...|    24700.0|      24700.0|            null|        11.99|             820.28|  Dec-2015| Fully Paid|    small_business|            Business|\n",
       "|68341763|91060b858433e8a61...|    20000.0|      20000.0|            null|        10.78|             432.66|  Dec-2015| Fully Paid|  home_improvement|                null|\n",
       "|66310712|cab1fa9f533688b0a...|    35000.0|      35000.0|            null|        14.85|              829.9|  Dec-2015|    Current|debt_consolidation|  Debt consolidation|\n",
       "|68476807|f74e401c1ab0adf78...|    10400.0|      10400.0|            null|        22.45|             289.91|  Dec-2015| Fully Paid|    major_purchase|      Major purchase|\n",
       "|68426831|8aef4bb29d609d8d6...|    11950.0|      11950.0|            null|        13.44|             405.18|  Dec-2015| Fully Paid|debt_consolidation|  Debt consolidation|\n",
       "|68476668|538b4653da3b1e814...|    20000.0|      20000.0|            null|         9.17|             637.58|  Dec-2015| Fully Paid|debt_consolidation|  Debt consolidation|\n",
       "|67275481|b24d55f21390533c5...|    20000.0|      20000.0|            null|         8.49|             631.26|  Dec-2015| Fully Paid|    major_purchase|      Major purchase|\n",
       "|68466926|1035c5401b0ca76d0...|    10000.0|      10000.0|            null|         6.49|             306.45|  Dec-2015| Fully Paid|       credit_card|Credit card refin...|\n",
       "|68616873|cb0f1777593e77909...|     8000.0|       8000.0|            null|        11.48|             263.74|  Dec-2015| Fully Paid|       credit_card|Credit card refin...|\n",
       "|68356421|a962f4d59caec5fa1...|    22400.0|      22400.0|            null|        12.88|              508.3|  Dec-2015|    Current|debt_consolidation|  Debt consolidation|\n",
       "|68426545|e7592ab57b3afd9f1...|    16000.0|      16000.0|            null|        12.88|             363.07|  Dec-2015|    Current|debt_consolidation|  Debt consolidation|\n",
       "|68338832|603afa9d1be879b7b...|     1400.0|       1400.0|            null|        12.88|               47.1|  Dec-2015| Fully Paid|             other|                null|\n",
       "|66624733|9fe2d59ddf2a4f37e...|    18000.0|      18000.0|            null|        19.48|              471.7|  Dec-2015|Charged Off|debt_consolidation|  Debt consolidation|\n",
       "|68466961|23857480ccf555ce4...|    28000.0|      28000.0|            null|         6.49|             858.05|  Dec-2015| Fully Paid|debt_consolidation|  Debt consolidation|\n",
       "|68354783|7c69d5f36fdabf6e1...|     9600.0|       9600.0|            null|         7.49|             298.58|  Dec-2015| Fully Paid|       credit_card|Credit card refin...|\n",
       "|68466916|08bf9e080503b0113...|    25000.0|      25000.0|            null|         7.49|             777.55|  Dec-2015| Fully Paid|debt_consolidation|  Debt consolidation|\n",
       "|68577849|1cafb05aa6c894c30...|    18000.0|      18000.0|            null|        11.99|             400.31|  Dec-2015| Fully Paid|debt_consolidation|  Debt consolidation|\n",
       "|68506798|f2c4010f700d8c9c4...|    23000.0|      23000.0|            null|         8.49|             471.77|  Dec-2015|    Current|       credit_card|Credit card refin...|\n",
       "|68495092|05ad4aed7c393035e...|     8650.0|       8650.0|            null|        19.89|             320.99|  Dec-2015| Fully Paid|debt_consolidation|  Debt consolidation|\n",
       "+--------+--------------------+-----------+-------------+----------------+-------------+-------------------+----------+-----------+------------------+--------------------+\n",
       "only showing top 20 rows"
      ]
     },
     "execution_count": 38,
     "metadata": {},
     "output_type": "execute_result"
    }
   ],
   "source": [
    "spark.sql(\"select * from itv016478_lending_clubb.loans\")"
   ]
  },
  {
   "cell_type": "code",
   "execution_count": 39,
   "id": "457ff79c",
   "metadata": {},
   "outputs": [],
   "source": [
    "#3) Loan score calculation - financial health (fh)"
   ]
  },
  {
   "cell_type": "code",
   "execution_count": 40,
   "id": "44296028",
   "metadata": {},
   "outputs": [],
   "source": [
    "fh_ldh_ph_df = spark.sql (f\"\"\"SELECT ldef.*, \\\n",
    "    CASE \\\n",
    "        WHEN LOWER(l.loan_status) LIKE '%fully paid%' then {excellent_rated_pts} \\\n",
    "        WHEN LOWER(l.loan_status) LIKE '%current%' then {good_rated_pts} \n",
    "        WHEN LOWER(l.loan_status) LIKE '%in grace period%' then {bad_rated_pts} \n",
    "        WHEN LOWER(l.loan_status) LIKE '%late(16-30 days)%' or  LOWER(l.loan_status) LIKE '%late (31-120 days)%' then {very_bad_rated_pts}  \n",
    "        WHEN LOWER(l.loan_status) LIKE '%charged off%' then  {unacceptable_rated_pts} \n",
    "    END AS loan_status_pts, \n",
    "    CASE \n",
    "        WHEN LOWER(a.home_ownership) LIKE '%own%' THEN {excellent_rated_pts} \n",
    "        WHEN LOWER(a.home_ownership) LIKE '%rent%' THEN {good_rated_pts} \n",
    "        WHEN LOWER(a.home_ownership) LIKE '%mortgage%' THEN {bad_rated_pts} \n",
    "        WHEN LOWER(a.home_ownership) LIKE '%any%' OR LOWER(a.home_ownership) IS NULL THEN {very_bad_rated_pts} \n",
    "    END AS home_pts, \n",
    "    CASE \\\n",
    "        WHEN l.funded_amount <= (a.total_high_credit_limit* 0.10) THEN {excellent_rated_pts} \n",
    "        WHEN l.funded_amount > (a.total_high_credit_limit* 0.10) AND l.funded_amount <= (a.total_high_credit_limit* 0.20) THEN {very_good_rated_pts} \n",
    "        WHEN l.funded_amount > (a.total_high_credit_limit* 0.20) AND l.funded_amount <= (a.total_high_credit_limit* 0.30) THEN {good_rated_pts}\n",
    "        WHEN l.funded_amount > (a.total_high_credit_limit* 0.30) AND l.funded_amount <= (a.total_high_credit_limit* 0.50) THEN {bad_rated_pts} \n",
    "        WHEN l.funded_amount > (a.total_high_credit_limit* 0.50) AND l.funded_amount <= (a.total_high_credit_limit* 0.70) THEN {very_bad_rated_pts} \n",
    "        WHEN l.funded_amount > (a.total_high_credit_limit* 0.70) THEN {unacceptable_rated_pts} \n",
    "        else {unacceptable_rated_pts} \n",
    "    END AS credit_limit_pts,    \n",
    "    CASE \n",
    "         WHEN (a.grade) = 'A' and (a.sub_grade)= 'A1' THEN {excellent_rated_pts}   \n",
    "         WHEN (a.grade) = 'A' and (a.sub_grade)= 'A2' THEN ({excellent_rated_pts}* 0.95) \n",
    "         WHEN (a.grade) = 'A' and (a.sub_grade)= 'A3' THEN ({excellent_rated_pts}* 0.90) \n",
    "         WHEN (a.grade) = 'A' and (a.sub_grade)= 'A4' THEN ({excellent_rated_pts}* 0.85)  \n",
    "         WHEN (a.grade) = 'A' and (a.sub_grade)= 'A5' THEN ({excellent_rated_pts}* 0.80) \n",
    "         WHEN (a.grade) = 'B' and (a.sub_grade)= 'B1' THEN {very_good_rated_pts} \n",
    "         WHEN (a.grade) = 'B' and (a.sub_grade)= 'B2' THEN ({very_good_rated_pts}* 0.95) \n",
    "         WHEN (a.grade) = 'B' and (a.sub_grade)= 'B3' THEN ({very_good_rated_pts}* 0.90) \n",
    "         WHEN (a.grade) = 'B' and (a.sub_grade)= 'B4' THEN ({very_good_rated_pts}* 0.85) \n",
    "         WHEN (a.grade) = 'B' and (a.sub_grade)= 'B5' THEN ({very_good_rated_pts}* 0.80) \n",
    "         WHEN (a.grade) = 'C' and (a.sub_grade)= 'C1' THEN {good_rated_pts} \n",
    "         WHEN (a.grade) = 'C' and (a.sub_grade)= 'C2' THEN ({good_rated_pts}* 0.95) \n",
    "         WHEN (a.grade) = 'C' and (a.sub_grade)= 'C3' THEN ({good_rated_pts}* 0.90) \n",
    "         WHEN (a.grade) = 'C' and (a.sub_grade)= 'C4' THEN ({good_rated_pts}* 0.85)  \n",
    "         WHEN (a.grade) = 'C' and (a.sub_grade)= 'C5' THEN ({good_rated_pts}* 0.80) \n",
    "         WHEN (a.grade) = 'D' and (a.sub_grade)= 'D1' THEN {bad_rated_pts} \n",
    "         WHEN (a.grade) = 'D' and (a.sub_grade)= 'D2' THEN ({bad_rated_pts}* 0.95)\n",
    "         WHEN (a.grade) = 'D' and (a.sub_grade)= 'D3' THEN ({bad_rated_pts}* 0.90) \n",
    "         WHEN (a.grade) = 'D' and (a.sub_grade)= 'D4' THEN ({bad_rated_pts}* 0.85) \n",
    "         WHEN (a.grade) = 'D' and (a.sub_grade)= 'D5' THEN ({bad_rated_pts}* 0.80) \n",
    "         WHEN (a.grade) = 'E' and (a.sub_grade)= 'E1' THEN {very_bad_rated_pts} \n",
    "         WHEN (a.grade) = 'E' and (a.sub_grade)= 'E2' THEN ({very_bad_rated_pts}* 0.95) \n",
    "         WHEN (a.grade) = 'E' and (a.sub_grade)= 'E3' THEN ({very_bad_rated_pts}* 0.90) \n",
    "         WHEN (a.grade) = 'E' and (a.sub_grade)= 'E4' THEN ({very_bad_rated_pts}* 0.85) \n",
    "         WHEN (a.grade) = 'E' and (a.sub_grade)= 'E5' THEN ({very_bad_rated_pts}* 0.80) \n",
    "         WHEN (a.grade) in ('F','G') THEN  ({very_bad_rated_pts}) \n",
    "         END AS grade_pts \n",
    "FROM ldh_ph_pts ldef \n",
    "INNER JOIN itv016478_lending_clubb.loans l ON ldef.member_id = l.member_id \n",
    "INNER JOIN itv016478_lending_clubb.customerstest a ON a.member_id = ldef.member_id \n",
    "\"\"\")"
   ]
  },
  {
   "cell_type": "code",
   "execution_count": 41,
   "id": "6f1b08df",
   "metadata": {},
   "outputs": [],
   "source": [
    "fh_ldh_ph_df.createOrReplaceTempView(\"fh_ldh_ph_pts\")"
   ]
  },
  {
   "cell_type": "code",
   "execution_count": 42,
   "id": "6c03ecc6",
   "metadata": {},
   "outputs": [
    {
     "data": {
      "text/html": [
       "<table border='1'>\n",
       "<tr><th>member_id</th><th>last_payment_pts</th><th>total_payment_pts</th><th>delinq_pts</th><th>public_records_pts</th><th>public_bankruptcies_pts</th><th>enq_pts</th><th>loan_status_pts</th><th>home_pts</th><th>credit_limit_pts</th><th>grade_pts</th></tr>\n",
       "<tr><td>000c8875b71a6b47c...</td><td>800</td><td>650</td><td>250</td><td>800</td><td>800</td><td>800</td><td>800</td><td>250</td><td>800</td><td>680.00</td></tr>\n",
       "<tr><td>0012728d9f616bdf2...</td><td>500</td><td>500</td><td>800</td><td>800</td><td>800</td><td>800</td><td>500</td><td>800</td><td>250</td><td>640.00</td></tr>\n",
       "<tr><td>00151ece27c7ca280...</td><td>800</td><td>650</td><td>800</td><td>800</td><td>800</td><td>250</td><td>800</td><td>500</td><td>250</td><td>500.00</td></tr>\n",
       "<tr><td>003769d7f54c7859e...</td><td>500</td><td>500</td><td>250</td><td>800</td><td>800</td><td>800</td><td>0</td><td>250</td><td>800</td><td>100.00</td></tr>\n",
       "<tr><td>0037bb910c0a758f5...</td><td>500</td><td>500</td><td>800</td><td>800</td><td>800</td><td>800</td><td>500</td><td>500</td><td>800</td><td>450.00</td></tr>\n",
       "<tr><td>003e1e6cbd2920bbb...</td><td>500</td><td>650</td><td>250</td><td>250</td><td>250</td><td>800</td><td>500</td><td>250</td><td>800</td><td>640.00</td></tr>\n",
       "<tr><td>004017b21bd4d6271...</td><td>100</td><td>650</td><td>0</td><td>800</td><td>800</td><td>800</td><td>800</td><td>250</td><td>800</td><td>500.00</td></tr>\n",
       "<tr><td>005b4c3db3fce07dc...</td><td>500</td><td>650</td><td>250</td><td>250</td><td>800</td><td>250</td><td>500</td><td>250</td><td>500</td><td>520.00</td></tr>\n",
       "<tr><td>00710707c563c2119...</td><td>800</td><td>650</td><td>250</td><td>800</td><td>800</td><td>800</td><td>800</td><td>250</td><td>800</td><td>520.00</td></tr>\n",
       "<tr><td>007da79904f69970d...</td><td>800</td><td>650</td><td>250</td><td>800</td><td>800</td><td>800</td><td>800</td><td>500</td><td>250</td><td>800.00</td></tr>\n",
       "<tr><td>008515010997a80e1...</td><td>500</td><td>650</td><td>800</td><td>800</td><td>800</td><td>250</td><td>500</td><td>500</td><td>500</td><td>250.00</td></tr>\n",
       "<tr><td>009ccbe6fb66324d1...</td><td>500</td><td>650</td><td>800</td><td>800</td><td>800</td><td>800</td><td>0</td><td>250</td><td>800</td><td>250.00</td></tr>\n",
       "<tr><td>00d10706191726593...</td><td>800</td><td>650</td><td>800</td><td>800</td><td>800</td><td>250</td><td>800</td><td>500</td><td>250</td><td>425.00</td></tr>\n",
       "<tr><td>00da692a960ef39f1...</td><td>800</td><td>650</td><td>800</td><td>800</td><td>800</td><td>250</td><td>800</td><td>800</td><td>500</td><td>100.00</td></tr>\n",
       "<tr><td>00eb4bf9db783d8c2...</td><td>250</td><td>650</td><td>800</td><td>800</td><td>800</td><td>800</td><td>800</td><td>250</td><td>800</td><td>552.50</td></tr>\n",
       "<tr><td>00ec12e214988d8b3...</td><td>650</td><td>650</td><td>800</td><td>800</td><td>800</td><td>250</td><td>800</td><td>500</td><td>650</td><td>680.00</td></tr>\n",
       "<tr><td>00f435a80d0440ece...</td><td>500</td><td>500</td><td>100</td><td>800</td><td>800</td><td>800</td><td>500</td><td>250</td><td>800</td><td>475.00</td></tr>\n",
       "<tr><td>00fc2ae3ffb1213e4...</td><td>650</td><td>650</td><td>250</td><td>800</td><td>800</td><td>800</td><td>800</td><td>250</td><td>650</td><td>450.00</td></tr>\n",
       "<tr><td>00fc8144cb210ba8c...</td><td>500</td><td>650</td><td>250</td><td>250</td><td>250</td><td>800</td><td>500</td><td>250</td><td>800</td><td>500.00</td></tr>\n",
       "<tr><td>0110b7f5f4010cbaf...</td><td>800</td><td>650</td><td>800</td><td>800</td><td>800</td><td>250</td><td>800</td><td>250</td><td>800</td><td>450.00</td></tr>\n",
       "</table>\n",
       "only showing top 20 rows\n"
      ],
      "text/plain": [
       "+--------------------+----------------+-----------------+----------+------------------+-----------------------+-------+---------------+--------+----------------+---------+\n",
       "|           member_id|last_payment_pts|total_payment_pts|delinq_pts|public_records_pts|public_bankruptcies_pts|enq_pts|loan_status_pts|home_pts|credit_limit_pts|grade_pts|\n",
       "+--------------------+----------------+-----------------+----------+------------------+-----------------------+-------+---------------+--------+----------------+---------+\n",
       "|000c8875b71a6b47c...|             800|              650|       250|               800|                    800|    800|            800|     250|             800|   680.00|\n",
       "|0012728d9f616bdf2...|             500|              500|       800|               800|                    800|    800|            500|     800|             250|   640.00|\n",
       "|00151ece27c7ca280...|             800|              650|       800|               800|                    800|    250|            800|     500|             250|   500.00|\n",
       "|003769d7f54c7859e...|             500|              500|       250|               800|                    800|    800|              0|     250|             800|   100.00|\n",
       "|0037bb910c0a758f5...|             500|              500|       800|               800|                    800|    800|            500|     500|             800|   450.00|\n",
       "|003e1e6cbd2920bbb...|             500|              650|       250|               250|                    250|    800|            500|     250|             800|   640.00|\n",
       "|004017b21bd4d6271...|             100|              650|         0|               800|                    800|    800|            800|     250|             800|   500.00|\n",
       "|005b4c3db3fce07dc...|             500|              650|       250|               250|                    800|    250|            500|     250|             500|   520.00|\n",
       "|00710707c563c2119...|             800|              650|       250|               800|                    800|    800|            800|     250|             800|   520.00|\n",
       "|007da79904f69970d...|             800|              650|       250|               800|                    800|    800|            800|     500|             250|   800.00|\n",
       "|008515010997a80e1...|             500|              650|       800|               800|                    800|    250|            500|     500|             500|   250.00|\n",
       "|009ccbe6fb66324d1...|             500|              650|       800|               800|                    800|    800|              0|     250|             800|   250.00|\n",
       "|00d10706191726593...|             800|              650|       800|               800|                    800|    250|            800|     500|             250|   425.00|\n",
       "|00da692a960ef39f1...|             800|              650|       800|               800|                    800|    250|            800|     800|             500|   100.00|\n",
       "|00eb4bf9db783d8c2...|             250|              650|       800|               800|                    800|    800|            800|     250|             800|   552.50|\n",
       "|00ec12e214988d8b3...|             650|              650|       800|               800|                    800|    250|            800|     500|             650|   680.00|\n",
       "|00f435a80d0440ece...|             500|              500|       100|               800|                    800|    800|            500|     250|             800|   475.00|\n",
       "|00fc2ae3ffb1213e4...|             650|              650|       250|               800|                    800|    800|            800|     250|             650|   450.00|\n",
       "|00fc8144cb210ba8c...|             500|              650|       250|               250|                    250|    800|            500|     250|             800|   500.00|\n",
       "|0110b7f5f4010cbaf...|             800|              650|       800|               800|                    800|    250|            800|     250|             800|   450.00|\n",
       "+--------------------+----------------+-----------------+----------+------------------+-----------------------+-------+---------------+--------+----------------+---------+\n",
       "only showing top 20 rows"
      ]
     },
     "execution_count": 42,
     "metadata": {},
     "output_type": "execute_result"
    }
   ],
   "source": [
    "spark.sql(\"select * from fh_ldh_ph_pts\")"
   ]
  },
  {
   "cell_type": "code",
   "execution_count": 43,
   "id": "c3a8bc52",
   "metadata": {},
   "outputs": [],
   "source": [
    "#Final loan score calculation by considering 3 criteria with % \n",
    "#1) Payment History =20%\n",
    "#2) Loan defaulters =45%\n",
    "#3) Financial health =35%"
   ]
  },
  {
   "cell_type": "code",
   "execution_count": 44,
   "id": "5d69f53d",
   "metadata": {},
   "outputs": [],
   "source": [
    "loan_score = spark.sql(\"select member_id, \\\n",
    "((last_payment_pts + total_payment_pts)*0.20) as payment_history_pts, \\\n",
    "((delinq_pts + public_records_pts + public_bankruptcies_pts+ enq_pts)*0.45) as defaulters_history_pts,  \\\n",
    "((loan_status_pts + home_pts + credit_limit_pts+grade_pts)* 0.35) as financial_healthy_defaulters \\\n",
    "FROM fh_ldh_ph_pts\")\n",
    "\n"
   ]
  },
  {
   "cell_type": "code",
   "execution_count": 45,
   "id": "13f7c9df",
   "metadata": {},
   "outputs": [
    {
     "data": {
      "text/html": [
       "<table border='1'>\n",
       "<tr><th>member_id</th><th>payment_history_pts</th><th>defaulters_history_pts</th><th>financial_healthy_defaulters</th></tr>\n",
       "<tr><td>000c8875b71a6b47c...</td><td>290.00</td><td>1192.50</td><td>885.5000</td></tr>\n",
       "<tr><td>0012728d9f616bdf2...</td><td>200.00</td><td>1440.00</td><td>766.5000</td></tr>\n",
       "<tr><td>00151ece27c7ca280...</td><td>290.00</td><td>1192.50</td><td>717.5000</td></tr>\n",
       "<tr><td>003769d7f54c7859e...</td><td>200.00</td><td>1192.50</td><td>402.5000</td></tr>\n",
       "<tr><td>0037bb910c0a758f5...</td><td>200.00</td><td>1440.00</td><td>787.5000</td></tr>\n",
       "<tr><td>003e1e6cbd2920bbb...</td><td>230.00</td><td>697.50</td><td>766.5000</td></tr>\n",
       "<tr><td>004017b21bd4d6271...</td><td>150.00</td><td>1080.00</td><td>822.5000</td></tr>\n",
       "<tr><td>005b4c3db3fce07dc...</td><td>230.00</td><td>697.50</td><td>619.5000</td></tr>\n",
       "<tr><td>00710707c563c2119...</td><td>290.00</td><td>1192.50</td><td>829.5000</td></tr>\n",
       "<tr><td>007da79904f69970d...</td><td>290.00</td><td>1192.50</td><td>822.5000</td></tr>\n",
       "<tr><td>008515010997a80e1...</td><td>230.00</td><td>1192.50</td><td>612.5000</td></tr>\n",
       "<tr><td>009ccbe6fb66324d1...</td><td>230.00</td><td>1440.00</td><td>455.0000</td></tr>\n",
       "<tr><td>00d10706191726593...</td><td>290.00</td><td>1192.50</td><td>691.2500</td></tr>\n",
       "<tr><td>00da692a960ef39f1...</td><td>290.00</td><td>1192.50</td><td>770.0000</td></tr>\n",
       "<tr><td>00eb4bf9db783d8c2...</td><td>180.00</td><td>1440.00</td><td>840.8750</td></tr>\n",
       "<tr><td>00ec12e214988d8b3...</td><td>260.00</td><td>1192.50</td><td>920.5000</td></tr>\n",
       "<tr><td>00f435a80d0440ece...</td><td>200.00</td><td>1125.00</td><td>708.7500</td></tr>\n",
       "<tr><td>00fc2ae3ffb1213e4...</td><td>260.00</td><td>1192.50</td><td>752.5000</td></tr>\n",
       "<tr><td>00fc8144cb210ba8c...</td><td>230.00</td><td>697.50</td><td>717.5000</td></tr>\n",
       "<tr><td>0110b7f5f4010cbaf...</td><td>290.00</td><td>1192.50</td><td>805.0000</td></tr>\n",
       "</table>\n",
       "only showing top 20 rows\n"
      ],
      "text/plain": [
       "+--------------------+-------------------+----------------------+----------------------------+\n",
       "|           member_id|payment_history_pts|defaulters_history_pts|financial_healthy_defaulters|\n",
       "+--------------------+-------------------+----------------------+----------------------------+\n",
       "|000c8875b71a6b47c...|             290.00|               1192.50|                    885.5000|\n",
       "|0012728d9f616bdf2...|             200.00|               1440.00|                    766.5000|\n",
       "|00151ece27c7ca280...|             290.00|               1192.50|                    717.5000|\n",
       "|003769d7f54c7859e...|             200.00|               1192.50|                    402.5000|\n",
       "|0037bb910c0a758f5...|             200.00|               1440.00|                    787.5000|\n",
       "|003e1e6cbd2920bbb...|             230.00|                697.50|                    766.5000|\n",
       "|004017b21bd4d6271...|             150.00|               1080.00|                    822.5000|\n",
       "|005b4c3db3fce07dc...|             230.00|                697.50|                    619.5000|\n",
       "|00710707c563c2119...|             290.00|               1192.50|                    829.5000|\n",
       "|007da79904f69970d...|             290.00|               1192.50|                    822.5000|\n",
       "|008515010997a80e1...|             230.00|               1192.50|                    612.5000|\n",
       "|009ccbe6fb66324d1...|             230.00|               1440.00|                    455.0000|\n",
       "|00d10706191726593...|             290.00|               1192.50|                    691.2500|\n",
       "|00da692a960ef39f1...|             290.00|               1192.50|                    770.0000|\n",
       "|00eb4bf9db783d8c2...|             180.00|               1440.00|                    840.8750|\n",
       "|00ec12e214988d8b3...|             260.00|               1192.50|                    920.5000|\n",
       "|00f435a80d0440ece...|             200.00|               1125.00|                    708.7500|\n",
       "|00fc2ae3ffb1213e4...|             260.00|               1192.50|                    752.5000|\n",
       "|00fc8144cb210ba8c...|             230.00|                697.50|                    717.5000|\n",
       "|0110b7f5f4010cbaf...|             290.00|               1192.50|                    805.0000|\n",
       "+--------------------+-------------------+----------------------+----------------------------+\n",
       "only showing top 20 rows"
      ]
     },
     "execution_count": 45,
     "metadata": {},
     "output_type": "execute_result"
    }
   ],
   "source": [
    "loan_score"
   ]
  },
  {
   "cell_type": "code",
   "execution_count": 46,
   "id": "8cf48f69",
   "metadata": {},
   "outputs": [],
   "source": [
    "final_loan_score = loan_score.withColumn('loan_score',loan_score.payment_history_pts + loan_score.defaulters_history_pts+ loan_score.financial_healthy_defaulters)"
   ]
  },
  {
   "cell_type": "code",
   "execution_count": 47,
   "id": "a1d27508",
   "metadata": {},
   "outputs": [],
   "source": [
    "final_loan_score.createOrReplaceTempView(\"loan_score_eval\")"
   ]
  },
  {
   "cell_type": "code",
   "execution_count": 48,
   "id": "fcb81ff0",
   "metadata": {},
   "outputs": [
    {
     "data": {
      "text/html": [
       "<table border='1'>\n",
       "<tr><th>member_id</th><th>payment_history_pts</th><th>defaulters_history_pts</th><th>financial_healthy_defaulters</th><th>loan_score</th></tr>\n",
       "<tr><td>000c8875b71a6b47c...</td><td>290.00</td><td>1192.50</td><td>885.5000</td><td>2368.0000</td></tr>\n",
       "<tr><td>0012728d9f616bdf2...</td><td>200.00</td><td>1440.00</td><td>766.5000</td><td>2406.5000</td></tr>\n",
       "<tr><td>00151ece27c7ca280...</td><td>290.00</td><td>1192.50</td><td>717.5000</td><td>2200.0000</td></tr>\n",
       "<tr><td>003769d7f54c7859e...</td><td>200.00</td><td>1192.50</td><td>402.5000</td><td>1795.0000</td></tr>\n",
       "<tr><td>0037bb910c0a758f5...</td><td>200.00</td><td>1440.00</td><td>787.5000</td><td>2427.5000</td></tr>\n",
       "<tr><td>003e1e6cbd2920bbb...</td><td>230.00</td><td>697.50</td><td>766.5000</td><td>1694.0000</td></tr>\n",
       "<tr><td>004017b21bd4d6271...</td><td>150.00</td><td>1080.00</td><td>822.5000</td><td>2052.5000</td></tr>\n",
       "<tr><td>005b4c3db3fce07dc...</td><td>230.00</td><td>697.50</td><td>619.5000</td><td>1547.0000</td></tr>\n",
       "<tr><td>00710707c563c2119...</td><td>290.00</td><td>1192.50</td><td>829.5000</td><td>2312.0000</td></tr>\n",
       "<tr><td>007da79904f69970d...</td><td>290.00</td><td>1192.50</td><td>822.5000</td><td>2305.0000</td></tr>\n",
       "<tr><td>008515010997a80e1...</td><td>230.00</td><td>1192.50</td><td>612.5000</td><td>2035.0000</td></tr>\n",
       "<tr><td>009ccbe6fb66324d1...</td><td>230.00</td><td>1440.00</td><td>455.0000</td><td>2125.0000</td></tr>\n",
       "<tr><td>00d10706191726593...</td><td>290.00</td><td>1192.50</td><td>691.2500</td><td>2173.7500</td></tr>\n",
       "<tr><td>00da692a960ef39f1...</td><td>290.00</td><td>1192.50</td><td>770.0000</td><td>2252.5000</td></tr>\n",
       "<tr><td>00eb4bf9db783d8c2...</td><td>180.00</td><td>1440.00</td><td>840.8750</td><td>2460.8750</td></tr>\n",
       "<tr><td>00ec12e214988d8b3...</td><td>260.00</td><td>1192.50</td><td>920.5000</td><td>2373.0000</td></tr>\n",
       "<tr><td>00f435a80d0440ece...</td><td>200.00</td><td>1125.00</td><td>708.7500</td><td>2033.7500</td></tr>\n",
       "<tr><td>00fc2ae3ffb1213e4...</td><td>260.00</td><td>1192.50</td><td>752.5000</td><td>2205.0000</td></tr>\n",
       "<tr><td>00fc8144cb210ba8c...</td><td>230.00</td><td>697.50</td><td>717.5000</td><td>1645.0000</td></tr>\n",
       "<tr><td>0110b7f5f4010cbaf...</td><td>290.00</td><td>1192.50</td><td>805.0000</td><td>2287.5000</td></tr>\n",
       "</table>\n",
       "only showing top 20 rows\n"
      ],
      "text/plain": [
       "+--------------------+-------------------+----------------------+----------------------------+----------+\n",
       "|           member_id|payment_history_pts|defaulters_history_pts|financial_healthy_defaulters|loan_score|\n",
       "+--------------------+-------------------+----------------------+----------------------------+----------+\n",
       "|000c8875b71a6b47c...|             290.00|               1192.50|                    885.5000| 2368.0000|\n",
       "|0012728d9f616bdf2...|             200.00|               1440.00|                    766.5000| 2406.5000|\n",
       "|00151ece27c7ca280...|             290.00|               1192.50|                    717.5000| 2200.0000|\n",
       "|003769d7f54c7859e...|             200.00|               1192.50|                    402.5000| 1795.0000|\n",
       "|0037bb910c0a758f5...|             200.00|               1440.00|                    787.5000| 2427.5000|\n",
       "|003e1e6cbd2920bbb...|             230.00|                697.50|                    766.5000| 1694.0000|\n",
       "|004017b21bd4d6271...|             150.00|               1080.00|                    822.5000| 2052.5000|\n",
       "|005b4c3db3fce07dc...|             230.00|                697.50|                    619.5000| 1547.0000|\n",
       "|00710707c563c2119...|             290.00|               1192.50|                    829.5000| 2312.0000|\n",
       "|007da79904f69970d...|             290.00|               1192.50|                    822.5000| 2305.0000|\n",
       "|008515010997a80e1...|             230.00|               1192.50|                    612.5000| 2035.0000|\n",
       "|009ccbe6fb66324d1...|             230.00|               1440.00|                    455.0000| 2125.0000|\n",
       "|00d10706191726593...|             290.00|               1192.50|                    691.2500| 2173.7500|\n",
       "|00da692a960ef39f1...|             290.00|               1192.50|                    770.0000| 2252.5000|\n",
       "|00eb4bf9db783d8c2...|             180.00|               1440.00|                    840.8750| 2460.8750|\n",
       "|00ec12e214988d8b3...|             260.00|               1192.50|                    920.5000| 2373.0000|\n",
       "|00f435a80d0440ece...|             200.00|               1125.00|                    708.7500| 2033.7500|\n",
       "|00fc2ae3ffb1213e4...|             260.00|               1192.50|                    752.5000| 2205.0000|\n",
       "|00fc8144cb210ba8c...|             230.00|                697.50|                    717.5000| 1645.0000|\n",
       "|0110b7f5f4010cbaf...|             290.00|               1192.50|                    805.0000| 2287.5000|\n",
       "+--------------------+-------------------+----------------------+----------------------------+----------+\n",
       "only showing top 20 rows"
      ]
     },
     "execution_count": 48,
     "metadata": {},
     "output_type": "execute_result"
    }
   ],
   "source": [
    "spark.sql(\"select * from loan_score_eval\")"
   ]
  },
  {
   "cell_type": "code",
   "execution_count": 49,
   "id": "e6bad2e2",
   "metadata": {},
   "outputs": [],
   "source": [
    "spark.conf.set (\"spark.sql.unacceptable_grade_pts\",750)\n",
    "spark.conf.set (\"spark.sql.very_bad_grade_pts\",1000)\n",
    "spark.conf.set (\"spark.sql.bad_grade_pts\",1500)\n",
    "spark.conf.set (\"spark.sql.good_grade_pts\",2000)\n",
    "spark.conf.set (\"spark.sql.very_good_grade_pts\",2500)\n"
   ]
  },
  {
   "cell_type": "code",
   "execution_count": 50,
   "id": "49b9557e",
   "metadata": {},
   "outputs": [],
   "source": [
    "loan_score_final = spark.sql(\"\"\"\n",
    "    SELECT ls.*,\n",
    "        CASE\n",
    "            WHEN loan_score > ${spark.sql.very_good_grade_pts} THEN 'A'\n",
    "            WHEN loan_score <= ${spark.sql.very_good_grade_pts} AND loan_score > ${spark.sql.good_grade_pts} THEN 'B'\n",
    "            WHEN loan_score <= ${spark.sql.good_grade_pts} AND loan_score > ${spark.sql.bad_grade_pts} THEN 'C'\n",
    "            WHEN loan_score <= ${spark.sql.bad_grade_pts} AND loan_score > ${spark.sql.very_bad_grade_pts} THEN 'D'\n",
    "            WHEN loan_score <= ${spark.sql.very_bad_grade_pts} AND loan_score > ${spark.sql.unacceptable_grade_pts} THEN 'E'\n",
    "            WHEN loan_score <= ${spark.sql.unacceptable_grade_pts} THEN 'F'\n",
    "        END AS loan_final_grade\n",
    "    FROM loan_score_eval ls\n",
    "\"\"\")\n"
   ]
  },
  {
   "cell_type": "code",
   "execution_count": 51,
   "id": "f2d07571",
   "metadata": {},
   "outputs": [],
   "source": [
    "loan_score_final.createOrReplaceTempView(\"loan_final_table\")"
   ]
  },
  {
   "cell_type": "code",
   "execution_count": 52,
   "id": "7b0cc985",
   "metadata": {},
   "outputs": [
    {
     "data": {
      "text/html": [
       "<table border='1'>\n",
       "<tr><th>member_id</th><th>payment_history_pts</th><th>defaulters_history_pts</th><th>financial_healthy_defaulters</th><th>loan_score</th><th>loan_final_grade</th></tr>\n",
       "<tr><td>000c8875b71a6b47c...</td><td>290.00</td><td>1192.50</td><td>885.5000</td><td>2368.0000</td><td>B</td></tr>\n",
       "<tr><td>0012728d9f616bdf2...</td><td>200.00</td><td>1440.00</td><td>766.5000</td><td>2406.5000</td><td>B</td></tr>\n",
       "<tr><td>00151ece27c7ca280...</td><td>290.00</td><td>1192.50</td><td>717.5000</td><td>2200.0000</td><td>B</td></tr>\n",
       "<tr><td>003769d7f54c7859e...</td><td>200.00</td><td>1192.50</td><td>402.5000</td><td>1795.0000</td><td>C</td></tr>\n",
       "<tr><td>0037bb910c0a758f5...</td><td>200.00</td><td>1440.00</td><td>787.5000</td><td>2427.5000</td><td>B</td></tr>\n",
       "<tr><td>003e1e6cbd2920bbb...</td><td>230.00</td><td>697.50</td><td>766.5000</td><td>1694.0000</td><td>C</td></tr>\n",
       "<tr><td>004017b21bd4d6271...</td><td>150.00</td><td>1080.00</td><td>822.5000</td><td>2052.5000</td><td>B</td></tr>\n",
       "<tr><td>005b4c3db3fce07dc...</td><td>230.00</td><td>697.50</td><td>619.5000</td><td>1547.0000</td><td>C</td></tr>\n",
       "<tr><td>00710707c563c2119...</td><td>290.00</td><td>1192.50</td><td>829.5000</td><td>2312.0000</td><td>B</td></tr>\n",
       "<tr><td>007da79904f69970d...</td><td>290.00</td><td>1192.50</td><td>822.5000</td><td>2305.0000</td><td>B</td></tr>\n",
       "<tr><td>008515010997a80e1...</td><td>230.00</td><td>1192.50</td><td>612.5000</td><td>2035.0000</td><td>B</td></tr>\n",
       "<tr><td>009ccbe6fb66324d1...</td><td>230.00</td><td>1440.00</td><td>455.0000</td><td>2125.0000</td><td>B</td></tr>\n",
       "<tr><td>00d10706191726593...</td><td>290.00</td><td>1192.50</td><td>691.2500</td><td>2173.7500</td><td>B</td></tr>\n",
       "<tr><td>00da692a960ef39f1...</td><td>290.00</td><td>1192.50</td><td>770.0000</td><td>2252.5000</td><td>B</td></tr>\n",
       "<tr><td>00eb4bf9db783d8c2...</td><td>180.00</td><td>1440.00</td><td>840.8750</td><td>2460.8750</td><td>B</td></tr>\n",
       "<tr><td>00ec12e214988d8b3...</td><td>260.00</td><td>1192.50</td><td>920.5000</td><td>2373.0000</td><td>B</td></tr>\n",
       "<tr><td>00f435a80d0440ece...</td><td>200.00</td><td>1125.00</td><td>708.7500</td><td>2033.7500</td><td>B</td></tr>\n",
       "<tr><td>00fc2ae3ffb1213e4...</td><td>260.00</td><td>1192.50</td><td>752.5000</td><td>2205.0000</td><td>B</td></tr>\n",
       "<tr><td>00fc8144cb210ba8c...</td><td>230.00</td><td>697.50</td><td>717.5000</td><td>1645.0000</td><td>C</td></tr>\n",
       "<tr><td>0110b7f5f4010cbaf...</td><td>290.00</td><td>1192.50</td><td>805.0000</td><td>2287.5000</td><td>B</td></tr>\n",
       "</table>\n",
       "only showing top 20 rows\n"
      ],
      "text/plain": [
       "+--------------------+-------------------+----------------------+----------------------------+----------+----------------+\n",
       "|           member_id|payment_history_pts|defaulters_history_pts|financial_healthy_defaulters|loan_score|loan_final_grade|\n",
       "+--------------------+-------------------+----------------------+----------------------------+----------+----------------+\n",
       "|000c8875b71a6b47c...|             290.00|               1192.50|                    885.5000| 2368.0000|               B|\n",
       "|0012728d9f616bdf2...|             200.00|               1440.00|                    766.5000| 2406.5000|               B|\n",
       "|00151ece27c7ca280...|             290.00|               1192.50|                    717.5000| 2200.0000|               B|\n",
       "|003769d7f54c7859e...|             200.00|               1192.50|                    402.5000| 1795.0000|               C|\n",
       "|0037bb910c0a758f5...|             200.00|               1440.00|                    787.5000| 2427.5000|               B|\n",
       "|003e1e6cbd2920bbb...|             230.00|                697.50|                    766.5000| 1694.0000|               C|\n",
       "|004017b21bd4d6271...|             150.00|               1080.00|                    822.5000| 2052.5000|               B|\n",
       "|005b4c3db3fce07dc...|             230.00|                697.50|                    619.5000| 1547.0000|               C|\n",
       "|00710707c563c2119...|             290.00|               1192.50|                    829.5000| 2312.0000|               B|\n",
       "|007da79904f69970d...|             290.00|               1192.50|                    822.5000| 2305.0000|               B|\n",
       "|008515010997a80e1...|             230.00|               1192.50|                    612.5000| 2035.0000|               B|\n",
       "|009ccbe6fb66324d1...|             230.00|               1440.00|                    455.0000| 2125.0000|               B|\n",
       "|00d10706191726593...|             290.00|               1192.50|                    691.2500| 2173.7500|               B|\n",
       "|00da692a960ef39f1...|             290.00|               1192.50|                    770.0000| 2252.5000|               B|\n",
       "|00eb4bf9db783d8c2...|             180.00|               1440.00|                    840.8750| 2460.8750|               B|\n",
       "|00ec12e214988d8b3...|             260.00|               1192.50|                    920.5000| 2373.0000|               B|\n",
       "|00f435a80d0440ece...|             200.00|               1125.00|                    708.7500| 2033.7500|               B|\n",
       "|00fc2ae3ffb1213e4...|             260.00|               1192.50|                    752.5000| 2205.0000|               B|\n",
       "|00fc8144cb210ba8c...|             230.00|                697.50|                    717.5000| 1645.0000|               C|\n",
       "|0110b7f5f4010cbaf...|             290.00|               1192.50|                    805.0000| 2287.5000|               B|\n",
       "+--------------------+-------------------+----------------------+----------------------------+----------+----------------+\n",
       "only showing top 20 rows"
      ]
     },
     "execution_count": 52,
     "metadata": {},
     "output_type": "execute_result"
    }
   ],
   "source": [
    "spark.sql(\"select * from loan_final_table\")"
   ]
  },
  {
   "cell_type": "code",
   "execution_count": 53,
   "id": "a155f7fa",
   "metadata": {},
   "outputs": [
    {
     "data": {
      "text/html": [
       "<table border='1'>\n",
       "<tr><th>member_id</th><th>payment_history_pts</th><th>defaulters_history_pts</th><th>financial_healthy_defaulters</th><th>loan_score</th><th>loan_final_grade</th></tr>\n",
       "<tr><td>01d09c0697e6f2b4c...</td><td>290.00</td><td>1440.00</td><td>885.5000</td><td>2615.5000</td><td>A</td></tr>\n",
       "<tr><td>01fd4599363e37030...</td><td>290.00</td><td>1440.00</td><td>811.1250</td><td>2541.1250</td><td>A</td></tr>\n",
       "<tr><td>02467cbacf0c26ee7...</td><td>290.00</td><td>1440.00</td><td>819.0000</td><td>2549.0000</td><td>A</td></tr>\n",
       "<tr><td>02703789a14e62d48...</td><td>290.00</td><td>1440.00</td><td>852.2500</td><td>2582.2500</td><td>A</td></tr>\n",
       "<tr><td>02cd6a9b503ee26f5...</td><td>290.00</td><td>1440.00</td><td>939.7500</td><td>2669.7500</td><td>A</td></tr>\n",
       "<tr><td>02cf3df86581018e0...</td><td>230.00</td><td>1440.00</td><td>892.5000</td><td>2562.5000</td><td>A</td></tr>\n",
       "<tr><td>02dcb46e4e67b0ed4...</td><td>290.00</td><td>1440.00</td><td>927.5000</td><td>2657.5000</td><td>A</td></tr>\n",
       "<tr><td>0400453ebdf2c92a4...</td><td>290.00</td><td>1440.00</td><td>852.2500</td><td>2582.2500</td><td>A</td></tr>\n",
       "<tr><td>044eeead374f51e06...</td><td>290.00</td><td>1440.00</td><td>875.0000</td><td>2605.0000</td><td>A</td></tr>\n",
       "<tr><td>04927144049e02a32...</td><td>290.00</td><td>1440.00</td><td>863.6250</td><td>2593.6250</td><td>A</td></tr>\n",
       "<tr><td>04fb7859f52900a7d...</td><td>290.00</td><td>1440.00</td><td>928.3750</td><td>2658.3750</td><td>A</td></tr>\n",
       "<tr><td>04fdc5c4e82697d37...</td><td>290.00</td><td>1440.00</td><td>875.0000</td><td>2605.0000</td><td>A</td></tr>\n",
       "<tr><td>0578d1a6233b331d8...</td><td>180.00</td><td>1440.00</td><td>910.0000</td><td>2530.0000</td><td>A</td></tr>\n",
       "<tr><td>0604ca74ea5d626e9...</td><td>290.00</td><td>1440.00</td><td>875.0000</td><td>2605.0000</td><td>A</td></tr>\n",
       "<tr><td>068de05e74b4b4d17...</td><td>290.00</td><td>1440.00</td><td>864.5000</td><td>2594.5000</td><td>A</td></tr>\n",
       "<tr><td>06db7d9db4fa4e604...</td><td>290.00</td><td>1440.00</td><td>871.5000</td><td>2601.5000</td><td>A</td></tr>\n",
       "<tr><td>0a1cc153b15eea9d4...</td><td>150.00</td><td>1440.00</td><td>973.0000</td><td>2563.0000</td><td>A</td></tr>\n",
       "<tr><td>0ae922df3be8bf5e6...</td><td>290.00</td><td>1440.00</td><td>969.5000</td><td>2699.5000</td><td>A</td></tr>\n",
       "<tr><td>0b9f0fed545518db3...</td><td>290.00</td><td>1440.00</td><td>852.2500</td><td>2582.2500</td><td>A</td></tr>\n",
       "<tr><td>0bad9c385a1001fe3...</td><td>290.00</td><td>1440.00</td><td>829.5000</td><td>2559.5000</td><td>A</td></tr>\n",
       "</table>\n",
       "only showing top 20 rows\n"
      ],
      "text/plain": [
       "+--------------------+-------------------+----------------------+----------------------------+----------+----------------+\n",
       "|           member_id|payment_history_pts|defaulters_history_pts|financial_healthy_defaulters|loan_score|loan_final_grade|\n",
       "+--------------------+-------------------+----------------------+----------------------------+----------+----------------+\n",
       "|01d09c0697e6f2b4c...|             290.00|               1440.00|                    885.5000| 2615.5000|               A|\n",
       "|01fd4599363e37030...|             290.00|               1440.00|                    811.1250| 2541.1250|               A|\n",
       "|02467cbacf0c26ee7...|             290.00|               1440.00|                    819.0000| 2549.0000|               A|\n",
       "|02703789a14e62d48...|             290.00|               1440.00|                    852.2500| 2582.2500|               A|\n",
       "|02cd6a9b503ee26f5...|             290.00|               1440.00|                    939.7500| 2669.7500|               A|\n",
       "|02cf3df86581018e0...|             230.00|               1440.00|                    892.5000| 2562.5000|               A|\n",
       "|02dcb46e4e67b0ed4...|             290.00|               1440.00|                    927.5000| 2657.5000|               A|\n",
       "|0400453ebdf2c92a4...|             290.00|               1440.00|                    852.2500| 2582.2500|               A|\n",
       "|044eeead374f51e06...|             290.00|               1440.00|                    875.0000| 2605.0000|               A|\n",
       "|04927144049e02a32...|             290.00|               1440.00|                    863.6250| 2593.6250|               A|\n",
       "|04fb7859f52900a7d...|             290.00|               1440.00|                    928.3750| 2658.3750|               A|\n",
       "|04fdc5c4e82697d37...|             290.00|               1440.00|                    875.0000| 2605.0000|               A|\n",
       "|0578d1a6233b331d8...|             180.00|               1440.00|                    910.0000| 2530.0000|               A|\n",
       "|0604ca74ea5d626e9...|             290.00|               1440.00|                    875.0000| 2605.0000|               A|\n",
       "|068de05e74b4b4d17...|             290.00|               1440.00|                    864.5000| 2594.5000|               A|\n",
       "|06db7d9db4fa4e604...|             290.00|               1440.00|                    871.5000| 2601.5000|               A|\n",
       "|0a1cc153b15eea9d4...|             150.00|               1440.00|                    973.0000| 2563.0000|               A|\n",
       "|0ae922df3be8bf5e6...|             290.00|               1440.00|                    969.5000| 2699.5000|               A|\n",
       "|0b9f0fed545518db3...|             290.00|               1440.00|                    852.2500| 2582.2500|               A|\n",
       "|0bad9c385a1001fe3...|             290.00|               1440.00|                    829.5000| 2559.5000|               A|\n",
       "+--------------------+-------------------+----------------------+----------------------------+----------+----------------+\n",
       "only showing top 20 rows"
      ]
     },
     "execution_count": 53,
     "metadata": {},
     "output_type": "execute_result"
    }
   ],
   "source": [
    "spark.sql(\"select * from loan_final_table WHERE loan_final_grade = 'A' \")"
   ]
  },
  {
   "cell_type": "code",
   "execution_count": 54,
   "id": "29b43345",
   "metadata": {},
   "outputs": [
    {
     "data": {
      "text/html": [
       "<table border='1'>\n",
       "<tr><th>count(1)</th></tr>\n",
       "<tr><td>1102587</td></tr>\n",
       "</table>\n"
      ],
      "text/plain": [
       "+--------+\n",
       "|count(1)|\n",
       "+--------+\n",
       "| 1102587|\n",
       "+--------+"
      ]
     },
     "execution_count": 54,
     "metadata": {},
     "output_type": "execute_result"
    }
   ],
   "source": [
    "spark.sql(\"select count (*) from loan_final_table\")"
   ]
  },
  {
   "cell_type": "code",
   "execution_count": 55,
   "id": "198c9943",
   "metadata": {},
   "outputs": [],
   "source": [
    "loan_score_final.write \\\n",
    ".format(\"parquet\") \\\n",
    ".mode(\"overwrite\") \\\n",
    ".option(\"path\",\"/user/itv016478/lendingclubproject/processed/loan_score\") \\\n",
    ".save()"
   ]
  },
  {
   "cell_type": "code",
   "execution_count": 56,
   "id": "216b0beb",
   "metadata": {},
   "outputs": [],
   "source": [
    "spark.stop()"
   ]
  },
  {
   "cell_type": "code",
   "execution_count": null,
   "id": "8b958bb9",
   "metadata": {},
   "outputs": [],
   "source": []
  }
 ],
 "metadata": {
  "kernelspec": {
   "display_name": "Pyspark 3",
   "language": "python",
   "name": "pyspark3"
  },
  "language_info": {
   "codemirror_mode": {
    "name": "ipython",
    "version": 3
   },
   "file_extension": ".py",
   "mimetype": "text/x-python",
   "name": "python",
   "nbconvert_exporter": "python",
   "pygments_lexer": "ipython3",
   "version": "3.6.12"
  }
 },
 "nbformat": 4,
 "nbformat_minor": 5
}
