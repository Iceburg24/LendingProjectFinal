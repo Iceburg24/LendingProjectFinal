{
 "cells": [
  {
   "cell_type": "code",
   "execution_count": 1,
   "id": "0f766dc8",
   "metadata": {},
   "outputs": [],
   "source": [
    "from pyspark.sql import SparkSession\n",
    " \n",
    "spark=SparkSession.\\\n",
    "builder.\\\n",
    "config('spark.shuffle.useOldFetchProtocol','true').\\\n",
    "config('spark.ui.port','0').\\\n",
    "config(\"spark.sql.warehouse.dir\",\"/user/itv016478/warehouse\").\\\n",
    "enableHiveSupport().\\\n",
    "master('yarn').\\\n",
    "getOrCreate()"
   ]
  },
  {
   "cell_type": "code",
   "execution_count": 2,
   "id": "81b391c2",
   "metadata": {},
   "outputs": [],
   "source": [
    "loans_repay_raw_df= spark.read \\\n",
    ".format(\"csv\") \\\n",
    ".option(\"header\",True) \\\n",
    ".option(\"inferSchema\", True) \\\n",
    ".load(\"/user/itv016478/lendingclubproject/raw/loans_repayments_csv\")"
   ]
  },
  {
   "cell_type": "code",
   "execution_count": 3,
   "id": "d27210cc",
   "metadata": {},
   "outputs": [
    {
     "name": "stdout",
     "output_type": "stream",
     "text": [
      "root\n",
      " |-- loan_id: string (nullable = true)\n",
      " |-- total_rec_prncp: string (nullable = true)\n",
      " |-- total_rec_int: string (nullable = true)\n",
      " |-- total_rec_late_fee: string (nullable = true)\n",
      " |-- total_pymnt: string (nullable = true)\n",
      " |-- last_pymnt_amnt: string (nullable = true)\n",
      " |-- last_pymnt_d: string (nullable = true)\n",
      " |-- next_pymnt_d: string (nullable = true)\n",
      "\n"
     ]
    }
   ],
   "source": [
    "loans_repay_raw_df.printSchema()"
   ]
  },
  {
   "cell_type": "code",
   "execution_count": 4,
   "id": "63ff6e6b",
   "metadata": {},
   "outputs": [],
   "source": [
    "loans_repay_schema = \"loan_id string, total_principal_received float, total_interest_received float,total_late_fee_received float, total_payment_received float, last_payment_amount float, last_payment_date string, next_payment_date string\""
   ]
  },
  {
   "cell_type": "code",
   "execution_count": 5,
   "id": "f0e27e6f",
   "metadata": {},
   "outputs": [
    {
     "data": {
      "text/plain": [
       "'loan_id string, total_principal_received float, total_interest_received float,total_late_fee_received float, total_payment_received float, last_payment_amount float, last_payment_date string, next_payment_date string'"
      ]
     },
     "execution_count": 5,
     "metadata": {},
     "output_type": "execute_result"
    }
   ],
   "source": [
    "loans_repay_schema"
   ]
  },
  {
   "cell_type": "code",
   "execution_count": 6,
   "id": "0c2ab7cd",
   "metadata": {},
   "outputs": [],
   "source": [
    "loans_repay_df= spark.read \\\n",
    ".format(\"csv\") \\\n",
    ".option(\"header\",True) \\\n",
    ".schema(loans_repay_schema) \\\n",
    ".load(\"/user/itv016478/lendingclubproject/raw/loans_repayments_csv\")"
   ]
  },
  {
   "cell_type": "code",
   "execution_count": 7,
   "id": "56b1b6b3",
   "metadata": {},
   "outputs": [
    {
     "name": "stdout",
     "output_type": "stream",
     "text": [
      "root\n",
      " |-- loan_id: string (nullable = true)\n",
      " |-- total_principal_received: float (nullable = true)\n",
      " |-- total_interest_received: float (nullable = true)\n",
      " |-- total_late_fee_received: float (nullable = true)\n",
      " |-- total_payment_received: float (nullable = true)\n",
      " |-- last_payment_amount: float (nullable = true)\n",
      " |-- last_payment_date: string (nullable = true)\n",
      " |-- next_payment_date: string (nullable = true)\n",
      "\n"
     ]
    }
   ],
   "source": [
    "loans_repay_df.printSchema()"
   ]
  },
  {
   "cell_type": "code",
   "execution_count": 8,
   "id": "f7c5af16",
   "metadata": {},
   "outputs": [],
   "source": [
    "from pyspark.sql.functions import current_timestamp"
   ]
  },
  {
   "cell_type": "code",
   "execution_count": 9,
   "id": "a4fddc81",
   "metadata": {},
   "outputs": [],
   "source": [
    "loans_repay_ingest=loans_repay_df.withColumn(\"ingest_date\",current_timestamp())"
   ]
  },
  {
   "cell_type": "code",
   "execution_count": 10,
   "id": "13bb7309",
   "metadata": {},
   "outputs": [
    {
     "data": {
      "text/html": [
       "<table border='1'>\n",
       "<tr><th>loan_id</th><th>total_principal_received</th><th>total_interest_received</th><th>total_late_fee_received</th><th>total_payment_received</th><th>last_payment_amount</th><th>last_payment_date</th><th>next_payment_date</th><th>ingest_date</th></tr>\n",
       "<tr><td>76003861</td><td>6423.8</td><td>5607.85</td><td>0.0</td><td>12031.65</td><td>574.88</td><td>Jan-2018</td><td>null</td><td>2025-06-15 05:44:...</td></tr>\n",
       "<tr><td>76263914</td><td>2400.0</td><td>323.18</td><td>0.0</td><td>2723.1802</td><td>905.18</td><td>Dec-2017</td><td>null</td><td>2025-06-15 05:44:...</td></tr>\n",
       "<tr><td>75537401</td><td>12600.0</td><td>1392.76</td><td>0.0</td><td>13992.757</td><td>3437.74</td><td>Aug-2018</td><td>null</td><td>2025-06-15 05:44:...</td></tr>\n",
       "<tr><td>75038986</td><td>7805.03</td><td>7583.71</td><td>0.0</td><td>15388.74</td><td>440.72</td><td>Mar-2019</td><td>Apr-2019</td><td>2025-06-15 05:44:...</td></tr>\n",
       "<tr><td>76301424</td><td>2614.78</td><td>1080.09</td><td>0.0</td><td>3694.87</td><td>153.89</td><td>Apr-2018</td><td>null</td><td>2025-06-15 05:44:...</td></tr>\n",
       "<tr><td>75333198</td><td>8664.09</td><td>3431.32</td><td>68.8</td><td>12164.21</td><td>343.9</td><td>Mar-2019</td><td>Apr-2019</td><td>2025-06-15 05:44:...</td></tr>\n",
       "<tr><td>76391453</td><td>35000.0</td><td>10266.01</td><td>0.0</td><td>45266.008</td><td>18884.35</td><td>Feb-2019</td><td>null</td><td>2025-06-15 05:44:...</td></tr>\n",
       "<tr><td>76363364</td><td>15000.0</td><td>2093.11</td><td>0.0</td><td>17093.107</td><td>4648.59</td><td>Aug-2018</td><td>null</td><td>2025-06-15 05:44:...</td></tr>\n",
       "<tr><td>76272510</td><td>14463.21</td><td>11178.79</td><td>110.13</td><td>25752.13</td><td>734.18</td><td>Mar-2019</td><td>Apr-2019</td><td>2025-06-15 05:44:...</td></tr>\n",
       "<tr><td>76304116</td><td>4800.0</td><td>1051.65</td><td>0.0</td><td>5851.6523</td><td>1761.59</td><td>Dec-2017</td><td>null</td><td>2025-06-15 05:44:...</td></tr>\n",
       "<tr><td>76422971</td><td>2222.99</td><td>1457.74</td><td>0.0</td><td>4357.37</td><td>369.25</td><td>Feb-2017</td><td>null</td><td>2025-06-15 05:44:...</td></tr>\n",
       "<tr><td>75369187</td><td>17855.93</td><td>9340.74</td><td>0.0</td><td>27196.67</td><td>778.38</td><td>Mar-2019</td><td>Apr-2019</td><td>2025-06-15 05:44:...</td></tr>\n",
       "<tr><td>76212079</td><td>6197.74</td><td>935.75</td><td>0.0</td><td>7133.49</td><td>204.0</td><td>Mar-2019</td><td>Apr-2019</td><td>2025-06-15 05:44:...</td></tr>\n",
       "<tr><td>75104089</td><td>8500.0</td><td>1208.95</td><td>0.0</td><td>9708.954</td><td>213.62</td><td>Feb-2019</td><td>null</td><td>2025-06-15 05:44:...</td></tr>\n",
       "<tr><td>75669444</td><td>14313.44</td><td>13782.05</td><td>0.0</td><td>28095.49</td><td>807.98</td><td>Feb-2019</td><td>Apr-2019</td><td>2025-06-15 05:44:...</td></tr>\n",
       "<tr><td>76223382</td><td>1936.79</td><td>292.42</td><td>0.0</td><td>2229.21</td><td>63.75</td><td>Mar-2019</td><td>Apr-2019</td><td>2025-06-15 05:44:...</td></tr>\n",
       "<tr><td>76223540</td><td>25000.0</td><td>3383.18</td><td>134.19</td><td>28517.375</td><td>5107.74</td><td>Apr-2017</td><td>null</td><td>2025-06-15 05:44:...</td></tr>\n",
       "<tr><td>76255093</td><td>7000.0</td><td>1830.84</td><td>0.0</td><td>8830.839</td><td>435.99</td><td>Jan-2019</td><td>null</td><td>2025-06-15 05:44:...</td></tr>\n",
       "<tr><td>76402196</td><td>7731.33</td><td>1787.84</td><td>0.0</td><td>9519.17</td><td>272.15</td><td>Mar-2019</td><td>Apr-2019</td><td>2025-06-15 05:44:...</td></tr>\n",
       "<tr><td>76223437</td><td>24000.0</td><td>3186.22</td><td>0.0</td><td>27186.223</td><td>8110.44</td><td>Jun-2018</td><td>null</td><td>2025-06-15 05:44:...</td></tr>\n",
       "</table>\n",
       "only showing top 20 rows\n"
      ],
      "text/plain": [
       "+--------+------------------------+-----------------------+-----------------------+----------------------+-------------------+-----------------+-----------------+--------------------+\n",
       "| loan_id|total_principal_received|total_interest_received|total_late_fee_received|total_payment_received|last_payment_amount|last_payment_date|next_payment_date|         ingest_date|\n",
       "+--------+------------------------+-----------------------+-----------------------+----------------------+-------------------+-----------------+-----------------+--------------------+\n",
       "|76003861|                  6423.8|                5607.85|                    0.0|              12031.65|             574.88|         Jan-2018|             null|2025-06-15 05:44:...|\n",
       "|76263914|                  2400.0|                 323.18|                    0.0|             2723.1802|             905.18|         Dec-2017|             null|2025-06-15 05:44:...|\n",
       "|75537401|                 12600.0|                1392.76|                    0.0|             13992.757|            3437.74|         Aug-2018|             null|2025-06-15 05:44:...|\n",
       "|75038986|                 7805.03|                7583.71|                    0.0|              15388.74|             440.72|         Mar-2019|         Apr-2019|2025-06-15 05:44:...|\n",
       "|76301424|                 2614.78|                1080.09|                    0.0|               3694.87|             153.89|         Apr-2018|             null|2025-06-15 05:44:...|\n",
       "|75333198|                 8664.09|                3431.32|                   68.8|              12164.21|              343.9|         Mar-2019|         Apr-2019|2025-06-15 05:44:...|\n",
       "|76391453|                 35000.0|               10266.01|                    0.0|             45266.008|           18884.35|         Feb-2019|             null|2025-06-15 05:44:...|\n",
       "|76363364|                 15000.0|                2093.11|                    0.0|             17093.107|            4648.59|         Aug-2018|             null|2025-06-15 05:44:...|\n",
       "|76272510|                14463.21|               11178.79|                 110.13|              25752.13|             734.18|         Mar-2019|         Apr-2019|2025-06-15 05:44:...|\n",
       "|76304116|                  4800.0|                1051.65|                    0.0|             5851.6523|            1761.59|         Dec-2017|             null|2025-06-15 05:44:...|\n",
       "|76422971|                 2222.99|                1457.74|                    0.0|               4357.37|             369.25|         Feb-2017|             null|2025-06-15 05:44:...|\n",
       "|75369187|                17855.93|                9340.74|                    0.0|              27196.67|             778.38|         Mar-2019|         Apr-2019|2025-06-15 05:44:...|\n",
       "|76212079|                 6197.74|                 935.75|                    0.0|               7133.49|              204.0|         Mar-2019|         Apr-2019|2025-06-15 05:44:...|\n",
       "|75104089|                  8500.0|                1208.95|                    0.0|              9708.954|             213.62|         Feb-2019|             null|2025-06-15 05:44:...|\n",
       "|75669444|                14313.44|               13782.05|                    0.0|              28095.49|             807.98|         Feb-2019|         Apr-2019|2025-06-15 05:44:...|\n",
       "|76223382|                 1936.79|                 292.42|                    0.0|               2229.21|              63.75|         Mar-2019|         Apr-2019|2025-06-15 05:44:...|\n",
       "|76223540|                 25000.0|                3383.18|                 134.19|             28517.375|            5107.74|         Apr-2017|             null|2025-06-15 05:44:...|\n",
       "|76255093|                  7000.0|                1830.84|                    0.0|              8830.839|             435.99|         Jan-2019|             null|2025-06-15 05:44:...|\n",
       "|76402196|                 7731.33|                1787.84|                    0.0|               9519.17|             272.15|         Mar-2019|         Apr-2019|2025-06-15 05:44:...|\n",
       "|76223437|                 24000.0|                3186.22|                    0.0|             27186.223|            8110.44|         Jun-2018|             null|2025-06-15 05:44:...|\n",
       "+--------+------------------------+-----------------------+-----------------------+----------------------+-------------------+-----------------+-----------------+--------------------+\n",
       "only showing top 20 rows"
      ]
     },
     "execution_count": 10,
     "metadata": {},
     "output_type": "execute_result"
    }
   ],
   "source": [
    "loans_repay_ingest"
   ]
  },
  {
   "cell_type": "code",
   "execution_count": 11,
   "id": "ec5b10b0",
   "metadata": {},
   "outputs": [],
   "source": [
    "loans_repay_ingest.createOrReplaceTempView(\"loans_repayment\")"
   ]
  },
  {
   "cell_type": "code",
   "execution_count": 12,
   "id": "97ed174b",
   "metadata": {},
   "outputs": [
    {
     "data": {
      "text/html": [
       "<table border='1'>\n",
       "<tr><th>loan_id</th><th>total_principal_received</th><th>total_interest_received</th><th>total_late_fee_received</th><th>total_payment_received</th><th>last_payment_amount</th><th>last_payment_date</th><th>next_payment_date</th><th>ingest_date</th></tr>\n",
       "<tr><td>76003861</td><td>6423.8</td><td>5607.85</td><td>0.0</td><td>12031.65</td><td>574.88</td><td>Jan-2018</td><td>null</td><td>2025-06-15 05:44:...</td></tr>\n",
       "<tr><td>76263914</td><td>2400.0</td><td>323.18</td><td>0.0</td><td>2723.1802</td><td>905.18</td><td>Dec-2017</td><td>null</td><td>2025-06-15 05:44:...</td></tr>\n",
       "<tr><td>75537401</td><td>12600.0</td><td>1392.76</td><td>0.0</td><td>13992.757</td><td>3437.74</td><td>Aug-2018</td><td>null</td><td>2025-06-15 05:44:...</td></tr>\n",
       "<tr><td>75038986</td><td>7805.03</td><td>7583.71</td><td>0.0</td><td>15388.74</td><td>440.72</td><td>Mar-2019</td><td>Apr-2019</td><td>2025-06-15 05:44:...</td></tr>\n",
       "<tr><td>76301424</td><td>2614.78</td><td>1080.09</td><td>0.0</td><td>3694.87</td><td>153.89</td><td>Apr-2018</td><td>null</td><td>2025-06-15 05:44:...</td></tr>\n",
       "<tr><td>75333198</td><td>8664.09</td><td>3431.32</td><td>68.8</td><td>12164.21</td><td>343.9</td><td>Mar-2019</td><td>Apr-2019</td><td>2025-06-15 05:44:...</td></tr>\n",
       "<tr><td>76391453</td><td>35000.0</td><td>10266.01</td><td>0.0</td><td>45266.008</td><td>18884.35</td><td>Feb-2019</td><td>null</td><td>2025-06-15 05:44:...</td></tr>\n",
       "<tr><td>76363364</td><td>15000.0</td><td>2093.11</td><td>0.0</td><td>17093.107</td><td>4648.59</td><td>Aug-2018</td><td>null</td><td>2025-06-15 05:44:...</td></tr>\n",
       "<tr><td>76272510</td><td>14463.21</td><td>11178.79</td><td>110.13</td><td>25752.13</td><td>734.18</td><td>Mar-2019</td><td>Apr-2019</td><td>2025-06-15 05:44:...</td></tr>\n",
       "<tr><td>76304116</td><td>4800.0</td><td>1051.65</td><td>0.0</td><td>5851.6523</td><td>1761.59</td><td>Dec-2017</td><td>null</td><td>2025-06-15 05:44:...</td></tr>\n",
       "<tr><td>76422971</td><td>2222.99</td><td>1457.74</td><td>0.0</td><td>4357.37</td><td>369.25</td><td>Feb-2017</td><td>null</td><td>2025-06-15 05:44:...</td></tr>\n",
       "<tr><td>75369187</td><td>17855.93</td><td>9340.74</td><td>0.0</td><td>27196.67</td><td>778.38</td><td>Mar-2019</td><td>Apr-2019</td><td>2025-06-15 05:44:...</td></tr>\n",
       "<tr><td>76212079</td><td>6197.74</td><td>935.75</td><td>0.0</td><td>7133.49</td><td>204.0</td><td>Mar-2019</td><td>Apr-2019</td><td>2025-06-15 05:44:...</td></tr>\n",
       "<tr><td>75104089</td><td>8500.0</td><td>1208.95</td><td>0.0</td><td>9708.954</td><td>213.62</td><td>Feb-2019</td><td>null</td><td>2025-06-15 05:44:...</td></tr>\n",
       "<tr><td>75669444</td><td>14313.44</td><td>13782.05</td><td>0.0</td><td>28095.49</td><td>807.98</td><td>Feb-2019</td><td>Apr-2019</td><td>2025-06-15 05:44:...</td></tr>\n",
       "<tr><td>76223382</td><td>1936.79</td><td>292.42</td><td>0.0</td><td>2229.21</td><td>63.75</td><td>Mar-2019</td><td>Apr-2019</td><td>2025-06-15 05:44:...</td></tr>\n",
       "<tr><td>76223540</td><td>25000.0</td><td>3383.18</td><td>134.19</td><td>28517.375</td><td>5107.74</td><td>Apr-2017</td><td>null</td><td>2025-06-15 05:44:...</td></tr>\n",
       "<tr><td>76255093</td><td>7000.0</td><td>1830.84</td><td>0.0</td><td>8830.839</td><td>435.99</td><td>Jan-2019</td><td>null</td><td>2025-06-15 05:44:...</td></tr>\n",
       "<tr><td>76402196</td><td>7731.33</td><td>1787.84</td><td>0.0</td><td>9519.17</td><td>272.15</td><td>Mar-2019</td><td>Apr-2019</td><td>2025-06-15 05:44:...</td></tr>\n",
       "<tr><td>76223437</td><td>24000.0</td><td>3186.22</td><td>0.0</td><td>27186.223</td><td>8110.44</td><td>Jun-2018</td><td>null</td><td>2025-06-15 05:44:...</td></tr>\n",
       "</table>\n",
       "only showing top 20 rows\n"
      ],
      "text/plain": [
       "+--------+------------------------+-----------------------+-----------------------+----------------------+-------------------+-----------------+-----------------+--------------------+\n",
       "| loan_id|total_principal_received|total_interest_received|total_late_fee_received|total_payment_received|last_payment_amount|last_payment_date|next_payment_date|         ingest_date|\n",
       "+--------+------------------------+-----------------------+-----------------------+----------------------+-------------------+-----------------+-----------------+--------------------+\n",
       "|76003861|                  6423.8|                5607.85|                    0.0|              12031.65|             574.88|         Jan-2018|             null|2025-06-15 05:44:...|\n",
       "|76263914|                  2400.0|                 323.18|                    0.0|             2723.1802|             905.18|         Dec-2017|             null|2025-06-15 05:44:...|\n",
       "|75537401|                 12600.0|                1392.76|                    0.0|             13992.757|            3437.74|         Aug-2018|             null|2025-06-15 05:44:...|\n",
       "|75038986|                 7805.03|                7583.71|                    0.0|              15388.74|             440.72|         Mar-2019|         Apr-2019|2025-06-15 05:44:...|\n",
       "|76301424|                 2614.78|                1080.09|                    0.0|               3694.87|             153.89|         Apr-2018|             null|2025-06-15 05:44:...|\n",
       "|75333198|                 8664.09|                3431.32|                   68.8|              12164.21|              343.9|         Mar-2019|         Apr-2019|2025-06-15 05:44:...|\n",
       "|76391453|                 35000.0|               10266.01|                    0.0|             45266.008|           18884.35|         Feb-2019|             null|2025-06-15 05:44:...|\n",
       "|76363364|                 15000.0|                2093.11|                    0.0|             17093.107|            4648.59|         Aug-2018|             null|2025-06-15 05:44:...|\n",
       "|76272510|                14463.21|               11178.79|                 110.13|              25752.13|             734.18|         Mar-2019|         Apr-2019|2025-06-15 05:44:...|\n",
       "|76304116|                  4800.0|                1051.65|                    0.0|             5851.6523|            1761.59|         Dec-2017|             null|2025-06-15 05:44:...|\n",
       "|76422971|                 2222.99|                1457.74|                    0.0|               4357.37|             369.25|         Feb-2017|             null|2025-06-15 05:44:...|\n",
       "|75369187|                17855.93|                9340.74|                    0.0|              27196.67|             778.38|         Mar-2019|         Apr-2019|2025-06-15 05:44:...|\n",
       "|76212079|                 6197.74|                 935.75|                    0.0|               7133.49|              204.0|         Mar-2019|         Apr-2019|2025-06-15 05:44:...|\n",
       "|75104089|                  8500.0|                1208.95|                    0.0|              9708.954|             213.62|         Feb-2019|             null|2025-06-15 05:44:...|\n",
       "|75669444|                14313.44|               13782.05|                    0.0|              28095.49|             807.98|         Feb-2019|         Apr-2019|2025-06-15 05:44:...|\n",
       "|76223382|                 1936.79|                 292.42|                    0.0|               2229.21|              63.75|         Mar-2019|         Apr-2019|2025-06-15 05:44:...|\n",
       "|76223540|                 25000.0|                3383.18|                 134.19|             28517.375|            5107.74|         Apr-2017|             null|2025-06-15 05:44:...|\n",
       "|76255093|                  7000.0|                1830.84|                    0.0|              8830.839|             435.99|         Jan-2019|             null|2025-06-15 05:44:...|\n",
       "|76402196|                 7731.33|                1787.84|                    0.0|               9519.17|             272.15|         Mar-2019|         Apr-2019|2025-06-15 05:44:...|\n",
       "|76223437|                 24000.0|                3186.22|                    0.0|             27186.223|            8110.44|         Jun-2018|             null|2025-06-15 05:44:...|\n",
       "+--------+------------------------+-----------------------+-----------------------+----------------------+-------------------+-----------------+-----------------+--------------------+\n",
       "only showing top 20 rows"
      ]
     },
     "execution_count": 12,
     "metadata": {},
     "output_type": "execute_result"
    }
   ],
   "source": [
    "spark.sql(\"select * from loans_repayment \")"
   ]
  },
  {
   "cell_type": "code",
   "execution_count": 13,
   "id": "adcf4ad0",
   "metadata": {},
   "outputs": [
    {
     "data": {
      "text/html": [
       "<table border='1'>\n",
       "<tr><th>count(1)</th></tr>\n",
       "<tr><td>2260701</td></tr>\n",
       "</table>\n"
      ],
      "text/plain": [
       "+--------+\n",
       "|count(1)|\n",
       "+--------+\n",
       "| 2260701|\n",
       "+--------+"
      ]
     },
     "execution_count": 13,
     "metadata": {},
     "output_type": "execute_result"
    }
   ],
   "source": [
    "spark.sql(\"select count(*) from loans_repayment \")"
   ]
  },
  {
   "cell_type": "code",
   "execution_count": 14,
   "id": "dd824826",
   "metadata": {},
   "outputs": [
    {
     "data": {
      "text/html": [
       "<table border='1'>\n",
       "<tr><th>count(1)</th></tr>\n",
       "<tr><td>69</td></tr>\n",
       "</table>\n"
      ],
      "text/plain": [
       "+--------+\n",
       "|count(1)|\n",
       "+--------+\n",
       "|      69|\n",
       "+--------+"
      ]
     },
     "execution_count": 14,
     "metadata": {},
     "output_type": "execute_result"
    }
   ],
   "source": [
    "#1)  check null values in \"total_principal_received\" and remove null values\n",
    "spark.sql(\"select count(*) from loans_repayment where total_principal_received is null \")"
   ]
  },
  {
   "cell_type": "code",
   "execution_count": 15,
   "id": "327a47bb",
   "metadata": {},
   "outputs": [],
   "source": [
    "columns_to_check = [\"total_principal_received\", \"total_interest_received\",\"total_late_fee_received\",\"total_payment_received\", \"last_payment_amount\"]"
   ]
  },
  {
   "cell_type": "code",
   "execution_count": 16,
   "id": "2b990cf3",
   "metadata": {},
   "outputs": [],
   "source": [
    "loans_repay_filtered_df = loans_repay_ingest.na.drop(subset=columns_to_check)"
   ]
  },
  {
   "cell_type": "code",
   "execution_count": 17,
   "id": "c8bb8ab1",
   "metadata": {},
   "outputs": [
    {
     "data": {
      "text/plain": [
       "2260498"
      ]
     },
     "execution_count": 17,
     "metadata": {},
     "output_type": "execute_result"
    }
   ],
   "source": [
    "loans_repay_filtered_df.count()"
   ]
  },
  {
   "cell_type": "code",
   "execution_count": 18,
   "id": "3465504d",
   "metadata": {},
   "outputs": [
    {
     "data": {
      "text/html": [
       "<table border='1'>\n",
       "<tr><th>loan_id</th><th>total_principal_received</th><th>total_interest_received</th><th>total_late_fee_received</th><th>total_payment_received</th><th>last_payment_amount</th><th>last_payment_date</th><th>next_payment_date</th><th>ingest_date</th></tr>\n",
       "<tr><td>75427271</td><td>0.0</td><td>0.0</td><td>0.0</td><td>0.0</td><td>0.0</td><td>null</td><td>null</td><td>2025-06-15 05:44:...</td></tr>\n",
       "<tr><td>141017398</td><td>0.0</td><td>0.0</td><td>0.0</td><td>0.0</td><td>0.0</td><td>null</td><td>null</td><td>2025-06-15 05:44:...</td></tr>\n",
       "<tr><td>140973407</td><td>0.0</td><td>0.0</td><td>0.0</td><td>0.0</td><td>0.0</td><td>null</td><td>null</td><td>2025-06-15 05:44:...</td></tr>\n",
       "<tr><td>140618570</td><td>0.0</td><td>0.0</td><td>0.0</td><td>0.0</td><td>0.0</td><td>null</td><td>null</td><td>2025-06-15 05:44:...</td></tr>\n",
       "<tr><td>140999435</td><td>0.0</td><td>0.0</td><td>0.0</td><td>0.0</td><td>0.0</td><td>null</td><td>null</td><td>2025-06-15 05:44:...</td></tr>\n",
       "<tr><td>140946099</td><td>0.0</td><td>0.0</td><td>0.0</td><td>0.0</td><td>0.0</td><td>null</td><td>null</td><td>2025-06-15 05:44:...</td></tr>\n",
       "<tr><td>140894966</td><td>0.0</td><td>0.0</td><td>0.0</td><td>0.0</td><td>0.0</td><td>null</td><td>null</td><td>2025-06-15 05:44:...</td></tr>\n",
       "<tr><td>140759457</td><td>0.0</td><td>0.0</td><td>0.0</td><td>0.0</td><td>0.0</td><td>null</td><td>null</td><td>2025-06-15 05:44:...</td></tr>\n",
       "<tr><td>139697300</td><td>0.0</td><td>0.0</td><td>0.0</td><td>0.0</td><td>0.0</td><td>null</td><td>null</td><td>2025-06-15 05:44:...</td></tr>\n",
       "<tr><td>140817236</td><td>0.0</td><td>0.0</td><td>0.0</td><td>0.0</td><td>0.0</td><td>null</td><td>null</td><td>2025-06-15 05:44:...</td></tr>\n",
       "<tr><td>140862375</td><td>0.0</td><td>0.0</td><td>0.0</td><td>0.0</td><td>0.0</td><td>null</td><td>null</td><td>2025-06-15 05:44:...</td></tr>\n",
       "<tr><td>140488959</td><td>0.0</td><td>0.0</td><td>0.0</td><td>0.0</td><td>0.0</td><td>null</td><td>null</td><td>2025-06-15 05:44:...</td></tr>\n",
       "<tr><td>140566177</td><td>0.0</td><td>0.0</td><td>0.0</td><td>0.0</td><td>0.0</td><td>null</td><td>null</td><td>2025-06-15 05:44:...</td></tr>\n",
       "<tr><td>138618036</td><td>0.0</td><td>0.0</td><td>0.0</td><td>0.0</td><td>0.0</td><td>null</td><td>null</td><td>2025-06-15 05:44:...</td></tr>\n",
       "<tr><td>140670927</td><td>0.0</td><td>0.0</td><td>0.0</td><td>0.0</td><td>0.0</td><td>null</td><td>null</td><td>2025-06-15 05:44:...</td></tr>\n",
       "<tr><td>139107090</td><td>0.0</td><td>0.0</td><td>0.0</td><td>0.0</td><td>0.0</td><td>null</td><td>null</td><td>2025-06-15 05:44:...</td></tr>\n",
       "<tr><td>140554875</td><td>0.0</td><td>0.0</td><td>0.0</td><td>0.0</td><td>0.0</td><td>null</td><td>null</td><td>2025-06-15 05:44:...</td></tr>\n",
       "<tr><td>139582113</td><td>0.0</td><td>0.0</td><td>0.0</td><td>0.0</td><td>0.0</td><td>null</td><td>null</td><td>2025-06-15 05:44:...</td></tr>\n",
       "<tr><td>139478608</td><td>0.0</td><td>0.0</td><td>0.0</td><td>0.0</td><td>0.0</td><td>null</td><td>null</td><td>2025-06-15 05:44:...</td></tr>\n",
       "<tr><td>139834434</td><td>0.0</td><td>0.0</td><td>0.0</td><td>0.0</td><td>0.0</td><td>null</td><td>null</td><td>2025-06-15 05:44:...</td></tr>\n",
       "</table>\n",
       "only showing top 20 rows\n"
      ],
      "text/plain": [
       "+---------+------------------------+-----------------------+-----------------------+----------------------+-------------------+-----------------+-----------------+--------------------+\n",
       "|  loan_id|total_principal_received|total_interest_received|total_late_fee_received|total_payment_received|last_payment_amount|last_payment_date|next_payment_date|         ingest_date|\n",
       "+---------+------------------------+-----------------------+-----------------------+----------------------+-------------------+-----------------+-----------------+--------------------+\n",
       "| 75427271|                     0.0|                    0.0|                    0.0|                   0.0|                0.0|             null|             null|2025-06-15 05:44:...|\n",
       "|141017398|                     0.0|                    0.0|                    0.0|                   0.0|                0.0|             null|             null|2025-06-15 05:44:...|\n",
       "|140973407|                     0.0|                    0.0|                    0.0|                   0.0|                0.0|             null|             null|2025-06-15 05:44:...|\n",
       "|140618570|                     0.0|                    0.0|                    0.0|                   0.0|                0.0|             null|             null|2025-06-15 05:44:...|\n",
       "|140999435|                     0.0|                    0.0|                    0.0|                   0.0|                0.0|             null|             null|2025-06-15 05:44:...|\n",
       "|140946099|                     0.0|                    0.0|                    0.0|                   0.0|                0.0|             null|             null|2025-06-15 05:44:...|\n",
       "|140894966|                     0.0|                    0.0|                    0.0|                   0.0|                0.0|             null|             null|2025-06-15 05:44:...|\n",
       "|140759457|                     0.0|                    0.0|                    0.0|                   0.0|                0.0|             null|             null|2025-06-15 05:44:...|\n",
       "|139697300|                     0.0|                    0.0|                    0.0|                   0.0|                0.0|             null|             null|2025-06-15 05:44:...|\n",
       "|140817236|                     0.0|                    0.0|                    0.0|                   0.0|                0.0|             null|             null|2025-06-15 05:44:...|\n",
       "|140862375|                     0.0|                    0.0|                    0.0|                   0.0|                0.0|             null|             null|2025-06-15 05:44:...|\n",
       "|140488959|                     0.0|                    0.0|                    0.0|                   0.0|                0.0|             null|             null|2025-06-15 05:44:...|\n",
       "|140566177|                     0.0|                    0.0|                    0.0|                   0.0|                0.0|             null|             null|2025-06-15 05:44:...|\n",
       "|138618036|                     0.0|                    0.0|                    0.0|                   0.0|                0.0|             null|             null|2025-06-15 05:44:...|\n",
       "|140670927|                     0.0|                    0.0|                    0.0|                   0.0|                0.0|             null|             null|2025-06-15 05:44:...|\n",
       "|139107090|                     0.0|                    0.0|                    0.0|                   0.0|                0.0|             null|             null|2025-06-15 05:44:...|\n",
       "|140554875|                     0.0|                    0.0|                    0.0|                   0.0|                0.0|             null|             null|2025-06-15 05:44:...|\n",
       "|139582113|                     0.0|                    0.0|                    0.0|                   0.0|                0.0|             null|             null|2025-06-15 05:44:...|\n",
       "|139478608|                     0.0|                    0.0|                    0.0|                   0.0|                0.0|             null|             null|2025-06-15 05:44:...|\n",
       "|139834434|                     0.0|                    0.0|                    0.0|                   0.0|                0.0|             null|             null|2025-06-15 05:44:...|\n",
       "+---------+------------------------+-----------------------+-----------------------+----------------------+-------------------+-----------------+-----------------+--------------------+\n",
       "only showing top 20 rows"
      ]
     },
     "execution_count": 18,
     "metadata": {},
     "output_type": "execute_result"
    }
   ],
   "source": [
    "#2)  Check where  \"total_payment_received\" is 0.0 \n",
    "loans_repay_filtered_df.createOrReplaceTempView(\"loans_repayment\")\n",
    "spark.sql (\"select * from loans_repayment where total_payment_received=0.0\")\n"
   ]
  },
  {
   "cell_type": "code",
   "execution_count": 19,
   "id": "25ea1597",
   "metadata": {},
   "outputs": [
    {
     "data": {
      "text/html": [
       "<table border='1'>\n",
       "<tr><th>count(1)</th></tr>\n",
       "<tr><td>995</td></tr>\n",
       "</table>\n"
      ],
      "text/plain": [
       "+--------+\n",
       "|count(1)|\n",
       "+--------+\n",
       "|     995|\n",
       "+--------+"
      ]
     },
     "execution_count": 19,
     "metadata": {},
     "output_type": "execute_result"
    }
   ],
   "source": [
    "# Check the count where  \"total_payment_received\" is 0.0\n",
    "spark.sql (\"select count(*) from loans_repayment where total_payment_received=0.0\")"
   ]
  },
  {
   "cell_type": "code",
   "execution_count": 20,
   "id": "82367181",
   "metadata": {},
   "outputs": [
    {
     "data": {
      "text/html": [
       "<table border='1'>\n",
       "<tr><th>loan_id</th><th>total_principal_received</th><th>total_interest_received</th><th>total_late_fee_received</th><th>total_payment_received</th><th>last_payment_amount</th><th>last_payment_date</th><th>next_payment_date</th><th>ingest_date</th></tr>\n",
       "<tr><td>1064185</td><td>11600.98</td><td>11600.98</td><td>10000.0</td><td>0.0</td><td>0.0</td><td>0.0</td><td>Dec-2014</td><td>2025-06-15 05:44:...</td></tr>\n",
       "<tr><td>516382</td><td>21890.229</td><td>21856.03</td><td>16000.0</td><td>0.0</td><td>0.0</td><td>0.0</td><td>Mar-2014</td><td>2025-06-15 05:44:...</td></tr>\n",
       "<tr><td>528899</td><td>3045.0364</td><td>3019.64</td><td>2500.0</td><td>0.0</td><td>0.0</td><td>0.0</td><td>Jan-2013</td><td>2025-06-15 05:44:...</td></tr>\n",
       "<tr><td>527598</td><td>2398.9092</td><td>2220.51</td><td>2200.0</td><td>0.0</td><td>0.0</td><td>0.0</td><td>Jul-2011</td><td>2025-06-15 05:44:...</td></tr>\n",
       "<tr><td>525697</td><td>21797.86</td><td>19894.9</td><td>15750.0</td><td>0.0</td><td>0.0</td><td>0.0</td><td>Jun-2015</td><td>2025-06-15 05:44:...</td></tr>\n",
       "<tr><td>522641</td><td>3146.8193</td><td>3146.82</td><td>3000.0</td><td>0.0</td><td>0.0</td><td>0.0</td><td>Sep-2011</td><td>2025-06-15 05:44:...</td></tr>\n",
       "<tr><td>515655</td><td>29938.576</td><td>29905.75</td><td>22800.0</td><td>0.0</td><td>0.0</td><td>0.0</td><td>May-2013</td><td>2025-06-15 05:44:...</td></tr>\n",
       "<tr><td>501234</td><td>15219.313</td><td>15155.9</td><td>12000.0</td><td>0.0</td><td>0.0</td><td>0.0</td><td>May-2013</td><td>2025-06-15 05:44:...</td></tr>\n",
       "<tr><td>498194</td><td>11642.714</td><td>11031.47</td><td>10000.0</td><td>0.0</td><td>0.0</td><td>0.0</td><td>Jan-2013</td><td>2025-06-15 05:44:...</td></tr>\n",
       "<tr><td>495171</td><td>11138.843</td><td>10024.96</td><td>10000.0</td><td>0.0</td><td>0.0</td><td>0.0</td><td>Apr-2013</td><td>2025-06-15 05:44:...</td></tr>\n",
       "<tr><td>493508</td><td>28732.803</td><td>28495.83</td><td>24250.0</td><td>0.0</td><td>0.0</td><td>0.0</td><td>Apr-2013</td><td>2025-06-15 05:44:...</td></tr>\n",
       "<tr><td>485818</td><td>14640.096</td><td>13388.84</td><td>13000.0</td><td>0.0</td><td>0.0</td><td>0.0</td><td>Mar-2013</td><td>2025-06-15 05:44:...</td></tr>\n",
       "<tr><td>485471</td><td>29620.818</td><td>29134.64</td><td>25000.0</td><td>0.0</td><td>0.0</td><td>0.0</td><td>Mar-2013</td><td>2025-06-15 05:44:...</td></tr>\n",
       "<tr><td>482256</td><td>8735.611</td><td>7479.87</td><td>8000.0</td><td>0.0</td><td>0.0</td><td>0.0</td><td>Feb-2011</td><td>2025-06-15 05:44:...</td></tr>\n",
       "<tr><td>478160</td><td>410.0</td><td>407.36</td><td>0.0</td><td>0.0</td><td>143.1</td><td>410.0</td><td>null</td><td>2025-06-15 05:44:...</td></tr>\n",
       "<tr><td>476557</td><td>28865.18</td><td>24164.67</td><td>5692.31</td><td>0.0</td><td>6972.59</td><td>19916.78</td><td>Dec-2010</td><td>2025-06-15 05:44:...</td></tr>\n",
       "<tr><td>472516</td><td>25951.482</td><td>24731.76</td><td>25000.0</td><td>0.0</td><td>0.0</td><td>0.0</td><td>May-2010</td><td>2025-06-15 05:44:...</td></tr>\n",
       "<tr><td>472197</td><td>12048.13</td><td>12018.01</td><td>10000.0</td><td>0.0</td><td>0.0</td><td>0.0</td><td>Jan-2013</td><td>2025-06-15 05:44:...</td></tr>\n",
       "<tr><td>467364</td><td>29216.791</td><td>29066.19</td><td>24250.0</td><td>0.0</td><td>0.0</td><td>0.0</td><td>Dec-2012</td><td>2025-06-15 05:44:...</td></tr>\n",
       "<tr><td>399499</td><td>26557.729</td><td>26336.41</td><td>24000.0</td><td>0.0</td><td>0.0</td><td>0.0</td><td>Dec-2010</td><td>2025-06-15 05:44:...</td></tr>\n",
       "</table>\n",
       "only showing top 20 rows\n"
      ],
      "text/plain": [
       "+-------+------------------------+-----------------------+-----------------------+----------------------+-------------------+-----------------+-----------------+--------------------+\n",
       "|loan_id|total_principal_received|total_interest_received|total_late_fee_received|total_payment_received|last_payment_amount|last_payment_date|next_payment_date|         ingest_date|\n",
       "+-------+------------------------+-----------------------+-----------------------+----------------------+-------------------+-----------------+-----------------+--------------------+\n",
       "|1064185|                11600.98|               11600.98|                10000.0|                   0.0|                0.0|              0.0|         Dec-2014|2025-06-15 05:44:...|\n",
       "| 516382|               21890.229|               21856.03|                16000.0|                   0.0|                0.0|              0.0|         Mar-2014|2025-06-15 05:44:...|\n",
       "| 528899|               3045.0364|                3019.64|                 2500.0|                   0.0|                0.0|              0.0|         Jan-2013|2025-06-15 05:44:...|\n",
       "| 527598|               2398.9092|                2220.51|                 2200.0|                   0.0|                0.0|              0.0|         Jul-2011|2025-06-15 05:44:...|\n",
       "| 525697|                21797.86|                19894.9|                15750.0|                   0.0|                0.0|              0.0|         Jun-2015|2025-06-15 05:44:...|\n",
       "| 522641|               3146.8193|                3146.82|                 3000.0|                   0.0|                0.0|              0.0|         Sep-2011|2025-06-15 05:44:...|\n",
       "| 515655|               29938.576|               29905.75|                22800.0|                   0.0|                0.0|              0.0|         May-2013|2025-06-15 05:44:...|\n",
       "| 501234|               15219.313|                15155.9|                12000.0|                   0.0|                0.0|              0.0|         May-2013|2025-06-15 05:44:...|\n",
       "| 498194|               11642.714|               11031.47|                10000.0|                   0.0|                0.0|              0.0|         Jan-2013|2025-06-15 05:44:...|\n",
       "| 495171|               11138.843|               10024.96|                10000.0|                   0.0|                0.0|              0.0|         Apr-2013|2025-06-15 05:44:...|\n",
       "| 493508|               28732.803|               28495.83|                24250.0|                   0.0|                0.0|              0.0|         Apr-2013|2025-06-15 05:44:...|\n",
       "| 485818|               14640.096|               13388.84|                13000.0|                   0.0|                0.0|              0.0|         Mar-2013|2025-06-15 05:44:...|\n",
       "| 485471|               29620.818|               29134.64|                25000.0|                   0.0|                0.0|              0.0|         Mar-2013|2025-06-15 05:44:...|\n",
       "| 482256|                8735.611|                7479.87|                 8000.0|                   0.0|                0.0|              0.0|         Feb-2011|2025-06-15 05:44:...|\n",
       "| 478160|                   410.0|                 407.36|                    0.0|                   0.0|              143.1|            410.0|             null|2025-06-15 05:44:...|\n",
       "| 476557|                28865.18|               24164.67|                5692.31|                   0.0|            6972.59|         19916.78|         Dec-2010|2025-06-15 05:44:...|\n",
       "| 472516|               25951.482|               24731.76|                25000.0|                   0.0|                0.0|              0.0|         May-2010|2025-06-15 05:44:...|\n",
       "| 472197|                12048.13|               12018.01|                10000.0|                   0.0|                0.0|              0.0|         Jan-2013|2025-06-15 05:44:...|\n",
       "| 467364|               29216.791|               29066.19|                24250.0|                   0.0|                0.0|              0.0|         Dec-2012|2025-06-15 05:44:...|\n",
       "| 399499|               26557.729|               26336.41|                24000.0|                   0.0|                0.0|              0.0|         Dec-2010|2025-06-15 05:44:...|\n",
       "+-------+------------------------+-----------------------+-----------------------+----------------------+-------------------+-----------------+-----------------+--------------------+\n",
       "only showing top 20 rows"
      ]
     },
     "execution_count": 20,
     "metadata": {},
     "output_type": "execute_result"
    }
   ],
   "source": [
    "# 3) Check where  \"total_payment_received\" is 0.0 but \"total_principal_received\" is no equal to 0\n",
    "spark.sql (\"select * from loans_repayment where total_payment_received=0.0 and total_principal_received!=0.0\" )"
   ]
  },
  {
   "cell_type": "code",
   "execution_count": 21,
   "id": "b963f46b",
   "metadata": {},
   "outputs": [
    {
     "data": {
      "text/html": [
       "<table border='1'>\n",
       "<tr><th>count(1)</th></tr>\n",
       "<tr><td>46</td></tr>\n",
       "</table>\n"
      ],
      "text/plain": [
       "+--------+\n",
       "|count(1)|\n",
       "+--------+\n",
       "|      46|\n",
       "+--------+"
      ]
     },
     "execution_count": 21,
     "metadata": {},
     "output_type": "execute_result"
    }
   ],
   "source": [
    "# Check the count where \"total_payment_received\" is 0.0 but \"total_principal_received\" is no equal to 0\n",
    "spark.sql (\"select count(*) from loans_repayment where total_payment_received=0.0 and total_principal_received!=0.0\" )"
   ]
  },
  {
   "cell_type": "code",
   "execution_count": 22,
   "id": "29ce8b7d",
   "metadata": {},
   "outputs": [],
   "source": [
    "from pyspark.sql.functions import when,col"
   ]
  },
  {
   "cell_type": "code",
   "execution_count": 23,
   "id": "b5a73ef6",
   "metadata": {},
   "outputs": [],
   "source": [
    "#4) Making a logic that \"total_principal_received\" + \"total_interest_received\"+ \"total_late_fee_received\" = \"total_payment_received\"\n",
    "#where  \"total_payment_received\" is 0.0 but \"total_principal_received\" is no equal to 0 \n",
    "loans_payments_fixed_df = loans_repay_filtered_df.withColumn(\"total_payment_received\",\n",
    "when(\n",
    "    (col(\"total_principal_received\")!=0.0)&      #if this 2 condition met\n",
    "    (col(\"total_payment_received\")==0.0),        #if this 2 condition met\n",
    "col(\"total_principal_received\")+ col(\"total_interest_received\")+ col(\"total_late_fee_received\")  #replace the value by this \n",
    ").otherwise(col(\"total_payment_received\"))   #otherwise by this\n",
    ")"
   ]
  },
  {
   "cell_type": "code",
   "execution_count": 24,
   "id": "bf2a8c7a",
   "metadata": {},
   "outputs": [
    {
     "data": {
      "text/html": [
       "<table border='1'>\n",
       "<tr><th>loan_id</th><th>total_principal_received</th><th>total_interest_received</th><th>total_late_fee_received</th><th>total_payment_received</th><th>last_payment_amount</th><th>last_payment_date</th><th>next_payment_date</th><th>ingest_date</th></tr>\n",
       "<tr><td>76003861</td><td>6423.8</td><td>5607.85</td><td>0.0</td><td>12031.65</td><td>574.88</td><td>Jan-2018</td><td>null</td><td>2025-06-15 05:44:...</td></tr>\n",
       "<tr><td>76263914</td><td>2400.0</td><td>323.18</td><td>0.0</td><td>2723.1802</td><td>905.18</td><td>Dec-2017</td><td>null</td><td>2025-06-15 05:44:...</td></tr>\n",
       "<tr><td>75537401</td><td>12600.0</td><td>1392.76</td><td>0.0</td><td>13992.757</td><td>3437.74</td><td>Aug-2018</td><td>null</td><td>2025-06-15 05:44:...</td></tr>\n",
       "<tr><td>75038986</td><td>7805.03</td><td>7583.71</td><td>0.0</td><td>15388.74</td><td>440.72</td><td>Mar-2019</td><td>Apr-2019</td><td>2025-06-15 05:44:...</td></tr>\n",
       "<tr><td>76301424</td><td>2614.78</td><td>1080.09</td><td>0.0</td><td>3694.87</td><td>153.89</td><td>Apr-2018</td><td>null</td><td>2025-06-15 05:44:...</td></tr>\n",
       "<tr><td>75333198</td><td>8664.09</td><td>3431.32</td><td>68.8</td><td>12164.21</td><td>343.9</td><td>Mar-2019</td><td>Apr-2019</td><td>2025-06-15 05:44:...</td></tr>\n",
       "<tr><td>76391453</td><td>35000.0</td><td>10266.01</td><td>0.0</td><td>45266.008</td><td>18884.35</td><td>Feb-2019</td><td>null</td><td>2025-06-15 05:44:...</td></tr>\n",
       "<tr><td>76363364</td><td>15000.0</td><td>2093.11</td><td>0.0</td><td>17093.107</td><td>4648.59</td><td>Aug-2018</td><td>null</td><td>2025-06-15 05:44:...</td></tr>\n",
       "<tr><td>76272510</td><td>14463.21</td><td>11178.79</td><td>110.13</td><td>25752.13</td><td>734.18</td><td>Mar-2019</td><td>Apr-2019</td><td>2025-06-15 05:44:...</td></tr>\n",
       "<tr><td>76304116</td><td>4800.0</td><td>1051.65</td><td>0.0</td><td>5851.6523</td><td>1761.59</td><td>Dec-2017</td><td>null</td><td>2025-06-15 05:44:...</td></tr>\n",
       "<tr><td>76422971</td><td>2222.99</td><td>1457.74</td><td>0.0</td><td>4357.37</td><td>369.25</td><td>Feb-2017</td><td>null</td><td>2025-06-15 05:44:...</td></tr>\n",
       "<tr><td>75369187</td><td>17855.93</td><td>9340.74</td><td>0.0</td><td>27196.67</td><td>778.38</td><td>Mar-2019</td><td>Apr-2019</td><td>2025-06-15 05:44:...</td></tr>\n",
       "<tr><td>76212079</td><td>6197.74</td><td>935.75</td><td>0.0</td><td>7133.49</td><td>204.0</td><td>Mar-2019</td><td>Apr-2019</td><td>2025-06-15 05:44:...</td></tr>\n",
       "<tr><td>75104089</td><td>8500.0</td><td>1208.95</td><td>0.0</td><td>9708.954</td><td>213.62</td><td>Feb-2019</td><td>null</td><td>2025-06-15 05:44:...</td></tr>\n",
       "<tr><td>75669444</td><td>14313.44</td><td>13782.05</td><td>0.0</td><td>28095.49</td><td>807.98</td><td>Feb-2019</td><td>Apr-2019</td><td>2025-06-15 05:44:...</td></tr>\n",
       "<tr><td>76223382</td><td>1936.79</td><td>292.42</td><td>0.0</td><td>2229.21</td><td>63.75</td><td>Mar-2019</td><td>Apr-2019</td><td>2025-06-15 05:44:...</td></tr>\n",
       "<tr><td>76223540</td><td>25000.0</td><td>3383.18</td><td>134.19</td><td>28517.375</td><td>5107.74</td><td>Apr-2017</td><td>null</td><td>2025-06-15 05:44:...</td></tr>\n",
       "<tr><td>76255093</td><td>7000.0</td><td>1830.84</td><td>0.0</td><td>8830.839</td><td>435.99</td><td>Jan-2019</td><td>null</td><td>2025-06-15 05:44:...</td></tr>\n",
       "<tr><td>76402196</td><td>7731.33</td><td>1787.84</td><td>0.0</td><td>9519.17</td><td>272.15</td><td>Mar-2019</td><td>Apr-2019</td><td>2025-06-15 05:44:...</td></tr>\n",
       "<tr><td>76223437</td><td>24000.0</td><td>3186.22</td><td>0.0</td><td>27186.223</td><td>8110.44</td><td>Jun-2018</td><td>null</td><td>2025-06-15 05:44:...</td></tr>\n",
       "</table>\n",
       "only showing top 20 rows\n"
      ],
      "text/plain": [
       "+--------+------------------------+-----------------------+-----------------------+----------------------+-------------------+-----------------+-----------------+--------------------+\n",
       "| loan_id|total_principal_received|total_interest_received|total_late_fee_received|total_payment_received|last_payment_amount|last_payment_date|next_payment_date|         ingest_date|\n",
       "+--------+------------------------+-----------------------+-----------------------+----------------------+-------------------+-----------------+-----------------+--------------------+\n",
       "|76003861|                  6423.8|                5607.85|                    0.0|              12031.65|             574.88|         Jan-2018|             null|2025-06-15 05:44:...|\n",
       "|76263914|                  2400.0|                 323.18|                    0.0|             2723.1802|             905.18|         Dec-2017|             null|2025-06-15 05:44:...|\n",
       "|75537401|                 12600.0|                1392.76|                    0.0|             13992.757|            3437.74|         Aug-2018|             null|2025-06-15 05:44:...|\n",
       "|75038986|                 7805.03|                7583.71|                    0.0|              15388.74|             440.72|         Mar-2019|         Apr-2019|2025-06-15 05:44:...|\n",
       "|76301424|                 2614.78|                1080.09|                    0.0|               3694.87|             153.89|         Apr-2018|             null|2025-06-15 05:44:...|\n",
       "|75333198|                 8664.09|                3431.32|                   68.8|              12164.21|              343.9|         Mar-2019|         Apr-2019|2025-06-15 05:44:...|\n",
       "|76391453|                 35000.0|               10266.01|                    0.0|             45266.008|           18884.35|         Feb-2019|             null|2025-06-15 05:44:...|\n",
       "|76363364|                 15000.0|                2093.11|                    0.0|             17093.107|            4648.59|         Aug-2018|             null|2025-06-15 05:44:...|\n",
       "|76272510|                14463.21|               11178.79|                 110.13|              25752.13|             734.18|         Mar-2019|         Apr-2019|2025-06-15 05:44:...|\n",
       "|76304116|                  4800.0|                1051.65|                    0.0|             5851.6523|            1761.59|         Dec-2017|             null|2025-06-15 05:44:...|\n",
       "|76422971|                 2222.99|                1457.74|                    0.0|               4357.37|             369.25|         Feb-2017|             null|2025-06-15 05:44:...|\n",
       "|75369187|                17855.93|                9340.74|                    0.0|              27196.67|             778.38|         Mar-2019|         Apr-2019|2025-06-15 05:44:...|\n",
       "|76212079|                 6197.74|                 935.75|                    0.0|               7133.49|              204.0|         Mar-2019|         Apr-2019|2025-06-15 05:44:...|\n",
       "|75104089|                  8500.0|                1208.95|                    0.0|              9708.954|             213.62|         Feb-2019|             null|2025-06-15 05:44:...|\n",
       "|75669444|                14313.44|               13782.05|                    0.0|              28095.49|             807.98|         Feb-2019|         Apr-2019|2025-06-15 05:44:...|\n",
       "|76223382|                 1936.79|                 292.42|                    0.0|               2229.21|              63.75|         Mar-2019|         Apr-2019|2025-06-15 05:44:...|\n",
       "|76223540|                 25000.0|                3383.18|                 134.19|             28517.375|            5107.74|         Apr-2017|             null|2025-06-15 05:44:...|\n",
       "|76255093|                  7000.0|                1830.84|                    0.0|              8830.839|             435.99|         Jan-2019|             null|2025-06-15 05:44:...|\n",
       "|76402196|                 7731.33|                1787.84|                    0.0|               9519.17|             272.15|         Mar-2019|         Apr-2019|2025-06-15 05:44:...|\n",
       "|76223437|                 24000.0|                3186.22|                    0.0|             27186.223|            8110.44|         Jun-2018|             null|2025-06-15 05:44:...|\n",
       "+--------+------------------------+-----------------------+-----------------------+----------------------+-------------------+-----------------+-----------------+--------------------+\n",
       "only showing top 20 rows"
      ]
     },
     "execution_count": 24,
     "metadata": {},
     "output_type": "execute_result"
    }
   ],
   "source": [
    "loans_payments_fixed_df"
   ]
  },
  {
   "cell_type": "code",
   "execution_count": 25,
   "id": "0e31a2b0",
   "metadata": {},
   "outputs": [
    {
     "data": {
      "text/html": [
       "<table border='1'>\n",
       "<tr><th>loan_id</th><th>total_principal_received</th><th>total_interest_received</th><th>total_late_fee_received</th><th>total_payment_received</th><th>last_payment_amount</th><th>last_payment_date</th><th>next_payment_date</th><th>ingest_date</th></tr>\n",
       "<tr><td>1064185</td><td>11600.98</td><td>11600.98</td><td>10000.0</td><td>33201.96</td><td>0.0</td><td>0.0</td><td>Dec-2014</td><td>2025-06-15 05:44:...</td></tr>\n",
       "</table>\n"
      ],
      "text/plain": [
       "+-------+------------------------+-----------------------+-----------------------+----------------------+-------------------+-----------------+-----------------+--------------------+\n",
       "|loan_id|total_principal_received|total_interest_received|total_late_fee_received|total_payment_received|last_payment_amount|last_payment_date|next_payment_date|         ingest_date|\n",
       "+-------+------------------------+-----------------------+-----------------------+----------------------+-------------------+-----------------+-----------------+--------------------+\n",
       "|1064185|                11600.98|               11600.98|                10000.0|              33201.96|                0.0|              0.0|         Dec-2014|2025-06-15 05:44:...|\n",
       "+-------+------------------------+-----------------------+-----------------------+----------------------+-------------------+-----------------+-----------------+--------------------+"
      ]
     },
     "execution_count": 25,
     "metadata": {},
     "output_type": "execute_result"
    }
   ],
   "source": [
    "#5) Now to check the previous query 4 is working or not . Let's take loan_id =1064185 , total_payment_received was 0.0  before (in 3 query) ,lets see now\n",
    "loans_payments_fixed_df.filter(\"loan_id == '1064185'\")\n",
    "#Now you can see  for loan_id == '1064185 , total_payment_received is 33201.96"
   ]
  },
  {
   "cell_type": "code",
   "execution_count": 26,
   "id": "a37b6b93",
   "metadata": {},
   "outputs": [
    {
     "data": {
      "text/html": [
       "<table border='1'>\n",
       "<tr><th>loan_id</th><th>total_principal_received</th><th>total_interest_received</th><th>total_late_fee_received</th><th>total_payment_received</th><th>last_payment_amount</th><th>last_payment_date</th><th>next_payment_date</th><th>ingest_date</th></tr>\n",
       "<tr><td>75427271</td><td>0.0</td><td>0.0</td><td>0.0</td><td>0.0</td><td>0.0</td><td>null</td><td>null</td><td>2025-06-15 05:44:...</td></tr>\n",
       "<tr><td>141017398</td><td>0.0</td><td>0.0</td><td>0.0</td><td>0.0</td><td>0.0</td><td>null</td><td>null</td><td>2025-06-15 05:44:...</td></tr>\n",
       "<tr><td>140973407</td><td>0.0</td><td>0.0</td><td>0.0</td><td>0.0</td><td>0.0</td><td>null</td><td>null</td><td>2025-06-15 05:44:...</td></tr>\n",
       "<tr><td>140618570</td><td>0.0</td><td>0.0</td><td>0.0</td><td>0.0</td><td>0.0</td><td>null</td><td>null</td><td>2025-06-15 05:44:...</td></tr>\n",
       "<tr><td>140999435</td><td>0.0</td><td>0.0</td><td>0.0</td><td>0.0</td><td>0.0</td><td>null</td><td>null</td><td>2025-06-15 05:44:...</td></tr>\n",
       "<tr><td>140946099</td><td>0.0</td><td>0.0</td><td>0.0</td><td>0.0</td><td>0.0</td><td>null</td><td>null</td><td>2025-06-15 05:44:...</td></tr>\n",
       "<tr><td>140894966</td><td>0.0</td><td>0.0</td><td>0.0</td><td>0.0</td><td>0.0</td><td>null</td><td>null</td><td>2025-06-15 05:44:...</td></tr>\n",
       "<tr><td>140759457</td><td>0.0</td><td>0.0</td><td>0.0</td><td>0.0</td><td>0.0</td><td>null</td><td>null</td><td>2025-06-15 05:44:...</td></tr>\n",
       "<tr><td>139697300</td><td>0.0</td><td>0.0</td><td>0.0</td><td>0.0</td><td>0.0</td><td>null</td><td>null</td><td>2025-06-15 05:44:...</td></tr>\n",
       "<tr><td>140817236</td><td>0.0</td><td>0.0</td><td>0.0</td><td>0.0</td><td>0.0</td><td>null</td><td>null</td><td>2025-06-15 05:44:...</td></tr>\n",
       "<tr><td>140862375</td><td>0.0</td><td>0.0</td><td>0.0</td><td>0.0</td><td>0.0</td><td>null</td><td>null</td><td>2025-06-15 05:44:...</td></tr>\n",
       "<tr><td>140488959</td><td>0.0</td><td>0.0</td><td>0.0</td><td>0.0</td><td>0.0</td><td>null</td><td>null</td><td>2025-06-15 05:44:...</td></tr>\n",
       "<tr><td>140566177</td><td>0.0</td><td>0.0</td><td>0.0</td><td>0.0</td><td>0.0</td><td>null</td><td>null</td><td>2025-06-15 05:44:...</td></tr>\n",
       "<tr><td>138618036</td><td>0.0</td><td>0.0</td><td>0.0</td><td>0.0</td><td>0.0</td><td>null</td><td>null</td><td>2025-06-15 05:44:...</td></tr>\n",
       "<tr><td>140670927</td><td>0.0</td><td>0.0</td><td>0.0</td><td>0.0</td><td>0.0</td><td>null</td><td>null</td><td>2025-06-15 05:44:...</td></tr>\n",
       "<tr><td>139107090</td><td>0.0</td><td>0.0</td><td>0.0</td><td>0.0</td><td>0.0</td><td>null</td><td>null</td><td>2025-06-15 05:44:...</td></tr>\n",
       "<tr><td>140554875</td><td>0.0</td><td>0.0</td><td>0.0</td><td>0.0</td><td>0.0</td><td>null</td><td>null</td><td>2025-06-15 05:44:...</td></tr>\n",
       "<tr><td>139582113</td><td>0.0</td><td>0.0</td><td>0.0</td><td>0.0</td><td>0.0</td><td>null</td><td>null</td><td>2025-06-15 05:44:...</td></tr>\n",
       "<tr><td>139478608</td><td>0.0</td><td>0.0</td><td>0.0</td><td>0.0</td><td>0.0</td><td>null</td><td>null</td><td>2025-06-15 05:44:...</td></tr>\n",
       "<tr><td>139834434</td><td>0.0</td><td>0.0</td><td>0.0</td><td>0.0</td><td>0.0</td><td>null</td><td>null</td><td>2025-06-15 05:44:...</td></tr>\n",
       "</table>\n",
       "only showing top 20 rows\n"
      ],
      "text/plain": [
       "+---------+------------------------+-----------------------+-----------------------+----------------------+-------------------+-----------------+-----------------+--------------------+\n",
       "|  loan_id|total_principal_received|total_interest_received|total_late_fee_received|total_payment_received|last_payment_amount|last_payment_date|next_payment_date|         ingest_date|\n",
       "+---------+------------------------+-----------------------+-----------------------+----------------------+-------------------+-----------------+-----------------+--------------------+\n",
       "| 75427271|                     0.0|                    0.0|                    0.0|                   0.0|                0.0|             null|             null|2025-06-15 05:44:...|\n",
       "|141017398|                     0.0|                    0.0|                    0.0|                   0.0|                0.0|             null|             null|2025-06-15 05:44:...|\n",
       "|140973407|                     0.0|                    0.0|                    0.0|                   0.0|                0.0|             null|             null|2025-06-15 05:44:...|\n",
       "|140618570|                     0.0|                    0.0|                    0.0|                   0.0|                0.0|             null|             null|2025-06-15 05:44:...|\n",
       "|140999435|                     0.0|                    0.0|                    0.0|                   0.0|                0.0|             null|             null|2025-06-15 05:44:...|\n",
       "|140946099|                     0.0|                    0.0|                    0.0|                   0.0|                0.0|             null|             null|2025-06-15 05:44:...|\n",
       "|140894966|                     0.0|                    0.0|                    0.0|                   0.0|                0.0|             null|             null|2025-06-15 05:44:...|\n",
       "|140759457|                     0.0|                    0.0|                    0.0|                   0.0|                0.0|             null|             null|2025-06-15 05:44:...|\n",
       "|139697300|                     0.0|                    0.0|                    0.0|                   0.0|                0.0|             null|             null|2025-06-15 05:44:...|\n",
       "|140817236|                     0.0|                    0.0|                    0.0|                   0.0|                0.0|             null|             null|2025-06-15 05:44:...|\n",
       "|140862375|                     0.0|                    0.0|                    0.0|                   0.0|                0.0|             null|             null|2025-06-15 05:44:...|\n",
       "|140488959|                     0.0|                    0.0|                    0.0|                   0.0|                0.0|             null|             null|2025-06-15 05:44:...|\n",
       "|140566177|                     0.0|                    0.0|                    0.0|                   0.0|                0.0|             null|             null|2025-06-15 05:44:...|\n",
       "|138618036|                     0.0|                    0.0|                    0.0|                   0.0|                0.0|             null|             null|2025-06-15 05:44:...|\n",
       "|140670927|                     0.0|                    0.0|                    0.0|                   0.0|                0.0|             null|             null|2025-06-15 05:44:...|\n",
       "|139107090|                     0.0|                    0.0|                    0.0|                   0.0|                0.0|             null|             null|2025-06-15 05:44:...|\n",
       "|140554875|                     0.0|                    0.0|                    0.0|                   0.0|                0.0|             null|             null|2025-06-15 05:44:...|\n",
       "|139582113|                     0.0|                    0.0|                    0.0|                   0.0|                0.0|             null|             null|2025-06-15 05:44:...|\n",
       "|139478608|                     0.0|                    0.0|                    0.0|                   0.0|                0.0|             null|             null|2025-06-15 05:44:...|\n",
       "|139834434|                     0.0|                    0.0|                    0.0|                   0.0|                0.0|             null|             null|2025-06-15 05:44:...|\n",
       "+---------+------------------------+-----------------------+-----------------------+----------------------+-------------------+-----------------+-----------------+--------------------+\n",
       "only showing top 20 rows"
      ]
     },
     "execution_count": 26,
     "metadata": {},
     "output_type": "execute_result"
    }
   ],
   "source": [
    "#6) Still there is some data where \"total_payment_received\" = 0.0  bcoz all the inputs are 0.\n",
    "loans_payments_fixed_df.filter(\"total_payment_received==0.0\")"
   ]
  },
  {
   "cell_type": "code",
   "execution_count": 27,
   "id": "266d7c21",
   "metadata": {},
   "outputs": [
    {
     "data": {
      "text/html": [
       "<table border='1'>\n",
       "<tr><th>loan_id</th><th>total_principal_received</th><th>total_interest_received</th><th>total_late_fee_received</th><th>total_payment_received</th><th>last_payment_amount</th><th>last_payment_date</th><th>next_payment_date</th><th>ingest_date</th></tr>\n",
       "<tr><td>76003861</td><td>6423.8</td><td>5607.85</td><td>0.0</td><td>12031.65</td><td>574.88</td><td>Jan-2018</td><td>null</td><td>2025-06-15 05:44:...</td></tr>\n",
       "<tr><td>76263914</td><td>2400.0</td><td>323.18</td><td>0.0</td><td>2723.1802</td><td>905.18</td><td>Dec-2017</td><td>null</td><td>2025-06-15 05:44:...</td></tr>\n",
       "<tr><td>75537401</td><td>12600.0</td><td>1392.76</td><td>0.0</td><td>13992.757</td><td>3437.74</td><td>Aug-2018</td><td>null</td><td>2025-06-15 05:44:...</td></tr>\n",
       "<tr><td>75038986</td><td>7805.03</td><td>7583.71</td><td>0.0</td><td>15388.74</td><td>440.72</td><td>Mar-2019</td><td>Apr-2019</td><td>2025-06-15 05:44:...</td></tr>\n",
       "<tr><td>76301424</td><td>2614.78</td><td>1080.09</td><td>0.0</td><td>3694.87</td><td>153.89</td><td>Apr-2018</td><td>null</td><td>2025-06-15 05:44:...</td></tr>\n",
       "<tr><td>75333198</td><td>8664.09</td><td>3431.32</td><td>68.8</td><td>12164.21</td><td>343.9</td><td>Mar-2019</td><td>Apr-2019</td><td>2025-06-15 05:44:...</td></tr>\n",
       "<tr><td>76391453</td><td>35000.0</td><td>10266.01</td><td>0.0</td><td>45266.008</td><td>18884.35</td><td>Feb-2019</td><td>null</td><td>2025-06-15 05:44:...</td></tr>\n",
       "<tr><td>76363364</td><td>15000.0</td><td>2093.11</td><td>0.0</td><td>17093.107</td><td>4648.59</td><td>Aug-2018</td><td>null</td><td>2025-06-15 05:44:...</td></tr>\n",
       "<tr><td>76272510</td><td>14463.21</td><td>11178.79</td><td>110.13</td><td>25752.13</td><td>734.18</td><td>Mar-2019</td><td>Apr-2019</td><td>2025-06-15 05:44:...</td></tr>\n",
       "<tr><td>76304116</td><td>4800.0</td><td>1051.65</td><td>0.0</td><td>5851.6523</td><td>1761.59</td><td>Dec-2017</td><td>null</td><td>2025-06-15 05:44:...</td></tr>\n",
       "<tr><td>76422971</td><td>2222.99</td><td>1457.74</td><td>0.0</td><td>4357.37</td><td>369.25</td><td>Feb-2017</td><td>null</td><td>2025-06-15 05:44:...</td></tr>\n",
       "<tr><td>75369187</td><td>17855.93</td><td>9340.74</td><td>0.0</td><td>27196.67</td><td>778.38</td><td>Mar-2019</td><td>Apr-2019</td><td>2025-06-15 05:44:...</td></tr>\n",
       "<tr><td>76212079</td><td>6197.74</td><td>935.75</td><td>0.0</td><td>7133.49</td><td>204.0</td><td>Mar-2019</td><td>Apr-2019</td><td>2025-06-15 05:44:...</td></tr>\n",
       "<tr><td>75104089</td><td>8500.0</td><td>1208.95</td><td>0.0</td><td>9708.954</td><td>213.62</td><td>Feb-2019</td><td>null</td><td>2025-06-15 05:44:...</td></tr>\n",
       "<tr><td>75669444</td><td>14313.44</td><td>13782.05</td><td>0.0</td><td>28095.49</td><td>807.98</td><td>Feb-2019</td><td>Apr-2019</td><td>2025-06-15 05:44:...</td></tr>\n",
       "<tr><td>76223382</td><td>1936.79</td><td>292.42</td><td>0.0</td><td>2229.21</td><td>63.75</td><td>Mar-2019</td><td>Apr-2019</td><td>2025-06-15 05:44:...</td></tr>\n",
       "<tr><td>76223540</td><td>25000.0</td><td>3383.18</td><td>134.19</td><td>28517.375</td><td>5107.74</td><td>Apr-2017</td><td>null</td><td>2025-06-15 05:44:...</td></tr>\n",
       "<tr><td>76255093</td><td>7000.0</td><td>1830.84</td><td>0.0</td><td>8830.839</td><td>435.99</td><td>Jan-2019</td><td>null</td><td>2025-06-15 05:44:...</td></tr>\n",
       "<tr><td>76402196</td><td>7731.33</td><td>1787.84</td><td>0.0</td><td>9519.17</td><td>272.15</td><td>Mar-2019</td><td>Apr-2019</td><td>2025-06-15 05:44:...</td></tr>\n",
       "<tr><td>76223437</td><td>24000.0</td><td>3186.22</td><td>0.0</td><td>27186.223</td><td>8110.44</td><td>Jun-2018</td><td>null</td><td>2025-06-15 05:44:...</td></tr>\n",
       "</table>\n",
       "only showing top 20 rows\n"
      ],
      "text/plain": [
       "+--------+------------------------+-----------------------+-----------------------+----------------------+-------------------+-----------------+-----------------+--------------------+\n",
       "| loan_id|total_principal_received|total_interest_received|total_late_fee_received|total_payment_received|last_payment_amount|last_payment_date|next_payment_date|         ingest_date|\n",
       "+--------+------------------------+-----------------------+-----------------------+----------------------+-------------------+-----------------+-----------------+--------------------+\n",
       "|76003861|                  6423.8|                5607.85|                    0.0|              12031.65|             574.88|         Jan-2018|             null|2025-06-15 05:44:...|\n",
       "|76263914|                  2400.0|                 323.18|                    0.0|             2723.1802|             905.18|         Dec-2017|             null|2025-06-15 05:44:...|\n",
       "|75537401|                 12600.0|                1392.76|                    0.0|             13992.757|            3437.74|         Aug-2018|             null|2025-06-15 05:44:...|\n",
       "|75038986|                 7805.03|                7583.71|                    0.0|              15388.74|             440.72|         Mar-2019|         Apr-2019|2025-06-15 05:44:...|\n",
       "|76301424|                 2614.78|                1080.09|                    0.0|               3694.87|             153.89|         Apr-2018|             null|2025-06-15 05:44:...|\n",
       "|75333198|                 8664.09|                3431.32|                   68.8|              12164.21|              343.9|         Mar-2019|         Apr-2019|2025-06-15 05:44:...|\n",
       "|76391453|                 35000.0|               10266.01|                    0.0|             45266.008|           18884.35|         Feb-2019|             null|2025-06-15 05:44:...|\n",
       "|76363364|                 15000.0|                2093.11|                    0.0|             17093.107|            4648.59|         Aug-2018|             null|2025-06-15 05:44:...|\n",
       "|76272510|                14463.21|               11178.79|                 110.13|              25752.13|             734.18|         Mar-2019|         Apr-2019|2025-06-15 05:44:...|\n",
       "|76304116|                  4800.0|                1051.65|                    0.0|             5851.6523|            1761.59|         Dec-2017|             null|2025-06-15 05:44:...|\n",
       "|76422971|                 2222.99|                1457.74|                    0.0|               4357.37|             369.25|         Feb-2017|             null|2025-06-15 05:44:...|\n",
       "|75369187|                17855.93|                9340.74|                    0.0|              27196.67|             778.38|         Mar-2019|         Apr-2019|2025-06-15 05:44:...|\n",
       "|76212079|                 6197.74|                 935.75|                    0.0|               7133.49|              204.0|         Mar-2019|         Apr-2019|2025-06-15 05:44:...|\n",
       "|75104089|                  8500.0|                1208.95|                    0.0|              9708.954|             213.62|         Feb-2019|             null|2025-06-15 05:44:...|\n",
       "|75669444|                14313.44|               13782.05|                    0.0|              28095.49|             807.98|         Feb-2019|         Apr-2019|2025-06-15 05:44:...|\n",
       "|76223382|                 1936.79|                 292.42|                    0.0|               2229.21|              63.75|         Mar-2019|         Apr-2019|2025-06-15 05:44:...|\n",
       "|76223540|                 25000.0|                3383.18|                 134.19|             28517.375|            5107.74|         Apr-2017|             null|2025-06-15 05:44:...|\n",
       "|76255093|                  7000.0|                1830.84|                    0.0|              8830.839|             435.99|         Jan-2019|             null|2025-06-15 05:44:...|\n",
       "|76402196|                 7731.33|                1787.84|                    0.0|               9519.17|             272.15|         Mar-2019|         Apr-2019|2025-06-15 05:44:...|\n",
       "|76223437|                 24000.0|                3186.22|                    0.0|             27186.223|            8110.44|         Jun-2018|             null|2025-06-15 05:44:...|\n",
       "+--------+------------------------+-----------------------+-----------------------+----------------------+-------------------+-----------------+-----------------+--------------------+\n",
       "only showing top 20 rows"
      ]
     },
     "execution_count": 27,
     "metadata": {},
     "output_type": "execute_result"
    }
   ],
   "source": [
    "#So lets divide those empty (0.0 values) from our df. For that use :\n",
    "loans_payments_final_df=loans_payments_fixed_df.filter(\"total_payment_received!=0.0\")\n",
    "loans_payments_final_df"
   ]
  },
  {
   "cell_type": "code",
   "execution_count": 28,
   "id": "8e9cb9d9",
   "metadata": {},
   "outputs": [
    {
     "data": {
      "text/plain": [
       "48"
      ]
     },
     "execution_count": 28,
     "metadata": {},
     "output_type": "execute_result"
    }
   ],
   "source": [
    "# 7) check where last_payment_date==0.0 (this should not be the case ,there should be date or null)\n",
    "loans_payments_final_df.filter(\"last_payment_date==0.0\").count()"
   ]
  },
  {
   "cell_type": "code",
   "execution_count": 29,
   "id": "42295142",
   "metadata": {},
   "outputs": [
    {
     "data": {
      "text/html": [
       "<table border='1'>\n",
       "<tr><th>count(1)</th></tr>\n",
       "<tr><td>48</td></tr>\n",
       "</table>\n"
      ],
      "text/plain": [
       "+--------+\n",
       "|count(1)|\n",
       "+--------+\n",
       "|      48|\n",
       "+--------+"
      ]
     },
     "execution_count": 29,
     "metadata": {},
     "output_type": "execute_result"
    }
   ],
   "source": [
    "#7) Second method by spark sql\n",
    "loans_payments_final_df.createOrReplaceTempView(\"loans\")\n",
    "spark.sql(\"Select count(*)from loans where last_payment_date==0.0 \")"
   ]
  },
  {
   "cell_type": "code",
   "execution_count": 30,
   "id": "7f698517",
   "metadata": {},
   "outputs": [
    {
     "data": {
      "text/plain": [
       "24"
      ]
     },
     "execution_count": 30,
     "metadata": {},
     "output_type": "execute_result"
    }
   ],
   "source": [
    "#8)  check where next_payment_date==0.0 (this should not be the case ,there should be date or null)\n",
    "loans_payments_final_df.filter(\"next_payment_date==0.0\").count()"
   ]
  },
  {
   "cell_type": "code",
   "execution_count": 31,
   "id": "7e9a7eb4",
   "metadata": {},
   "outputs": [],
   "source": [
    "# 7 points  want to make nulls \n",
    "loans_payments_ldate_df = loans_payments_final_df.withColumn(\"last_payment_date\",\n",
    "when(\n",
    "    (col(\"last_payment_date\")==0.0),     \n",
    "    None)\n",
    "    .otherwise(col(\"last_payment_date\"))\n",
    ")\n",
    "     \n",
    "\n"
   ]
  },
  {
   "cell_type": "code",
   "execution_count": 32,
   "id": "6c28a9ff",
   "metadata": {},
   "outputs": [
    {
     "data": {
      "text/plain": [
       "0"
      ]
     },
     "execution_count": 32,
     "metadata": {},
     "output_type": "execute_result"
    }
   ],
   "source": [
    "loans_payments_ldate_df.filter(\"last_payment_date==0.0 \").count()"
   ]
  },
  {
   "cell_type": "code",
   "execution_count": 33,
   "id": "7418c7d2",
   "metadata": {},
   "outputs": [],
   "source": [
    "# 8 points  want to make nulls \n",
    "loans_payments_ndate_df = loans_payments_final_df.withColumn(\"next_payment_date\",\n",
    "when(\n",
    "    (col(\"next_payment_date\")==0.0),     \n",
    "    None)\n",
    "    .otherwise(col(\"next_payment_date\"))\n",
    ")\n",
    "     "
   ]
  },
  {
   "cell_type": "code",
   "execution_count": 34,
   "id": "a4a25f0b",
   "metadata": {},
   "outputs": [
    {
     "data": {
      "text/plain": [
       "0"
      ]
     },
     "execution_count": 34,
     "metadata": {},
     "output_type": "execute_result"
    }
   ],
   "source": [
    "loans_payments_ndate_df.filter(\"next_payment_date==0.0 \").count()"
   ]
  },
  {
   "cell_type": "code",
   "execution_count": 35,
   "id": "6085b2df",
   "metadata": {},
   "outputs": [],
   "source": [
    "# 9) \"loans_payments_ndate_df\" this is the final df . Now write this df \n",
    "loans_payments_ndate_df.write \\\n",
    ".option(\"header\",True) \\\n",
    ".format(\"csv\") \\\n",
    ".mode(\"overwrite\") \\\n",
    ".option(\"path\",\"/user/itv016478/lendingclubproject/cleaned/loans_repayments_csv/\") \\\n",
    ".save()"
   ]
  },
  {
   "cell_type": "code",
   "execution_count": 36,
   "id": "395f4bd6",
   "metadata": {},
   "outputs": [],
   "source": [
    "# 9) \"loans_payments_ndate_df\" this is the final df . Now write this df \n",
    "loans_payments_ndate_df.write \\\n",
    ".format(\"csv\") \\\n",
    ".mode(\"overwrite\") \\\n",
    ".option(\"path\",\"/user/itv016478/lendingclubproject/cleaned/loans_repayments_parquet/\") \\\n",
    ".save()"
   ]
  },
  {
   "cell_type": "code",
   "execution_count": null,
   "id": "db69203e",
   "metadata": {},
   "outputs": [],
   "source": []
  }
 ],
 "metadata": {
  "kernelspec": {
   "display_name": "Pyspark 3",
   "language": "python",
   "name": "pyspark3"
  },
  "language_info": {
   "codemirror_mode": {
    "name": "ipython",
    "version": 3
   },
   "file_extension": ".py",
   "mimetype": "text/x-python",
   "name": "python",
   "nbconvert_exporter": "python",
   "pygments_lexer": "ipython3",
   "version": "3.6.12"
  }
 },
 "nbformat": 4,
 "nbformat_minor": 5
}
