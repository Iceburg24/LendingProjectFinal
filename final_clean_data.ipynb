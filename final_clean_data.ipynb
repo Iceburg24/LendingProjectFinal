{
 "cells": [
  {
   "cell_type": "code",
   "execution_count": 1,
   "id": "3cbbf7c8",
   "metadata": {},
   "outputs": [],
   "source": [
    "#To calculate loan score need three things\n",
    "# If loan score is high ,higher the chnaces of loan getting approved\n",
    "#1) laon repayment history (last payment , total payment received) \n",
    "#2) loan _defalters_history (delinq_2_yrs, pub_rec, pub_rec_bankruptcies, inq_last_6mths)\n",
    "#3) financial health data (home ownership, loan status, grade pts)"
   ]
  },
  {
   "cell_type": "code",
   "execution_count": 2,
   "id": "8fd0f195",
   "metadata": {},
   "outputs": [],
   "source": [
    "#Now tables we have already created : will need help from these col names\n",
    "# customers (home ownership, grade pts, high credit limit)\n",
    "#loans (monthly installment , loan status , funded amount)\n",
    "# loans_repay (last payment , total payment received)\n",
    "#loans_delinq (delinq_2yrs)\n",
    "#loans_enqq (pub_rec, pub_rec_bankruptcies,inq_last_6mths)"
   ]
  },
  {
   "cell_type": "code",
   "execution_count": 3,
   "id": "db601af5",
   "metadata": {},
   "outputs": [],
   "source": [
    "#Now Data is cleaned but then to there will be some bad data \n",
    "from pyspark.sql import SparkSession\n",
    "import getpass\n",
    "username=getpass.getuser()\n",
    "spark=SparkSession\\\n",
    "    .builder\\\n",
    "    .config('spark.shuffle.useOldFetchProtocol','true')\\\n",
    "    .config('spark.ui.port','0')\\\n",
    "    .config(\"spark.sql.warehouse.dir\",\"/user/itv016478/warehouse\")\\\n",
    "    .enableHiveSupport()\\\n",
    "    .master('yarn')\\\n",
    "    .getOrCreate()"
   ]
  },
  {
   "cell_type": "code",
   "execution_count": 4,
   "id": "c7896738",
   "metadata": {},
   "outputs": [
    {
     "data": {
      "text/html": [
       "<table border='1'>\n",
       "<tr><th>member_id</th><th>total</th></tr>\n",
       "<tr><td>e4c167053d5418230...</td><td>5</td></tr>\n",
       "<tr><td>76b577467eda5bdbc...</td><td>4</td></tr>\n",
       "<tr><td>3f87585a20f702838...</td><td>4</td></tr>\n",
       "<tr><td>ad8e5d384dae17e06...</td><td>4</td></tr>\n",
       "<tr><td>498bb6b1f0099cb47...</td><td>3</td></tr>\n",
       "<tr><td>c92062bb371842b3d...</td><td>3</td></tr>\n",
       "<tr><td>d3731bad3e6a82515...</td><td>3</td></tr>\n",
       "<tr><td>3ae415acd6bbfaac1...</td><td>3</td></tr>\n",
       "<tr><td>819453be77718d747...</td><td>3</td></tr>\n",
       "<tr><td>4ab6205de571ccb7b...</td><td>3</td></tr>\n",
       "<tr><td>035bf3d8288d803bd...</td><td>3</td></tr>\n",
       "<tr><td>059d401bb603d9a80...</td><td>3</td></tr>\n",
       "<tr><td>f54295a60946dedad...</td><td>3</td></tr>\n",
       "<tr><td>e7d8d16928817ec8f...</td><td>3</td></tr>\n",
       "<tr><td>291ca1b09ef11ca3e...</td><td>3</td></tr>\n",
       "<tr><td>a2356725aa9da92c6...</td><td>3</td></tr>\n",
       "<tr><td>5d52e7773cb0efff3...</td><td>3</td></tr>\n",
       "<tr><td>066ddaa64bee66dff...</td><td>3</td></tr>\n",
       "<tr><td>c563428cb58da48ff...</td><td>3</td></tr>\n",
       "<tr><td>53789bea7edc660ed...</td><td>3</td></tr>\n",
       "</table>\n",
       "only showing top 20 rows\n"
      ],
      "text/plain": [
       "+--------------------+-----+\n",
       "|           member_id|total|\n",
       "+--------------------+-----+\n",
       "|e4c167053d5418230...|    5|\n",
       "|3f87585a20f702838...|    4|\n",
       "|76b577467eda5bdbc...|    4|\n",
       "|ad8e5d384dae17e06...|    4|\n",
       "|4ab6205de571ccb7b...|    3|\n",
       "|e7d8d16928817ec8f...|    3|\n",
       "|f9fc581aae696e0bd...|    3|\n",
       "|c92062bb371842b3d...|    3|\n",
       "|a2356725aa9da92c6...|    3|\n",
       "|d3731bad3e6a82515...|    3|\n",
       "|bf3d06b33c49a9375...|    3|\n",
       "|066ddaa64bee66dff...|    3|\n",
       "|3ae415acd6bbfaac1...|    3|\n",
       "|498bb6b1f0099cb47...|    3|\n",
       "|819453be77718d747...|    3|\n",
       "|5d52e7773cb0efff3...|    3|\n",
       "|c563428cb58da48ff...|    3|\n",
       "|035bf3d8288d803bd...|    3|\n",
       "|d9ce4046daf599732...|    3|\n",
       "|f54295a60946dedad...|    3|\n",
       "+--------------------+-----+\n",
       "only showing top 20 rows"
      ]
     },
     "execution_count": 4,
     "metadata": {},
     "output_type": "execute_result"
    }
   ],
   "source": [
    "# 1) In customers table, bad data\n",
    "spark.sql(\"select member_id , count(*) as total from itv016478_lending_club.customers group by member_id order by total desc\")"
   ]
  },
  {
   "cell_type": "code",
   "execution_count": 5,
   "id": "ee2679f1",
   "metadata": {},
   "outputs": [
    {
     "data": {
      "text/html": [
       "<table border='1'>\n",
       "<tr><th>member_id</th><th>emp_title</th><th>emp_length</th><th>home_ownership</th><th>annual_income</th><th>address_state</th><th>address_zipcode</th><th>address_country</th><th>grade</th><th>sub_grade</th><th>verification_status</th><th>total_high_credit_limit</th><th>application_type</th><th>join_annual_income</th><th>verification_status_joint</th><th>ingest_date</th></tr>\n",
       "<tr><td>e4c167053d5418230...</td><td>null</td><td>6</td><td>MORTGAGE</td><td>55000.0</td><td>IL</td><td>604xx</td><td>USA</td><td>B</td><td>B5</td><td>Verified</td><td>138780.0</td><td>Individual</td><td>null</td><td>null</td><td>2023-09-15 17:18:...</td></tr>\n",
       "<tr><td>e4c167053d5418230...</td><td>null</td><td>6</td><td>MORTGAGE</td><td>55000.0</td><td>IL</td><td>604xx</td><td>USA</td><td>B</td><td>B5</td><td>Verified</td><td>171165.0</td><td>Individual</td><td>null</td><td>null</td><td>2023-09-15 17:18:...</td></tr>\n",
       "<tr><td>e4c167053d5418230...</td><td>null</td><td>6</td><td>MORTGAGE</td><td>55000.0</td><td>IL</td><td>604xx</td><td>USA</td><td>B</td><td>B5</td><td>Verified</td><td>110907.0</td><td>Individual</td><td>null</td><td>null</td><td>2023-09-15 17:18:...</td></tr>\n",
       "<tr><td>e4c167053d5418230...</td><td>null</td><td>6</td><td>MORTGAGE</td><td>55000.0</td><td>IL</td><td>604xx</td><td>USA</td><td>B</td><td>B5</td><td>Verified</td><td>129833.0</td><td>Individual</td><td>null</td><td>null</td><td>2023-09-15 17:18:...</td></tr>\n",
       "<tr><td>e4c167053d5418230...</td><td>null</td><td>6</td><td>MORTGAGE</td><td>55000.0</td><td>IL</td><td>604xx</td><td>USA</td><td>B</td><td>B5</td><td>Verified</td><td>207300.0</td><td>Individual</td><td>null</td><td>null</td><td>2023-09-15 17:18:...</td></tr>\n",
       "</table>\n"
      ],
      "text/plain": [
       "+--------------------+---------+----------+--------------+-------------+-------------+---------------+---------------+-----+---------+-------------------+-----------------------+----------------+------------------+-------------------------+--------------------+\n",
       "|           member_id|emp_title|emp_length|home_ownership|annual_income|address_state|address_zipcode|address_country|grade|sub_grade|verification_status|total_high_credit_limit|application_type|join_annual_income|verification_status_joint|         ingest_date|\n",
       "+--------------------+---------+----------+--------------+-------------+-------------+---------------+---------------+-----+---------+-------------------+-----------------------+----------------+------------------+-------------------------+--------------------+\n",
       "|e4c167053d5418230...|     null|         6|      MORTGAGE|      55000.0|           IL|          604xx|            USA|    B|       B5|           Verified|               138780.0|      Individual|              null|                     null|2023-09-15 17:18:...|\n",
       "|e4c167053d5418230...|     null|         6|      MORTGAGE|      55000.0|           IL|          604xx|            USA|    B|       B5|           Verified|               171165.0|      Individual|              null|                     null|2023-09-15 17:18:...|\n",
       "|e4c167053d5418230...|     null|         6|      MORTGAGE|      55000.0|           IL|          604xx|            USA|    B|       B5|           Verified|               110907.0|      Individual|              null|                     null|2023-09-15 17:18:...|\n",
       "|e4c167053d5418230...|     null|         6|      MORTGAGE|      55000.0|           IL|          604xx|            USA|    B|       B5|           Verified|               129833.0|      Individual|              null|                     null|2023-09-15 17:18:...|\n",
       "|e4c167053d5418230...|     null|         6|      MORTGAGE|      55000.0|           IL|          604xx|            USA|    B|       B5|           Verified|               207300.0|      Individual|              null|                     null|2023-09-15 17:18:...|\n",
       "+--------------------+---------+----------+--------------+-------------+-------------+---------------+---------------+-----+---------+-------------------+-----------------------+----------------+------------------+-------------------------+--------------------+"
      ]
     },
     "execution_count": 5,
     "metadata": {},
     "output_type": "execute_result"
    }
   ],
   "source": [
    "# In customers table, you can see for one particular member_id there is  different credit score (total_high_credit_limit) \n",
    "#which should not be the case,there should be only one (total_high_credit_limit) for particular member_id\n",
    "spark.sql(\"select * from itv005857_lending_club.customers where member_id like 'e4c167053d5418230%' \")"
   ]
  },
  {
   "cell_type": "code",
   "execution_count": 6,
   "id": "7745e4a5",
   "metadata": {},
   "outputs": [],
   "source": [
    "#Now some issues we will give to the upstream team\n",
    "#problem a) For one member id there is 5 record..how will know which is the correct one .\n",
    "#b) For one member id there is different total_high_credit_limit ..how will know which os correct one "
   ]
  },
  {
   "cell_type": "code",
   "execution_count": 7,
   "id": "1dd10928",
   "metadata": {},
   "outputs": [
    {
     "data": {
      "text/html": [
       "<table border='1'>\n",
       "<tr><th>member_id</th><th>total</th></tr>\n",
       "<tr><td>e4c167053d5418230...</td><td>3</td></tr>\n",
       "<tr><td>55d55d97420671a1c...</td><td>2</td></tr>\n",
       "<tr><td>58dde656f747cee8b...</td><td>2</td></tr>\n",
       "<tr><td>c16e1f92ae5ccc785...</td><td>2</td></tr>\n",
       "<tr><td>6c2b63ff231e520d4...</td><td>2</td></tr>\n",
       "<tr><td>77db5fdf951dd04b2...</td><td>2</td></tr>\n",
       "<tr><td>17d76ba5141e1c33a...</td><td>2</td></tr>\n",
       "<tr><td>343344c3c65b023af...</td><td>2</td></tr>\n",
       "<tr><td>bbe43331566910d55...</td><td>2</td></tr>\n",
       "<tr><td>b5ded5638e54e1692...</td><td>2</td></tr>\n",
       "<tr><td>0b44a10bc749eabb2...</td><td>2</td></tr>\n",
       "<tr><td>62394e3f9d063413b...</td><td>2</td></tr>\n",
       "<tr><td>4f7579700cd9d49d7...</td><td>2</td></tr>\n",
       "<tr><td>dbe5ec23d01598dbf...</td><td>2</td></tr>\n",
       "<tr><td>c23eb88fed4893030...</td><td>2</td></tr>\n",
       "<tr><td>db887c1d4cb004ca8...</td><td>2</td></tr>\n",
       "<tr><td>8d2c605c7ad9209cc...</td><td>2</td></tr>\n",
       "<tr><td>cbede54df344cdb94...</td><td>2</td></tr>\n",
       "<tr><td>6918b9861ba5a4c67...</td><td>2</td></tr>\n",
       "<tr><td>a93a44c9d83793451...</td><td>2</td></tr>\n",
       "</table>\n",
       "only showing top 20 rows\n"
      ],
      "text/plain": [
       "+--------------------+-----+\n",
       "|           member_id|total|\n",
       "+--------------------+-----+\n",
       "|e4c167053d5418230...|    3|\n",
       "|f1ebb6edb9b07de5f...|    2|\n",
       "|77db5fdf951dd04b2...|    2|\n",
       "|c23eb88fed4893030...|    2|\n",
       "|6c2b63ff231e520d4...|    2|\n",
       "|62394e3f9d063413b...|    2|\n",
       "|dbe5ec23d01598dbf...|    2|\n",
       "|db887c1d4cb004ca8...|    2|\n",
       "|8d2c605c7ad9209cc...|    2|\n",
       "|b5ded5638e54e1692...|    2|\n",
       "|58dde656f747cee8b...|    2|\n",
       "|0b44a10bc749eabb2...|    2|\n",
       "|4f7579700cd9d49d7...|    2|\n",
       "|17d76ba5141e1c33a...|    2|\n",
       "|343344c3c65b023af...|    2|\n",
       "|c16e1f92ae5ccc785...|    2|\n",
       "|bbe43331566910d55...|    2|\n",
       "|cbede54df344cdb94...|    2|\n",
       "|6918b9861ba5a4c67...|    2|\n",
       "|a93a44c9d83793451...|    2|\n",
       "+--------------------+-----+\n",
       "only showing top 20 rows"
      ]
     },
     "execution_count": 7,
     "metadata": {},
     "output_type": "execute_result"
    }
   ],
   "source": [
    "#2) For delinq table , bad data :\n",
    "spark.sql(\"\"\"select member_id, \n",
    "count(*) as total from itv005857_lending_club.loans_defaulters_delinq\n",
    "group by member_id order by total desc\"\"\")"
   ]
  },
  {
   "cell_type": "code",
   "execution_count": 8,
   "id": "b59e8b0d",
   "metadata": {},
   "outputs": [
    {
     "data": {
      "text/html": [
       "<table border='1'>\n",
       "<tr><th>member_id</th><th>delinq_2yrs</th><th>delinq_amnt</th><th>mths_since_last_delinq</th></tr>\n",
       "<tr><td>e4c167053d5418230...</td><td>3</td><td>0.0</td><td>0</td></tr>\n",
       "<tr><td>e4c167053d5418230...</td><td>1</td><td>0.0</td><td>0</td></tr>\n",
       "<tr><td>e4c167053d5418230...</td><td>1</td><td>0.0</td><td>45</td></tr>\n",
       "</table>\n"
      ],
      "text/plain": [
       "+--------------------+-----------+-----------+----------------------+\n",
       "|           member_id|delinq_2yrs|delinq_amnt|mths_since_last_delinq|\n",
       "+--------------------+-----------+-----------+----------------------+\n",
       "|e4c167053d5418230...|          3|        0.0|                     0|\n",
       "|e4c167053d5418230...|          1|        0.0|                     0|\n",
       "|e4c167053d5418230...|          1|        0.0|                    45|\n",
       "+--------------------+-----------+-----------+----------------------+"
      ]
     },
     "execution_count": 8,
     "metadata": {},
     "output_type": "execute_result"
    }
   ],
   "source": [
    "#For (loans_defaulters_delinq) table also\n",
    "#Here also for one particular member_id there should only be one row...so that i can trust the data ,but here its 3 rows for delinq 2 yrs\n",
    "spark.sql(\"select * from itv005857_lending_club.loans_defaulters_delinq where member_id like 'e4c167053d5418230%' \")"
   ]
  },
  {
   "cell_type": "code",
   "execution_count": 9,
   "id": "8d15bc6c",
   "metadata": {},
   "outputs": [
    {
     "data": {
      "text/html": [
       "<table border='1'>\n",
       "<tr><th>member_id</th><th>total</th></tr>\n",
       "<tr><td>e3b0c44298fc1c149...</td><td>33</td></tr>\n",
       "<tr><td>e4c167053d5418230...</td><td>5</td></tr>\n",
       "<tr><td>76b577467eda5bdbc...</td><td>4</td></tr>\n",
       "<tr><td>ad8e5d384dae17e06...</td><td>4</td></tr>\n",
       "<tr><td>3f87585a20f702838...</td><td>4</td></tr>\n",
       "<tr><td>53789bea7edc660ed...</td><td>3</td></tr>\n",
       "<tr><td>059d401bb603d9a80...</td><td>3</td></tr>\n",
       "<tr><td>035bf3d8288d803bd...</td><td>3</td></tr>\n",
       "<tr><td>f54295a60946dedad...</td><td>3</td></tr>\n",
       "<tr><td>291ca1b09ef11ca3e...</td><td>3</td></tr>\n",
       "<tr><td>5d52e7773cb0efff3...</td><td>3</td></tr>\n",
       "<tr><td>d9ce4046daf599732...</td><td>3</td></tr>\n",
       "<tr><td>22593a1870543b2db...</td><td>3</td></tr>\n",
       "<tr><td>066ddaa64bee66dff...</td><td>3</td></tr>\n",
       "<tr><td>3ae415acd6bbfaac1...</td><td>3</td></tr>\n",
       "<tr><td>a2356725aa9da92c6...</td><td>3</td></tr>\n",
       "<tr><td>4ab6205de571ccb7b...</td><td>3</td></tr>\n",
       "<tr><td>c563428cb58da48ff...</td><td>3</td></tr>\n",
       "<tr><td>819453be77718d747...</td><td>3</td></tr>\n",
       "<tr><td>c92062bb371842b3d...</td><td>3</td></tr>\n",
       "</table>\n",
       "only showing top 20 rows\n"
      ],
      "text/plain": [
       "+--------------------+-----+\n",
       "|           member_id|total|\n",
       "+--------------------+-----+\n",
       "|e3b0c44298fc1c149...|   33|\n",
       "|e4c167053d5418230...|    5|\n",
       "|3f87585a20f702838...|    4|\n",
       "|76b577467eda5bdbc...|    4|\n",
       "|ad8e5d384dae17e06...|    4|\n",
       "|f54295a60946dedad...|    3|\n",
       "|066ddaa64bee66dff...|    3|\n",
       "|035bf3d8288d803bd...|    3|\n",
       "|22593a1870543b2db...|    3|\n",
       "|819453be77718d747...|    3|\n",
       "|c563428cb58da48ff...|    3|\n",
       "|d3731bad3e6a82515...|    3|\n",
       "|c92062bb371842b3d...|    3|\n",
       "|e7d8d16928817ec8f...|    3|\n",
       "|291ca1b09ef11ca3e...|    3|\n",
       "|53789bea7edc660ed...|    3|\n",
       "|a2356725aa9da92c6...|    3|\n",
       "|5d52e7773cb0efff3...|    3|\n",
       "|4ab6205de571ccb7b...|    3|\n",
       "|059d401bb603d9a80...|    3|\n",
       "+--------------------+-----+\n",
       "only showing top 20 rows"
      ]
     },
     "execution_count": 9,
     "metadata": {},
     "output_type": "execute_result"
    }
   ],
   "source": [
    "#3) For Enq table ,bad data ,\n",
    "# for 1 member id there should be only 1 inquiry in last 6 mnths\n",
    "spark.sql(\"select member_id, count(*) as total from itv005857_lending_club.loans_defaulters_detail_rec_enq group by member_id order by total desc\")"
   ]
  },
  {
   "cell_type": "code",
   "execution_count": 10,
   "id": "d34cdba3",
   "metadata": {},
   "outputs": [
    {
     "data": {
      "text/plain": [
       "3157"
      ]
     },
     "execution_count": 10,
     "metadata": {},
     "output_type": "execute_result"
    }
   ],
   "source": [
    "# 4) Seeing member id for customers table : if want to see member id and total count  then write this - writing query where member id is coming more than 1 times\n",
    "bad_data_customer_df = spark.sql(\"select member_id, count(*) as total from itv016478_lending_club.customers group by member_id having total > 1\")\n",
    "bad_data_customer_df.count()"
   ]
  },
  {
   "cell_type": "code",
   "execution_count": 11,
   "id": "99b94d52",
   "metadata": {},
   "outputs": [
    {
     "data": {
      "text/html": [
       "<table border='1'>\n",
       "<tr><th>member_id</th></tr>\n",
       "<tr><td>7115ace193e13d8f3...</td></tr>\n",
       "<tr><td>d4782ddad8591f44d...</td></tr>\n",
       "<tr><td>eebbd89aa7efc13e7...</td></tr>\n",
       "<tr><td>61be6498c93cadf89...</td></tr>\n",
       "<tr><td>5130d0087970e032e...</td></tr>\n",
       "<tr><td>cbede54df344cdb94...</td></tr>\n",
       "<tr><td>2bae2e4dd6d5f2b21...</td></tr>\n",
       "<tr><td>f284044b881f218c0...</td></tr>\n",
       "<tr><td>a2af7506825a7dcff...</td></tr>\n",
       "<tr><td>675151e58a628e87b...</td></tr>\n",
       "<tr><td>fc0e468bff11ac7c3...</td></tr>\n",
       "<tr><td>4231a55d0199c619a...</td></tr>\n",
       "<tr><td>a53e2f488d2d76a30...</td></tr>\n",
       "<tr><td>3b8ffe19f24749a73...</td></tr>\n",
       "<tr><td>cd1fdca829c443fa7...</td></tr>\n",
       "<tr><td>761b2f1e61999e14e...</td></tr>\n",
       "<tr><td>f99c6e9cfe3a7a2d2...</td></tr>\n",
       "<tr><td>01b2223757c3b62e7...</td></tr>\n",
       "<tr><td>e6404d176e3850fdb...</td></tr>\n",
       "<tr><td>e61af5f79c2480a8b...</td></tr>\n",
       "</table>\n",
       "only showing top 20 rows\n"
      ],
      "text/plain": [
       "+--------------------+\n",
       "|           member_id|\n",
       "+--------------------+\n",
       "|4231a55d0199c619a...|\n",
       "|f284044b881f218c0...|\n",
       "|01b2223757c3b62e7...|\n",
       "|7115ace193e13d8f3...|\n",
       "|cbede54df344cdb94...|\n",
       "|a2af7506825a7dcff...|\n",
       "|675151e58a628e87b...|\n",
       "|fc0e468bff11ac7c3...|\n",
       "|761b2f1e61999e14e...|\n",
       "|3b8ffe19f24749a73...|\n",
       "|2bae2e4dd6d5f2b21...|\n",
       "|d4782ddad8591f44d...|\n",
       "|eebbd89aa7efc13e7...|\n",
       "|61be6498c93cadf89...|\n",
       "|5130d0087970e032e...|\n",
       "|cd1fdca829c443fa7...|\n",
       "|f99c6e9cfe3a7a2d2...|\n",
       "|a53e2f488d2d76a30...|\n",
       "|6eed1238f9ea0f057...|\n",
       "|46cb438a0bd1b7194...|\n",
       "+--------------------+\n",
       "only showing top 20 rows"
      ]
     },
     "execution_count": 11,
     "metadata": {},
     "output_type": "execute_result"
    }
   ],
   "source": [
    "#4) Seeing member id for customers table : if you only want to see member id then -  writing query where member id is coming more than 2 times\n",
    "bad_data_customer_df = spark.sql(\"select member_id from ( select member_id, count(*) as total from itv016478_lending_club.customers group by member_id having total > 1)\")\n",
    "bad_data_customer_df"
   ]
  },
  {
   "cell_type": "code",
   "execution_count": 12,
   "id": "bad2f199",
   "metadata": {},
   "outputs": [
    {
     "data": {
      "text/plain": [
       "939"
      ]
     },
     "execution_count": 12,
     "metadata": {},
     "output_type": "execute_result"
    }
   ],
   "source": [
    "#5) seeing membr id for delinq ,\n",
    "bad_data_loans_defaulters_delinq_df= spark.sql(\"select member_id from ( select member_id, count(*) as total from itv016478_lending_clubb.loans_delinq group by member_id having total > 1)\")\n",
    "bad_data_loans_defaulters_delinq_df.count()"
   ]
  },
  {
   "cell_type": "code",
   "execution_count": 13,
   "id": "e785098f",
   "metadata": {},
   "outputs": [
    {
     "data": {
      "text/plain": [
       "3189"
      ]
     },
     "execution_count": 13,
     "metadata": {},
     "output_type": "execute_result"
    }
   ],
   "source": [
    "bad_data_loans_defaulters_enq_df= spark.sql(\"select member_id from ( select member_id, count(*) as total from itv016478_lending_clubb.loans_enq group by member_id having total > 1)\")\n",
    "bad_data_loans_defaulters_enq_df.count()"
   ]
  },
  {
   "cell_type": "code",
   "execution_count": 14,
   "id": "02da72f7",
   "metadata": {},
   "outputs": [],
   "source": [
    "bad_data_customer_df.repartition(1).write \\\n",
    ".option(\"header\",True) \\\n",
    ".format(\"csv\") \\\n",
    ".mode(\"overwrite\") \\\n",
    ".option(\"path\", \"/user/itv016478/lendingclubproject/bad/bad_data_customers\")\\\n",
    ".save()"
   ]
  },
  {
   "cell_type": "code",
   "execution_count": 15,
   "id": "d065bc9f",
   "metadata": {},
   "outputs": [],
   "source": [
    "bad_data_loans_defaulters_delinq_df.repartition(1).write \\\n",
    ".option(\"header\",True) \\\n",
    ".format(\"csv\") \\\n",
    ".mode(\"overwrite\") \\\n",
    ".option(\"path\", \"/user/itv016478/lendingclubproject/bad/bad_data_delinq\")\\\n",
    ".save()"
   ]
  },
  {
   "cell_type": "code",
   "execution_count": 16,
   "id": "5c22019e",
   "metadata": {},
   "outputs": [],
   "source": [
    "bad_data_loans_defaulters_enq_df.repartition(1).write \\\n",
    ".option(\"header\",True) \\\n",
    ".format(\"csv\") \\\n",
    ".mode(\"overwrite\") \\\n",
    ".option(\"path\", \"/user/itv016478/lendingclubproject/bad/bad_data_enq\")\\\n",
    ".save()"
   ]
  },
  {
   "cell_type": "code",
   "execution_count": 17,
   "id": "833aed49",
   "metadata": {},
   "outputs": [],
   "source": [
    "# member ids are still repeting ie bad records (member _id)\n",
    "#customers( df1 ) 3157\n",
    "# delinq ( df2 )939\n",
    "# enqq ( df3 )3189\n",
    "# a consolidate file which has all unique  and not repeating member ids from above 3 dfs \n",
    "# Lets union / combine all  ( df1 ,df2 , df3 ) then do distinct (to find unique values) so that we will get all member_id 1 time"
   ]
  },
  {
   "cell_type": "code",
   "execution_count": 18,
   "id": "e9163b96",
   "metadata": {},
   "outputs": [],
   "source": [
    "bad_record_data_df= bad_data_customer_df.select(\"member_id\") \\\n",
    ".union(bad_data_loans_defaulters_delinq_df.select(\"member_id\")) \\\n",
    ".union(bad_data_loans_defaulters_enq_df.select(\"member_id\")) "
   ]
  },
  {
   "cell_type": "code",
   "execution_count": 19,
   "id": "05e7829a",
   "metadata": {},
   "outputs": [],
   "source": [
    "bad_data_final_df = bad_record_data_df.distinct()\n"
   ]
  },
  {
   "cell_type": "code",
   "execution_count": 20,
   "id": "2b5b20ca",
   "metadata": {},
   "outputs": [
    {
     "data": {
      "text/plain": [
       "3189"
      ]
     },
     "execution_count": 20,
     "metadata": {},
     "output_type": "execute_result"
    }
   ],
   "source": [
    "bad_data_final_df.count()"
   ]
  },
  {
   "cell_type": "code",
   "execution_count": 21,
   "id": "5321a132",
   "metadata": {},
   "outputs": [],
   "source": [
    "#Now member_id will not repeat . Hence storing the data in disk\n",
    "bad_data_final_df.repartition(1).write \\\n",
    ".option(\"header\",True) \\\n",
    ".format(\"csv\") \\\n",
    ".mode(\"overwrite\") \\\n",
    ".option(\"path\", \"/user/itv016478/lendingclubproject/bad/bad_data_final\")\\\n",
    ".save()"
   ]
  },
  {
   "cell_type": "code",
   "execution_count": 22,
   "id": "85380160",
   "metadata": {},
   "outputs": [],
   "source": [
    "#Segregating Indentified Bad data from Normal Data (Cleaned folder)\n",
    "bad_data_final_df.createOrReplaceTempView(\"bad_data_final\")"
   ]
  },
  {
   "cell_type": "code",
   "execution_count": 23,
   "id": "fb5fc70f",
   "metadata": {},
   "outputs": [],
   "source": [
    "#1) segregating for customers \n",
    "customers_final_df = spark.sql(\"select * from itv016478_lending_clubb.customers where member_id NOT IN ( select member_id from bad_data_final)\")\n"
   ]
  },
  {
   "cell_type": "code",
   "execution_count": 24,
   "id": "4f5ed319",
   "metadata": {},
   "outputs": [
    {
     "data": {
      "text/plain": [
       "2254192"
      ]
     },
     "execution_count": 24,
     "metadata": {},
     "output_type": "execute_result"
    }
   ],
   "source": [
    "customers_final_df.count()"
   ]
  },
  {
   "cell_type": "code",
   "execution_count": 25,
   "id": "43c06165",
   "metadata": {},
   "outputs": [],
   "source": [
    "# storing new data for customers table  in new file \"new _cleaned\"-> Customers\n",
    "customers_final_df.write\\\n",
    ".format(\"parquet\")\\\n",
    ".mode(\"overwrite\")\\\n",
    ".option(\"path\",\"/user/itv016478/lendingclubproject/cleaned_new/customers_parquet\")\\\n",
    ".save()"
   ]
  },
  {
   "cell_type": "code",
   "execution_count": 26,
   "id": "f0ae72fa",
   "metadata": {},
   "outputs": [
    {
     "data": {
      "text/plain": [
       "1103094"
      ]
     },
     "execution_count": 26,
     "metadata": {},
     "output_type": "execute_result"
    }
   ],
   "source": [
    "#2) segregating for delinq\n",
    "delinq_final_df= spark.sql(\"select * from itv016478_lending_clubb.loans_delinq where member_id NOT IN ( select member_id from bad_data_final)\")\n",
    "delinq_final_df.count()"
   ]
  },
  {
   "cell_type": "code",
   "execution_count": 27,
   "id": "b12a2b45",
   "metadata": {},
   "outputs": [],
   "source": [
    "# storing new data for customers table  in new file \"new _cleaned\"-> delinq\n",
    "delinq_final_df.write\\\n",
    ".format(\"parquet\")\\\n",
    ".mode(\"overwrite\")\\\n",
    ".option(\"path\",\"/user/itv016478/lendingclubproject/cleaned_new/delinq_parquet\")\\\n",
    ".save()"
   ]
  },
  {
   "cell_type": "code",
   "execution_count": 28,
   "id": "5ba01c1b",
   "metadata": {},
   "outputs": [
    {
     "data": {
      "text/plain": [
       "2254195"
      ]
     },
     "execution_count": 28,
     "metadata": {},
     "output_type": "execute_result"
    }
   ],
   "source": [
    "enqq_final_df= spark.sql(\"select * from itv016478_lending_clubb.loans_enqq where member_id NOT IN ( select member_id from bad_data_final)\")\n",
    "enqq_final_df.count()"
   ]
  },
  {
   "cell_type": "code",
   "execution_count": 29,
   "id": "721aa5ef",
   "metadata": {},
   "outputs": [],
   "source": [
    "# storing new data for customers table  in new file \"new _cleaned\"-> enqq\n",
    "enqq_final_df.write\\\n",
    ".format(\"parquet\")\\\n",
    ".mode(\"overwrite\")\\\n",
    ".option(\"path\",\"/user/itv016478/lendingclubproject/cleaned_new/enqq_parquet\")\\\n",
    ".save()"
   ]
  },
  {
   "cell_type": "code",
   "execution_count": 30,
   "id": "f87dcf58",
   "metadata": {},
   "outputs": [],
   "source": [
    "#Now creating a external table based on this new location \n"
   ]
  },
  {
   "cell_type": "code",
   "execution_count": 31,
   "id": "b7df961f",
   "metadata": {},
   "outputs": [
    {
     "data": {
      "text/html": [
       "<table border='1'>\n",
       "<tr><th></th></tr>\n",
       "</table>\n"
      ],
      "text/plain": [
       "++\n",
       "||\n",
       "++\n",
       "++"
      ]
     },
     "execution_count": 31,
     "metadata": {},
     "output_type": "execute_result"
    }
   ],
   "source": [
    "#1)for customers\n",
    "spark.sql(\"\"\"\n",
    "CREATE EXTERNAL TABLE IF NOT EXISTS itv016478_lending_clubb.new_customers(\n",
    "member_id string, emp_title string, emp_length int , home_ownership string,\n",
    "annual_inc float, addr_state string, zip_code string, country string, grade string,\n",
    "sub_grade string, verification_status string, tot_hi_cred_lim float, application_type string,\n",
    "annual_inc_joint float, verification_status_joint string, ingest_date timestamp )\n",
    "stored as parquet LOCATION' /user/itv016478/lendingclubproject/cleaned_new/customers_parquet' \"\"\")\n"
   ]
  },
  {
   "cell_type": "code",
   "execution_count": 32,
   "id": "d3e9e562",
   "metadata": {},
   "outputs": [
    {
     "data": {
      "text/html": [
       "<table border='1'>\n",
       "<tr><th></th></tr>\n",
       "</table>\n"
      ],
      "text/plain": [
       "++\n",
       "||\n",
       "++\n",
       "++"
      ]
     },
     "execution_count": 32,
     "metadata": {},
     "output_type": "execute_result"
    }
   ],
   "source": [
    "#2) for delinq\n",
    "spark.sql(\"\"\"CREATE EXTERNAL TABLE IF NOT EXISTS itv016478_lending_clubb.loans_new_delinq(\n",
    "member_id string, delinq_2yrs integer, delinq_amnt float, mths_since_last_delinq FLOAT)\n",
    "stored as parquet LOCATION '/user/itv016478/lendingclubproject/cleaned_new/delinq_parquet'\"\"\")"
   ]
  },
  {
   "cell_type": "code",
   "execution_count": 33,
   "id": "847bf6a9",
   "metadata": {},
   "outputs": [
    {
     "data": {
      "text/html": [
       "<table border='1'>\n",
       "<tr><th></th></tr>\n",
       "</table>\n"
      ],
      "text/plain": [
       "++\n",
       "||\n",
       "++\n",
       "++"
      ]
     },
     "execution_count": 33,
     "metadata": {},
     "output_type": "execute_result"
    }
   ],
   "source": [
    "#3)for enqq -\n",
    "spark.sql(\"\"\"\n",
    "CREATE EXTERNAL TABLE IF NOT EXISTS itv016478_lending_clubb.loans_new_enqq(\n",
    "    member_id STRING,\n",
    "    pub_rec FLOAT,\n",
    "    pub_rec_bankruptcies FLOAT,\n",
    "    inq_last_6mths FLOAT\n",
    ")\n",
    "STORED AS PARQUET\n",
    "LOCATION '/user/itv016478/lendingclubproject/cleaned_new/enqq_parquet'\n",
    "\"\"\")"
   ]
  },
  {
   "cell_type": "code",
   "execution_count": 46,
   "id": "f4db95d6",
   "metadata": {},
   "outputs": [
    {
     "data": {
      "text/html": [
       "<table border='1'>\n",
       "<tr><th></th></tr>\n",
       "</table>\n"
      ],
      "text/plain": [
       "++\n",
       "||\n",
       "++\n",
       "++"
      ]
     },
     "execution_count": 46,
     "metadata": {},
     "output_type": "execute_result"
    }
   ],
   "source": [
    "#TABLE CREATED BY TRENDYTECH TEAM [YOU CAN USE THIS BUT HERE WE HAVE GIVEN THE LOCATION OF PUBLIC DIRECTORY YOU CAN'T MAKE ANY CHANGES IN THAT DIRECTORY] \n",
    "spark.sql(\"\"\"\n",
    "create EXTERNAL TABLE itv016478_lending_clubb.loans_new_enqq_tt(member_id string, pub_rec integer, pub_rec_bankruptcies integer, inq_last_6mths integer)\n",
    "stored as parquet\n",
    "LOCATION '/public/trendytech/lendingclubproject/cleaned_new/loan_defaulters_detail_rec_enq_parquet'\n",
    "\"\"\")"
   ]
  },
  {
   "cell_type": "code",
   "execution_count": 47,
   "id": "d4028750",
   "metadata": {},
   "outputs": [
    {
     "name": "stdout",
     "output_type": "stream",
     "text": [
      "+----------------------------+---------------------------------------------------------------------------------------------------------------------+-------+\n",
      "|col_name                    |data_type                                                                                                            |comment|\n",
      "+----------------------------+---------------------------------------------------------------------------------------------------------------------+-------+\n",
      "|member_id                   |string                                                                                                               |null   |\n",
      "|pub_rec                     |int                                                                                                                  |null   |\n",
      "|pub_rec_bankruptcies        |int                                                                                                                  |null   |\n",
      "|inq_last_6mths              |int                                                                                                                  |null   |\n",
      "|                            |                                                                                                                     |       |\n",
      "|# Detailed Table Information|                                                                                                                     |       |\n",
      "|Database                    |itv016478_lending_clubb                                                                                              |       |\n",
      "|Table                       |loans_new_enqq_tt                                                                                                    |       |\n",
      "|Owner                       |itv016478                                                                                                            |       |\n",
      "|Created Time                |Fri May 30 01:58:54 EDT 2025                                                                                         |       |\n",
      "|Last Access                 |UNKNOWN                                                                                                              |       |\n",
      "|Created By                  |Spark 3.1.2                                                                                                          |       |\n",
      "|Type                        |EXTERNAL                                                                                                             |       |\n",
      "|Provider                    |hive                                                                                                                 |       |\n",
      "|Table Properties            |[transient_lastDdlTime=1748584734]                                                                                   |       |\n",
      "|Statistics                  |150947234 bytes                                                                                                      |       |\n",
      "|Location                    |hdfs://m01.itversity.com:9000/public/trendytech/lendingclubproject/cleaned_new/loan_defaulters_detail_rec_enq_parquet|       |\n",
      "|Serde Library               |org.apache.hadoop.hive.ql.io.parquet.serde.ParquetHiveSerDe                                                          |       |\n",
      "|InputFormat                 |org.apache.hadoop.hive.ql.io.parquet.MapredParquetInputFormat                                                        |       |\n",
      "|OutputFormat                |org.apache.hadoop.hive.ql.io.parquet.MapredParquetOutputFormat                                                       |       |\n",
      "+----------------------------+---------------------------------------------------------------------------------------------------------------------+-------+\n",
      "only showing top 20 rows\n",
      "\n"
     ]
    }
   ],
   "source": [
    "spark.sql(\"DESCRIBE FORMATTED itv016478_lending_clubb.loans_new_enqq_tt\").show(truncate=False)"
   ]
  },
  {
   "cell_type": "code",
   "execution_count": 48,
   "id": "e161a8b4",
   "metadata": {},
   "outputs": [
    {
     "name": "stdout",
     "output_type": "stream",
     "text": [
      "+--------------------+-------+--------------------+--------------+\n",
      "|           member_id|pub_rec|pub_rec_bankruptcies|inq_last_6mths|\n",
      "+--------------------+-------+--------------------+--------------+\n",
      "|9cb79aa7323e81be1...|      0|                   0|             0|\n",
      "|0dd2bbc517e3c8f9e...|      1|                   1|             3|\n",
      "|458458599d3df3bfc...|      1|                   1|             1|\n",
      "|05ea141ec28b5c7f7...|      0|                   0|             0|\n",
      "|aac68850fdac09fd0...|      0|                   0|             0|\n",
      "|3a423e4589e89f429...|      0|                   0|             0|\n",
      "|f1efcf7dfbfef21be...|      0|                   0|             1|\n",
      "|c89986155a070db2e...|      0|                   0|             1|\n",
      "|118dc629b6e134419...|      0|                   0|             0|\n",
      "|a86fa4b7493708333...|      0|                   0|             0|\n",
      "|6e8d94bf446e97025...|      0|                   0|             0|\n",
      "|3de585156dc6b73f6...|      0|                   0|             0|\n",
      "|e88945f86a96f8d71...|      0|                   0|             1|\n",
      "|42f73fd8a01f1c475...|      0|                   0|             0|\n",
      "|c680bca32456530e6...|      0|                   0|             0|\n",
      "|3c36e35bcc0379690...|      0|                   0|             0|\n",
      "|4e1c30a5dfe9f1e20...|      0|                   0|             1|\n",
      "|1eef79a0e79b72c7a...|      0|                   0|             0|\n",
      "|89d42771f79636d22...|      0|                   0|             0|\n",
      "|1dd1d1b51473d4993...|      0|                   0|             0|\n",
      "+--------------------+-------+--------------------+--------------+\n",
      "only showing top 20 rows\n",
      "\n"
     ]
    }
   ],
   "source": [
    "spark.sql(\"SELECT * FROM itv016478_lending_clubb.loans_new_enqq_tt\").show()"
   ]
  },
  {
   "cell_type": "code",
   "execution_count": 37,
   "id": "f431a981",
   "metadata": {},
   "outputs": [
    {
     "name": "stdout",
     "output_type": "stream",
     "text": [
      "+----------------------------+----------------------------------------------------------------------------------------+-------+\n",
      "|col_name                    |data_type                                                                               |comment|\n",
      "+----------------------------+----------------------------------------------------------------------------------------+-------+\n",
      "|member_id                   |string                                                                                  |null   |\n",
      "|pub_rec                     |int                                                                                     |null   |\n",
      "|pub_rec_bankruptcies        |int                                                                                     |null   |\n",
      "|inq_last_6mths              |int                                                                                     |null   |\n",
      "|                            |                                                                                        |       |\n",
      "|# Detailed Table Information|                                                                                        |       |\n",
      "|Database                    |itv016478_lending_clubb                                                                 |       |\n",
      "|Table                       |loans_new_enqq                                                                          |       |\n",
      "|Owner                       |itv016478                                                                               |       |\n",
      "|Created Time                |Mon May 26 02:27:11 EDT 2025                                                            |       |\n",
      "|Last Access                 |UNKNOWN                                                                                 |       |\n",
      "|Created By                  |Spark 3.1.2                                                                             |       |\n",
      "|Type                        |EXTERNAL                                                                                |       |\n",
      "|Provider                    |hive                                                                                    |       |\n",
      "|Table Properties            |[transient_lastDdlTime=1748240831]                                                      |       |\n",
      "|Statistics                  |150833318 bytes                                                                         |       |\n",
      "|Location                    |hdfs://m01.itversity.com:9000/user/itv016478/lendingclubproject/cleaned_new/enqq_parquet|       |\n",
      "|Serde Library               |org.apache.hadoop.hive.ql.io.parquet.serde.ParquetHiveSerDe                             |       |\n",
      "|InputFormat                 |org.apache.hadoop.hive.ql.io.parquet.MapredParquetInputFormat                           |       |\n",
      "|OutputFormat                |org.apache.hadoop.hive.ql.io.parquet.MapredParquetOutputFormat                          |       |\n",
      "+----------------------------+----------------------------------------------------------------------------------------+-------+\n",
      "only showing top 20 rows\n",
      "\n"
     ]
    }
   ],
   "source": [
    "spark.sql(\"DESCRIBE FORMATTED itv016478_lending_clubb.loans_new_enqq\").show(truncate=False)"
   ]
  },
  {
   "cell_type": "code",
   "execution_count": 38,
   "id": "c4c73726",
   "metadata": {},
   "outputs": [
    {
     "ename": "SyntaxError",
     "evalue": "invalid syntax (<ipython-input-38-870eedb0c929>, line 2)",
     "output_type": "error",
     "traceback": [
      "\u001b[0;36m  File \u001b[0;32m\"<ipython-input-38-870eedb0c929>\"\u001b[0;36m, line \u001b[0;32m2\u001b[0m\n\u001b[0;31m    t repating for customers table\u001b[0m\n\u001b[0m             ^\u001b[0m\n\u001b[0;31mSyntaxError\u001b[0m\u001b[0;31m:\u001b[0m invalid syntax\n"
     ]
    }
   ],
   "source": [
    "#Now check the member_id is no\n",
    "t repating for customers table\n",
    "spark.sql(\"select member_id , count(*) as total from itv016478_lending_clubb.new_customers group by member_id order by total desc\")"
   ]
  },
  {
   "cell_type": "code",
   "execution_count": null,
   "id": "23c555e8",
   "metadata": {},
   "outputs": [],
   "source": [
    "#Now check the member_id is not repating for delinq table\n",
    "spark.sql(\"select member_id , count(*) as total from itv016478_lending_clubb.loans_new_delinq group by member_id order by total desc\")"
   ]
  },
  {
   "cell_type": "code",
   "execution_count": null,
   "id": "49d30b53",
   "metadata": {},
   "outputs": [],
   "source": [
    "#Now check the member_id is not repating for enqq table\n",
    "spark.sql(\"select member_id , count(*) as total from itv016478_lending_clubb.loans_new_enqq group by member_id order by total desc\")"
   ]
  },
  {
   "cell_type": "code",
   "execution_count": null,
   "id": "4e7e56dc",
   "metadata": {},
   "outputs": [],
   "source": [
    "#So now we have segregated bad data (repeating member id to upstream team to check why are we geeting bad data after cleaning )\n",
    "# We have cleaned one more layer and hence we have unique member_id now and now we can proceed processing  with loan score\n",
    "#Now there is no issues with data."
   ]
  }
 ],
 "metadata": {
  "kernelspec": {
   "display_name": "Pyspark 3",
   "language": "python",
   "name": "pyspark3"
  },
  "language_info": {
   "codemirror_mode": {
    "name": "ipython",
    "version": 3
   },
   "file_extension": ".py",
   "mimetype": "text/x-python",
   "name": "python",
   "nbconvert_exporter": "python",
   "pygments_lexer": "ipython3",
   "version": "3.6.12"
  }
 },
 "nbformat": 4,
 "nbformat_minor": 5
}
