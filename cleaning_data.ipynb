{
 "cells": [
  {
   "cell_type": "code",
   "execution_count": 1,
   "id": "d4d34109",
   "metadata": {},
   "outputs": [],
   "source": [
    "from pyspark.sql import SparkSession\n",
    "\n",
    "spark = SparkSession \\\n",
    "    .builder \\\n",
    "    .config('spark.ui.port', '0') \\\n",
    "    .config('spark.shuffle.useOldFetchProtocol', 'true') \\\n",
    "    .config(\"spark.sql.warehouse.dir\", \"/user/itv016478/warehouse\") \\\n",
    "    .enableHiveSupport() \\\n",
    "    .master('yarn') \\\n",
    "    .getOrCreate()\n"
   ]
  },
  {
   "cell_type": "code",
   "execution_count": 2,
   "id": "2a9a1678",
   "metadata": {},
   "outputs": [],
   "source": [
    "from pyspark.sql import SparkSession \n",
    "import getpass \n",
    "username = getpass.getuser() \n",
    "spark = SparkSession. \\\n",
    "builder. \\\n",
    "config('spark.ui.port','0'). \\\n",
    "config(\"spark.sql.warehouse.dir\", f\"/user/itv016478/warehouse\"). \\\n",
    "config('spark.shuffle.useOldFetchProtocol','true'). \\\n",
    "enableHiveSupport(). \\\n",
    "master('yarn'). \\\n",
    "getOrCreate()"
   ]
  },
  {
   "cell_type": "code",
   "execution_count": 3,
   "id": "c9572617",
   "metadata": {},
   "outputs": [
    {
     "data": {
      "text/html": [
       "\n",
       "            <div>\n",
       "                <p><b>SparkSession - hive</b></p>\n",
       "                \n",
       "        <div>\n",
       "            <p><b>SparkContext</b></p>\n",
       "\n",
       "            <p><a href=\"http://g02.itversity.com:38505\">Spark UI</a></p>\n",
       "\n",
       "            <dl>\n",
       "              <dt>Version</dt>\n",
       "                <dd><code>v3.1.2</code></dd>\n",
       "              <dt>Master</dt>\n",
       "                <dd><code>yarn</code></dd>\n",
       "              <dt>AppName</dt>\n",
       "                <dd><code>pyspark-shell</code></dd>\n",
       "            </dl>\n",
       "        </div>\n",
       "        \n",
       "            </div>\n",
       "        "
      ],
      "text/plain": [
       "<pyspark.sql.session.SparkSession at 0x7f7a85092588>"
      ]
     },
     "execution_count": 3,
     "metadata": {},
     "output_type": "execute_result"
    }
   ],
   "source": [
    "spark"
   ]
  },
  {
   "cell_type": "code",
   "execution_count": 4,
   "id": "8df5ce77",
   "metadata": {},
   "outputs": [
    {
     "ename": "AnalysisException",
     "evalue": "Table or view not found for 'DESCRIBE TABLE': loans_enq; line 1 pos 0;\n'DescribeRelation true, [col_name#0, data_type#1, comment#2]\n+- 'UnresolvedTableOrView [loans_enq], DESCRIBE TABLE, true\n",
     "output_type": "error",
     "traceback": [
      "\u001b[0;31m---------------------------------------------------------------------------\u001b[0m",
      "\u001b[0;31mAnalysisException\u001b[0m                         Traceback (most recent call last)",
      "\u001b[0;32m<ipython-input-4-57656fdb2fe6>\u001b[0m in \u001b[0;36m<module>\u001b[0;34m\u001b[0m\n\u001b[0;32m----> 1\u001b[0;31m \u001b[0mspark\u001b[0m\u001b[0;34m.\u001b[0m\u001b[0msql\u001b[0m\u001b[0;34m(\u001b[0m\u001b[0;34m\"DESCRIBE FORMATTED loans_enq\"\u001b[0m\u001b[0;34m)\u001b[0m\u001b[0;34m.\u001b[0m\u001b[0mshow\u001b[0m\u001b[0;34m(\u001b[0m\u001b[0mtruncate\u001b[0m\u001b[0;34m=\u001b[0m\u001b[0;32mFalse\u001b[0m\u001b[0;34m)\u001b[0m\u001b[0;34m\u001b[0m\u001b[0;34m\u001b[0m\u001b[0m\n\u001b[0m",
      "\u001b[0;32m/opt/spark-3.1.2-bin-hadoop3.2/python/pyspark/sql/session.py\u001b[0m in \u001b[0;36msql\u001b[0;34m(self, sqlQuery)\u001b[0m\n\u001b[1;32m    721\u001b[0m         \u001b[0;34m[\u001b[0m\u001b[0mRow\u001b[0m\u001b[0;34m(\u001b[0m\u001b[0mf1\u001b[0m\u001b[0;34m=\u001b[0m\u001b[0;36m1\u001b[0m\u001b[0;34m,\u001b[0m \u001b[0mf2\u001b[0m\u001b[0;34m=\u001b[0m\u001b[0;34m'row1'\u001b[0m\u001b[0;34m)\u001b[0m\u001b[0;34m,\u001b[0m \u001b[0mRow\u001b[0m\u001b[0;34m(\u001b[0m\u001b[0mf1\u001b[0m\u001b[0;34m=\u001b[0m\u001b[0;36m2\u001b[0m\u001b[0;34m,\u001b[0m \u001b[0mf2\u001b[0m\u001b[0;34m=\u001b[0m\u001b[0;34m'row2'\u001b[0m\u001b[0;34m)\u001b[0m\u001b[0;34m,\u001b[0m \u001b[0mRow\u001b[0m\u001b[0;34m(\u001b[0m\u001b[0mf1\u001b[0m\u001b[0;34m=\u001b[0m\u001b[0;36m3\u001b[0m\u001b[0;34m,\u001b[0m \u001b[0mf2\u001b[0m\u001b[0;34m=\u001b[0m\u001b[0;34m'row3'\u001b[0m\u001b[0;34m)\u001b[0m\u001b[0;34m]\u001b[0m\u001b[0;34m\u001b[0m\u001b[0;34m\u001b[0m\u001b[0m\n\u001b[1;32m    722\u001b[0m         \"\"\"\n\u001b[0;32m--> 723\u001b[0;31m         \u001b[0;32mreturn\u001b[0m \u001b[0mDataFrame\u001b[0m\u001b[0;34m(\u001b[0m\u001b[0mself\u001b[0m\u001b[0;34m.\u001b[0m\u001b[0m_jsparkSession\u001b[0m\u001b[0;34m.\u001b[0m\u001b[0msql\u001b[0m\u001b[0;34m(\u001b[0m\u001b[0msqlQuery\u001b[0m\u001b[0;34m)\u001b[0m\u001b[0;34m,\u001b[0m \u001b[0mself\u001b[0m\u001b[0;34m.\u001b[0m\u001b[0m_wrapped\u001b[0m\u001b[0;34m)\u001b[0m\u001b[0;34m\u001b[0m\u001b[0;34m\u001b[0m\u001b[0m\n\u001b[0m\u001b[1;32m    724\u001b[0m \u001b[0;34m\u001b[0m\u001b[0m\n\u001b[1;32m    725\u001b[0m     \u001b[0;32mdef\u001b[0m \u001b[0mtable\u001b[0m\u001b[0;34m(\u001b[0m\u001b[0mself\u001b[0m\u001b[0;34m,\u001b[0m \u001b[0mtableName\u001b[0m\u001b[0;34m)\u001b[0m\u001b[0;34m:\u001b[0m\u001b[0;34m\u001b[0m\u001b[0;34m\u001b[0m\u001b[0m\n",
      "\u001b[0;32m/opt/spark-3.1.2-bin-hadoop3.2/python/lib/py4j-0.10.9-src.zip/py4j/java_gateway.py\u001b[0m in \u001b[0;36m__call__\u001b[0;34m(self, *args)\u001b[0m\n\u001b[1;32m   1303\u001b[0m         \u001b[0manswer\u001b[0m \u001b[0;34m=\u001b[0m \u001b[0mself\u001b[0m\u001b[0;34m.\u001b[0m\u001b[0mgateway_client\u001b[0m\u001b[0;34m.\u001b[0m\u001b[0msend_command\u001b[0m\u001b[0;34m(\u001b[0m\u001b[0mcommand\u001b[0m\u001b[0;34m)\u001b[0m\u001b[0;34m\u001b[0m\u001b[0;34m\u001b[0m\u001b[0m\n\u001b[1;32m   1304\u001b[0m         return_value = get_return_value(\n\u001b[0;32m-> 1305\u001b[0;31m             answer, self.gateway_client, self.target_id, self.name)\n\u001b[0m\u001b[1;32m   1306\u001b[0m \u001b[0;34m\u001b[0m\u001b[0m\n\u001b[1;32m   1307\u001b[0m         \u001b[0;32mfor\u001b[0m \u001b[0mtemp_arg\u001b[0m \u001b[0;32min\u001b[0m \u001b[0mtemp_args\u001b[0m\u001b[0;34m:\u001b[0m\u001b[0;34m\u001b[0m\u001b[0;34m\u001b[0m\u001b[0m\n",
      "\u001b[0;32m/opt/spark-3.1.2-bin-hadoop3.2/python/pyspark/sql/utils.py\u001b[0m in \u001b[0;36mdeco\u001b[0;34m(*a, **kw)\u001b[0m\n\u001b[1;32m    115\u001b[0m                 \u001b[0;31m# Hide where the exception came from that shows a non-Pythonic\u001b[0m\u001b[0;34m\u001b[0m\u001b[0;34m\u001b[0m\u001b[0;34m\u001b[0m\u001b[0m\n\u001b[1;32m    116\u001b[0m                 \u001b[0;31m# JVM exception message.\u001b[0m\u001b[0;34m\u001b[0m\u001b[0;34m\u001b[0m\u001b[0;34m\u001b[0m\u001b[0m\n\u001b[0;32m--> 117\u001b[0;31m                 \u001b[0;32mraise\u001b[0m \u001b[0mconverted\u001b[0m \u001b[0;32mfrom\u001b[0m \u001b[0;32mNone\u001b[0m\u001b[0;34m\u001b[0m\u001b[0;34m\u001b[0m\u001b[0m\n\u001b[0m\u001b[1;32m    118\u001b[0m             \u001b[0;32melse\u001b[0m\u001b[0;34m:\u001b[0m\u001b[0;34m\u001b[0m\u001b[0;34m\u001b[0m\u001b[0m\n\u001b[1;32m    119\u001b[0m                 \u001b[0;32mraise\u001b[0m\u001b[0;34m\u001b[0m\u001b[0;34m\u001b[0m\u001b[0m\n",
      "\u001b[0;31mAnalysisException\u001b[0m: Table or view not found for 'DESCRIBE TABLE': loans_enq; line 1 pos 0;\n'DescribeRelation true, [col_name#0, data_type#1, comment#2]\n+- 'UnresolvedTableOrView [loans_enq], DESCRIBE TABLE, true\n"
     ]
    }
   ],
   "source": [
    "spark.sql(\"DESCRIBE FORMATTED loans_enq\").show(truncate=False)\n"
   ]
  },
  {
   "cell_type": "code",
   "execution_count": 5,
   "id": "54404257",
   "metadata": {},
   "outputs": [
    {
     "name": "stdout",
     "output_type": "stream",
     "text": [
      "Found 3 items\n",
      "-rw-r--r--   3 itv016478 supergroup          0 2025-05-20 11:39 /user/itv016478/lendingclubproject/cleaned/loans_def_detail_records_enq_parquet/_SUCCESS\n",
      "-rw-r--r--   3 itv016478 supergroup   77108077 2025-05-20 11:39 /user/itv016478/lendingclubproject/cleaned/loans_def_detail_records_enq_parquet/part-00000-21a4d4ec-5b31-4bff-b8fe-e7f23210b448-c000.snappy.parquet\n",
      "-rw-r--r--   3 itv016478 supergroup   74124369 2025-05-20 11:39 /user/itv016478/lendingclubproject/cleaned/loans_def_detail_records_enq_parquet/part-00001-21a4d4ec-5b31-4bff-b8fe-e7f23210b448-c000.snappy.parquet\n"
     ]
    }
   ],
   "source": [
    "!hadoop fs -ls /user/itv016478/lendingclubproject/cleaned/loans_def_detail_records_enq_parquet"
   ]
  },
  {
   "cell_type": "code",
   "execution_count": 6,
   "id": "caa36849",
   "metadata": {},
   "outputs": [
    {
     "name": "stdout",
     "output_type": "stream",
     "text": [
      "PAR1\u0015\u0000\u0015���\u0001\u0015��|,\u0015��\u0001\u0015\u0000\u0015\u0006\u001c",
      "6\u0000(@fffce59cff467895296e8ba124e293e31139c10eaaaf6eccb5d84f016fcd9a6d\u0018@0000f31fb4726ace47a52e7bbfa36a96551c7afcc899e9e61517806e7a4aca4e\u0000\u0000\u0000��@�\u0017\u0001\u0004\u0000\u0000\u0000��\u0001\u0001@\u0000\u0000\u0000d86a1c7244ace602c0fa0b6fd301a2a835cde5436d32eb6c6007ce00ed8dc149@\u0000\u0000\u000025b8cd9ff47e50eea5be7b7966c943e0c72ee8cdc3d6761f5ef0abc280383180@\u0000\u0000\u0000f9773942305b2dc9c4258b0bd3081d263ed8b9c8d955755f498aacd733b8390c@\u0000\u0000\u0000b22f99c198f3738a7b6391fa5e4fefa5e81a85250c6a4a50eb2302c090873aec!\u0010�4b3b7068c15b0e0467c408030b1778347c9bcaed5d5f765e65779c68d5e8a14c@\u0000\u0000\u00000c7a9f8a6d5b209d2e724cf121a7bf3858bbf540815e72f4ac6b43d2a1fde7ff@\u0000\u0000\u0000f1cc7e6ae9c73514875151657535e5f8d62b7669ceb8282fc4be0a204fb31366@\u0000\u0000\u00008f8faa7eeb2a1ee41e6f50ed19c931f55104321690319ac398c289ca25217ec2@\u0000\u0000\u0000dad3f5ea8788186cb4763a5d9fb424c281698938aeb68c7be9bb337045c59886@\u0000\u0000\u0000a20867c09851262024b8b5d1e4d5efc95256018c3f5859baa8256bc655e6a82e@\u0000\u0000\u0000b62a92faa291b619c7b60c78a3a71e2eabd22bbc9613b77334a9aa20ab5dc27c@\u0000\u0000\u00009468bb9f4c7e39e7246c8ff2b80f3071ef43e8b50f542f14840e757b6dfa1795@\u0000\u0000\u000056a52156bd14bef8bf36ff9eb"
     ]
    }
   ],
   "source": [
    "!hadoop fs -head /user/itv016478/lendingclubproject/cleaned/loans_def_detail_records_enq_parquet/part-00000-21a4d4ec-5b31-4bff-b8fe-e7f23210b448-c000.snappy.parquet"
   ]
  },
  {
   "cell_type": "code",
   "execution_count": 7,
   "id": "af9c26bb",
   "metadata": {},
   "outputs": [
    {
     "name": "stdout",
     "output_type": "stream",
     "text": [
      "+--------------------+-------+--------------------+--------------+\n",
      "|           member_id|pub_rec|pub_rec_bankruptcies|inq_last_6mths|\n",
      "+--------------------+-------+--------------------+--------------+\n",
      "|d86a1c7244ace602c...|    1.0|                 1.0|             0|\n",
      "|25b8cd9ff47e50eea...|    0.0|                 0.0|             1|\n",
      "|f9773942305b2dc9c...|    1.0|                 1.0|             0|\n",
      "|b22f99c198f3738a7...|    0.0|                 0.0|             0|\n",
      "|4b3b7068c15b0e046...|    0.0|                 0.0|             4|\n",
      "|0c7a9f8a6d5b209d2...|    1.0|                 1.0|             0|\n",
      "|f1cc7e6ae9c735148...|    0.0|                 0.0|             0|\n",
      "|8f8faa7eeb2a1ee41...|    0.0|                 0.0|             0|\n",
      "|dad3f5ea8788186cb...|    0.0|                 0.0|             2|\n",
      "|a20867c0985126202...|    0.0|                 0.0|             2|\n",
      "|b62a92faa291b619c...|    2.0|                 1.0|             2|\n",
      "|9468bb9f4c7e39e72...|    0.0|                 0.0|             0|\n",
      "|56a52156bd14bef8b...|    0.0|                 0.0|             0|\n",
      "|9b2294c29096348d5...|    0.0|                 0.0|             0|\n",
      "|b9c65cbaf8241cbe8...|    1.0|                 0.0|             0|\n",
      "|a14a75a803373848c...|    0.0|                 0.0|             0|\n",
      "|c1573ce869bafcbe9...|    0.0|                 0.0|             0|\n",
      "|7a748acb9cb11d073...|    0.0|                 0.0|             0|\n",
      "|38edbe648d5b71710...|    1.0|                 1.0|             0|\n",
      "|dc68448ffbc44bb2b...|    0.0|                 0.0|             1|\n",
      "+--------------------+-------+--------------------+--------------+\n",
      "only showing top 20 rows\n",
      "\n"
     ]
    }
   ],
   "source": [
    "df = spark.read.format(\"parquet\").load(\"/user/itv016478/lendingclubproject/cleaned/loans_def_detail_records_enq_parquet/part-00000-21a4d4ec-5b31-4bff-b8fe-e7f23210b448-c000.snappy.parquet\")\n",
    "df.show()"
   ]
  },
  {
   "cell_type": "code",
   "execution_count": 8,
   "id": "750946a1",
   "metadata": {},
   "outputs": [
    {
     "data": {
      "text/html": [
       "<table border='1'>\n",
       "<tr><th></th></tr>\n",
       "</table>\n"
      ],
      "text/plain": [
       "++\n",
       "||\n",
       "++\n",
       "++"
      ]
     },
     "execution_count": 8,
     "metadata": {},
     "output_type": "execute_result"
    }
   ],
   "source": [
    "# slow acccess with newer data ( max 1 day old)\n",
    "spark.sql(\"\"\"\n",
    "CREATE OR REPLACE view itv016478_lending_clubb.customers_loan_v as SELECT\n",
    "l.loan_id, c.member_id, c.emp_title ,c.emp_length, c.home_ownership ,c.annual_inc, c.addr_state, c.zip_code, c.country, c.grade, c.sub_grade, c.verification_status, c.tot_hi_cred_lim, c.application_type, c.annual_inc_joint, c.verification_status_joint,\n",
    "l.loan_amount, l.funded_amount, l.loan_term_months, l.interest_rate,l.monthly_installment, l.issue_date, l.loan_status, l.loan_purpose, \n",
    "r.total_principal_received, r.total_interest_received, r.total_late_fee_received, r.total_payment_received, r.last_payment_amount, r.last_payment_date, r.next_payment_date,\n",
    "d.delinq_2yrs ,d.delinq_amnt , d.mths_since_last_delinq ,\n",
    "e.pub_rec, e.pub_rec_bankruptcies, e.inq_last_6mths\n",
    "\n",
    "FROM itv016478_lending_clubb.customers c\n",
    "LEFT JOIN itv016478_lending_clubb.loans l ON c.member_id = l.member_id\n",
    "LEFT JOIN itv016478_lending_clubb.loans_repay r ON l.loan_id = r.loan_id\n",
    "LEFT JOIN itv016478_lending_clubb.loans_delinq d ON c.member_id = d.member_id\n",
    "LEFT JOIN itv016478_lending_clubb.loans_enqq e ON c.member_id = e.member_id\n",
    "\"\"\")"
   ]
  },
  {
   "cell_type": "code",
   "execution_count": 9,
   "id": "15a54aed",
   "metadata": {},
   "outputs": [
    {
     "data": {
      "text/html": [
       "<table border='1'>\n",
       "<tr><th>loan_id</th><th>member_id</th><th>emp_title</th><th>emp_length</th><th>home_ownership</th><th>annual_inc</th><th>addr_state</th><th>zip_code</th><th>country</th><th>grade</th><th>sub_grade</th><th>verification_status</th><th>tot_hi_cred_lim</th><th>application_type</th><th>annual_inc_joint</th><th>verification_status_joint</th><th>loan_amount</th><th>funded_amount</th><th>loan_term_months</th><th>interest_rate</th><th>monthly_installment</th><th>issue_date</th><th>loan_status</th><th>loan_purpose</th><th>total_principal_received</th><th>total_interest_received</th><th>total_late_fee_received</th><th>total_payment_received</th><th>last_payment_amount</th><th>last_payment_date</th><th>next_payment_date</th><th>delinq_2yrs</th><th>delinq_amnt</th><th>mths_since_last_delinq</th><th>pub_rec</th><th>pub_rec_bankruptcies</th><th>inq_last_6mths</th></tr>\n",
       "<tr><td>71175798</td><td>000c8875b71a6b47c...</td><td>Director of Gvt O...</td><td>1</td><td>MORTGAGE</td><td>null</td><td>null</td><td>null</td><td>null</td><td>A</td><td>A4</td><td>Not Verified</td><td>null</td><td>Individual</td><td>null</td><td>null</td><td>3000.0</td><td>3000.0</td><td>null</td><td>7.39</td><td>93.17</td><td>Feb-2016</td><td>Fully Paid</td><td>debt_consolidation</td><td>3000.0</td><td>114.47</td><td>0.0</td><td>3114.47</td><td>2647.45</td><td>Aug-2016</td><td>null</td><td>1</td><td>0.0</td><td>13</td><td>0.0</td><td>0.0</td><td>0</td></tr>\n",
       "<tr><td>139313300</td><td>000fc98fc1ca5faa3...</td><td>coord</td><td>10</td><td>MORTGAGE</td><td>null</td><td>null</td><td>null</td><td>null</td><td>A</td><td>A3</td><td>Not Verified</td><td>null</td><td>Joint App</td><td>null</td><td>null</td><td>20000.0</td><td>20000.0</td><td>null</td><td>7.21</td><td>619.47</td><td>Aug-2018</td><td>Current</td><td>credit_card</td><td>3558.76</td><td>769.52</td><td>0.0</td><td>4328.28</td><td>619.47</td><td>Mar-2019</td><td>Apr-2019</td><td>null</td><td>null</td><td>null</td><td>0.0</td><td>0.0</td><td>0</td></tr>\n",
       "<tr><td>143195702</td><td>0012728d9f616bdf2...</td><td>null</td><td>6</td><td>OWN</td><td>null</td><td>null</td><td>null</td><td>null</td><td>A</td><td>A5</td><td>Not Verified</td><td>null</td><td>Individual</td><td>null</td><td>null</td><td>9000.0</td><td>9000.0</td><td>null</td><td>8.46</td><td>283.95</td><td>Dec-2018</td><td>Current</td><td>debt_consolidation</td><td>666.17</td><td>181.45</td><td>0.0</td><td>847.62</td><td>283.95</td><td>Mar-2019</td><td>Apr-2019</td><td>0</td><td>0.0</td><td>24</td><td>0.0</td><td>0.0</td><td>0</td></tr>\n",
       "<tr><td>2284564</td><td>00151ece27c7ca280...</td><td>Northglenn Police...</td><td>8</td><td>RENT</td><td>null</td><td>null</td><td>null</td><td>null</td><td>C</td><td>C1</td><td>Not Verified</td><td>null</td><td>Individual</td><td>null</td><td>null</td><td>12800.0</td><td>12800.0</td><td>null</td><td>14.33</td><td>439.53</td><td>Nov-2012</td><td>Fully Paid</td><td>debt_consolidation</td><td>12800.0</td><td>2192.68</td><td>0.0</td><td>14992.676</td><td>7529.95</td><td>Jun-2014</td><td>null</td><td>0</td><td>0.0</td><td>29</td><td>0.0</td><td>0.0</td><td>1</td></tr>\n",
       "<tr><td>3845340</td><td>002800d49886390d2...</td><td>RehabCare</td><td>2</td><td>RENT</td><td>null</td><td>null</td><td>null</td><td>null</td><td>D</td><td>D3</td><td>Not Verified</td><td>null</td><td>Individual</td><td>null</td><td>null</td><td>15000.0</td><td>15000.0</td><td>null</td><td>18.75</td><td>547.95</td><td>Mar-2013</td><td>Charged Off</td><td>debt_consolidation</td><td>12856.06</td><td>4702.54</td><td>0.0</td><td>17835.81</td><td>547.95</td><td>Dec-2015</td><td>null</td><td>null</td><td>null</td><td>null</td><td>0.0</td><td>0.0</td><td>0</td></tr>\n",
       "<tr><td>360493</td><td>003715c2aec34dd43...</td><td>Apex Technologies...</td><td>1</td><td>MORTGAGE</td><td>null</td><td>null</td><td>null</td><td>null</td><td>C</td><td>C3</td><td>Not Verified</td><td>null</td><td>Individual</td><td>null</td><td>null</td><td>12000.0</td><td>12000.0</td><td>null</td><td>12.41</td><td>400.93</td><td>Oct-2008</td><td>Fully Paid</td><td>debt_consolidation</td><td>12000.0</td><td>208.02</td><td>0.0</td><td>12208.02</td><td>1.07</td><td>Apr-2009</td><td>null</td><td>null</td><td>null</td><td>null</td><td>0.0</td><td>0.0</td><td>2</td></tr>\n",
       "<tr><td>95004059</td><td>003769d7f54c7859e...</td><td>Trainer</td><td>10</td><td>MORTGAGE</td><td>null</td><td>null</td><td>null</td><td>null</td><td>E</td><td>E1</td><td>Verified</td><td>null</td><td>Individual</td><td>null</td><td>null</td><td>10000.0</td><td>10000.0</td><td>null</td><td>22.74</td><td>280.42</td><td>Dec-2016</td><td>Charged Off</td><td>medical</td><td>90.92</td><td>176.87</td><td>0.0</td><td>1492.05</td><td>280.42</td><td>Jan-2017</td><td>null</td><td>1</td><td>0.0</td><td>20</td><td>0.0</td><td>0.0</td><td>0</td></tr>\n",
       "<tr><td>142641777</td><td>0037bb910c0a758f5...</td><td>Network Engineer</td><td>2</td><td>RENT</td><td>null</td><td>null</td><td>null</td><td>null</td><td>C</td><td>C3</td><td>Source Verified</td><td>null</td><td>Individual</td><td>null</td><td>null</td><td>2000.0</td><td>2000.0</td><td>null</td><td>15.02</td><td>69.36</td><td>Oct-2018</td><td>Current</td><td>other</td><td>227.25</td><td>116.21</td><td>0.0</td><td>343.46</td><td>69.36</td><td>Mar-2019</td><td>Apr-2019</td><td>0</td><td>0.0</td><td>66</td><td>0.0</td><td>0.0</td><td>0</td></tr>\n",
       "<tr><td>91518424</td><td>003d7bee408492f11...</td><td>Flight Attendant</td><td>10</td><td>RENT</td><td>null</td><td>null</td><td>null</td><td>null</td><td>A</td><td>A5</td><td>Not Verified</td><td>null</td><td>Individual</td><td>null</td><td>null</td><td>10000.0</td><td>10000.0</td><td>null</td><td>7.99</td><td>313.32</td><td>Oct-2016</td><td>Current</td><td>other</td><td>7864.12</td><td>1213.28</td><td>0.0</td><td>9077.4</td><td>313.32</td><td>Mar-2019</td><td>Apr-2019</td><td>null</td><td>null</td><td>null</td><td>0.0</td><td>0.0</td><td>0</td></tr>\n",
       "<tr><td>116883875</td><td>003e1e6cbd2920bbb...</td><td>Operations Superv...</td><td>9</td><td>MORTGAGE</td><td>null</td><td>null</td><td>null</td><td>null</td><td>A</td><td>A5</td><td>Source Verified</td><td>null</td><td>Individual</td><td>null</td><td>null</td><td>10000.0</td><td>10000.0</td><td>null</td><td>7.97</td><td>313.23</td><td>Aug-2017</td><td>Current</td><td>debt_consolidation</td><td>4980.61</td><td>970.21</td><td>0.0</td><td>5950.82</td><td>313.23</td><td>Mar-2019</td><td>Apr-2019</td><td>1</td><td>0.0</td><td>23</td><td>1.0</td><td>1.0</td><td>0</td></tr>\n",
       "<tr><td>10616863</td><td>004017b21bd4d6271...</td><td>Regional Rehab Di...</td><td>9</td><td>MORTGAGE</td><td>null</td><td>null</td><td>null</td><td>null</td><td>C</td><td>C1</td><td>Not Verified</td><td>null</td><td>Individual</td><td>null</td><td>null</td><td>3000.0</td><td>3000.0</td><td>null</td><td>13.98</td><td>102.51</td><td>Jan-2014</td><td>Fully Paid</td><td>debt_consolidation</td><td>3000.0</td><td>685.71</td><td>15.0</td><td>3700.7124</td><td>43.24</td><td>Dec-2016</td><td>null</td><td>6</td><td>0.0</td><td>9</td><td>0.0</td><td>0.0</td><td>0</td></tr>\n",
       "<tr><td>58882363</td><td>004dbe6698f1482be...</td><td>Project Manager</td><td>3</td><td>MORTGAGE</td><td>null</td><td>null</td><td>null</td><td>null</td><td>D</td><td>D4</td><td>Verified</td><td>null</td><td>Individual</td><td>null</td><td>null</td><td>35000.0</td><td>35000.0</td><td>null</td><td>17.57</td><td>1257.8</td><td>Sep-2015</td><td>Fully Paid</td><td>credit_card</td><td>35000.0</td><td>10246.49</td><td>0.0</td><td>45246.492</td><td>1257.65</td><td>Sep-2018</td><td>null</td><td>null</td><td>null</td><td>null</td><td>0.0</td><td>0.0</td><td>2</td></tr>\n",
       "<tr><td>27681731</td><td>004f73beb41d739e1...</td><td>Staff Research As...</td><td>6</td><td>RENT</td><td>null</td><td>null</td><td>null</td><td>null</td><td>C</td><td>C4</td><td>Source Verified</td><td>null</td><td>Individual</td><td>null</td><td>null</td><td>15775.0</td><td>15775.0</td><td>null</td><td>14.49</td><td>371.08</td><td>Sep-2014</td><td>Current</td><td>debt_consolidation</td><td>13639.96</td><td>6398.36</td><td>0.0</td><td>20038.32</td><td>371.08</td><td>Mar-2019</td><td>Apr-2019</td><td>null</td><td>null</td><td>null</td><td>0.0</td><td>0.0</td><td>0</td></tr>\n",
       "<tr><td>35236401</td><td>0059ce602b84a1bdd...</td><td>correctional officer</td><td>10</td><td>MORTGAGE</td><td>null</td><td>null</td><td>null</td><td>null</td><td>D</td><td>D4</td><td>Verified</td><td>null</td><td>Individual</td><td>null</td><td>null</td><td>31450.0</td><td>31450.0</td><td>null</td><td>17.14</td><td>1123.48</td><td>Dec-2014</td><td>Fully Paid</td><td>debt_consolidation</td><td>31450.0</td><td>8693.53</td><td>0.0</td><td>40143.527</td><td>505.1</td><td>Dec-2017</td><td>null</td><td>null</td><td>null</td><td>null</td><td>0.0</td><td>0.0</td><td>1</td></tr>\n",
       "<tr><td>83648322</td><td>005b4c3db3fce07dc...</td><td>office manager</td><td>9</td><td>MORTGAGE</td><td>null</td><td>null</td><td>null</td><td>null</td><td>B</td><td>B5</td><td>Source Verified</td><td>null</td><td>Individual</td><td>null</td><td>null</td><td>6000.0</td><td>6000.0</td><td>null</td><td>11.49</td><td>197.83</td><td>Jun-2016</td><td>Current</td><td>credit_card</td><td>5417.8</td><td>1102.93</td><td>0.0</td><td>6520.73</td><td>197.83</td><td>Mar-2019</td><td>Apr-2019</td><td>1</td><td>0.0</td><td>18</td><td>1.0</td><td>0.0</td><td>1</td></tr>\n",
       "<tr><td>60615493</td><td>005d5e3c98a159671...</td><td>Staff Accountant</td><td>5</td><td>RENT</td><td>null</td><td>null</td><td>null</td><td>null</td><td>C</td><td>C5</td><td>Source Verified</td><td>null</td><td>Individual</td><td>null</td><td>null</td><td>9000.0</td><td>9000.0</td><td>null</td><td>14.65</td><td>310.45</td><td>Sep-2015</td><td>Fully Paid</td><td>credit_card</td><td>9000.0</td><td>440.68</td><td>0.0</td><td>9440.68</td><td>8516.65</td><td>Jan-2016</td><td>null</td><td>null</td><td>null</td><td>null</td><td>0.0</td><td>0.0</td><td>0</td></tr>\n",
       "<tr><td>15650801</td><td>005daa54678e6fdfe...</td><td>Account Manager</td><td>1</td><td>MORTGAGE</td><td>null</td><td>null</td><td>null</td><td>null</td><td>B</td><td>B5</td><td>Not Verified</td><td>null</td><td>Individual</td><td>null</td><td>null</td><td>10000.0</td><td>10000.0</td><td>null</td><td>12.99</td><td>336.9</td><td>May-2014</td><td>Charged Off</td><td>debt_consolidation</td><td>1900.02</td><td>795.18</td><td>0.0</td><td>4141.46</td><td>336.9</td><td>Jan-2015</td><td>null</td><td>null</td><td>null</td><td>null</td><td>0.0</td><td>0.0</td><td>2</td></tr>\n",
       "<tr><td>55452248</td><td>0061cd647ed984d65...</td><td>Interview Specialist</td><td>10</td><td>MORTGAGE</td><td>null</td><td>null</td><td>null</td><td>null</td><td>D</td><td>D2</td><td>Verified</td><td>null</td><td>Individual</td><td>null</td><td>null</td><td>8900.0</td><td>8900.0</td><td>null</td><td>16.55</td><td>315.32</td><td>Jul-2015</td><td>Fully Paid</td><td>debt_consolidation</td><td>8900.0</td><td>1772.08</td><td>0.0</td><td>10672.078</td><td>5315.73</td><td>Feb-2017</td><td>null</td><td>null</td><td>null</td><td>null</td><td>0.0</td><td>0.0</td><td>0</td></tr>\n",
       "<tr><td>51646280</td><td>0068aeffe996677c2...</td><td>Partner</td><td>10</td><td>MORTGAGE</td><td>null</td><td>null</td><td>null</td><td>null</td><td>D</td><td>D1</td><td>Not Verified</td><td>null</td><td>Individual</td><td>null</td><td>null</td><td>20000.0</td><td>20000.0</td><td>null</td><td>15.61</td><td>699.3</td><td>Jun-2015</td><td>Fully Paid</td><td>home_improvement</td><td>20000.0</td><td>5157.27</td><td>0.0</td><td>25157.271</td><td>699.11</td><td>Jun-2018</td><td>null</td><td>null</td><td>null</td><td>null</td><td>0.0</td><td>0.0</td><td>2</td></tr>\n",
       "<tr><td>49954749</td><td>00710707c563c2119...</td><td>owner</td><td>3</td><td>MORTGAGE</td><td>null</td><td>null</td><td>null</td><td>null</td><td>B</td><td>B5</td><td>Source Verified</td><td>null</td><td>Individual</td><td>null</td><td>null</td><td>15000.0</td><td>15000.0</td><td>null</td><td>11.53</td><td>494.86</td><td>Jun-2015</td><td>Fully Paid</td><td>debt_consolidation</td><td>15000.0</td><td>2595.47</td><td>0.0</td><td>17595.467</td><td>1857.95</td><td>Oct-2017</td><td>null</td><td>1</td><td>0.0</td><td>8</td><td>0.0</td><td>0.0</td><td>0</td></tr>\n",
       "</table>\n",
       "only showing top 20 rows\n"
      ],
      "text/plain": [
       "+---------+--------------------+--------------------+----------+--------------+----------+----------+--------+-------+-----+---------+-------------------+---------------+----------------+----------------+-------------------------+-----------+-------------+----------------+-------------+-------------------+----------+-----------+------------------+------------------------+-----------------------+-----------------------+----------------------+-------------------+-----------------+-----------------+-----------+-----------+----------------------+-------+--------------------+--------------+\n",
       "|  loan_id|           member_id|           emp_title|emp_length|home_ownership|annual_inc|addr_state|zip_code|country|grade|sub_grade|verification_status|tot_hi_cred_lim|application_type|annual_inc_joint|verification_status_joint|loan_amount|funded_amount|loan_term_months|interest_rate|monthly_installment|issue_date|loan_status|      loan_purpose|total_principal_received|total_interest_received|total_late_fee_received|total_payment_received|last_payment_amount|last_payment_date|next_payment_date|delinq_2yrs|delinq_amnt|mths_since_last_delinq|pub_rec|pub_rec_bankruptcies|inq_last_6mths|\n",
       "+---------+--------------------+--------------------+----------+--------------+----------+----------+--------+-------+-----+---------+-------------------+---------------+----------------+----------------+-------------------------+-----------+-------------+----------------+-------------+-------------------+----------+-----------+------------------+------------------------+-----------------------+-----------------------+----------------------+-------------------+-----------------+-----------------+-----------+-----------+----------------------+-------+--------------------+--------------+\n",
       "| 71175798|000c8875b71a6b47c...|Director of Gvt O...|         1|      MORTGAGE|      null|      null|    null|   null|    A|       A4|       Not Verified|           null|      Individual|            null|                     null|     3000.0|       3000.0|            null|         7.39|              93.17|  Feb-2016| Fully Paid|debt_consolidation|                  3000.0|                 114.47|                    0.0|               3114.47|            2647.45|         Aug-2016|             null|          1|        0.0|                    13|    0.0|                 0.0|             0|\n",
       "|139313300|000fc98fc1ca5faa3...|               coord|        10|      MORTGAGE|      null|      null|    null|   null|    A|       A3|       Not Verified|           null|       Joint App|            null|                     null|    20000.0|      20000.0|            null|         7.21|             619.47|  Aug-2018|    Current|       credit_card|                 3558.76|                 769.52|                    0.0|               4328.28|             619.47|         Mar-2019|         Apr-2019|       null|       null|                  null|    0.0|                 0.0|             0|\n",
       "|143195702|0012728d9f616bdf2...|                null|         6|           OWN|      null|      null|    null|   null|    A|       A5|       Not Verified|           null|      Individual|            null|                     null|     9000.0|       9000.0|            null|         8.46|             283.95|  Dec-2018|    Current|debt_consolidation|                  666.17|                 181.45|                    0.0|                847.62|             283.95|         Mar-2019|         Apr-2019|          0|        0.0|                    24|    0.0|                 0.0|             0|\n",
       "|  2284564|00151ece27c7ca280...|Northglenn Police...|         8|          RENT|      null|      null|    null|   null|    C|       C1|       Not Verified|           null|      Individual|            null|                     null|    12800.0|      12800.0|            null|        14.33|             439.53|  Nov-2012| Fully Paid|debt_consolidation|                 12800.0|                2192.68|                    0.0|             14992.676|            7529.95|         Jun-2014|             null|          0|        0.0|                    29|    0.0|                 0.0|             1|\n",
       "|  3845340|002800d49886390d2...|           RehabCare|         2|          RENT|      null|      null|    null|   null|    D|       D3|       Not Verified|           null|      Individual|            null|                     null|    15000.0|      15000.0|            null|        18.75|             547.95|  Mar-2013|Charged Off|debt_consolidation|                12856.06|                4702.54|                    0.0|              17835.81|             547.95|         Dec-2015|             null|       null|       null|                  null|    0.0|                 0.0|             0|\n",
       "|   360493|003715c2aec34dd43...|Apex Technologies...|         1|      MORTGAGE|      null|      null|    null|   null|    C|       C3|       Not Verified|           null|      Individual|            null|                     null|    12000.0|      12000.0|            null|        12.41|             400.93|  Oct-2008| Fully Paid|debt_consolidation|                 12000.0|                 208.02|                    0.0|              12208.02|               1.07|         Apr-2009|             null|       null|       null|                  null|    0.0|                 0.0|             2|\n",
       "| 95004059|003769d7f54c7859e...|             Trainer|        10|      MORTGAGE|      null|      null|    null|   null|    E|       E1|           Verified|           null|      Individual|            null|                     null|    10000.0|      10000.0|            null|        22.74|             280.42|  Dec-2016|Charged Off|           medical|                   90.92|                 176.87|                    0.0|               1492.05|             280.42|         Jan-2017|             null|          1|        0.0|                    20|    0.0|                 0.0|             0|\n",
       "|142641777|0037bb910c0a758f5...|    Network Engineer|         2|          RENT|      null|      null|    null|   null|    C|       C3|    Source Verified|           null|      Individual|            null|                     null|     2000.0|       2000.0|            null|        15.02|              69.36|  Oct-2018|    Current|             other|                  227.25|                 116.21|                    0.0|                343.46|              69.36|         Mar-2019|         Apr-2019|          0|        0.0|                    66|    0.0|                 0.0|             0|\n",
       "| 91518424|003d7bee408492f11...|    Flight Attendant|        10|          RENT|      null|      null|    null|   null|    A|       A5|       Not Verified|           null|      Individual|            null|                     null|    10000.0|      10000.0|            null|         7.99|             313.32|  Oct-2016|    Current|             other|                 7864.12|                1213.28|                    0.0|                9077.4|             313.32|         Mar-2019|         Apr-2019|       null|       null|                  null|    0.0|                 0.0|             0|\n",
       "|116883875|003e1e6cbd2920bbb...|Operations Superv...|         9|      MORTGAGE|      null|      null|    null|   null|    A|       A5|    Source Verified|           null|      Individual|            null|                     null|    10000.0|      10000.0|            null|         7.97|             313.23|  Aug-2017|    Current|debt_consolidation|                 4980.61|                 970.21|                    0.0|               5950.82|             313.23|         Mar-2019|         Apr-2019|          1|        0.0|                    23|    1.0|                 1.0|             0|\n",
       "| 10616863|004017b21bd4d6271...|Regional Rehab Di...|         9|      MORTGAGE|      null|      null|    null|   null|    C|       C1|       Not Verified|           null|      Individual|            null|                     null|     3000.0|       3000.0|            null|        13.98|             102.51|  Jan-2014| Fully Paid|debt_consolidation|                  3000.0|                 685.71|                   15.0|             3700.7124|              43.24|         Dec-2016|             null|          6|        0.0|                     9|    0.0|                 0.0|             0|\n",
       "| 58882363|004dbe6698f1482be...|     Project Manager|         3|      MORTGAGE|      null|      null|    null|   null|    D|       D4|           Verified|           null|      Individual|            null|                     null|    35000.0|      35000.0|            null|        17.57|             1257.8|  Sep-2015| Fully Paid|       credit_card|                 35000.0|               10246.49|                    0.0|             45246.492|            1257.65|         Sep-2018|             null|       null|       null|                  null|    0.0|                 0.0|             2|\n",
       "| 27681731|004f73beb41d739e1...|Staff Research As...|         6|          RENT|      null|      null|    null|   null|    C|       C4|    Source Verified|           null|      Individual|            null|                     null|    15775.0|      15775.0|            null|        14.49|             371.08|  Sep-2014|    Current|debt_consolidation|                13639.96|                6398.36|                    0.0|              20038.32|             371.08|         Mar-2019|         Apr-2019|       null|       null|                  null|    0.0|                 0.0|             0|\n",
       "| 35236401|0059ce602b84a1bdd...|correctional officer|        10|      MORTGAGE|      null|      null|    null|   null|    D|       D4|           Verified|           null|      Individual|            null|                     null|    31450.0|      31450.0|            null|        17.14|            1123.48|  Dec-2014| Fully Paid|debt_consolidation|                 31450.0|                8693.53|                    0.0|             40143.527|              505.1|         Dec-2017|             null|       null|       null|                  null|    0.0|                 0.0|             1|\n",
       "| 83648322|005b4c3db3fce07dc...|      office manager|         9|      MORTGAGE|      null|      null|    null|   null|    B|       B5|    Source Verified|           null|      Individual|            null|                     null|     6000.0|       6000.0|            null|        11.49|             197.83|  Jun-2016|    Current|       credit_card|                  5417.8|                1102.93|                    0.0|               6520.73|             197.83|         Mar-2019|         Apr-2019|          1|        0.0|                    18|    1.0|                 0.0|             1|\n",
       "| 60615493|005d5e3c98a159671...|    Staff Accountant|         5|          RENT|      null|      null|    null|   null|    C|       C5|    Source Verified|           null|      Individual|            null|                     null|     9000.0|       9000.0|            null|        14.65|             310.45|  Sep-2015| Fully Paid|       credit_card|                  9000.0|                 440.68|                    0.0|               9440.68|            8516.65|         Jan-2016|             null|       null|       null|                  null|    0.0|                 0.0|             0|\n",
       "| 15650801|005daa54678e6fdfe...|     Account Manager|         1|      MORTGAGE|      null|      null|    null|   null|    B|       B5|       Not Verified|           null|      Individual|            null|                     null|    10000.0|      10000.0|            null|        12.99|              336.9|  May-2014|Charged Off|debt_consolidation|                 1900.02|                 795.18|                    0.0|               4141.46|              336.9|         Jan-2015|             null|       null|       null|                  null|    0.0|                 0.0|             2|\n",
       "| 55452248|0061cd647ed984d65...|Interview Specialist|        10|      MORTGAGE|      null|      null|    null|   null|    D|       D2|           Verified|           null|      Individual|            null|                     null|     8900.0|       8900.0|            null|        16.55|             315.32|  Jul-2015| Fully Paid|debt_consolidation|                  8900.0|                1772.08|                    0.0|             10672.078|            5315.73|         Feb-2017|             null|       null|       null|                  null|    0.0|                 0.0|             0|\n",
       "| 51646280|0068aeffe996677c2...|             Partner|        10|      MORTGAGE|      null|      null|    null|   null|    D|       D1|       Not Verified|           null|      Individual|            null|                     null|    20000.0|      20000.0|            null|        15.61|              699.3|  Jun-2015| Fully Paid|  home_improvement|                 20000.0|                5157.27|                    0.0|             25157.271|             699.11|         Jun-2018|             null|       null|       null|                  null|    0.0|                 0.0|             2|\n",
       "| 49954749|00710707c563c2119...|               owner|         3|      MORTGAGE|      null|      null|    null|   null|    B|       B5|    Source Verified|           null|      Individual|            null|                     null|    15000.0|      15000.0|            null|        11.53|             494.86|  Jun-2015| Fully Paid|debt_consolidation|                 15000.0|                2595.47|                    0.0|             17595.467|            1857.95|         Oct-2017|             null|          1|        0.0|                     8|    0.0|                 0.0|             0|\n",
       "+---------+--------------------+--------------------+----------+--------------+----------+----------+--------+-------+-----+---------+-------------------+---------------+----------------+----------------+-------------------------+-----------+-------------+----------------+-------------+-------------------+----------+-----------+------------------+------------------------+-----------------------+-----------------------+----------------------+-------------------+-----------------+-----------------+-----------+-----------+----------------------+-------+--------------------+--------------+\n",
       "only showing top 20 rows"
      ]
     },
     "execution_count": 9,
     "metadata": {},
     "output_type": "execute_result"
    }
   ],
   "source": [
    "spark.sql(\"select * from itv016478_lending_clubb.customers_loan_v\")"
   ]
  },
  {
   "cell_type": "code",
   "execution_count": 10,
   "id": "4c6dbe35",
   "metadata": {},
   "outputs": [
    {
     "data": {
      "text/html": [
       "<table border='1'>\n",
       "<tr><th></th></tr>\n",
       "</table>\n"
      ],
      "text/plain": [
       "++\n",
       "||\n",
       "++\n",
       "++"
      ]
     },
     "execution_count": 10,
     "metadata": {},
     "output_type": "execute_result"
    }
   ],
   "source": [
    "spark.sql(\"use itv016478_lending_clubb\")"
   ]
  },
  {
   "cell_type": "code",
   "execution_count": 11,
   "id": "ca3481da",
   "metadata": {},
   "outputs": [
    {
     "name": "stdout",
     "output_type": "stream",
     "text": [
      "+-----------------------+---------------------+-----------+\n",
      "|database               |tableName            |isTemporary|\n",
      "+-----------------------+---------------------+-----------+\n",
      "|itv016478_lending_clubb|customers            |false      |\n",
      "|itv016478_lending_clubb|customers_loan_a     |false      |\n",
      "|itv016478_lending_clubb|customers_loan_l     |false      |\n",
      "|itv016478_lending_clubb|customers_loan_s     |false      |\n",
      "|itv016478_lending_clubb|customers_loan_t     |false      |\n",
      "|itv016478_lending_clubb|customers_loan_v     |false      |\n",
      "|itv016478_lending_clubb|customers_loan_vv    |false      |\n",
      "|itv016478_lending_clubb|customerstest        |false      |\n",
      "|itv016478_lending_clubb|loans                |false      |\n",
      "|itv016478_lending_clubb|loans_delinq         |false      |\n",
      "|itv016478_lending_clubb|loans_enq            |false      |\n",
      "|itv016478_lending_clubb|loans_enqq           |false      |\n",
      "|itv016478_lending_clubb|loans_enqqtest       |false      |\n",
      "|itv016478_lending_clubb|loans_new_delinq     |false      |\n",
      "|itv016478_lending_clubb|loans_new_enqq       |false      |\n",
      "|itv016478_lending_clubb|loans_new_enqq_final |false      |\n",
      "|itv016478_lending_clubb|loans_new_enqq_final1|false      |\n",
      "|itv016478_lending_clubb|loans_new_enqq_tt    |false      |\n",
      "|itv016478_lending_clubb|loans_repay          |false      |\n",
      "|itv016478_lending_clubb|loanstest            |false      |\n",
      "+-----------------------+---------------------+-----------+\n",
      "only showing top 20 rows\n",
      "\n"
     ]
    }
   ],
   "source": [
    "spark.sql(\"SHOW TABLES\").show(truncate=False)"
   ]
  },
  {
   "cell_type": "code",
   "execution_count": 12,
   "id": "f5bc31df",
   "metadata": {},
   "outputs": [
    {
     "data": {
      "text/html": [
       "<table border='1'>\n",
       "<tr><th>member_id</th><th>emp_title</th><th>emp_length</th><th>home_ownership</th><th>annual_inc</th><th>addr_state</th><th>zip_code</th><th>country</th><th>grade</th><th>sub_grade</th><th>verification_status</th><th>tot_hi_cred_lim</th><th>application_type</th><th>annual_inc_joint</th><th>verification_status_joint</th><th>ingest_date_timestamp</th></tr>\n",
       "<tr><td>42c0d86fde84607a0...</td><td>Store Manager</td><td>3</td><td>RENT</td><td>null</td><td>null</td><td>null</td><td>null</td><td>B</td><td>B3</td><td>Verified</td><td>null</td><td>Individual</td><td>null</td><td>null</td><td>null</td></tr>\n",
       "<tr><td>64181326110c859ed...</td><td>Vet tech</td><td>10</td><td>MORTGAGE</td><td>null</td><td>null</td><td>null</td><td>null</td><td>D</td><td>D4</td><td>Source Verified</td><td>null</td><td>Individual</td><td>null</td><td>null</td><td>null</td></tr>\n",
       "<tr><td>d39b9dd4bbfcdf3b9...</td><td>AMSA</td><td>5</td><td>RENT</td><td>null</td><td>null</td><td>null</td><td>null</td><td>D</td><td>D4</td><td>Verified</td><td>null</td><td>Individual</td><td>null</td><td>null</td><td>null</td></tr>\n",
       "<tr><td>fdf9ad3a88dc0970f...</td><td>Admin</td><td>7</td><td>MORTGAGE</td><td>null</td><td>null</td><td>null</td><td>null</td><td>C</td><td>C4</td><td>Verified</td><td>null</td><td>Individual</td><td>null</td><td>null</td><td>null</td></tr>\n",
       "<tr><td>a80d21bff6db10e40...</td><td>Associate V.P.</td><td>1</td><td>MORTGAGE</td><td>null</td><td>null</td><td>null</td><td>null</td><td>A</td><td>A1</td><td>Not Verified</td><td>null</td><td>Individual</td><td>null</td><td>null</td><td>null</td></tr>\n",
       "<tr><td>e475c71f8f6859eb5...</td><td>machinist</td><td>5</td><td>MORTGAGE</td><td>null</td><td>null</td><td>null</td><td>null</td><td>B</td><td>B2</td><td>Not Verified</td><td>null</td><td>Individual</td><td>null</td><td>null</td><td>null</td></tr>\n",
       "<tr><td>14f52f3fdc9ab7cf1...</td><td>Security Guard</td><td>1</td><td>MORTGAGE</td><td>null</td><td>null</td><td>null</td><td>null</td><td>C</td><td>C5</td><td>Verified</td><td>null</td><td>Individual</td><td>null</td><td>null</td><td>null</td></tr>\n",
       "<tr><td>219b462ac15250b23...</td><td>Systems Analyst</td><td>10</td><td>OWN</td><td>null</td><td>null</td><td>null</td><td>null</td><td>B</td><td>B4</td><td>Verified</td><td>null</td><td>Individual</td><td>null</td><td>null</td><td>null</td></tr>\n",
       "<tr><td>dbd9f7a2f51bf1f52...</td><td>Supervisor</td><td>8</td><td>MORTGAGE</td><td>null</td><td>null</td><td>null</td><td>null</td><td>B</td><td>B3</td><td>Source Verified</td><td>null</td><td>Individual</td><td>null</td><td>null</td><td>null</td></tr>\n",
       "<tr><td>0f5552e3a3960848b...</td><td>RN Senior Manager</td><td>2</td><td>MORTGAGE</td><td>null</td><td>null</td><td>null</td><td>null</td><td>B</td><td>B1</td><td>Not Verified</td><td>null</td><td>Individual</td><td>null</td><td>null</td><td>null</td></tr>\n",
       "<tr><td>dacc44adfb75005bb...</td><td>Senior Systems Ad...</td><td>3</td><td>MORTGAGE</td><td>null</td><td>null</td><td>null</td><td>null</td><td>B</td><td>B3</td><td>Source Verified</td><td>null</td><td>Individual</td><td>null</td><td>null</td><td>null</td></tr>\n",
       "<tr><td>f0acabc138fc6ff61...</td><td>Supply Chain Manager</td><td>1</td><td>RENT</td><td>null</td><td>null</td><td>null</td><td>null</td><td>B</td><td>B4</td><td>Source Verified</td><td>null</td><td>Individual</td><td>null</td><td>null</td><td>null</td></tr>\n",
       "<tr><td>dc3d5eb58cc2acb9e...</td><td>Vice Provost</td><td>3</td><td>MORTGAGE</td><td>null</td><td>null</td><td>null</td><td>null</td><td>A</td><td>A1</td><td>Source Verified</td><td>null</td><td>Individual</td><td>null</td><td>null</td><td>null</td></tr>\n",
       "<tr><td>4156065628f783a4d...</td><td>Driver</td><td>10</td><td>MORTGAGE</td><td>null</td><td>null</td><td>null</td><td>null</td><td>B</td><td>B4</td><td>Not Verified</td><td>null</td><td>Individual</td><td>null</td><td>null</td><td>null</td></tr>\n",
       "<tr><td>283432019ce747da4...</td><td>Shift Manager</td><td>10</td><td>MORTGAGE</td><td>null</td><td>null</td><td>null</td><td>null</td><td>C</td><td>C4</td><td>Source Verified</td><td>null</td><td>Individual</td><td>null</td><td>null</td><td>null</td></tr>\n",
       "<tr><td>350eb08c30d3d89b5...</td><td>President</td><td>10</td><td>RENT</td><td>null</td><td>null</td><td>null</td><td>null</td><td>D</td><td>D3</td><td>Source Verified</td><td>null</td><td>Individual</td><td>null</td><td>null</td><td>null</td></tr>\n",
       "<tr><td>f3652b4f575592ddf...</td><td>Electrician</td><td>9</td><td>OWN</td><td>null</td><td>null</td><td>null</td><td>null</td><td>D</td><td>D1</td><td>Source Verified</td><td>null</td><td>Individual</td><td>null</td><td>null</td><td>null</td></tr>\n",
       "<tr><td>3753580ef07e3b37b...</td><td>Visiting Nurse</td><td>5</td><td>MORTGAGE</td><td>null</td><td>null</td><td>null</td><td>null</td><td>D</td><td>D3</td><td>Source Verified</td><td>null</td><td>Individual</td><td>null</td><td>null</td><td>null</td></tr>\n",
       "<tr><td>6a9f6d97fe434e513...</td><td>Dealer</td><td>10</td><td>RENT</td><td>null</td><td>null</td><td>null</td><td>null</td><td>E</td><td>E1</td><td>Verified</td><td>null</td><td>Individual</td><td>null</td><td>null</td><td>null</td></tr>\n",
       "<tr><td>36888136415be034f...</td><td>Owner</td><td>9</td><td>MORTGAGE</td><td>null</td><td>null</td><td>null</td><td>null</td><td>B</td><td>B2</td><td>Not Verified</td><td>null</td><td>Individual</td><td>null</td><td>null</td><td>null</td></tr>\n",
       "</table>\n",
       "only showing top 20 rows\n"
      ],
      "text/plain": [
       "+--------------------+--------------------+----------+--------------+----------+----------+--------+-------+-----+---------+-------------------+---------------+----------------+----------------+-------------------------+---------------------+\n",
       "|           member_id|           emp_title|emp_length|home_ownership|annual_inc|addr_state|zip_code|country|grade|sub_grade|verification_status|tot_hi_cred_lim|application_type|annual_inc_joint|verification_status_joint|ingest_date_timestamp|\n",
       "+--------------------+--------------------+----------+--------------+----------+----------+--------+-------+-----+---------+-------------------+---------------+----------------+----------------+-------------------------+---------------------+\n",
       "|42c0d86fde84607a0...|       Store Manager|         3|          RENT|      null|      null|    null|   null|    B|       B3|           Verified|           null|      Individual|            null|                     null|                 null|\n",
       "|64181326110c859ed...|            Vet tech|        10|      MORTGAGE|      null|      null|    null|   null|    D|       D4|    Source Verified|           null|      Individual|            null|                     null|                 null|\n",
       "|d39b9dd4bbfcdf3b9...|                AMSA|         5|          RENT|      null|      null|    null|   null|    D|       D4|           Verified|           null|      Individual|            null|                     null|                 null|\n",
       "|fdf9ad3a88dc0970f...|               Admin|         7|      MORTGAGE|      null|      null|    null|   null|    C|       C4|           Verified|           null|      Individual|            null|                     null|                 null|\n",
       "|a80d21bff6db10e40...|      Associate V.P.|         1|      MORTGAGE|      null|      null|    null|   null|    A|       A1|       Not Verified|           null|      Individual|            null|                     null|                 null|\n",
       "|e475c71f8f6859eb5...|           machinist|         5|      MORTGAGE|      null|      null|    null|   null|    B|       B2|       Not Verified|           null|      Individual|            null|                     null|                 null|\n",
       "|14f52f3fdc9ab7cf1...|      Security Guard|         1|      MORTGAGE|      null|      null|    null|   null|    C|       C5|           Verified|           null|      Individual|            null|                     null|                 null|\n",
       "|219b462ac15250b23...|     Systems Analyst|        10|           OWN|      null|      null|    null|   null|    B|       B4|           Verified|           null|      Individual|            null|                     null|                 null|\n",
       "|dbd9f7a2f51bf1f52...|          Supervisor|         8|      MORTGAGE|      null|      null|    null|   null|    B|       B3|    Source Verified|           null|      Individual|            null|                     null|                 null|\n",
       "|0f5552e3a3960848b...|   RN Senior Manager|         2|      MORTGAGE|      null|      null|    null|   null|    B|       B1|       Not Verified|           null|      Individual|            null|                     null|                 null|\n",
       "|dacc44adfb75005bb...|Senior Systems Ad...|         3|      MORTGAGE|      null|      null|    null|   null|    B|       B3|    Source Verified|           null|      Individual|            null|                     null|                 null|\n",
       "|f0acabc138fc6ff61...|Supply Chain Manager|         1|          RENT|      null|      null|    null|   null|    B|       B4|    Source Verified|           null|      Individual|            null|                     null|                 null|\n",
       "|dc3d5eb58cc2acb9e...|        Vice Provost|         3|      MORTGAGE|      null|      null|    null|   null|    A|       A1|    Source Verified|           null|      Individual|            null|                     null|                 null|\n",
       "|4156065628f783a4d...|              Driver|        10|      MORTGAGE|      null|      null|    null|   null|    B|       B4|       Not Verified|           null|      Individual|            null|                     null|                 null|\n",
       "|283432019ce747da4...|       Shift Manager|        10|      MORTGAGE|      null|      null|    null|   null|    C|       C4|    Source Verified|           null|      Individual|            null|                     null|                 null|\n",
       "|350eb08c30d3d89b5...|           President|        10|          RENT|      null|      null|    null|   null|    D|       D3|    Source Verified|           null|      Individual|            null|                     null|                 null|\n",
       "|f3652b4f575592ddf...|         Electrician|         9|           OWN|      null|      null|    null|   null|    D|       D1|    Source Verified|           null|      Individual|            null|                     null|                 null|\n",
       "|3753580ef07e3b37b...|      Visiting Nurse|         5|      MORTGAGE|      null|      null|    null|   null|    D|       D3|    Source Verified|           null|      Individual|            null|                     null|                 null|\n",
       "|6a9f6d97fe434e513...|              Dealer|        10|          RENT|      null|      null|    null|   null|    E|       E1|           Verified|           null|      Individual|            null|                     null|                 null|\n",
       "|36888136415be034f...|               Owner|         9|      MORTGAGE|      null|      null|    null|   null|    B|       B2|       Not Verified|           null|      Individual|            null|                     null|                 null|\n",
       "+--------------------+--------------------+----------+--------------+----------+----------+--------+-------+-----+---------+-------------------+---------------+----------------+----------------+-------------------------+---------------------+\n",
       "only showing top 20 rows"
      ]
     },
     "execution_count": 12,
     "metadata": {},
     "output_type": "execute_result"
    }
   ],
   "source": [
    "spark.sql(\"select * from customers\")"
   ]
  },
  {
   "cell_type": "code",
   "execution_count": 13,
   "id": "c155f4d5",
   "metadata": {},
   "outputs": [
    {
     "data": {
      "text/html": [
       "<table border='1'>\n",
       "<tr><th>loan_id</th><th>total_principal_received</th><th>total_interest_received</th><th>total_late_fee_received</th><th>total_payment_received</th><th>last_payment_amount</th><th>last_payment_date</th><th>next_payment_date</th></tr>\n",
       "<tr><td>76003861</td><td>6423.8</td><td>5607.85</td><td>0.0</td><td>12031.65</td><td>574.88</td><td>Jan-2018</td><td>null</td></tr>\n",
       "<tr><td>76263914</td><td>2400.0</td><td>323.18</td><td>0.0</td><td>2723.1802</td><td>905.18</td><td>Dec-2017</td><td>null</td></tr>\n",
       "<tr><td>75537401</td><td>12600.0</td><td>1392.76</td><td>0.0</td><td>13992.757</td><td>3437.74</td><td>Aug-2018</td><td>null</td></tr>\n",
       "<tr><td>75038986</td><td>7805.03</td><td>7583.71</td><td>0.0</td><td>15388.74</td><td>440.72</td><td>Mar-2019</td><td>Apr-2019</td></tr>\n",
       "<tr><td>76301424</td><td>2614.78</td><td>1080.09</td><td>0.0</td><td>3694.87</td><td>153.89</td><td>Apr-2018</td><td>null</td></tr>\n",
       "<tr><td>75333198</td><td>8664.09</td><td>3431.32</td><td>68.8</td><td>12164.21</td><td>343.9</td><td>Mar-2019</td><td>Apr-2019</td></tr>\n",
       "<tr><td>76391453</td><td>35000.0</td><td>10266.01</td><td>0.0</td><td>45266.008</td><td>18884.35</td><td>Feb-2019</td><td>null</td></tr>\n",
       "<tr><td>76363364</td><td>15000.0</td><td>2093.11</td><td>0.0</td><td>17093.107</td><td>4648.59</td><td>Aug-2018</td><td>null</td></tr>\n",
       "<tr><td>76272510</td><td>14463.21</td><td>11178.79</td><td>110.13</td><td>25752.13</td><td>734.18</td><td>Mar-2019</td><td>Apr-2019</td></tr>\n",
       "<tr><td>76304116</td><td>4800.0</td><td>1051.65</td><td>0.0</td><td>5851.6523</td><td>1761.59</td><td>Dec-2017</td><td>null</td></tr>\n",
       "<tr><td>76422971</td><td>2222.99</td><td>1457.74</td><td>0.0</td><td>4357.37</td><td>369.25</td><td>Feb-2017</td><td>null</td></tr>\n",
       "<tr><td>75369187</td><td>17855.93</td><td>9340.74</td><td>0.0</td><td>27196.67</td><td>778.38</td><td>Mar-2019</td><td>Apr-2019</td></tr>\n",
       "<tr><td>76212079</td><td>6197.74</td><td>935.75</td><td>0.0</td><td>7133.49</td><td>204.0</td><td>Mar-2019</td><td>Apr-2019</td></tr>\n",
       "<tr><td>75104089</td><td>8500.0</td><td>1208.95</td><td>0.0</td><td>9708.954</td><td>213.62</td><td>Feb-2019</td><td>null</td></tr>\n",
       "<tr><td>75669444</td><td>14313.44</td><td>13782.05</td><td>0.0</td><td>28095.49</td><td>807.98</td><td>Feb-2019</td><td>Apr-2019</td></tr>\n",
       "<tr><td>76223382</td><td>1936.79</td><td>292.42</td><td>0.0</td><td>2229.21</td><td>63.75</td><td>Mar-2019</td><td>Apr-2019</td></tr>\n",
       "<tr><td>76223540</td><td>25000.0</td><td>3383.18</td><td>134.19</td><td>28517.375</td><td>5107.74</td><td>Apr-2017</td><td>null</td></tr>\n",
       "<tr><td>76255093</td><td>7000.0</td><td>1830.84</td><td>0.0</td><td>8830.839</td><td>435.99</td><td>Jan-2019</td><td>null</td></tr>\n",
       "<tr><td>76402196</td><td>7731.33</td><td>1787.84</td><td>0.0</td><td>9519.17</td><td>272.15</td><td>Mar-2019</td><td>Apr-2019</td></tr>\n",
       "<tr><td>76223437</td><td>24000.0</td><td>3186.22</td><td>0.0</td><td>27186.223</td><td>8110.44</td><td>Jun-2018</td><td>null</td></tr>\n",
       "</table>\n",
       "only showing top 20 rows\n"
      ],
      "text/plain": [
       "+--------+------------------------+-----------------------+-----------------------+----------------------+-------------------+-----------------+-----------------+\n",
       "| loan_id|total_principal_received|total_interest_received|total_late_fee_received|total_payment_received|last_payment_amount|last_payment_date|next_payment_date|\n",
       "+--------+------------------------+-----------------------+-----------------------+----------------------+-------------------+-----------------+-----------------+\n",
       "|76003861|                  6423.8|                5607.85|                    0.0|              12031.65|             574.88|         Jan-2018|             null|\n",
       "|76263914|                  2400.0|                 323.18|                    0.0|             2723.1802|             905.18|         Dec-2017|             null|\n",
       "|75537401|                 12600.0|                1392.76|                    0.0|             13992.757|            3437.74|         Aug-2018|             null|\n",
       "|75038986|                 7805.03|                7583.71|                    0.0|              15388.74|             440.72|         Mar-2019|         Apr-2019|\n",
       "|76301424|                 2614.78|                1080.09|                    0.0|               3694.87|             153.89|         Apr-2018|             null|\n",
       "|75333198|                 8664.09|                3431.32|                   68.8|              12164.21|              343.9|         Mar-2019|         Apr-2019|\n",
       "|76391453|                 35000.0|               10266.01|                    0.0|             45266.008|           18884.35|         Feb-2019|             null|\n",
       "|76363364|                 15000.0|                2093.11|                    0.0|             17093.107|            4648.59|         Aug-2018|             null|\n",
       "|76272510|                14463.21|               11178.79|                 110.13|              25752.13|             734.18|         Mar-2019|         Apr-2019|\n",
       "|76304116|                  4800.0|                1051.65|                    0.0|             5851.6523|            1761.59|         Dec-2017|             null|\n",
       "|76422971|                 2222.99|                1457.74|                    0.0|               4357.37|             369.25|         Feb-2017|             null|\n",
       "|75369187|                17855.93|                9340.74|                    0.0|              27196.67|             778.38|         Mar-2019|         Apr-2019|\n",
       "|76212079|                 6197.74|                 935.75|                    0.0|               7133.49|              204.0|         Mar-2019|         Apr-2019|\n",
       "|75104089|                  8500.0|                1208.95|                    0.0|              9708.954|             213.62|         Feb-2019|             null|\n",
       "|75669444|                14313.44|               13782.05|                    0.0|              28095.49|             807.98|         Feb-2019|         Apr-2019|\n",
       "|76223382|                 1936.79|                 292.42|                    0.0|               2229.21|              63.75|         Mar-2019|         Apr-2019|\n",
       "|76223540|                 25000.0|                3383.18|                 134.19|             28517.375|            5107.74|         Apr-2017|             null|\n",
       "|76255093|                  7000.0|                1830.84|                    0.0|              8830.839|             435.99|         Jan-2019|             null|\n",
       "|76402196|                 7731.33|                1787.84|                    0.0|               9519.17|             272.15|         Mar-2019|         Apr-2019|\n",
       "|76223437|                 24000.0|                3186.22|                    0.0|             27186.223|            8110.44|         Jun-2018|             null|\n",
       "+--------+------------------------+-----------------------+-----------------------+----------------------+-------------------+-----------------+-----------------+\n",
       "only showing top 20 rows"
      ]
     },
     "execution_count": 13,
     "metadata": {},
     "output_type": "execute_result"
    }
   ],
   "source": [
    "spark.sql(\"select * from itv016478_lending_clubb.loans_repay\")"
   ]
  },
  {
   "cell_type": "code",
   "execution_count": 14,
   "id": "d41447b0",
   "metadata": {},
   "outputs": [
    {
     "data": {
      "text/html": [
       "<table border='1'>\n",
       "<tr><th>member_id</th><th>delinq_2yrs</th><th>delinq_amnt</th><th>mths_since_last_delinq</th></tr>\n",
       "<tr><td>25b8cd9ff47e50eea...</td><td>0</td><td>0.0</td><td>51</td></tr>\n",
       "<tr><td>b22f99c198f3738a7...</td><td>0</td><td>0.0</td><td>72</td></tr>\n",
       "<tr><td>4b3b7068c15b0e046...</td><td>0</td><td>0.0</td><td>68</td></tr>\n",
       "<tr><td>9468bb9f4c7e39e72...</td><td>1</td><td>0.0</td><td>7</td></tr>\n",
       "<tr><td>a14a75a803373848c...</td><td>0</td><td>0.0</td><td>68</td></tr>\n",
       "<tr><td>c1573ce869bafcbe9...</td><td>0</td><td>0.0</td><td>30</td></tr>\n",
       "<tr><td>7a748acb9cb11d073...</td><td>0</td><td>0.0</td><td>40</td></tr>\n",
       "<tr><td>3029a35037c3d47f2...</td><td>0</td><td>0.0</td><td>59</td></tr>\n",
       "<tr><td>989b1622ddf441235...</td><td>0</td><td>0.0</td><td>75</td></tr>\n",
       "<tr><td>69d87d14c315f222d...</td><td>0</td><td>0.0</td><td>55</td></tr>\n",
       "<tr><td>ddfd80e7e343ac461...</td><td>0</td><td>0.0</td><td>27</td></tr>\n",
       "<tr><td>35fc5d3e40b795b6e...</td><td>1</td><td>0.0</td><td>16</td></tr>\n",
       "<tr><td>e712f2b8b7e5ae16e...</td><td>0</td><td>0.0</td><td>43</td></tr>\n",
       "<tr><td>b8804bb2042cc0b6a...</td><td>2</td><td>0.0</td><td>9</td></tr>\n",
       "<tr><td>1c82a86fd13ed0224...</td><td>1</td><td>0.0</td><td>10</td></tr>\n",
       "<tr><td>2a04914163408bc96...</td><td>0</td><td>0.0</td><td>33</td></tr>\n",
       "<tr><td>fde61de946580172a...</td><td>0</td><td>0.0</td><td>37</td></tr>\n",
       "<tr><td>7df102da102df8311...</td><td>1</td><td>4569.0</td><td>0</td></tr>\n",
       "<tr><td>aa67a9ce9197f8003...</td><td>0</td><td>0.0</td><td>28</td></tr>\n",
       "<tr><td>9a6c74c10110dcec0...</td><td>2</td><td>0.0</td><td>5</td></tr>\n",
       "</table>\n",
       "only showing top 20 rows\n"
      ],
      "text/plain": [
       "+--------------------+-----------+-----------+----------------------+\n",
       "|           member_id|delinq_2yrs|delinq_amnt|mths_since_last_delinq|\n",
       "+--------------------+-----------+-----------+----------------------+\n",
       "|25b8cd9ff47e50eea...|          0|        0.0|                    51|\n",
       "|b22f99c198f3738a7...|          0|        0.0|                    72|\n",
       "|4b3b7068c15b0e046...|          0|        0.0|                    68|\n",
       "|9468bb9f4c7e39e72...|          1|        0.0|                     7|\n",
       "|a14a75a803373848c...|          0|        0.0|                    68|\n",
       "|c1573ce869bafcbe9...|          0|        0.0|                    30|\n",
       "|7a748acb9cb11d073...|          0|        0.0|                    40|\n",
       "|3029a35037c3d47f2...|          0|        0.0|                    59|\n",
       "|989b1622ddf441235...|          0|        0.0|                    75|\n",
       "|69d87d14c315f222d...|          0|        0.0|                    55|\n",
       "|ddfd80e7e343ac461...|          0|        0.0|                    27|\n",
       "|35fc5d3e40b795b6e...|          1|        0.0|                    16|\n",
       "|e712f2b8b7e5ae16e...|          0|        0.0|                    43|\n",
       "|b8804bb2042cc0b6a...|          2|        0.0|                     9|\n",
       "|1c82a86fd13ed0224...|          1|        0.0|                    10|\n",
       "|2a04914163408bc96...|          0|        0.0|                    33|\n",
       "|fde61de946580172a...|          0|        0.0|                    37|\n",
       "|7df102da102df8311...|          1|     4569.0|                     0|\n",
       "|aa67a9ce9197f8003...|          0|        0.0|                    28|\n",
       "|9a6c74c10110dcec0...|          2|        0.0|                     5|\n",
       "+--------------------+-----------+-----------+----------------------+\n",
       "only showing top 20 rows"
      ]
     },
     "execution_count": 14,
     "metadata": {},
     "output_type": "execute_result"
    }
   ],
   "source": [
    "spark.sql(\"select * from itv016478_lending_clubb.loans_delinq\")"
   ]
  },
  {
   "cell_type": "code",
   "execution_count": 15,
   "id": "3ea4e33e",
   "metadata": {},
   "outputs": [
    {
     "data": {
      "text/html": [
       "<table border='1'>\n",
       "<tr><th>member_id</th><th>pub_rec</th><th>pub_rec_bankruptcies</th><th>inq_last_6mths</th></tr>\n",
       "<tr><td>d86a1c7244ace602c...</td><td>1.0</td><td>1.0</td><td>0</td></tr>\n",
       "<tr><td>25b8cd9ff47e50eea...</td><td>0.0</td><td>0.0</td><td>1</td></tr>\n",
       "<tr><td>f9773942305b2dc9c...</td><td>1.0</td><td>1.0</td><td>0</td></tr>\n",
       "<tr><td>b22f99c198f3738a7...</td><td>0.0</td><td>0.0</td><td>0</td></tr>\n",
       "<tr><td>4b3b7068c15b0e046...</td><td>0.0</td><td>0.0</td><td>4</td></tr>\n",
       "<tr><td>0c7a9f8a6d5b209d2...</td><td>1.0</td><td>1.0</td><td>0</td></tr>\n",
       "<tr><td>f1cc7e6ae9c735148...</td><td>0.0</td><td>0.0</td><td>0</td></tr>\n",
       "<tr><td>8f8faa7eeb2a1ee41...</td><td>0.0</td><td>0.0</td><td>0</td></tr>\n",
       "<tr><td>dad3f5ea8788186cb...</td><td>0.0</td><td>0.0</td><td>2</td></tr>\n",
       "<tr><td>a20867c0985126202...</td><td>0.0</td><td>0.0</td><td>2</td></tr>\n",
       "<tr><td>b62a92faa291b619c...</td><td>2.0</td><td>1.0</td><td>2</td></tr>\n",
       "<tr><td>9468bb9f4c7e39e72...</td><td>0.0</td><td>0.0</td><td>0</td></tr>\n",
       "<tr><td>56a52156bd14bef8b...</td><td>0.0</td><td>0.0</td><td>0</td></tr>\n",
       "<tr><td>9b2294c29096348d5...</td><td>0.0</td><td>0.0</td><td>0</td></tr>\n",
       "<tr><td>b9c65cbaf8241cbe8...</td><td>1.0</td><td>0.0</td><td>0</td></tr>\n",
       "<tr><td>a14a75a803373848c...</td><td>0.0</td><td>0.0</td><td>0</td></tr>\n",
       "<tr><td>c1573ce869bafcbe9...</td><td>0.0</td><td>0.0</td><td>0</td></tr>\n",
       "<tr><td>7a748acb9cb11d073...</td><td>0.0</td><td>0.0</td><td>0</td></tr>\n",
       "<tr><td>38edbe648d5b71710...</td><td>1.0</td><td>1.0</td><td>0</td></tr>\n",
       "<tr><td>dc68448ffbc44bb2b...</td><td>0.0</td><td>0.0</td><td>1</td></tr>\n",
       "</table>\n",
       "only showing top 20 rows\n"
      ],
      "text/plain": [
       "+--------------------+-------+--------------------+--------------+\n",
       "|           member_id|pub_rec|pub_rec_bankruptcies|inq_last_6mths|\n",
       "+--------------------+-------+--------------------+--------------+\n",
       "|d86a1c7244ace602c...|    1.0|                 1.0|             0|\n",
       "|25b8cd9ff47e50eea...|    0.0|                 0.0|             1|\n",
       "|f9773942305b2dc9c...|    1.0|                 1.0|             0|\n",
       "|b22f99c198f3738a7...|    0.0|                 0.0|             0|\n",
       "|4b3b7068c15b0e046...|    0.0|                 0.0|             4|\n",
       "|0c7a9f8a6d5b209d2...|    1.0|                 1.0|             0|\n",
       "|f1cc7e6ae9c735148...|    0.0|                 0.0|             0|\n",
       "|8f8faa7eeb2a1ee41...|    0.0|                 0.0|             0|\n",
       "|dad3f5ea8788186cb...|    0.0|                 0.0|             2|\n",
       "|a20867c0985126202...|    0.0|                 0.0|             2|\n",
       "|b62a92faa291b619c...|    2.0|                 1.0|             2|\n",
       "|9468bb9f4c7e39e72...|    0.0|                 0.0|             0|\n",
       "|56a52156bd14bef8b...|    0.0|                 0.0|             0|\n",
       "|9b2294c29096348d5...|    0.0|                 0.0|             0|\n",
       "|b9c65cbaf8241cbe8...|    1.0|                 0.0|             0|\n",
       "|a14a75a803373848c...|    0.0|                 0.0|             0|\n",
       "|c1573ce869bafcbe9...|    0.0|                 0.0|             0|\n",
       "|7a748acb9cb11d073...|    0.0|                 0.0|             0|\n",
       "|38edbe648d5b71710...|    1.0|                 1.0|             0|\n",
       "|dc68448ffbc44bb2b...|    0.0|                 0.0|             1|\n",
       "+--------------------+-------+--------------------+--------------+\n",
       "only showing top 20 rows"
      ]
     },
     "execution_count": 15,
     "metadata": {},
     "output_type": "execute_result"
    }
   ],
   "source": [
    "spark.sql(\"select * from itv016478_lending_clubb.loans_enqq\")"
   ]
  },
  {
   "cell_type": "code",
   "execution_count": null,
   "id": "de84d030",
   "metadata": {},
   "outputs": [],
   "source": []
  },
  {
   "cell_type": "code",
   "execution_count": 16,
   "id": "fb40642b",
   "metadata": {},
   "outputs": [
    {
     "name": "stdout",
     "output_type": "stream",
     "text": [
      "+---------+--------------------+--------------------+----------+--------------+----------+----------+--------+-------+-----+---------+-------------------+---------------+----------------+----------------+-------------------------+-----------+-------------+----------------+-------------+-------------------+----------+-----------+------------------+------------------------+-----------------------+-----------------------+----------------------+-------------------+-----------------+-----------------+-----------+-----------+----------------------+-------+--------------------+--------------+\n",
      "|  loan_id|           member_id|           emp_title|emp_length|home_ownership|annual_inc|addr_state|zip_code|country|grade|sub_grade|verification_status|tot_hi_cred_lim|application_type|annual_inc_joint|verification_status_joint|loan_amount|funded_amount|loan_term_months|interest_rate|monthly_installment|issue_date|loan_status|      loan_purpose|total_principal_received|total_interest_received|total_late_fee_received|total_payment_received|last_payment_amount|last_payment_date|next_payment_date|delinq_2yrs|delinq_amnt|mths_since_last_delinq|pub_rec|pub_rec_bankruptcies|inq_last_6mths|\n",
      "+---------+--------------------+--------------------+----------+--------------+----------+----------+--------+-------+-----+---------+-------------------+---------------+----------------+----------------+-------------------------+-----------+-------------+----------------+-------------+-------------------+----------+-----------+------------------+------------------------+-----------------------+-----------------------+----------------------+-------------------+-----------------+-----------------+-----------+-----------+----------------------+-------+--------------------+--------------+\n",
      "| 71175798|000c8875b71a6b47c...|Director of Gvt O...|         1|      MORTGAGE|      null|      null|    null|   null|    A|       A4|       Not Verified|           null|      Individual|            null|                     null|     3000.0|       3000.0|            null|         7.39|              93.17|  Feb-2016| Fully Paid|debt_consolidation|                  3000.0|                 114.47|                    0.0|               3114.47|            2647.45|         Aug-2016|             null|          1|        0.0|                    13|    0.0|                 0.0|             0|\n",
      "|139313300|000fc98fc1ca5faa3...|               coord|        10|      MORTGAGE|      null|      null|    null|   null|    A|       A3|       Not Verified|           null|       Joint App|            null|                     null|    20000.0|      20000.0|            null|         7.21|             619.47|  Aug-2018|    Current|       credit_card|                 3558.76|                 769.52|                    0.0|               4328.28|             619.47|         Mar-2019|         Apr-2019|       null|       null|                  null|    0.0|                 0.0|             0|\n",
      "|143195702|0012728d9f616bdf2...|                null|         6|           OWN|      null|      null|    null|   null|    A|       A5|       Not Verified|           null|      Individual|            null|                     null|     9000.0|       9000.0|            null|         8.46|             283.95|  Dec-2018|    Current|debt_consolidation|                  666.17|                 181.45|                    0.0|                847.62|             283.95|         Mar-2019|         Apr-2019|          0|        0.0|                    24|    0.0|                 0.0|             0|\n",
      "|  2284564|00151ece27c7ca280...|Northglenn Police...|         8|          RENT|      null|      null|    null|   null|    C|       C1|       Not Verified|           null|      Individual|            null|                     null|    12800.0|      12800.0|            null|        14.33|             439.53|  Nov-2012| Fully Paid|debt_consolidation|                 12800.0|                2192.68|                    0.0|             14992.676|            7529.95|         Jun-2014|             null|          0|        0.0|                    29|    0.0|                 0.0|             1|\n",
      "|  3845340|002800d49886390d2...|           RehabCare|         2|          RENT|      null|      null|    null|   null|    D|       D3|       Not Verified|           null|      Individual|            null|                     null|    15000.0|      15000.0|            null|        18.75|             547.95|  Mar-2013|Charged Off|debt_consolidation|                12856.06|                4702.54|                    0.0|              17835.81|             547.95|         Dec-2015|             null|       null|       null|                  null|    0.0|                 0.0|             0|\n",
      "|   360493|003715c2aec34dd43...|Apex Technologies...|         1|      MORTGAGE|      null|      null|    null|   null|    C|       C3|       Not Verified|           null|      Individual|            null|                     null|    12000.0|      12000.0|            null|        12.41|             400.93|  Oct-2008| Fully Paid|debt_consolidation|                 12000.0|                 208.02|                    0.0|              12208.02|               1.07|         Apr-2009|             null|       null|       null|                  null|    0.0|                 0.0|             2|\n",
      "| 95004059|003769d7f54c7859e...|             Trainer|        10|      MORTGAGE|      null|      null|    null|   null|    E|       E1|           Verified|           null|      Individual|            null|                     null|    10000.0|      10000.0|            null|        22.74|             280.42|  Dec-2016|Charged Off|           medical|                   90.92|                 176.87|                    0.0|               1492.05|             280.42|         Jan-2017|             null|          1|        0.0|                    20|    0.0|                 0.0|             0|\n",
      "|142641777|0037bb910c0a758f5...|    Network Engineer|         2|          RENT|      null|      null|    null|   null|    C|       C3|    Source Verified|           null|      Individual|            null|                     null|     2000.0|       2000.0|            null|        15.02|              69.36|  Oct-2018|    Current|             other|                  227.25|                 116.21|                    0.0|                343.46|              69.36|         Mar-2019|         Apr-2019|          0|        0.0|                    66|    0.0|                 0.0|             0|\n",
      "| 91518424|003d7bee408492f11...|    Flight Attendant|        10|          RENT|      null|      null|    null|   null|    A|       A5|       Not Verified|           null|      Individual|            null|                     null|    10000.0|      10000.0|            null|         7.99|             313.32|  Oct-2016|    Current|             other|                 7864.12|                1213.28|                    0.0|                9077.4|             313.32|         Mar-2019|         Apr-2019|       null|       null|                  null|    0.0|                 0.0|             0|\n",
      "|116883875|003e1e6cbd2920bbb...|Operations Superv...|         9|      MORTGAGE|      null|      null|    null|   null|    A|       A5|    Source Verified|           null|      Individual|            null|                     null|    10000.0|      10000.0|            null|         7.97|             313.23|  Aug-2017|    Current|debt_consolidation|                 4980.61|                 970.21|                    0.0|               5950.82|             313.23|         Mar-2019|         Apr-2019|          1|        0.0|                    23|    1.0|                 1.0|             0|\n",
      "| 10616863|004017b21bd4d6271...|Regional Rehab Di...|         9|      MORTGAGE|      null|      null|    null|   null|    C|       C1|       Not Verified|           null|      Individual|            null|                     null|     3000.0|       3000.0|            null|        13.98|             102.51|  Jan-2014| Fully Paid|debt_consolidation|                  3000.0|                 685.71|                   15.0|             3700.7124|              43.24|         Dec-2016|             null|          6|        0.0|                     9|    0.0|                 0.0|             0|\n",
      "| 58882363|004dbe6698f1482be...|     Project Manager|         3|      MORTGAGE|      null|      null|    null|   null|    D|       D4|           Verified|           null|      Individual|            null|                     null|    35000.0|      35000.0|            null|        17.57|             1257.8|  Sep-2015| Fully Paid|       credit_card|                 35000.0|               10246.49|                    0.0|             45246.492|            1257.65|         Sep-2018|             null|       null|       null|                  null|    0.0|                 0.0|             2|\n",
      "| 27681731|004f73beb41d739e1...|Staff Research As...|         6|          RENT|      null|      null|    null|   null|    C|       C4|    Source Verified|           null|      Individual|            null|                     null|    15775.0|      15775.0|            null|        14.49|             371.08|  Sep-2014|    Current|debt_consolidation|                13639.96|                6398.36|                    0.0|              20038.32|             371.08|         Mar-2019|         Apr-2019|       null|       null|                  null|    0.0|                 0.0|             0|\n",
      "| 35236401|0059ce602b84a1bdd...|correctional officer|        10|      MORTGAGE|      null|      null|    null|   null|    D|       D4|           Verified|           null|      Individual|            null|                     null|    31450.0|      31450.0|            null|        17.14|            1123.48|  Dec-2014| Fully Paid|debt_consolidation|                 31450.0|                8693.53|                    0.0|             40143.527|              505.1|         Dec-2017|             null|       null|       null|                  null|    0.0|                 0.0|             1|\n",
      "| 83648322|005b4c3db3fce07dc...|      office manager|         9|      MORTGAGE|      null|      null|    null|   null|    B|       B5|    Source Verified|           null|      Individual|            null|                     null|     6000.0|       6000.0|            null|        11.49|             197.83|  Jun-2016|    Current|       credit_card|                  5417.8|                1102.93|                    0.0|               6520.73|             197.83|         Mar-2019|         Apr-2019|          1|        0.0|                    18|    1.0|                 0.0|             1|\n",
      "| 60615493|005d5e3c98a159671...|    Staff Accountant|         5|          RENT|      null|      null|    null|   null|    C|       C5|    Source Verified|           null|      Individual|            null|                     null|     9000.0|       9000.0|            null|        14.65|             310.45|  Sep-2015| Fully Paid|       credit_card|                  9000.0|                 440.68|                    0.0|               9440.68|            8516.65|         Jan-2016|             null|       null|       null|                  null|    0.0|                 0.0|             0|\n",
      "| 15650801|005daa54678e6fdfe...|     Account Manager|         1|      MORTGAGE|      null|      null|    null|   null|    B|       B5|       Not Verified|           null|      Individual|            null|                     null|    10000.0|      10000.0|            null|        12.99|              336.9|  May-2014|Charged Off|debt_consolidation|                 1900.02|                 795.18|                    0.0|               4141.46|              336.9|         Jan-2015|             null|       null|       null|                  null|    0.0|                 0.0|             2|\n",
      "| 55452248|0061cd647ed984d65...|Interview Specialist|        10|      MORTGAGE|      null|      null|    null|   null|    D|       D2|           Verified|           null|      Individual|            null|                     null|     8900.0|       8900.0|            null|        16.55|             315.32|  Jul-2015| Fully Paid|debt_consolidation|                  8900.0|                1772.08|                    0.0|             10672.078|            5315.73|         Feb-2017|             null|       null|       null|                  null|    0.0|                 0.0|             0|\n",
      "| 51646280|0068aeffe996677c2...|             Partner|        10|      MORTGAGE|      null|      null|    null|   null|    D|       D1|       Not Verified|           null|      Individual|            null|                     null|    20000.0|      20000.0|            null|        15.61|              699.3|  Jun-2015| Fully Paid|  home_improvement|                 20000.0|                5157.27|                    0.0|             25157.271|             699.11|         Jun-2018|             null|       null|       null|                  null|    0.0|                 0.0|             2|\n",
      "| 49954749|00710707c563c2119...|               owner|         3|      MORTGAGE|      null|      null|    null|   null|    B|       B5|    Source Verified|           null|      Individual|            null|                     null|    15000.0|      15000.0|            null|        11.53|             494.86|  Jun-2015| Fully Paid|debt_consolidation|                 15000.0|                2595.47|                    0.0|             17595.467|            1857.95|         Oct-2017|             null|          1|        0.0|                     8|    0.0|                 0.0|             0|\n",
      "+---------+--------------------+--------------------+----------+--------------+----------+----------+--------+-------+-----+---------+-------------------+---------------+----------------+----------------+-------------------------+-----------+-------------+----------------+-------------+-------------------+----------+-----------+------------------+------------------------+-----------------------+-----------------------+----------------------+-------------------+-----------------+-----------------+-----------+-----------+----------------------+-------+--------------------+--------------+\n",
      "only showing top 20 rows\n",
      "\n"
     ]
    }
   ],
   "source": [
    "spark.sql(\"select * from itv016478_lending_clubb.customers_loan_v\").show()"
   ]
  },
  {
   "cell_type": "code",
   "execution_count": 17,
   "id": "522e70c3",
   "metadata": {},
   "outputs": [
    {
     "ename": "AnalysisException",
     "evalue": "Table itv016478_lending_clubb.customers_loan_a already exists. You need to drop it first.",
     "output_type": "error",
     "traceback": [
      "\u001b[0;31m---------------------------------------------------------------------------\u001b[0m",
      "\u001b[0;31mAnalysisException\u001b[0m                         Traceback (most recent call last)",
      "\u001b[0;32m<ipython-input-17-c17c4782cb97>\u001b[0m in \u001b[0;36m<module>\u001b[0;34m\u001b[0m\n\u001b[1;32m     45\u001b[0m \u001b[0mLEFT\u001b[0m \u001b[0mJOIN\u001b[0m \u001b[0mitv016478_lending_clubb\u001b[0m\u001b[0;34m.\u001b[0m\u001b[0mloans_delinq\u001b[0m \u001b[0md\u001b[0m \u001b[0mON\u001b[0m \u001b[0mc\u001b[0m\u001b[0;34m.\u001b[0m\u001b[0mmember_id\u001b[0m \u001b[0;34m=\u001b[0m \u001b[0md\u001b[0m\u001b[0;34m.\u001b[0m\u001b[0mmember_id\u001b[0m\u001b[0;34m\u001b[0m\u001b[0;34m\u001b[0m\u001b[0m\n\u001b[1;32m     46\u001b[0m \u001b[0mLEFT\u001b[0m \u001b[0mJOIN\u001b[0m \u001b[0mitv016478_lending_clubb\u001b[0m\u001b[0;34m.\u001b[0m\u001b[0mloans_enqq\u001b[0m \u001b[0me\u001b[0m \u001b[0mON\u001b[0m \u001b[0mc\u001b[0m\u001b[0;34m.\u001b[0m\u001b[0mmember_id\u001b[0m \u001b[0;34m=\u001b[0m \u001b[0me\u001b[0m\u001b[0;34m.\u001b[0m\u001b[0mmember_id\u001b[0m\u001b[0;34m\u001b[0m\u001b[0;34m\u001b[0m\u001b[0m\n\u001b[0;32m---> 47\u001b[0;31m \"\"\")\n\u001b[0m",
      "\u001b[0;32m/opt/spark-3.1.2-bin-hadoop3.2/python/pyspark/sql/session.py\u001b[0m in \u001b[0;36msql\u001b[0;34m(self, sqlQuery)\u001b[0m\n\u001b[1;32m    721\u001b[0m         \u001b[0;34m[\u001b[0m\u001b[0mRow\u001b[0m\u001b[0;34m(\u001b[0m\u001b[0mf1\u001b[0m\u001b[0;34m=\u001b[0m\u001b[0;36m1\u001b[0m\u001b[0;34m,\u001b[0m \u001b[0mf2\u001b[0m\u001b[0;34m=\u001b[0m\u001b[0;34m'row1'\u001b[0m\u001b[0;34m)\u001b[0m\u001b[0;34m,\u001b[0m \u001b[0mRow\u001b[0m\u001b[0;34m(\u001b[0m\u001b[0mf1\u001b[0m\u001b[0;34m=\u001b[0m\u001b[0;36m2\u001b[0m\u001b[0;34m,\u001b[0m \u001b[0mf2\u001b[0m\u001b[0;34m=\u001b[0m\u001b[0;34m'row2'\u001b[0m\u001b[0;34m)\u001b[0m\u001b[0;34m,\u001b[0m \u001b[0mRow\u001b[0m\u001b[0;34m(\u001b[0m\u001b[0mf1\u001b[0m\u001b[0;34m=\u001b[0m\u001b[0;36m3\u001b[0m\u001b[0;34m,\u001b[0m \u001b[0mf2\u001b[0m\u001b[0;34m=\u001b[0m\u001b[0;34m'row3'\u001b[0m\u001b[0;34m)\u001b[0m\u001b[0;34m]\u001b[0m\u001b[0;34m\u001b[0m\u001b[0;34m\u001b[0m\u001b[0m\n\u001b[1;32m    722\u001b[0m         \"\"\"\n\u001b[0;32m--> 723\u001b[0;31m         \u001b[0;32mreturn\u001b[0m \u001b[0mDataFrame\u001b[0m\u001b[0;34m(\u001b[0m\u001b[0mself\u001b[0m\u001b[0;34m.\u001b[0m\u001b[0m_jsparkSession\u001b[0m\u001b[0;34m.\u001b[0m\u001b[0msql\u001b[0m\u001b[0;34m(\u001b[0m\u001b[0msqlQuery\u001b[0m\u001b[0;34m)\u001b[0m\u001b[0;34m,\u001b[0m \u001b[0mself\u001b[0m\u001b[0;34m.\u001b[0m\u001b[0m_wrapped\u001b[0m\u001b[0;34m)\u001b[0m\u001b[0;34m\u001b[0m\u001b[0;34m\u001b[0m\u001b[0m\n\u001b[0m\u001b[1;32m    724\u001b[0m \u001b[0;34m\u001b[0m\u001b[0m\n\u001b[1;32m    725\u001b[0m     \u001b[0;32mdef\u001b[0m \u001b[0mtable\u001b[0m\u001b[0;34m(\u001b[0m\u001b[0mself\u001b[0m\u001b[0;34m,\u001b[0m \u001b[0mtableName\u001b[0m\u001b[0;34m)\u001b[0m\u001b[0;34m:\u001b[0m\u001b[0;34m\u001b[0m\u001b[0;34m\u001b[0m\u001b[0m\n",
      "\u001b[0;32m/opt/spark-3.1.2-bin-hadoop3.2/python/lib/py4j-0.10.9-src.zip/py4j/java_gateway.py\u001b[0m in \u001b[0;36m__call__\u001b[0;34m(self, *args)\u001b[0m\n\u001b[1;32m   1303\u001b[0m         \u001b[0manswer\u001b[0m \u001b[0;34m=\u001b[0m \u001b[0mself\u001b[0m\u001b[0;34m.\u001b[0m\u001b[0mgateway_client\u001b[0m\u001b[0;34m.\u001b[0m\u001b[0msend_command\u001b[0m\u001b[0;34m(\u001b[0m\u001b[0mcommand\u001b[0m\u001b[0;34m)\u001b[0m\u001b[0;34m\u001b[0m\u001b[0;34m\u001b[0m\u001b[0m\n\u001b[1;32m   1304\u001b[0m         return_value = get_return_value(\n\u001b[0;32m-> 1305\u001b[0;31m             answer, self.gateway_client, self.target_id, self.name)\n\u001b[0m\u001b[1;32m   1306\u001b[0m \u001b[0;34m\u001b[0m\u001b[0m\n\u001b[1;32m   1307\u001b[0m         \u001b[0;32mfor\u001b[0m \u001b[0mtemp_arg\u001b[0m \u001b[0;32min\u001b[0m \u001b[0mtemp_args\u001b[0m\u001b[0;34m:\u001b[0m\u001b[0;34m\u001b[0m\u001b[0;34m\u001b[0m\u001b[0m\n",
      "\u001b[0;32m/opt/spark-3.1.2-bin-hadoop3.2/python/pyspark/sql/utils.py\u001b[0m in \u001b[0;36mdeco\u001b[0;34m(*a, **kw)\u001b[0m\n\u001b[1;32m    115\u001b[0m                 \u001b[0;31m# Hide where the exception came from that shows a non-Pythonic\u001b[0m\u001b[0;34m\u001b[0m\u001b[0;34m\u001b[0m\u001b[0;34m\u001b[0m\u001b[0m\n\u001b[1;32m    116\u001b[0m                 \u001b[0;31m# JVM exception message.\u001b[0m\u001b[0;34m\u001b[0m\u001b[0;34m\u001b[0m\u001b[0;34m\u001b[0m\u001b[0m\n\u001b[0;32m--> 117\u001b[0;31m                 \u001b[0;32mraise\u001b[0m \u001b[0mconverted\u001b[0m \u001b[0;32mfrom\u001b[0m \u001b[0;32mNone\u001b[0m\u001b[0;34m\u001b[0m\u001b[0;34m\u001b[0m\u001b[0m\n\u001b[0m\u001b[1;32m    118\u001b[0m             \u001b[0;32melse\u001b[0m\u001b[0;34m:\u001b[0m\u001b[0;34m\u001b[0m\u001b[0;34m\u001b[0m\u001b[0m\n\u001b[1;32m    119\u001b[0m                 \u001b[0;32mraise\u001b[0m\u001b[0;34m\u001b[0m\u001b[0;34m\u001b[0m\u001b[0m\n",
      "\u001b[0;31mAnalysisException\u001b[0m: Table itv016478_lending_clubb.customers_loan_a already exists. You need to drop it first."
     ]
    }
   ],
   "source": [
    "#quick access with little older data in table form (max 7 days old)\n",
    "spark.sql(\"\"\"CREATE TABLE itv016478_lending_clubb.customers_loan_a\n",
    "USING PARQUET\n",
    "AS SELECT\n",
    "    l.loan_id,\n",
    "    c.member_id,\n",
    "    c.emp_title,\n",
    "    c.emp_length,\n",
    "    c.home_ownership,\n",
    "    c.annual_inc,\n",
    "    c.addr_state,\n",
    "    c.zip_code,\n",
    "    c.country,\n",
    "    c.grade,\n",
    "    c.sub_grade,\n",
    "    c.verification_status,\n",
    "    c.tot_hi_cred_lim,\n",
    "    c.application_type,\n",
    "    c.annual_inc_joint,\n",
    "    c.verification_status_joint,\n",
    "    l.loan_amount,\n",
    "    l.funded_amount,\n",
    "    l.loan_term_months,\n",
    "    l.interest_rate,\n",
    "    l.monthly_installment,\n",
    "    l.issue_date,\n",
    "    l.loan_status,\n",
    "    l.loan_purpose,\n",
    "    r.total_principal_received,\n",
    "    r.total_interest_received,\n",
    "    r.total_late_fee_received,\n",
    "    r.total_payment_received,\n",
    "    r.last_payment_amount,\n",
    "    r.last_payment_date,\n",
    "    r.next_payment_date,\n",
    "    d.delinq_2yrs,\n",
    "    d.delinq_amnt,\n",
    "    d.mths_since_last_delinq,\n",
    "    e.pub_rec,\n",
    "    e.pub_rec_bankruptcies,\n",
    "    e.inq_last_6mths\n",
    "FROM itv016478_lending_clubb.customers c\n",
    "LEFT JOIN itv016478_lending_clubb.loans l ON c.member_id = l.member_id\n",
    "LEFT JOIN itv016478_lending_clubb.loans_repay r ON l.loan_id = r.loan_id\n",
    "LEFT JOIN itv016478_lending_clubb.loans_delinq d ON c.member_id = d.member_id\n",
    "LEFT JOIN itv016478_lending_clubb.loans_enqq e ON c.member_id = e.member_id\n",
    "\"\"\")\n"
   ]
  },
  {
   "cell_type": "code",
   "execution_count": 18,
   "id": "9949be6f",
   "metadata": {},
   "outputs": [],
   "source": [
    "#spark.sql(\"\"\"\n",
    "#CREATE Table itv016478_lending_clubb.customers_loan_s as SELECT\n",
    "#l.loan_id, c.member_id, c.emp_title ,c.emp_length, c.home_ownership ,c.annual_inc, c.addr_state, c.zip_code, c.country, c.grade, c.sub_grade, c.verification_status, c.tot_hi_cred_lim, c.application_type, c.annual_inc_joint, c.verification_status_joint,\n",
    "#l.loan_amount, l.funded_amount, l.loan_term_months, l.interest_rate,l.monthly_installment, l.issue_date, l.loan_status, l.loan_purpose, \n",
    "#r.total_principal_received, r.total_interest_received, r.total_late_fee_received, r.total_payment_received, r.last_payment_amount, r.last_payment_date, r.next_payment_date,\n",
    "#d.delinq_2yrs ,d.delinq_amnt , d.mths_since_last_delinq ,\n",
    "#e.pub_rec, e.pub_rec_bankruptcies, e.inq_last_6mths\n",
    "\n",
    "#FROM itv016478_lending_clubb.customers c\n",
    "#LEFT JOIN itv016478_lending_clubb.loans l ON c.member_id = l.member_id\n",
    "#LEFT JOIN itv016478_lending_clubb.loans_repay r ON l.loan_id = r.loan_id\n",
    "#LEFT JOIN itv016478_lending_clubb.loans_delinq d ON c.member_id = d.member_id\n",
    "#LEFT JOIN itv016478_lending_clubb.loans_enq e ON c.member_id = e.member_id\n",
    "#\"\"\")"
   ]
  },
  {
   "cell_type": "code",
   "execution_count": 19,
   "id": "3e2eb1c0",
   "metadata": {},
   "outputs": [
    {
     "data": {
      "text/html": [
       "<table border='1'>\n",
       "<tr><th>loan_id</th><th>member_id</th><th>emp_title</th><th>emp_length</th><th>home_ownership</th><th>annual_inc</th><th>addr_state</th><th>zip_code</th><th>country</th><th>grade</th><th>sub_grade</th><th>verification_status</th><th>tot_hi_cred_lim</th><th>application_type</th><th>annual_inc_joint</th><th>verification_status_joint</th><th>loan_amount</th><th>funded_amount</th><th>loan_term_months</th><th>interest_rate</th><th>monthly_installment</th><th>issue_date</th><th>loan_status</th><th>loan_purpose</th><th>total_principal_received</th><th>total_interest_received</th><th>total_late_fee_received</th><th>total_payment_received</th><th>last_payment_amount</th><th>last_payment_date</th><th>next_payment_date</th><th>delinq_2yrs</th><th>delinq_amnt</th><th>mths_since_last_delinq</th><th>pub_rec</th><th>pub_rec_bankruptcies</th><th>inq_last_6mths</th></tr>\n",
       "<tr><td>93802960</td><td>0009423060a3ddbfc...</td><td>Supervisor</td><td>10</td><td>MORTGAGE</td><td>null</td><td>null</td><td>null</td><td>null</td><td>D</td><td>D3</td><td>Verified</td><td>null</td><td>Individual</td><td>null</td><td>null</td><td>null</td><td>null</td><td>null</td><td>null</td><td>null</td><td>null</td><td>Fully Paid</td><td>null</td><td>20525.0</td><td>4381.46</td><td>0.0</td><td>24906.463</td><td>13644.06</td><td>Apr-2018</td><td>null</td><td>0</td><td>0.0</td><td>30</td><td>0.0</td><td>0.0</td><td>2</td></tr>\n",
       "<tr><td>58752276</td><td>000b587ab90fc77bf...</td><td>Medical Transcrip...</td><td>8</td><td>MORTGAGE</td><td>null</td><td>null</td><td>null</td><td>null</td><td>F</td><td>F5</td><td>Verified</td><td>null</td><td>Individual</td><td>null</td><td>null</td><td>null</td><td>null</td><td>null</td><td>null</td><td>null</td><td>null</td><td>Charged Off</td><td>null</td><td>2575.56</td><td>5143.68</td><td>0.0</td><td>9306.77</td><td>455.36</td><td>Feb-2017</td><td>null</td><td>0</td><td>0.0</td><td>66</td><td>3.0</td><td>1.0</td><td>2</td></tr>\n",
       "<tr><td>60275689</td><td>00109c0225db1912f...</td><td>Assistant Superin...</td><td>10</td><td>OWN</td><td>null</td><td>null</td><td>null</td><td>null</td><td>B</td><td>B1</td><td>Source Verified</td><td>null</td><td>Individual</td><td>null</td><td>null</td><td>null</td><td>null</td><td>null</td><td>null</td><td>null</td><td>null</td><td>Current</td><td>null</td><td>9842.52</td><td>2972.33</td><td>0.0</td><td>12814.85</td><td>305.44</td><td>Mar-2019</td><td>Apr-2019</td><td>9</td><td>0.0</td><td>15</td><td>0.0</td><td>0.0</td><td>1</td></tr>\n",
       "<tr><td>103861199</td><td>0011d8e5fab8e99ce...</td><td>CBP Officer</td><td>5</td><td>RENT</td><td>null</td><td>null</td><td>null</td><td>null</td><td>C</td><td>C4</td><td>Verified</td><td>null</td><td>Individual</td><td>null</td><td>null</td><td>null</td><td>null</td><td>null</td><td>null</td><td>null</td><td>null</td><td>Fully Paid</td><td>null</td><td>3000.0</td><td>435.82</td><td>0.0</td><td>3435.8242</td><td>2192.94</td><td>May-2018</td><td>null</td><td>null</td><td>null</td><td>null</td><td>0.0</td><td>0.0</td><td>0</td></tr>\n",
       "<tr><td>104954334</td><td>0013a384974fdd540...</td><td>Sales</td><td>1</td><td>OWN</td><td>null</td><td>null</td><td>null</td><td>null</td><td>A</td><td>A3</td><td>Not Verified</td><td>null</td><td>Individual</td><td>null</td><td>null</td><td>null</td><td>null</td><td>null</td><td>null</td><td>null</td><td>null</td><td>Current</td><td>null</td><td>7855.3</td><td>1262.27</td><td>0.0</td><td>9117.57</td><td>396.64</td><td>Mar-2019</td><td>Apr-2019</td><td>4</td><td>0.0</td><td>5</td><td>0.0</td><td>0.0</td><td>0</td></tr>\n",
       "<tr><td>88976275</td><td>0014532e28e53c904...</td><td>front desk Agent</td><td>6</td><td>RENT</td><td>null</td><td>null</td><td>null</td><td>null</td><td>C</td><td>C4</td><td>Source Verified</td><td>null</td><td>Individual</td><td>null</td><td>null</td><td>null</td><td>null</td><td>null</td><td>null</td><td>null</td><td>null</td><td>Current</td><td>null</td><td>4010.13</td><td>1144.52</td><td>0.0</td><td>5154.65</td><td>172.09</td><td>Mar-2019</td><td>Apr-2019</td><td>null</td><td>null</td><td>null</td><td>0.0</td><td>0.0</td><td>0</td></tr>\n",
       "<tr><td>135752464</td><td>0017d3c6ad0327c9e...</td><td>Staffing Coordinator</td><td>10</td><td>OWN</td><td>null</td><td>null</td><td>null</td><td>null</td><td>C</td><td>C5</td><td>Source Verified</td><td>null</td><td>Individual</td><td>null</td><td>null</td><td>null</td><td>null</td><td>null</td><td>null</td><td>null</td><td>null</td><td>Current</td><td>null</td><td>2475.63</td><td>2808.1</td><td>0.0</td><td>5283.73</td><td>589.52</td><td>Mar-2019</td><td>Apr-2019</td><td>0</td><td>0.0</td><td>73</td><td>0.0</td><td>0.0</td><td>2</td></tr>\n",
       "<tr><td>65825167</td><td>001c3b346d130a15a...</td><td>Chief Operating O...</td><td>5</td><td>RENT</td><td>null</td><td>null</td><td>null</td><td>null</td><td>A</td><td>A1</td><td>Verified</td><td>null</td><td>Individual</td><td>null</td><td>null</td><td>null</td><td>null</td><td>null</td><td>null</td><td>null</td><td>null</td><td>Fully Paid</td><td>null</td><td>18000.0</td><td>1501.07</td><td>0.0</td><td>19501.066</td><td>541.92</td><td>Nov-2018</td><td>null</td><td>null</td><td>null</td><td>null</td><td>0.0</td><td>0.0</td><td>1</td></tr>\n",
       "<tr><td>70877445</td><td>00292405582f71c64...</td><td>Due Diligence Ana...</td><td>1</td><td>OWN</td><td>null</td><td>null</td><td>null</td><td>null</td><td>C</td><td>C4</td><td>Source Verified</td><td>null</td><td>Individual</td><td>null</td><td>null</td><td>null</td><td>null</td><td>null</td><td>null</td><td>null</td><td>null</td><td>Fully Paid</td><td>null</td><td>10000.0</td><td>2340.82</td><td>0.0</td><td>12340.815</td><td>360.37</td><td>Feb-2019</td><td>null</td><td>null</td><td>null</td><td>null</td><td>1.0</td><td>0.0</td><td>1</td></tr>\n",
       "<tr><td>137374764</td><td>002c8ff9357ee9eb9...</td><td>Machine operator</td><td>1</td><td>RENT</td><td>null</td><td>null</td><td>null</td><td>null</td><td>B</td><td>B5</td><td>Verified</td><td>null</td><td>Individual</td><td>null</td><td>null</td><td>null</td><td>null</td><td>null</td><td>null</td><td>null</td><td>null</td><td>Current</td><td>null</td><td>3848.8</td><td>1641.73</td><td>0.0</td><td>5490.53</td><td>778.69</td><td>Mar-2019</td><td>Apr-2019</td><td>1</td><td>0.0</td><td>22</td><td>0.0</td><td>0.0</td><td>0</td></tr>\n",
       "<tr><td>130301028</td><td>00390a5eb5f585ec2...</td><td>Financial Analyst</td><td>3</td><td>MORTGAGE</td><td>null</td><td>null</td><td>null</td><td>null</td><td>C</td><td>C5</td><td>Source Verified</td><td>null</td><td>Individual</td><td>null</td><td>null</td><td>null</td><td>null</td><td>null</td><td>null</td><td>null</td><td>null</td><td>Fully Paid</td><td>null</td><td>4000.0</td><td>368.94</td><td>0.0</td><td>4368.938</td><td>3528.6</td><td>Nov-2018</td><td>null</td><td>0</td><td>0.0</td><td>47</td><td>0.0</td><td>0.0</td><td>0</td></tr>\n",
       "<tr><td>145209341</td><td>003a4024a228ffeae...</td><td>null</td><td>6</td><td>MORTGAGE</td><td>null</td><td>null</td><td>null</td><td>null</td><td>B</td><td>B4</td><td>Not Verified</td><td>null</td><td>Joint App</td><td>null</td><td>Not Verified</td><td>null</td><td>null</td><td>null</td><td>null</td><td>null</td><td>null</td><td>Current</td><td>null</td><td>1693.12</td><td>659.99</td><td>0.0</td><td>2353.11</td><td>794.86</td><td>Mar-2019</td><td>Apr-2019</td><td>null</td><td>null</td><td>null</td><td>1.0</td><td>1.0</td><td>1</td></tr>\n",
       "<tr><td>57296837</td><td>0040ad2bcda5dc0ce...</td><td>CFO</td><td>10</td><td>RENT</td><td>null</td><td>null</td><td>null</td><td>null</td><td>C</td><td>C1</td><td>Verified</td><td>null</td><td>Individual</td><td>null</td><td>null</td><td>null</td><td>null</td><td>null</td><td>null</td><td>null</td><td>null</td><td>Current</td><td>null</td><td>22829.77</td><td>10821.54</td><td>0.0</td><td>33651.31</td><td>783.7</td><td>Mar-2019</td><td>Apr-2019</td><td>0</td><td>0.0</td><td>24</td><td>0.0</td><td>0.0</td><td>0</td></tr>\n",
       "<tr><td>137568850</td><td>0042f4fac76507586...</td><td>Managing Consultant</td><td>7</td><td>OWN</td><td>null</td><td>null</td><td>null</td><td>null</td><td>D</td><td>D3</td><td>Source Verified</td><td>null</td><td>Individual</td><td>null</td><td>null</td><td>null</td><td>null</td><td>null</td><td>null</td><td>null</td><td>null</td><td>Current</td><td>null</td><td>1208.18</td><td>853.04</td><td>0.0</td><td>2061.22</td><td>296.99</td><td>Mar-2019</td><td>Apr-2019</td><td>null</td><td>null</td><td>null</td><td>0.0</td><td>0.0</td><td>1</td></tr>\n",
       "<tr><td>108431423</td><td>004499f7decdbe7ef...</td><td>Civil Engineer Tech/</td><td>10</td><td>MORTGAGE</td><td>null</td><td>null</td><td>null</td><td>null</td><td>C</td><td>C3</td><td>Source Verified</td><td>null</td><td>Individual</td><td>null</td><td>null</td><td>null</td><td>null</td><td>null</td><td>null</td><td>null</td><td>null</td><td>Current</td><td>null</td><td>4483.51</td><td>1559.64</td><td>0.0</td><td>6043.15</td><td>273.74</td><td>Mar-2019</td><td>Apr-2019</td><td>0</td><td>0.0</td><td>46</td><td>1.0</td><td>1.0</td><td>1</td></tr>\n",
       "<tr><td>144214180</td><td>00489ffe2b0c6a648...</td><td>Physical Therapist</td><td>10</td><td>MORTGAGE</td><td>null</td><td>null</td><td>null</td><td>null</td><td>A</td><td>A4</td><td>Source Verified</td><td>null</td><td>Individual</td><td>null</td><td>null</td><td>null</td><td>null</td><td>null</td><td>null</td><td>null</td><td>null</td><td>Current</td><td>null</td><td>1368.19</td><td>645.82</td><td>0.0</td><td>2014.01</td><td>509.19</td><td>Mar-2019</td><td>Apr-2019</td><td>null</td><td>null</td><td>null</td><td>0.0</td><td>0.0</td><td>0</td></tr>\n",
       "<tr><td>28643513</td><td>004e67fc43448e447...</td><td>Flight Attendant</td><td>1</td><td>RENT</td><td>null</td><td>null</td><td>null</td><td>null</td><td>C</td><td>C4</td><td>Not Verified</td><td>null</td><td>Individual</td><td>null</td><td>null</td><td>null</td><td>null</td><td>null</td><td>null</td><td>null</td><td>null</td><td>Fully Paid</td><td>null</td><td>2125.0</td><td>500.62</td><td>0.0</td><td>2625.616</td><td>208.28</td><td>Jun-2017</td><td>null</td><td>1</td><td>0.0</td><td>15</td><td>0.0</td><td>0.0</td><td>0</td></tr>\n",
       "<tr><td>75221183</td><td>005918e15acf4a054...</td><td>Executive Director</td><td>1</td><td>MORTGAGE</td><td>null</td><td>null</td><td>null</td><td>null</td><td>B</td><td>B5</td><td>Source Verified</td><td>null</td><td>Individual</td><td>null</td><td>null</td><td>null</td><td>null</td><td>null</td><td>null</td><td>null</td><td>null</td><td>Fully Paid</td><td>null</td><td>5000.0</td><td>929.91</td><td>0.0</td><td>5929.9146</td><td>164.75</td><td>Mar-2019</td><td>null</td><td>0</td><td>0.0</td><td>51</td><td>0.0</td><td>0.0</td><td>1</td></tr>\n",
       "<tr><td>57307552</td><td>005bb3c40d7cf116d...</td><td>CEO</td><td>10</td><td>RENT</td><td>null</td><td>null</td><td>null</td><td>null</td><td>B</td><td>B1</td><td>Source Verified</td><td>null</td><td>Individual</td><td>null</td><td>null</td><td>null</td><td>null</td><td>null</td><td>null</td><td>null</td><td>null</td><td>Charged Off</td><td>null</td><td>17404.62</td><td>3391.52</td><td>0.0</td><td>22675.58</td><td>1099.69</td><td>Mar-2017</td><td>null</td><td>0</td><td>0.0</td><td>24</td><td>0.0</td><td>0.0</td><td>0</td></tr>\n",
       "<tr><td>119385582</td><td>00623d49db065cdc5...</td><td>null</td><td>6</td><td>MORTGAGE</td><td>null</td><td>null</td><td>null</td><td>null</td><td>C</td><td>C3</td><td>Verified</td><td>null</td><td>Individual</td><td>null</td><td>null</td><td>null</td><td>null</td><td>null</td><td>null</td><td>null</td><td>null</td><td>Charged Off</td><td>null</td><td>937.2</td><td>408.41</td><td>0.0</td><td>1914.21</td><td>171.09</td><td>May-2018</td><td>null</td><td>0</td><td>0.0</td><td>63</td><td>0.0</td><td>0.0</td><td>1</td></tr>\n",
       "</table>\n",
       "only showing top 20 rows\n"
      ],
      "text/plain": [
       "+---------+--------------------+--------------------+----------+--------------+----------+----------+--------+-------+-----+---------+-------------------+---------------+----------------+----------------+-------------------------+-----------+-------------+----------------+-------------+-------------------+----------+-----------+------------+------------------------+-----------------------+-----------------------+----------------------+-------------------+-----------------+-----------------+-----------+-----------+----------------------+-------+--------------------+--------------+\n",
       "|  loan_id|           member_id|           emp_title|emp_length|home_ownership|annual_inc|addr_state|zip_code|country|grade|sub_grade|verification_status|tot_hi_cred_lim|application_type|annual_inc_joint|verification_status_joint|loan_amount|funded_amount|loan_term_months|interest_rate|monthly_installment|issue_date|loan_status|loan_purpose|total_principal_received|total_interest_received|total_late_fee_received|total_payment_received|last_payment_amount|last_payment_date|next_payment_date|delinq_2yrs|delinq_amnt|mths_since_last_delinq|pub_rec|pub_rec_bankruptcies|inq_last_6mths|\n",
       "+---------+--------------------+--------------------+----------+--------------+----------+----------+--------+-------+-----+---------+-------------------+---------------+----------------+----------------+-------------------------+-----------+-------------+----------------+-------------+-------------------+----------+-----------+------------+------------------------+-----------------------+-----------------------+----------------------+-------------------+-----------------+-----------------+-----------+-----------+----------------------+-------+--------------------+--------------+\n",
       "| 93802960|0009423060a3ddbfc...|          Supervisor|        10|      MORTGAGE|      null|      null|    null|   null|    D|       D3|           Verified|           null|      Individual|            null|                     null|       null|         null|            null|         null|               null|      null| Fully Paid|        null|                 20525.0|                4381.46|                    0.0|             24906.463|           13644.06|         Apr-2018|             null|          0|        0.0|                    30|    0.0|                 0.0|             2|\n",
       "| 58752276|000b587ab90fc77bf...|Medical Transcrip...|         8|      MORTGAGE|      null|      null|    null|   null|    F|       F5|           Verified|           null|      Individual|            null|                     null|       null|         null|            null|         null|               null|      null|Charged Off|        null|                 2575.56|                5143.68|                    0.0|               9306.77|             455.36|         Feb-2017|             null|          0|        0.0|                    66|    3.0|                 1.0|             2|\n",
       "| 60275689|00109c0225db1912f...|Assistant Superin...|        10|           OWN|      null|      null|    null|   null|    B|       B1|    Source Verified|           null|      Individual|            null|                     null|       null|         null|            null|         null|               null|      null|    Current|        null|                 9842.52|                2972.33|                    0.0|              12814.85|             305.44|         Mar-2019|         Apr-2019|          9|        0.0|                    15|    0.0|                 0.0|             1|\n",
       "|103861199|0011d8e5fab8e99ce...|         CBP Officer|         5|          RENT|      null|      null|    null|   null|    C|       C4|           Verified|           null|      Individual|            null|                     null|       null|         null|            null|         null|               null|      null| Fully Paid|        null|                  3000.0|                 435.82|                    0.0|             3435.8242|            2192.94|         May-2018|             null|       null|       null|                  null|    0.0|                 0.0|             0|\n",
       "|104954334|0013a384974fdd540...|               Sales|         1|           OWN|      null|      null|    null|   null|    A|       A3|       Not Verified|           null|      Individual|            null|                     null|       null|         null|            null|         null|               null|      null|    Current|        null|                  7855.3|                1262.27|                    0.0|               9117.57|             396.64|         Mar-2019|         Apr-2019|          4|        0.0|                     5|    0.0|                 0.0|             0|\n",
       "| 88976275|0014532e28e53c904...|    front desk Agent|         6|          RENT|      null|      null|    null|   null|    C|       C4|    Source Verified|           null|      Individual|            null|                     null|       null|         null|            null|         null|               null|      null|    Current|        null|                 4010.13|                1144.52|                    0.0|               5154.65|             172.09|         Mar-2019|         Apr-2019|       null|       null|                  null|    0.0|                 0.0|             0|\n",
       "|135752464|0017d3c6ad0327c9e...|Staffing Coordinator|        10|           OWN|      null|      null|    null|   null|    C|       C5|    Source Verified|           null|      Individual|            null|                     null|       null|         null|            null|         null|               null|      null|    Current|        null|                 2475.63|                 2808.1|                    0.0|               5283.73|             589.52|         Mar-2019|         Apr-2019|          0|        0.0|                    73|    0.0|                 0.0|             2|\n",
       "| 65825167|001c3b346d130a15a...|Chief Operating O...|         5|          RENT|      null|      null|    null|   null|    A|       A1|           Verified|           null|      Individual|            null|                     null|       null|         null|            null|         null|               null|      null| Fully Paid|        null|                 18000.0|                1501.07|                    0.0|             19501.066|             541.92|         Nov-2018|             null|       null|       null|                  null|    0.0|                 0.0|             1|\n",
       "| 70877445|00292405582f71c64...|Due Diligence Ana...|         1|           OWN|      null|      null|    null|   null|    C|       C4|    Source Verified|           null|      Individual|            null|                     null|       null|         null|            null|         null|               null|      null| Fully Paid|        null|                 10000.0|                2340.82|                    0.0|             12340.815|             360.37|         Feb-2019|             null|       null|       null|                  null|    1.0|                 0.0|             1|\n",
       "|137374764|002c8ff9357ee9eb9...|    Machine operator|         1|          RENT|      null|      null|    null|   null|    B|       B5|           Verified|           null|      Individual|            null|                     null|       null|         null|            null|         null|               null|      null|    Current|        null|                  3848.8|                1641.73|                    0.0|               5490.53|             778.69|         Mar-2019|         Apr-2019|          1|        0.0|                    22|    0.0|                 0.0|             0|\n",
       "|130301028|00390a5eb5f585ec2...|   Financial Analyst|         3|      MORTGAGE|      null|      null|    null|   null|    C|       C5|    Source Verified|           null|      Individual|            null|                     null|       null|         null|            null|         null|               null|      null| Fully Paid|        null|                  4000.0|                 368.94|                    0.0|              4368.938|             3528.6|         Nov-2018|             null|          0|        0.0|                    47|    0.0|                 0.0|             0|\n",
       "|145209341|003a4024a228ffeae...|                null|         6|      MORTGAGE|      null|      null|    null|   null|    B|       B4|       Not Verified|           null|       Joint App|            null|             Not Verified|       null|         null|            null|         null|               null|      null|    Current|        null|                 1693.12|                 659.99|                    0.0|               2353.11|             794.86|         Mar-2019|         Apr-2019|       null|       null|                  null|    1.0|                 1.0|             1|\n",
       "| 57296837|0040ad2bcda5dc0ce...|                 CFO|        10|          RENT|      null|      null|    null|   null|    C|       C1|           Verified|           null|      Individual|            null|                     null|       null|         null|            null|         null|               null|      null|    Current|        null|                22829.77|               10821.54|                    0.0|              33651.31|              783.7|         Mar-2019|         Apr-2019|          0|        0.0|                    24|    0.0|                 0.0|             0|\n",
       "|137568850|0042f4fac76507586...| Managing Consultant|         7|           OWN|      null|      null|    null|   null|    D|       D3|    Source Verified|           null|      Individual|            null|                     null|       null|         null|            null|         null|               null|      null|    Current|        null|                 1208.18|                 853.04|                    0.0|               2061.22|             296.99|         Mar-2019|         Apr-2019|       null|       null|                  null|    0.0|                 0.0|             1|\n",
       "|108431423|004499f7decdbe7ef...|Civil Engineer Tech/|        10|      MORTGAGE|      null|      null|    null|   null|    C|       C3|    Source Verified|           null|      Individual|            null|                     null|       null|         null|            null|         null|               null|      null|    Current|        null|                 4483.51|                1559.64|                    0.0|               6043.15|             273.74|         Mar-2019|         Apr-2019|          0|        0.0|                    46|    1.0|                 1.0|             1|\n",
       "|144214180|00489ffe2b0c6a648...|  Physical Therapist|        10|      MORTGAGE|      null|      null|    null|   null|    A|       A4|    Source Verified|           null|      Individual|            null|                     null|       null|         null|            null|         null|               null|      null|    Current|        null|                 1368.19|                 645.82|                    0.0|               2014.01|             509.19|         Mar-2019|         Apr-2019|       null|       null|                  null|    0.0|                 0.0|             0|\n",
       "| 28643513|004e67fc43448e447...|    Flight Attendant|         1|          RENT|      null|      null|    null|   null|    C|       C4|       Not Verified|           null|      Individual|            null|                     null|       null|         null|            null|         null|               null|      null| Fully Paid|        null|                  2125.0|                 500.62|                    0.0|              2625.616|             208.28|         Jun-2017|             null|          1|        0.0|                    15|    0.0|                 0.0|             0|\n",
       "| 75221183|005918e15acf4a054...|  Executive Director|         1|      MORTGAGE|      null|      null|    null|   null|    B|       B5|    Source Verified|           null|      Individual|            null|                     null|       null|         null|            null|         null|               null|      null| Fully Paid|        null|                  5000.0|                 929.91|                    0.0|             5929.9146|             164.75|         Mar-2019|             null|          0|        0.0|                    51|    0.0|                 0.0|             1|\n",
       "| 57307552|005bb3c40d7cf116d...|                 CEO|        10|          RENT|      null|      null|    null|   null|    B|       B1|    Source Verified|           null|      Individual|            null|                     null|       null|         null|            null|         null|               null|      null|Charged Off|        null|                17404.62|                3391.52|                    0.0|              22675.58|            1099.69|         Mar-2017|             null|          0|        0.0|                    24|    0.0|                 0.0|             0|\n",
       "|119385582|00623d49db065cdc5...|                null|         6|      MORTGAGE|      null|      null|    null|   null|    C|       C3|           Verified|           null|      Individual|            null|                     null|       null|         null|            null|         null|               null|      null|Charged Off|        null|                   937.2|                 408.41|                    0.0|               1914.21|             171.09|         May-2018|             null|          0|        0.0|                    63|    0.0|                 0.0|             1|\n",
       "+---------+--------------------+--------------------+----------+--------------+----------+----------+--------+-------+-----+---------+-------------------+---------------+----------------+----------------+-------------------------+-----------+-------------+----------------+-------------+-------------------+----------+-----------+------------+------------------------+-----------------------+-----------------------+----------------------+-------------------+-----------------+-----------------+-----------+-----------+----------------------+-------+--------------------+--------------+\n",
       "only showing top 20 rows"
      ]
     },
     "execution_count": 19,
     "metadata": {},
     "output_type": "execute_result"
    }
   ],
   "source": [
    "spark.sql(\"select * from  itv016478_lending_clubb.customers_loan_a \")"
   ]
  },
  {
   "cell_type": "code",
   "execution_count": null,
   "id": "79b3b2cb",
   "metadata": {},
   "outputs": [],
   "source": []
  },
  {
   "cell_type": "code",
   "execution_count": null,
   "id": "deb49bde",
   "metadata": {},
   "outputs": [],
   "source": []
  },
  {
   "cell_type": "code",
   "execution_count": 20,
   "id": "c0a32ab1",
   "metadata": {},
   "outputs": [],
   "source": [
    "spark.stop()"
   ]
  },
  {
   "cell_type": "code",
   "execution_count": null,
   "id": "24859e94",
   "metadata": {},
   "outputs": [],
   "source": []
  }
 ],
 "metadata": {
  "kernelspec": {
   "display_name": "Pyspark 3",
   "language": "python",
   "name": "pyspark3"
  },
  "language_info": {
   "codemirror_mode": {
    "name": "ipython",
    "version": 3
   },
   "file_extension": ".py",
   "mimetype": "text/x-python",
   "name": "python",
   "nbconvert_exporter": "python",
   "pygments_lexer": "ipython3",
   "version": "3.6.12"
  }
 },
 "nbformat": 4,
 "nbformat_minor": 5
}
